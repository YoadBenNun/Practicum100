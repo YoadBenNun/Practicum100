{
 "cells": [
  {
   "cell_type": "markdown",
   "metadata": {},
   "source": [
    "# Machine learning, efficiency and gold recovery from ores"
   ]
  },
  {
   "cell_type": "markdown",
   "metadata": {},
   "source": [
    "## Introduction"
   ]
  },
  {
   "cell_type": "markdown",
   "metadata": {},
   "source": [
    "### Task Statement"
   ]
  },
  {
   "cell_type": "markdown",
   "metadata": {},
   "source": [
    "Zyfra is a leading provider of efficient solutions for a variety of industries.<br>\n",
    "The goal of this study is to develop a model that can predict the amount of gold recovered from gold ores.<br>\n",
    "The model will help to optimize the production and eliminate unprofitable parameters."
   ]
  },
  {
   "cell_type": "markdown",
   "metadata": {},
   "source": [
    "----"
   ]
  },
  {
   "cell_type": "markdown",
   "metadata": {
    "toc": true
   },
   "source": [
    "<h1>Table of Contents<span class=\"tocSkip\"></span></h1>\n",
    "<div class=\"toc\"><ul class=\"toc-item\"><li><span><a href=\"#Introduction\" data-toc-modified-id=\"Introduction-1\"><span class=\"toc-item-num\">1&nbsp;&nbsp;</span>Introduction</a></span><ul class=\"toc-item\"><li><span><a href=\"#Task-Statement\" data-toc-modified-id=\"Task-Statement-1.1\"><span class=\"toc-item-num\">1.1&nbsp;&nbsp;</span>Task Statement</a></span></li><li><span><a href=\"#Description-of-the-data\" data-toc-modified-id=\"Description-of-the-data-1.2\"><span class=\"toc-item-num\">1.2&nbsp;&nbsp;</span>Description of the data</a></span><ul class=\"toc-item\"><li><span><a href=\"#Technological-process\" data-toc-modified-id=\"Technological-process-1.2.1\"><span class=\"toc-item-num\">1.2.1&nbsp;&nbsp;</span>Technological process</a></span></li><li><span><a href=\"#Parameters-of-stages\" data-toc-modified-id=\"Parameters-of-stages-1.2.2\"><span class=\"toc-item-num\">1.2.2&nbsp;&nbsp;</span>Parameters of stages</a></span></li><li><span><a href=\"#Feature-naming\" data-toc-modified-id=\"Feature-naming-1.2.3\"><span class=\"toc-item-num\">1.2.3&nbsp;&nbsp;</span>Feature naming</a></span></li></ul></li><li><span><a href=\"#Installations\" data-toc-modified-id=\"Installations-1.3\"><span class=\"toc-item-num\">1.3&nbsp;&nbsp;</span>Installations</a></span></li><li><span><a href=\"#Imports\" data-toc-modified-id=\"Imports-1.4\"><span class=\"toc-item-num\">1.4&nbsp;&nbsp;</span>Imports</a></span></li></ul></li><li><span><a href=\"#Data-Exploration\" data-toc-modified-id=\"Data-Exploration-2\"><span class=\"toc-item-num\">2&nbsp;&nbsp;</span>Data Exploration</a></span><ul class=\"toc-item\"><li><span><a href=\"#Loading-Data\" data-toc-modified-id=\"Loading-Data-2.1\"><span class=\"toc-item-num\">2.1&nbsp;&nbsp;</span>Loading Data</a></span></li><li><span><a href=\"#Source-Data\" data-toc-modified-id=\"Source-Data-2.2\"><span class=\"toc-item-num\">2.2&nbsp;&nbsp;</span>Source Data</a></span><ul class=\"toc-item\"><li><span><a href=\"#Changing-data-types\" data-toc-modified-id=\"Changing-data-types-2.2.1\"><span class=\"toc-item-num\">2.2.1&nbsp;&nbsp;</span>Changing data types</a></span></li><li><span><a href=\"#Conclusion\" data-toc-modified-id=\"Conclusion-2.2.2\"><span class=\"toc-item-num\">2.2.2&nbsp;&nbsp;</span>Conclusion</a></span></li></ul></li><li><span><a href=\"#Train-Data\" data-toc-modified-id=\"Train-Data-2.3\"><span class=\"toc-item-num\">2.3&nbsp;&nbsp;</span>Train Data</a></span><ul class=\"toc-item\"><li><span><a href=\"#Changing-data-types\" data-toc-modified-id=\"Changing-data-types-2.3.1\"><span class=\"toc-item-num\">2.3.1&nbsp;&nbsp;</span>Changing data types</a></span></li><li><span><a href=\"#Conclusion\" data-toc-modified-id=\"Conclusion-2.3.2\"><span class=\"toc-item-num\">2.3.2&nbsp;&nbsp;</span>Conclusion</a></span></li></ul></li><li><span><a href=\"#Test-Data\" data-toc-modified-id=\"Test-Data-2.4\"><span class=\"toc-item-num\">2.4&nbsp;&nbsp;</span>Test Data</a></span><ul class=\"toc-item\"><li><span><a href=\"#Changing-date-column-to-datetime-type\" data-toc-modified-id=\"Changing-date-column-to-datetime-type-2.4.1\"><span class=\"toc-item-num\">2.4.1&nbsp;&nbsp;</span>Changing date column to datetime type</a></span></li><li><span><a href=\"#Conclusion\" data-toc-modified-id=\"Conclusion-2.4.2\"><span class=\"toc-item-num\">2.4.2&nbsp;&nbsp;</span>Conclusion</a></span></li></ul></li></ul></li><li><span><a href=\"#Data-Validation\" data-toc-modified-id=\"Data-Validation-3\"><span class=\"toc-item-num\">3&nbsp;&nbsp;</span>Data Validation</a></span><ul class=\"toc-item\"><li><span><a href=\"#Recovery-Calculation\" data-toc-modified-id=\"Recovery-Calculation-3.1\"><span class=\"toc-item-num\">3.1&nbsp;&nbsp;</span>Recovery Calculation</a></span><ul class=\"toc-item\"><li><span><a href=\"#Conclusion\" data-toc-modified-id=\"Conclusion-3.1.1\"><span class=\"toc-item-num\">3.1.1&nbsp;&nbsp;</span>Conclusion</a></span></li></ul></li><li><span><a href=\"#Columns-Difference-Between-Train-and-Test\" data-toc-modified-id=\"Columns-Difference-Between-Train-and-Test-3.2\"><span class=\"toc-item-num\">3.2&nbsp;&nbsp;</span>Columns Difference Between Train and Test</a></span><ul class=\"toc-item\"><li><span><a href=\"#Conclusion\" data-toc-modified-id=\"Conclusion-3.2.1\"><span class=\"toc-item-num\">3.2.1&nbsp;&nbsp;</span>Conclusion</a></span></li></ul></li></ul></li><li><span><a href=\"#Pre-Processing\" data-toc-modified-id=\"Pre-Processing-4\"><span class=\"toc-item-num\">4&nbsp;&nbsp;</span>Pre-Processing</a></span><ul class=\"toc-item\"><li><span><a href=\"#Duplicates\" data-toc-modified-id=\"Duplicates-4.1\"><span class=\"toc-item-num\">4.1&nbsp;&nbsp;</span>Duplicates</a></span></li><li><span><a href=\"#Missing-Values\" data-toc-modified-id=\"Missing-Values-4.2\"><span class=\"toc-item-num\">4.2&nbsp;&nbsp;</span>Missing Values</a></span><ul class=\"toc-item\"><li><span><a href=\"#Scaling-The-Data\" data-toc-modified-id=\"Scaling-The-Data-4.2.1\"><span class=\"toc-item-num\">4.2.1&nbsp;&nbsp;</span>Scaling The Data</a></span></li><li><span><a href=\"#Filling-NaN-with-KNNImputer\" data-toc-modified-id=\"Filling-NaN-with-KNNImputer-4.2.2\"><span class=\"toc-item-num\">4.2.2&nbsp;&nbsp;</span>Filling NaN with KNNImputer</a></span></li><li><span><a href=\"#Conclusion\" data-toc-modified-id=\"Conclusion-4.2.3\"><span class=\"toc-item-num\">4.2.3&nbsp;&nbsp;</span>Conclusion</a></span></li></ul></li></ul></li><li><span><a href=\"#Analyzing-The-Data\" data-toc-modified-id=\"Analyzing-The-Data-5\"><span class=\"toc-item-num\">5&nbsp;&nbsp;</span>Analyzing The Data</a></span><ul class=\"toc-item\"><li><span><a href=\"#Concentrations-of-Metals-(Au,-Ag,-Pb)\" data-toc-modified-id=\"Concentrations-of-Metals-(Au,-Ag,-Pb)-5.1\"><span class=\"toc-item-num\">5.1&nbsp;&nbsp;</span>Concentrations of Metals (Au, Ag, Pb)</a></span><ul class=\"toc-item\"><li><span><a href=\"#Conclusion\" data-toc-modified-id=\"Conclusion-5.1.1\"><span class=\"toc-item-num\">5.1.1&nbsp;&nbsp;</span>Conclusion</a></span><ul class=\"toc-item\"><li><span><a href=\"#Gold-Concentration\" data-toc-modified-id=\"Gold-Concentration-5.1.1.1\"><span class=\"toc-item-num\">5.1.1.1&nbsp;&nbsp;</span>Gold Concentration</a></span></li><li><span><a href=\"#Silver-Concentration\" data-toc-modified-id=\"Silver-Concentration-5.1.1.2\"><span class=\"toc-item-num\">5.1.1.2&nbsp;&nbsp;</span>Silver Concentration</a></span></li><li><span><a href=\"#Lead-Concentration\" data-toc-modified-id=\"Lead-Concentration-5.1.1.3\"><span class=\"toc-item-num\">5.1.1.3&nbsp;&nbsp;</span>Lead Concentration</a></span></li></ul></li></ul></li><li><span><a href=\"#Comparing-The-Distribution-of-Feed-Particle-Size-Between-Train-and-Test-Data\" data-toc-modified-id=\"Comparing-The-Distribution-of-Feed-Particle-Size-Between-Train-and-Test-Data-5.2\"><span class=\"toc-item-num\">5.2&nbsp;&nbsp;</span>Comparing The Distribution of Feed Particle Size Between Train and Test Data</a></span><ul class=\"toc-item\"><li><span><a href=\"#Conclusion\" data-toc-modified-id=\"Conclusion-5.2.1\"><span class=\"toc-item-num\">5.2.1&nbsp;&nbsp;</span>Conclusion</a></span></li></ul></li><li><span><a href=\"#The-Total-Concentrations-of-All-Metals-at-Different-Stages\" data-toc-modified-id=\"The-Total-Concentrations-of-All-Metals-at-Different-Stages-5.3\"><span class=\"toc-item-num\">5.3&nbsp;&nbsp;</span>The Total Concentrations of All Metals at Different Stages</a></span><ul class=\"toc-item\"><li><span><a href=\"#Conclusion\" data-toc-modified-id=\"Conclusion-5.3.1\"><span class=\"toc-item-num\">5.3.1&nbsp;&nbsp;</span>Conclusion</a></span></li></ul></li><li><span><a href=\"#Addressing-Outliers\" data-toc-modified-id=\"Addressing-Outliers-5.4\"><span class=\"toc-item-num\">5.4&nbsp;&nbsp;</span>Addressing Outliers</a></span><ul class=\"toc-item\"><li><span><a href=\"#Conclusion\" data-toc-modified-id=\"Conclusion-5.4.1\"><span class=\"toc-item-num\">5.4.1&nbsp;&nbsp;</span>Conclusion</a></span></li></ul></li><li><span><a href=\"#Addressing-Outliers-in-Train-and-Test\" data-toc-modified-id=\"Addressing-Outliers-in-Train-and-Test-5.5\"><span class=\"toc-item-num\">5.5&nbsp;&nbsp;</span>Addressing Outliers in Train and Test</a></span><ul class=\"toc-item\"><li><span><a href=\"#Conclusion\" data-toc-modified-id=\"Conclusion-5.5.1\"><span class=\"toc-item-num\">5.5.1&nbsp;&nbsp;</span>Conclusion</a></span></li></ul></li><li><span><a href=\"#Conclusion\" data-toc-modified-id=\"Conclusion-5.6\"><span class=\"toc-item-num\">5.6&nbsp;&nbsp;</span>Conclusion</a></span></li></ul></li><li><span><a href=\"#Training-Models\" data-toc-modified-id=\"Training-Models-6\"><span class=\"toc-item-num\">6&nbsp;&nbsp;</span>Training Models</a></span><ul class=\"toc-item\"><li><span><a href=\"#Creating-sMAPE-score-function.\" data-toc-modified-id=\"Creating-sMAPE-score-function.-6.1\"><span class=\"toc-item-num\">6.1&nbsp;&nbsp;</span>Creating sMAPE score function.</a></span></li><li><span><a href=\"#Seperating-features-and-targets-for-training-and-test-set.\" data-toc-modified-id=\"Seperating-features-and-targets-for-training-and-test-set.-6.2\"><span class=\"toc-item-num\">6.2&nbsp;&nbsp;</span>Seperating features and targets for training and test set.</a></span></li><li><span><a href=\"#Creating-a-scorer-and-Training-function\" data-toc-modified-id=\"Creating-a-scorer-and-Training-function-6.3\"><span class=\"toc-item-num\">6.3&nbsp;&nbsp;</span>Creating a scorer and Training function</a></span></li><li><span><a href=\"#Training-Linear-Reggresion\" data-toc-modified-id=\"Training-Linear-Reggresion-6.4\"><span class=\"toc-item-num\">6.4&nbsp;&nbsp;</span>Training Linear Reggresion</a></span><ul class=\"toc-item\"><li><span><a href=\"#Conclusion\" data-toc-modified-id=\"Conclusion-6.4.1\"><span class=\"toc-item-num\">6.4.1&nbsp;&nbsp;</span>Conclusion</a></span></li></ul></li><li><span><a href=\"#Training-Lasso-Regressor\" data-toc-modified-id=\"Training-Lasso-Regressor-6.5\"><span class=\"toc-item-num\">6.5&nbsp;&nbsp;</span>Training Lasso Regressor</a></span><ul class=\"toc-item\"><li><span><a href=\"#Conclusion\" data-toc-modified-id=\"Conclusion-6.5.1\"><span class=\"toc-item-num\">6.5.1&nbsp;&nbsp;</span>Conclusion</a></span></li></ul></li><li><span><a href=\"#Training-Ridge-Regressor\" data-toc-modified-id=\"Training-Ridge-Regressor-6.6\"><span class=\"toc-item-num\">6.6&nbsp;&nbsp;</span>Training Ridge Regressor</a></span><ul class=\"toc-item\"><li><span><a href=\"#Conclusion\" data-toc-modified-id=\"Conclusion-6.6.1\"><span class=\"toc-item-num\">6.6.1&nbsp;&nbsp;</span>Conclusion</a></span></li></ul></li><li><span><a href=\"#Training-KNeighbors-Regressor\" data-toc-modified-id=\"Training-KNeighbors-Regressor-6.7\"><span class=\"toc-item-num\">6.7&nbsp;&nbsp;</span>Training KNeighbors Regressor</a></span><ul class=\"toc-item\"><li><span><a href=\"#Conclusion\" data-toc-modified-id=\"Conclusion-6.7.1\"><span class=\"toc-item-num\">6.7.1&nbsp;&nbsp;</span>Conclusion</a></span></li></ul></li><li><span><a href=\"#Training-Decision-Tree-Regressor\" data-toc-modified-id=\"Training-Decision-Tree-Regressor-6.8\"><span class=\"toc-item-num\">6.8&nbsp;&nbsp;</span>Training Decision Tree Regressor</a></span><ul class=\"toc-item\"><li><span><a href=\"#Conclusion\" data-toc-modified-id=\"Conclusion-6.8.1\"><span class=\"toc-item-num\">6.8.1&nbsp;&nbsp;</span>Conclusion</a></span></li></ul></li><li><span><a href=\"#Training-Random-Forest-Regressor\" data-toc-modified-id=\"Training-Random-Forest-Regressor-6.9\"><span class=\"toc-item-num\">6.9&nbsp;&nbsp;</span>Training Random Forest Regressor</a></span><ul class=\"toc-item\"><li><span><a href=\"#Conclusion\" data-toc-modified-id=\"Conclusion-6.9.1\"><span class=\"toc-item-num\">6.9.1&nbsp;&nbsp;</span>Conclusion</a></span></li></ul></li><li><span><a href=\"#Scores-for-all-the-models-above\" data-toc-modified-id=\"Scores-for-all-the-models-above-6.10\"><span class=\"toc-item-num\">6.10&nbsp;&nbsp;</span>Scores for all the models above</a></span><ul class=\"toc-item\"><li><span><a href=\"#Conclusion\" data-toc-modified-id=\"Conclusion-6.10.1\"><span class=\"toc-item-num\">6.10.1&nbsp;&nbsp;</span>Conclusion</a></span></li></ul></li><li><span><a href=\"#Testing-The-Best-Model\" data-toc-modified-id=\"Testing-The-Best-Model-6.11\"><span class=\"toc-item-num\">6.11&nbsp;&nbsp;</span>Testing The Best Model</a></span><ul class=\"toc-item\"><li><span><a href=\"#Conclusion\" data-toc-modified-id=\"Conclusion-6.11.1\"><span class=\"toc-item-num\">6.11.1&nbsp;&nbsp;</span>Conclusion</a></span></li></ul></li><li><span><a href=\"#Sanity-Check\" data-toc-modified-id=\"Sanity-Check-6.12\"><span class=\"toc-item-num\">6.12&nbsp;&nbsp;</span>Sanity Check</a></span><ul class=\"toc-item\"><li><span><a href=\"#Conclusion\" data-toc-modified-id=\"Conclusion-6.12.1\"><span class=\"toc-item-num\">6.12.1&nbsp;&nbsp;</span>Conclusion</a></span></li></ul></li></ul></li><li><span><a href=\"#Conclusion\" data-toc-modified-id=\"Conclusion-7\"><span class=\"toc-item-num\">7&nbsp;&nbsp;</span>Conclusion</a></span></li></ul></div>"
   ]
  },
  {
   "cell_type": "markdown",
   "metadata": {},
   "source": [
    "----"
   ]
  },
  {
   "cell_type": "markdown",
   "metadata": {},
   "source": [
    "### Description of the data\n",
    "\n",
    "#### Technological process\n",
    "\n",
    "- `Rougher feed`      — raw material\n",
    "- `Rougher additions` — flotation reagents: Xanthate, Sulphate, Depressant (or *reagent additions*)\n",
    "    - `Xanthate`      — promoter or flotation activator;\n",
    "    - `Sulphate`      — sodium sulphide for this particular process;\n",
    "    - `Depressant`    — sodium silicate.\n",
    "- `Rougher process`   — flotation\n",
    "- `Rougher tails`     — product residues\n",
    "- `Float banks`       — flotation unit\n",
    "- `Cleaner process`   — purification\n",
    "- `Rougher Au`        — rougher gold concentrate\n",
    "- `Final Au`          — final gold concentrate\n",
    "\n",
    "#### Parameters of stages\n",
    "\n",
    "- `air amount`   — the volume of air\n",
    "- `fluid levels` — level of fluids\n",
    "- `feed size`    — feed particle size\n",
    "- `feed rate`    — feeding rate\n",
    "\n",
    "#### Feature naming\n",
    "\n",
    "Here's how the features are named:\n",
    "\n",
    "`[stage].[parameter_type].[parameter_name]`\n",
    "\n",
    "Example: `rougher.input.feed_ag`\n",
    "\n",
    "Possible values for `[stage]`:\n",
    "\n",
    "- `rougher`           — flotation\n",
    "- `primary_cleaner`   — primary purification\n",
    "- `secondary_cleaner` — secondary purification\n",
    "- `final`             — final characteristics\n",
    "\n",
    "Possible values for `[parameter_type]`:\n",
    "\n",
    "- `input`       — raw material parameters\n",
    "- `output`      — product parameters\n",
    "- `state`       — parameters characterizing the current state of the stage\n",
    "- `calculation` — calculation characteristics"
   ]
  },
  {
   "cell_type": "markdown",
   "metadata": {},
   "source": [
    "----"
   ]
  },
  {
   "cell_type": "markdown",
   "metadata": {},
   "source": [
    "### Installations"
   ]
  },
  {
   "cell_type": "code",
   "execution_count": 1,
   "metadata": {
    "scrolled": true
   },
   "outputs": [],
   "source": [
    "#!pip install pandas --upgrade          # pandas\n",
    "#!pip install -U scikit-learn --upgrade # sklearn\n",
    "#!pip install plotly --upgrade          # plotly\n",
    "#!pip install sidetable                 # sidetable\n",
    "#!pip install imblearn --upgrade        # for pipeline\n",
    "#!pip install seaborn --upgrade         # seaborn\n",
    "#!pip install -U kaleido                # Kaleido"
   ]
  },
  {
   "cell_type": "markdown",
   "metadata": {},
   "source": [
    "### Imports"
   ]
  },
  {
   "cell_type": "code",
   "execution_count": 2,
   "metadata": {},
   "outputs": [],
   "source": [
    "# Importing pandas libarary.\n",
    "import pandas as pd\n",
    "\n",
    "# Importing NumPy library.\n",
    "import numpy as np\n",
    "\n",
    "# Importing Stats\n",
    "import scipy.stats as st\n",
    "\n",
    "# Importing models.\n",
    "from sklearn.tree import DecisionTreeRegressor\n",
    "from sklearn.ensemble import RandomForestRegressor\n",
    "from sklearn.linear_model import LinearRegression\n",
    "from sklearn import linear_model\n",
    "from sklearn.neighbors import KNeighborsRegressor\n",
    "from sklearn.linear_model import Ridge\n",
    "from sklearn.linear_model import Lasso\n",
    "from sklearn.dummy import DummyRegressor\n",
    "\n",
    "# Importing regression metrics.\n",
    "from sklearn.metrics import r2_score\n",
    "from sklearn.metrics import mean_squared_error\n",
    "from sklearn.metrics import mean_absolute_error\n",
    "from sklearn.metrics import make_scorer\n",
    "\n",
    "# Importing Visualizations\n",
    "import matplotlib.pyplot as plt\n",
    "import seaborn as sns\n",
    "import plotly.express as px\n",
    "import plotly.graph_objects as go\n",
    "\n",
    "# best parameter search \n",
    "from sklearn.model_selection import GridSearchCV\n",
    "from sklearn.experimental import enable_halving_search_cv \n",
    "from sklearn.model_selection import HalvingGridSearchCV,  StratifiedKFold, cross_val_score\n",
    "from imblearn.over_sampling import SMOTE\n",
    "\n",
    "# utils:\n",
    "from sklearn.impute import KNNImputer                # k-nearest neighbor imputer\n",
    "from sklearn.preprocessing import MinMaxScaler       # min-max scaler\n",
    "import sidetable                                     # sidetable for missing values etc.."
   ]
  },
  {
   "cell_type": "code",
   "execution_count": 3,
   "metadata": {},
   "outputs": [],
   "source": [
    "# Converting the default of pandas to show regular numbers instead of Scientific Notation.\n",
    "pd.set_option('display.float_format', lambda x: '%.3f' % x)"
   ]
  },
  {
   "cell_type": "code",
   "execution_count": 4,
   "metadata": {},
   "outputs": [],
   "source": [
    "# ignoring librarie's future warnings\n",
    "from warnings import simplefilter\n",
    "simplefilter(action='ignore', category=FutureWarning)"
   ]
  },
  {
   "cell_type": "code",
   "execution_count": 5,
   "metadata": {},
   "outputs": [],
   "source": [
    "# visualization settings\n",
    "%matplotlib inline\n",
    "%config InlineBackend.figure_format = 'png'\n",
    "\n",
    "# provides graphs of better quality on HiDPI screens\n",
    "%config InlineBackend.figure_format = 'retina'\n",
    "\n",
    "# sets default size of plots\n",
    "plt.style.use('seaborn')\n",
    "plt.rcParams[\"figure.figsize\"] = (10, 5)"
   ]
  },
  {
   "cell_type": "markdown",
   "metadata": {},
   "source": [
    "----"
   ]
  },
  {
   "cell_type": "markdown",
   "metadata": {},
   "source": [
    "## Data Exploration"
   ]
  },
  {
   "cell_type": "markdown",
   "metadata": {},
   "source": [
    "Our data consists of 3 datasets:\n",
    "- Source Data  - is the full dataset with all the columns and rows.\n",
    "- Training Data - is a portion of the source data that we'll train our models on and it contains all of the columns from the source data.\n",
    "- Test data - is a smaller portion of the source data that contains a portion of the columns, and that is the data we'll test our best-fitted model on."
   ]
  },
  {
   "cell_type": "markdown",
   "metadata": {},
   "source": [
    "### Loading Data"
   ]
  },
  {
   "cell_type": "code",
   "execution_count": 6,
   "metadata": {},
   "outputs": [],
   "source": [
    "# using the try-except method we can load the data on the platform, as well as locally.\n",
    "\n",
    "try:\n",
    "    # Loading the data in the .csv files into a variable (locally)\n",
    "    train = pd.read_csv('gold_recovery_train.csv')\n",
    "    test = pd.read_csv('gold_recovery_test.csv')\n",
    "    source = pd.read_csv('gold_recovery_full.csv')\n",
    "    \n",
    "except:   \n",
    "    # Loading the data in the .csv files into a variable (platform)\n",
    "    train = pd.read_csv('/datasets/gold_recovery_train.csv')\n",
    "    test = pd.read_csv('/datasets/gold_recovery_test.csv')\n",
    "    source = pd.read_csv('/datasets/gold_recovery_full.csv')"
   ]
  },
  {
   "cell_type": "markdown",
   "metadata": {},
   "source": [
    "### Source Data"
   ]
  },
  {
   "cell_type": "code",
   "execution_count": 7,
   "metadata": {
    "scrolled": true
   },
   "outputs": [
    {
     "name": "stdout",
     "output_type": "stream",
     "text": [
      "<class 'pandas.core.frame.DataFrame'>\n",
      "RangeIndex: 22716 entries, 0 to 22715\n",
      "Data columns (total 87 columns):\n",
      " #   Column                                              Non-Null Count  Dtype  \n",
      "---  ------                                              --------------  -----  \n",
      " 0   date                                                22716 non-null  object \n",
      " 1   final.output.concentrate_ag                         22627 non-null  float64\n",
      " 2   final.output.concentrate_pb                         22629 non-null  float64\n",
      " 3   final.output.concentrate_sol                        22331 non-null  float64\n",
      " 4   final.output.concentrate_au                         22630 non-null  float64\n",
      " 5   final.output.recovery                               20753 non-null  float64\n",
      " 6   final.output.tail_ag                                22633 non-null  float64\n",
      " 7   final.output.tail_pb                                22516 non-null  float64\n",
      " 8   final.output.tail_sol                               22445 non-null  float64\n",
      " 9   final.output.tail_au                                22635 non-null  float64\n",
      " 10  primary_cleaner.input.sulfate                       21107 non-null  float64\n",
      " 11  primary_cleaner.input.depressant                    21170 non-null  float64\n",
      " 12  primary_cleaner.input.feed_size                     22716 non-null  float64\n",
      " 13  primary_cleaner.input.xanthate                      21565 non-null  float64\n",
      " 14  primary_cleaner.output.concentrate_ag               22618 non-null  float64\n",
      " 15  primary_cleaner.output.concentrate_pb               22268 non-null  float64\n",
      " 16  primary_cleaner.output.concentrate_sol              21918 non-null  float64\n",
      " 17  primary_cleaner.output.concentrate_au               22618 non-null  float64\n",
      " 18  primary_cleaner.output.tail_ag                      22614 non-null  float64\n",
      " 19  primary_cleaner.output.tail_pb                      22594 non-null  float64\n",
      " 20  primary_cleaner.output.tail_sol                     22365 non-null  float64\n",
      " 21  primary_cleaner.output.tail_au                      22617 non-null  float64\n",
      " 22  primary_cleaner.state.floatbank8_a_air              22660 non-null  float64\n",
      " 23  primary_cleaner.state.floatbank8_a_level            22667 non-null  float64\n",
      " 24  primary_cleaner.state.floatbank8_b_air              22660 non-null  float64\n",
      " 25  primary_cleaner.state.floatbank8_b_level            22673 non-null  float64\n",
      " 26  primary_cleaner.state.floatbank8_c_air              22662 non-null  float64\n",
      " 27  primary_cleaner.state.floatbank8_c_level            22673 non-null  float64\n",
      " 28  primary_cleaner.state.floatbank8_d_air              22661 non-null  float64\n",
      " 29  primary_cleaner.state.floatbank8_d_level            22673 non-null  float64\n",
      " 30  rougher.calculation.sulfate_to_au_concentrate       22672 non-null  float64\n",
      " 31  rougher.calculation.floatbank10_sulfate_to_au_feed  22672 non-null  float64\n",
      " 32  rougher.calculation.floatbank11_sulfate_to_au_feed  22672 non-null  float64\n",
      " 33  rougher.calculation.au_pb_ratio                     21089 non-null  float64\n",
      " 34  rougher.input.feed_ag                               22618 non-null  float64\n",
      " 35  rougher.input.feed_pb                               22472 non-null  float64\n",
      " 36  rougher.input.feed_rate                             22163 non-null  float64\n",
      " 37  rougher.input.feed_size                             22277 non-null  float64\n",
      " 38  rougher.input.feed_sol                              22357 non-null  float64\n",
      " 39  rougher.input.feed_au                               22617 non-null  float64\n",
      " 40  rougher.input.floatbank10_sulfate                   21415 non-null  float64\n",
      " 41  rougher.input.floatbank10_xanthate                  22247 non-null  float64\n",
      " 42  rougher.input.floatbank11_sulfate                   22038 non-null  float64\n",
      " 43  rougher.input.floatbank11_xanthate                  20459 non-null  float64\n",
      " 44  rougher.output.concentrate_ag                       22618 non-null  float64\n",
      " 45  rougher.output.concentrate_pb                       22618 non-null  float64\n",
      " 46  rougher.output.concentrate_sol                      22526 non-null  float64\n",
      " 47  rougher.output.concentrate_au                       22618 non-null  float64\n",
      " 48  rougher.output.recovery                             19597 non-null  float64\n",
      " 49  rougher.output.tail_ag                              19979 non-null  float64\n",
      " 50  rougher.output.tail_pb                              22618 non-null  float64\n",
      " 51  rougher.output.tail_sol                             19980 non-null  float64\n",
      " 52  rougher.output.tail_au                              19980 non-null  float64\n",
      " 53  rougher.state.floatbank10_a_air                     22646 non-null  float64\n",
      " 54  rougher.state.floatbank10_a_level                   22647 non-null  float64\n",
      " 55  rougher.state.floatbank10_b_air                     22646 non-null  float64\n",
      " 56  rougher.state.floatbank10_b_level                   22647 non-null  float64\n",
      " 57  rougher.state.floatbank10_c_air                     22646 non-null  float64\n",
      " 58  rougher.state.floatbank10_c_level                   22654 non-null  float64\n",
      " 59  rougher.state.floatbank10_d_air                     22641 non-null  float64\n",
      " 60  rougher.state.floatbank10_d_level                   22649 non-null  float64\n",
      " 61  rougher.state.floatbank10_e_air                     22096 non-null  float64\n",
      " 62  rougher.state.floatbank10_e_level                   22649 non-null  float64\n",
      " 63  rougher.state.floatbank10_f_air                     22641 non-null  float64\n",
      " 64  rougher.state.floatbank10_f_level                   22642 non-null  float64\n",
      " 65  secondary_cleaner.output.tail_ag                    22616 non-null  float64\n",
      " 66  secondary_cleaner.output.tail_pb                    22600 non-null  float64\n",
      " 67  secondary_cleaner.output.tail_sol                   20501 non-null  float64\n",
      " 68  secondary_cleaner.output.tail_au                    22618 non-null  float64\n",
      " 69  secondary_cleaner.state.floatbank2_a_air            22333 non-null  float64\n",
      " 70  secondary_cleaner.state.floatbank2_a_level          22591 non-null  float64\n",
      " 71  secondary_cleaner.state.floatbank2_b_air            22538 non-null  float64\n",
      " 72  secondary_cleaner.state.floatbank2_b_level          22588 non-null  float64\n",
      " 73  secondary_cleaner.state.floatbank3_a_air            22585 non-null  float64\n",
      " 74  secondary_cleaner.state.floatbank3_a_level          22587 non-null  float64\n",
      " 75  secondary_cleaner.state.floatbank3_b_air            22592 non-null  float64\n",
      " 76  secondary_cleaner.state.floatbank3_b_level          22590 non-null  float64\n",
      " 77  secondary_cleaner.state.floatbank4_a_air            22571 non-null  float64\n",
      " 78  secondary_cleaner.state.floatbank4_a_level          22587 non-null  float64\n",
      " 79  secondary_cleaner.state.floatbank4_b_air            22608 non-null  float64\n",
      " 80  secondary_cleaner.state.floatbank4_b_level          22607 non-null  float64\n",
      " 81  secondary_cleaner.state.floatbank5_a_air            22615 non-null  float64\n",
      " 82  secondary_cleaner.state.floatbank5_a_level          22615 non-null  float64\n",
      " 83  secondary_cleaner.state.floatbank5_b_air            22615 non-null  float64\n",
      " 84  secondary_cleaner.state.floatbank5_b_level          22616 non-null  float64\n",
      " 85  secondary_cleaner.state.floatbank6_a_air            22597 non-null  float64\n",
      " 86  secondary_cleaner.state.floatbank6_a_level          22615 non-null  float64\n",
      "dtypes: float64(86), object(1)\n",
      "memory usage: 16.6 MB\n"
     ]
    }
   ],
   "source": [
    "# examine the entire data, missing values, Dtypes, real memory usage.\n",
    "source.info(memory_usage='deep')"
   ]
  },
  {
   "cell_type": "markdown",
   "metadata": {},
   "source": [
    "- we see that we have missing values in almost all of the columns.\n",
    "- 'date' needs to be changed to DateTime dtype."
   ]
  },
  {
   "cell_type": "code",
   "execution_count": 8,
   "metadata": {
    "scrolled": true
   },
   "outputs": [
    {
     "data": {
      "text/html": [
       "<style type=\"text/css\">\n",
       "</style>\n",
       "<table id=\"T_64098\">\n",
       "  <thead>\n",
       "    <tr>\n",
       "      <th class=\"blank level0\" >&nbsp;</th>\n",
       "      <th id=\"T_64098_level0_col0\" class=\"col_heading level0 col0\" >missing</th>\n",
       "      <th id=\"T_64098_level0_col1\" class=\"col_heading level0 col1\" >total</th>\n",
       "      <th id=\"T_64098_level0_col2\" class=\"col_heading level0 col2\" >percent</th>\n",
       "    </tr>\n",
       "  </thead>\n",
       "  <tbody>\n",
       "    <tr>\n",
       "      <th id=\"T_64098_level0_row0\" class=\"row_heading level0 row0\" >rougher.output.recovery</th>\n",
       "      <td id=\"T_64098_row0_col0\" class=\"data row0 col0\" >3,119</td>\n",
       "      <td id=\"T_64098_row0_col1\" class=\"data row0 col1\" >22,716</td>\n",
       "      <td id=\"T_64098_row0_col2\" class=\"data row0 col2\" >13.73%</td>\n",
       "    </tr>\n",
       "    <tr>\n",
       "      <th id=\"T_64098_level0_row1\" class=\"row_heading level0 row1\" >rougher.output.tail_ag</th>\n",
       "      <td id=\"T_64098_row1_col0\" class=\"data row1 col0\" >2,737</td>\n",
       "      <td id=\"T_64098_row1_col1\" class=\"data row1 col1\" >22,716</td>\n",
       "      <td id=\"T_64098_row1_col2\" class=\"data row1 col2\" >12.05%</td>\n",
       "    </tr>\n",
       "    <tr>\n",
       "      <th id=\"T_64098_level0_row2\" class=\"row_heading level0 row2\" >rougher.output.tail_au</th>\n",
       "      <td id=\"T_64098_row2_col0\" class=\"data row2 col0\" >2,736</td>\n",
       "      <td id=\"T_64098_row2_col1\" class=\"data row2 col1\" >22,716</td>\n",
       "      <td id=\"T_64098_row2_col2\" class=\"data row2 col2\" >12.04%</td>\n",
       "    </tr>\n",
       "    <tr>\n",
       "      <th id=\"T_64098_level0_row3\" class=\"row_heading level0 row3\" >rougher.output.tail_sol</th>\n",
       "      <td id=\"T_64098_row3_col0\" class=\"data row3 col0\" >2,736</td>\n",
       "      <td id=\"T_64098_row3_col1\" class=\"data row3 col1\" >22,716</td>\n",
       "      <td id=\"T_64098_row3_col2\" class=\"data row3 col2\" >12.04%</td>\n",
       "    </tr>\n",
       "    <tr>\n",
       "      <th id=\"T_64098_level0_row4\" class=\"row_heading level0 row4\" >rougher.input.floatbank11_xanthate</th>\n",
       "      <td id=\"T_64098_row4_col0\" class=\"data row4 col0\" >2,257</td>\n",
       "      <td id=\"T_64098_row4_col1\" class=\"data row4 col1\" >22,716</td>\n",
       "      <td id=\"T_64098_row4_col2\" class=\"data row4 col2\" >9.94%</td>\n",
       "    </tr>\n",
       "    <tr>\n",
       "      <th id=\"T_64098_level0_row5\" class=\"row_heading level0 row5\" >secondary_cleaner.output.tail_sol</th>\n",
       "      <td id=\"T_64098_row5_col0\" class=\"data row5 col0\" >2,215</td>\n",
       "      <td id=\"T_64098_row5_col1\" class=\"data row5 col1\" >22,716</td>\n",
       "      <td id=\"T_64098_row5_col2\" class=\"data row5 col2\" >9.75%</td>\n",
       "    </tr>\n",
       "    <tr>\n",
       "      <th id=\"T_64098_level0_row6\" class=\"row_heading level0 row6\" >final.output.recovery</th>\n",
       "      <td id=\"T_64098_row6_col0\" class=\"data row6 col0\" >1,963</td>\n",
       "      <td id=\"T_64098_row6_col1\" class=\"data row6 col1\" >22,716</td>\n",
       "      <td id=\"T_64098_row6_col2\" class=\"data row6 col2\" >8.64%</td>\n",
       "    </tr>\n",
       "    <tr>\n",
       "      <th id=\"T_64098_level0_row7\" class=\"row_heading level0 row7\" >rougher.calculation.au_pb_ratio</th>\n",
       "      <td id=\"T_64098_row7_col0\" class=\"data row7 col0\" >1,627</td>\n",
       "      <td id=\"T_64098_row7_col1\" class=\"data row7 col1\" >22,716</td>\n",
       "      <td id=\"T_64098_row7_col2\" class=\"data row7 col2\" >7.16%</td>\n",
       "    </tr>\n",
       "    <tr>\n",
       "      <th id=\"T_64098_level0_row8\" class=\"row_heading level0 row8\" >primary_cleaner.input.sulfate</th>\n",
       "      <td id=\"T_64098_row8_col0\" class=\"data row8 col0\" >1,609</td>\n",
       "      <td id=\"T_64098_row8_col1\" class=\"data row8 col1\" >22,716</td>\n",
       "      <td id=\"T_64098_row8_col2\" class=\"data row8 col2\" >7.08%</td>\n",
       "    </tr>\n",
       "    <tr>\n",
       "      <th id=\"T_64098_level0_row9\" class=\"row_heading level0 row9\" >primary_cleaner.input.depressant</th>\n",
       "      <td id=\"T_64098_row9_col0\" class=\"data row9 col0\" >1,546</td>\n",
       "      <td id=\"T_64098_row9_col1\" class=\"data row9 col1\" >22,716</td>\n",
       "      <td id=\"T_64098_row9_col2\" class=\"data row9 col2\" >6.81%</td>\n",
       "    </tr>\n",
       "    <tr>\n",
       "      <th id=\"T_64098_level0_row10\" class=\"row_heading level0 row10\" >rougher.input.floatbank10_sulfate</th>\n",
       "      <td id=\"T_64098_row10_col0\" class=\"data row10 col0\" >1,301</td>\n",
       "      <td id=\"T_64098_row10_col1\" class=\"data row10 col1\" >22,716</td>\n",
       "      <td id=\"T_64098_row10_col2\" class=\"data row10 col2\" >5.73%</td>\n",
       "    </tr>\n",
       "    <tr>\n",
       "      <th id=\"T_64098_level0_row11\" class=\"row_heading level0 row11\" >primary_cleaner.input.xanthate</th>\n",
       "      <td id=\"T_64098_row11_col0\" class=\"data row11 col0\" >1,151</td>\n",
       "      <td id=\"T_64098_row11_col1\" class=\"data row11 col1\" >22,716</td>\n",
       "      <td id=\"T_64098_row11_col2\" class=\"data row11 col2\" >5.07%</td>\n",
       "    </tr>\n",
       "    <tr>\n",
       "      <th id=\"T_64098_level0_row12\" class=\"row_heading level0 row12\" >primary_cleaner.output.concentrate_sol</th>\n",
       "      <td id=\"T_64098_row12_col0\" class=\"data row12 col0\" >798</td>\n",
       "      <td id=\"T_64098_row12_col1\" class=\"data row12 col1\" >22,716</td>\n",
       "      <td id=\"T_64098_row12_col2\" class=\"data row12 col2\" >3.51%</td>\n",
       "    </tr>\n",
       "    <tr>\n",
       "      <th id=\"T_64098_level0_row13\" class=\"row_heading level0 row13\" >rougher.input.floatbank11_sulfate</th>\n",
       "      <td id=\"T_64098_row13_col0\" class=\"data row13 col0\" >678</td>\n",
       "      <td id=\"T_64098_row13_col1\" class=\"data row13 col1\" >22,716</td>\n",
       "      <td id=\"T_64098_row13_col2\" class=\"data row13 col2\" >2.98%</td>\n",
       "    </tr>\n",
       "    <tr>\n",
       "      <th id=\"T_64098_level0_row14\" class=\"row_heading level0 row14\" >rougher.state.floatbank10_e_air</th>\n",
       "      <td id=\"T_64098_row14_col0\" class=\"data row14 col0\" >620</td>\n",
       "      <td id=\"T_64098_row14_col1\" class=\"data row14 col1\" >22,716</td>\n",
       "      <td id=\"T_64098_row14_col2\" class=\"data row14 col2\" >2.73%</td>\n",
       "    </tr>\n",
       "    <tr>\n",
       "      <th id=\"T_64098_level0_row15\" class=\"row_heading level0 row15\" >rougher.input.feed_rate</th>\n",
       "      <td id=\"T_64098_row15_col0\" class=\"data row15 col0\" >553</td>\n",
       "      <td id=\"T_64098_row15_col1\" class=\"data row15 col1\" >22,716</td>\n",
       "      <td id=\"T_64098_row15_col2\" class=\"data row15 col2\" >2.43%</td>\n",
       "    </tr>\n",
       "    <tr>\n",
       "      <th id=\"T_64098_level0_row16\" class=\"row_heading level0 row16\" >rougher.input.floatbank10_xanthate</th>\n",
       "      <td id=\"T_64098_row16_col0\" class=\"data row16 col0\" >469</td>\n",
       "      <td id=\"T_64098_row16_col1\" class=\"data row16 col1\" >22,716</td>\n",
       "      <td id=\"T_64098_row16_col2\" class=\"data row16 col2\" >2.06%</td>\n",
       "    </tr>\n",
       "    <tr>\n",
       "      <th id=\"T_64098_level0_row17\" class=\"row_heading level0 row17\" >primary_cleaner.output.concentrate_pb</th>\n",
       "      <td id=\"T_64098_row17_col0\" class=\"data row17 col0\" >448</td>\n",
       "      <td id=\"T_64098_row17_col1\" class=\"data row17 col1\" >22,716</td>\n",
       "      <td id=\"T_64098_row17_col2\" class=\"data row17 col2\" >1.97%</td>\n",
       "    </tr>\n",
       "    <tr>\n",
       "      <th id=\"T_64098_level0_row18\" class=\"row_heading level0 row18\" >rougher.input.feed_size</th>\n",
       "      <td id=\"T_64098_row18_col0\" class=\"data row18 col0\" >439</td>\n",
       "      <td id=\"T_64098_row18_col1\" class=\"data row18 col1\" >22,716</td>\n",
       "      <td id=\"T_64098_row18_col2\" class=\"data row18 col2\" >1.93%</td>\n",
       "    </tr>\n",
       "    <tr>\n",
       "      <th id=\"T_64098_level0_row19\" class=\"row_heading level0 row19\" >final.output.concentrate_sol</th>\n",
       "      <td id=\"T_64098_row19_col0\" class=\"data row19 col0\" >385</td>\n",
       "      <td id=\"T_64098_row19_col1\" class=\"data row19 col1\" >22,716</td>\n",
       "      <td id=\"T_64098_row19_col2\" class=\"data row19 col2\" >1.69%</td>\n",
       "    </tr>\n",
       "    <tr>\n",
       "      <th id=\"T_64098_level0_row20\" class=\"row_heading level0 row20\" >secondary_cleaner.state.floatbank2_a_air</th>\n",
       "      <td id=\"T_64098_row20_col0\" class=\"data row20 col0\" >383</td>\n",
       "      <td id=\"T_64098_row20_col1\" class=\"data row20 col1\" >22,716</td>\n",
       "      <td id=\"T_64098_row20_col2\" class=\"data row20 col2\" >1.69%</td>\n",
       "    </tr>\n",
       "    <tr>\n",
       "      <th id=\"T_64098_level0_row21\" class=\"row_heading level0 row21\" >rougher.input.feed_sol</th>\n",
       "      <td id=\"T_64098_row21_col0\" class=\"data row21 col0\" >359</td>\n",
       "      <td id=\"T_64098_row21_col1\" class=\"data row21 col1\" >22,716</td>\n",
       "      <td id=\"T_64098_row21_col2\" class=\"data row21 col2\" >1.58%</td>\n",
       "    </tr>\n",
       "    <tr>\n",
       "      <th id=\"T_64098_level0_row22\" class=\"row_heading level0 row22\" >primary_cleaner.output.tail_sol</th>\n",
       "      <td id=\"T_64098_row22_col0\" class=\"data row22 col0\" >351</td>\n",
       "      <td id=\"T_64098_row22_col1\" class=\"data row22 col1\" >22,716</td>\n",
       "      <td id=\"T_64098_row22_col2\" class=\"data row22 col2\" >1.55%</td>\n",
       "    </tr>\n",
       "    <tr>\n",
       "      <th id=\"T_64098_level0_row23\" class=\"row_heading level0 row23\" >final.output.tail_sol</th>\n",
       "      <td id=\"T_64098_row23_col0\" class=\"data row23 col0\" >271</td>\n",
       "      <td id=\"T_64098_row23_col1\" class=\"data row23 col1\" >22,716</td>\n",
       "      <td id=\"T_64098_row23_col2\" class=\"data row23 col2\" >1.19%</td>\n",
       "    </tr>\n",
       "    <tr>\n",
       "      <th id=\"T_64098_level0_row24\" class=\"row_heading level0 row24\" >rougher.input.feed_pb</th>\n",
       "      <td id=\"T_64098_row24_col0\" class=\"data row24 col0\" >244</td>\n",
       "      <td id=\"T_64098_row24_col1\" class=\"data row24 col1\" >22,716</td>\n",
       "      <td id=\"T_64098_row24_col2\" class=\"data row24 col2\" >1.07%</td>\n",
       "    </tr>\n",
       "    <tr>\n",
       "      <th id=\"T_64098_level0_row25\" class=\"row_heading level0 row25\" >final.output.tail_pb</th>\n",
       "      <td id=\"T_64098_row25_col0\" class=\"data row25 col0\" >200</td>\n",
       "      <td id=\"T_64098_row25_col1\" class=\"data row25 col1\" >22,716</td>\n",
       "      <td id=\"T_64098_row25_col2\" class=\"data row25 col2\" >0.88%</td>\n",
       "    </tr>\n",
       "    <tr>\n",
       "      <th id=\"T_64098_level0_row26\" class=\"row_heading level0 row26\" >rougher.output.concentrate_sol</th>\n",
       "      <td id=\"T_64098_row26_col0\" class=\"data row26 col0\" >190</td>\n",
       "      <td id=\"T_64098_row26_col1\" class=\"data row26 col1\" >22,716</td>\n",
       "      <td id=\"T_64098_row26_col2\" class=\"data row26 col2\" >0.84%</td>\n",
       "    </tr>\n",
       "    <tr>\n",
       "      <th id=\"T_64098_level0_row27\" class=\"row_heading level0 row27\" >secondary_cleaner.state.floatbank2_b_air</th>\n",
       "      <td id=\"T_64098_row27_col0\" class=\"data row27 col0\" >178</td>\n",
       "      <td id=\"T_64098_row27_col1\" class=\"data row27 col1\" >22,716</td>\n",
       "      <td id=\"T_64098_row27_col2\" class=\"data row27 col2\" >0.78%</td>\n",
       "    </tr>\n",
       "    <tr>\n",
       "      <th id=\"T_64098_level0_row28\" class=\"row_heading level0 row28\" >secondary_cleaner.state.floatbank4_a_air</th>\n",
       "      <td id=\"T_64098_row28_col0\" class=\"data row28 col0\" >145</td>\n",
       "      <td id=\"T_64098_row28_col1\" class=\"data row28 col1\" >22,716</td>\n",
       "      <td id=\"T_64098_row28_col2\" class=\"data row28 col2\" >0.64%</td>\n",
       "    </tr>\n",
       "    <tr>\n",
       "      <th id=\"T_64098_level0_row29\" class=\"row_heading level0 row29\" >secondary_cleaner.state.floatbank3_a_air</th>\n",
       "      <td id=\"T_64098_row29_col0\" class=\"data row29 col0\" >131</td>\n",
       "      <td id=\"T_64098_row29_col1\" class=\"data row29 col1\" >22,716</td>\n",
       "      <td id=\"T_64098_row29_col2\" class=\"data row29 col2\" >0.58%</td>\n",
       "    </tr>\n",
       "    <tr>\n",
       "      <th id=\"T_64098_level0_row30\" class=\"row_heading level0 row30\" >secondary_cleaner.state.floatbank3_a_level</th>\n",
       "      <td id=\"T_64098_row30_col0\" class=\"data row30 col0\" >129</td>\n",
       "      <td id=\"T_64098_row30_col1\" class=\"data row30 col1\" >22,716</td>\n",
       "      <td id=\"T_64098_row30_col2\" class=\"data row30 col2\" >0.57%</td>\n",
       "    </tr>\n",
       "    <tr>\n",
       "      <th id=\"T_64098_level0_row31\" class=\"row_heading level0 row31\" >secondary_cleaner.state.floatbank4_a_level</th>\n",
       "      <td id=\"T_64098_row31_col0\" class=\"data row31 col0\" >129</td>\n",
       "      <td id=\"T_64098_row31_col1\" class=\"data row31 col1\" >22,716</td>\n",
       "      <td id=\"T_64098_row31_col2\" class=\"data row31 col2\" >0.57%</td>\n",
       "    </tr>\n",
       "    <tr>\n",
       "      <th id=\"T_64098_level0_row32\" class=\"row_heading level0 row32\" >secondary_cleaner.state.floatbank2_b_level</th>\n",
       "      <td id=\"T_64098_row32_col0\" class=\"data row32 col0\" >128</td>\n",
       "      <td id=\"T_64098_row32_col1\" class=\"data row32 col1\" >22,716</td>\n",
       "      <td id=\"T_64098_row32_col2\" class=\"data row32 col2\" >0.56%</td>\n",
       "    </tr>\n",
       "    <tr>\n",
       "      <th id=\"T_64098_level0_row33\" class=\"row_heading level0 row33\" >secondary_cleaner.state.floatbank3_b_level</th>\n",
       "      <td id=\"T_64098_row33_col0\" class=\"data row33 col0\" >126</td>\n",
       "      <td id=\"T_64098_row33_col1\" class=\"data row33 col1\" >22,716</td>\n",
       "      <td id=\"T_64098_row33_col2\" class=\"data row33 col2\" >0.55%</td>\n",
       "    </tr>\n",
       "    <tr>\n",
       "      <th id=\"T_64098_level0_row34\" class=\"row_heading level0 row34\" >secondary_cleaner.state.floatbank2_a_level</th>\n",
       "      <td id=\"T_64098_row34_col0\" class=\"data row34 col0\" >125</td>\n",
       "      <td id=\"T_64098_row34_col1\" class=\"data row34 col1\" >22,716</td>\n",
       "      <td id=\"T_64098_row34_col2\" class=\"data row34 col2\" >0.55%</td>\n",
       "    </tr>\n",
       "    <tr>\n",
       "      <th id=\"T_64098_level0_row35\" class=\"row_heading level0 row35\" >secondary_cleaner.state.floatbank3_b_air</th>\n",
       "      <td id=\"T_64098_row35_col0\" class=\"data row35 col0\" >124</td>\n",
       "      <td id=\"T_64098_row35_col1\" class=\"data row35 col1\" >22,716</td>\n",
       "      <td id=\"T_64098_row35_col2\" class=\"data row35 col2\" >0.55%</td>\n",
       "    </tr>\n",
       "    <tr>\n",
       "      <th id=\"T_64098_level0_row36\" class=\"row_heading level0 row36\" >primary_cleaner.output.tail_pb</th>\n",
       "      <td id=\"T_64098_row36_col0\" class=\"data row36 col0\" >122</td>\n",
       "      <td id=\"T_64098_row36_col1\" class=\"data row36 col1\" >22,716</td>\n",
       "      <td id=\"T_64098_row36_col2\" class=\"data row36 col2\" >0.54%</td>\n",
       "    </tr>\n",
       "    <tr>\n",
       "      <th id=\"T_64098_level0_row37\" class=\"row_heading level0 row37\" >secondary_cleaner.state.floatbank6_a_air</th>\n",
       "      <td id=\"T_64098_row37_col0\" class=\"data row37 col0\" >119</td>\n",
       "      <td id=\"T_64098_row37_col1\" class=\"data row37 col1\" >22,716</td>\n",
       "      <td id=\"T_64098_row37_col2\" class=\"data row37 col2\" >0.52%</td>\n",
       "    </tr>\n",
       "    <tr>\n",
       "      <th id=\"T_64098_level0_row38\" class=\"row_heading level0 row38\" >secondary_cleaner.output.tail_pb</th>\n",
       "      <td id=\"T_64098_row38_col0\" class=\"data row38 col0\" >116</td>\n",
       "      <td id=\"T_64098_row38_col1\" class=\"data row38 col1\" >22,716</td>\n",
       "      <td id=\"T_64098_row38_col2\" class=\"data row38 col2\" >0.51%</td>\n",
       "    </tr>\n",
       "    <tr>\n",
       "      <th id=\"T_64098_level0_row39\" class=\"row_heading level0 row39\" >secondary_cleaner.state.floatbank4_b_level</th>\n",
       "      <td id=\"T_64098_row39_col0\" class=\"data row39 col0\" >109</td>\n",
       "      <td id=\"T_64098_row39_col1\" class=\"data row39 col1\" >22,716</td>\n",
       "      <td id=\"T_64098_row39_col2\" class=\"data row39 col2\" >0.48%</td>\n",
       "    </tr>\n",
       "    <tr>\n",
       "      <th id=\"T_64098_level0_row40\" class=\"row_heading level0 row40\" >secondary_cleaner.state.floatbank4_b_air</th>\n",
       "      <td id=\"T_64098_row40_col0\" class=\"data row40 col0\" >108</td>\n",
       "      <td id=\"T_64098_row40_col1\" class=\"data row40 col1\" >22,716</td>\n",
       "      <td id=\"T_64098_row40_col2\" class=\"data row40 col2\" >0.48%</td>\n",
       "    </tr>\n",
       "    <tr>\n",
       "      <th id=\"T_64098_level0_row41\" class=\"row_heading level0 row41\" >primary_cleaner.output.tail_ag</th>\n",
       "      <td id=\"T_64098_row41_col0\" class=\"data row41 col0\" >102</td>\n",
       "      <td id=\"T_64098_row41_col1\" class=\"data row41 col1\" >22,716</td>\n",
       "      <td id=\"T_64098_row41_col2\" class=\"data row41 col2\" >0.45%</td>\n",
       "    </tr>\n",
       "    <tr>\n",
       "      <th id=\"T_64098_level0_row42\" class=\"row_heading level0 row42\" >secondary_cleaner.state.floatbank5_a_level</th>\n",
       "      <td id=\"T_64098_row42_col0\" class=\"data row42 col0\" >101</td>\n",
       "      <td id=\"T_64098_row42_col1\" class=\"data row42 col1\" >22,716</td>\n",
       "      <td id=\"T_64098_row42_col2\" class=\"data row42 col2\" >0.44%</td>\n",
       "    </tr>\n",
       "    <tr>\n",
       "      <th id=\"T_64098_level0_row43\" class=\"row_heading level0 row43\" >secondary_cleaner.state.floatbank5_b_air</th>\n",
       "      <td id=\"T_64098_row43_col0\" class=\"data row43 col0\" >101</td>\n",
       "      <td id=\"T_64098_row43_col1\" class=\"data row43 col1\" >22,716</td>\n",
       "      <td id=\"T_64098_row43_col2\" class=\"data row43 col2\" >0.44%</td>\n",
       "    </tr>\n",
       "    <tr>\n",
       "      <th id=\"T_64098_level0_row44\" class=\"row_heading level0 row44\" >secondary_cleaner.state.floatbank5_a_air</th>\n",
       "      <td id=\"T_64098_row44_col0\" class=\"data row44 col0\" >101</td>\n",
       "      <td id=\"T_64098_row44_col1\" class=\"data row44 col1\" >22,716</td>\n",
       "      <td id=\"T_64098_row44_col2\" class=\"data row44 col2\" >0.44%</td>\n",
       "    </tr>\n",
       "    <tr>\n",
       "      <th id=\"T_64098_level0_row45\" class=\"row_heading level0 row45\" >secondary_cleaner.state.floatbank6_a_level</th>\n",
       "      <td id=\"T_64098_row45_col0\" class=\"data row45 col0\" >101</td>\n",
       "      <td id=\"T_64098_row45_col1\" class=\"data row45 col1\" >22,716</td>\n",
       "      <td id=\"T_64098_row45_col2\" class=\"data row45 col2\" >0.44%</td>\n",
       "    </tr>\n",
       "    <tr>\n",
       "      <th id=\"T_64098_level0_row46\" class=\"row_heading level0 row46\" >secondary_cleaner.state.floatbank5_b_level</th>\n",
       "      <td id=\"T_64098_row46_col0\" class=\"data row46 col0\" >100</td>\n",
       "      <td id=\"T_64098_row46_col1\" class=\"data row46 col1\" >22,716</td>\n",
       "      <td id=\"T_64098_row46_col2\" class=\"data row46 col2\" >0.44%</td>\n",
       "    </tr>\n",
       "    <tr>\n",
       "      <th id=\"T_64098_level0_row47\" class=\"row_heading level0 row47\" >secondary_cleaner.output.tail_ag</th>\n",
       "      <td id=\"T_64098_row47_col0\" class=\"data row47 col0\" >100</td>\n",
       "      <td id=\"T_64098_row47_col1\" class=\"data row47 col1\" >22,716</td>\n",
       "      <td id=\"T_64098_row47_col2\" class=\"data row47 col2\" >0.44%</td>\n",
       "    </tr>\n",
       "    <tr>\n",
       "      <th id=\"T_64098_level0_row48\" class=\"row_heading level0 row48\" >primary_cleaner.output.tail_au</th>\n",
       "      <td id=\"T_64098_row48_col0\" class=\"data row48 col0\" >99</td>\n",
       "      <td id=\"T_64098_row48_col1\" class=\"data row48 col1\" >22,716</td>\n",
       "      <td id=\"T_64098_row48_col2\" class=\"data row48 col2\" >0.44%</td>\n",
       "    </tr>\n",
       "    <tr>\n",
       "      <th id=\"T_64098_level0_row49\" class=\"row_heading level0 row49\" >rougher.input.feed_au</th>\n",
       "      <td id=\"T_64098_row49_col0\" class=\"data row49 col0\" >99</td>\n",
       "      <td id=\"T_64098_row49_col1\" class=\"data row49 col1\" >22,716</td>\n",
       "      <td id=\"T_64098_row49_col2\" class=\"data row49 col2\" >0.44%</td>\n",
       "    </tr>\n",
       "    <tr>\n",
       "      <th id=\"T_64098_level0_row50\" class=\"row_heading level0 row50\" >rougher.output.concentrate_pb</th>\n",
       "      <td id=\"T_64098_row50_col0\" class=\"data row50 col0\" >98</td>\n",
       "      <td id=\"T_64098_row50_col1\" class=\"data row50 col1\" >22,716</td>\n",
       "      <td id=\"T_64098_row50_col2\" class=\"data row50 col2\" >0.43%</td>\n",
       "    </tr>\n",
       "    <tr>\n",
       "      <th id=\"T_64098_level0_row51\" class=\"row_heading level0 row51\" >primary_cleaner.output.concentrate_ag</th>\n",
       "      <td id=\"T_64098_row51_col0\" class=\"data row51 col0\" >98</td>\n",
       "      <td id=\"T_64098_row51_col1\" class=\"data row51 col1\" >22,716</td>\n",
       "      <td id=\"T_64098_row51_col2\" class=\"data row51 col2\" >0.43%</td>\n",
       "    </tr>\n",
       "    <tr>\n",
       "      <th id=\"T_64098_level0_row52\" class=\"row_heading level0 row52\" >secondary_cleaner.output.tail_au</th>\n",
       "      <td id=\"T_64098_row52_col0\" class=\"data row52 col0\" >98</td>\n",
       "      <td id=\"T_64098_row52_col1\" class=\"data row52 col1\" >22,716</td>\n",
       "      <td id=\"T_64098_row52_col2\" class=\"data row52 col2\" >0.43%</td>\n",
       "    </tr>\n",
       "    <tr>\n",
       "      <th id=\"T_64098_level0_row53\" class=\"row_heading level0 row53\" >rougher.output.concentrate_au</th>\n",
       "      <td id=\"T_64098_row53_col0\" class=\"data row53 col0\" >98</td>\n",
       "      <td id=\"T_64098_row53_col1\" class=\"data row53 col1\" >22,716</td>\n",
       "      <td id=\"T_64098_row53_col2\" class=\"data row53 col2\" >0.43%</td>\n",
       "    </tr>\n",
       "    <tr>\n",
       "      <th id=\"T_64098_level0_row54\" class=\"row_heading level0 row54\" >primary_cleaner.output.concentrate_au</th>\n",
       "      <td id=\"T_64098_row54_col0\" class=\"data row54 col0\" >98</td>\n",
       "      <td id=\"T_64098_row54_col1\" class=\"data row54 col1\" >22,716</td>\n",
       "      <td id=\"T_64098_row54_col2\" class=\"data row54 col2\" >0.43%</td>\n",
       "    </tr>\n",
       "    <tr>\n",
       "      <th id=\"T_64098_level0_row55\" class=\"row_heading level0 row55\" >rougher.output.tail_pb</th>\n",
       "      <td id=\"T_64098_row55_col0\" class=\"data row55 col0\" >98</td>\n",
       "      <td id=\"T_64098_row55_col1\" class=\"data row55 col1\" >22,716</td>\n",
       "      <td id=\"T_64098_row55_col2\" class=\"data row55 col2\" >0.43%</td>\n",
       "    </tr>\n",
       "    <tr>\n",
       "      <th id=\"T_64098_level0_row56\" class=\"row_heading level0 row56\" >rougher.input.feed_ag</th>\n",
       "      <td id=\"T_64098_row56_col0\" class=\"data row56 col0\" >98</td>\n",
       "      <td id=\"T_64098_row56_col1\" class=\"data row56 col1\" >22,716</td>\n",
       "      <td id=\"T_64098_row56_col2\" class=\"data row56 col2\" >0.43%</td>\n",
       "    </tr>\n",
       "    <tr>\n",
       "      <th id=\"T_64098_level0_row57\" class=\"row_heading level0 row57\" >rougher.output.concentrate_ag</th>\n",
       "      <td id=\"T_64098_row57_col0\" class=\"data row57 col0\" >98</td>\n",
       "      <td id=\"T_64098_row57_col1\" class=\"data row57 col1\" >22,716</td>\n",
       "      <td id=\"T_64098_row57_col2\" class=\"data row57 col2\" >0.43%</td>\n",
       "    </tr>\n",
       "    <tr>\n",
       "      <th id=\"T_64098_level0_row58\" class=\"row_heading level0 row58\" >final.output.concentrate_ag</th>\n",
       "      <td id=\"T_64098_row58_col0\" class=\"data row58 col0\" >89</td>\n",
       "      <td id=\"T_64098_row58_col1\" class=\"data row58 col1\" >22,716</td>\n",
       "      <td id=\"T_64098_row58_col2\" class=\"data row58 col2\" >0.39%</td>\n",
       "    </tr>\n",
       "    <tr>\n",
       "      <th id=\"T_64098_level0_row59\" class=\"row_heading level0 row59\" >final.output.concentrate_pb</th>\n",
       "      <td id=\"T_64098_row59_col0\" class=\"data row59 col0\" >87</td>\n",
       "      <td id=\"T_64098_row59_col1\" class=\"data row59 col1\" >22,716</td>\n",
       "      <td id=\"T_64098_row59_col2\" class=\"data row59 col2\" >0.38%</td>\n",
       "    </tr>\n",
       "    <tr>\n",
       "      <th id=\"T_64098_level0_row60\" class=\"row_heading level0 row60\" >final.output.concentrate_au</th>\n",
       "      <td id=\"T_64098_row60_col0\" class=\"data row60 col0\" >86</td>\n",
       "      <td id=\"T_64098_row60_col1\" class=\"data row60 col1\" >22,716</td>\n",
       "      <td id=\"T_64098_row60_col2\" class=\"data row60 col2\" >0.38%</td>\n",
       "    </tr>\n",
       "    <tr>\n",
       "      <th id=\"T_64098_level0_row61\" class=\"row_heading level0 row61\" >final.output.tail_ag</th>\n",
       "      <td id=\"T_64098_row61_col0\" class=\"data row61 col0\" >83</td>\n",
       "      <td id=\"T_64098_row61_col1\" class=\"data row61 col1\" >22,716</td>\n",
       "      <td id=\"T_64098_row61_col2\" class=\"data row61 col2\" >0.37%</td>\n",
       "    </tr>\n",
       "    <tr>\n",
       "      <th id=\"T_64098_level0_row62\" class=\"row_heading level0 row62\" >final.output.tail_au</th>\n",
       "      <td id=\"T_64098_row62_col0\" class=\"data row62 col0\" >81</td>\n",
       "      <td id=\"T_64098_row62_col1\" class=\"data row62 col1\" >22,716</td>\n",
       "      <td id=\"T_64098_row62_col2\" class=\"data row62 col2\" >0.36%</td>\n",
       "    </tr>\n",
       "    <tr>\n",
       "      <th id=\"T_64098_level0_row63\" class=\"row_heading level0 row63\" >rougher.state.floatbank10_d_air</th>\n",
       "      <td id=\"T_64098_row63_col0\" class=\"data row63 col0\" >75</td>\n",
       "      <td id=\"T_64098_row63_col1\" class=\"data row63 col1\" >22,716</td>\n",
       "      <td id=\"T_64098_row63_col2\" class=\"data row63 col2\" >0.33%</td>\n",
       "    </tr>\n",
       "    <tr>\n",
       "      <th id=\"T_64098_level0_row64\" class=\"row_heading level0 row64\" >rougher.state.floatbank10_f_air</th>\n",
       "      <td id=\"T_64098_row64_col0\" class=\"data row64 col0\" >75</td>\n",
       "      <td id=\"T_64098_row64_col1\" class=\"data row64 col1\" >22,716</td>\n",
       "      <td id=\"T_64098_row64_col2\" class=\"data row64 col2\" >0.33%</td>\n",
       "    </tr>\n",
       "    <tr>\n",
       "      <th id=\"T_64098_level0_row65\" class=\"row_heading level0 row65\" >rougher.state.floatbank10_f_level</th>\n",
       "      <td id=\"T_64098_row65_col0\" class=\"data row65 col0\" >74</td>\n",
       "      <td id=\"T_64098_row65_col1\" class=\"data row65 col1\" >22,716</td>\n",
       "      <td id=\"T_64098_row65_col2\" class=\"data row65 col2\" >0.33%</td>\n",
       "    </tr>\n",
       "    <tr>\n",
       "      <th id=\"T_64098_level0_row66\" class=\"row_heading level0 row66\" >rougher.state.floatbank10_b_air</th>\n",
       "      <td id=\"T_64098_row66_col0\" class=\"data row66 col0\" >70</td>\n",
       "      <td id=\"T_64098_row66_col1\" class=\"data row66 col1\" >22,716</td>\n",
       "      <td id=\"T_64098_row66_col2\" class=\"data row66 col2\" >0.31%</td>\n",
       "    </tr>\n",
       "    <tr>\n",
       "      <th id=\"T_64098_level0_row67\" class=\"row_heading level0 row67\" >rougher.state.floatbank10_a_air</th>\n",
       "      <td id=\"T_64098_row67_col0\" class=\"data row67 col0\" >70</td>\n",
       "      <td id=\"T_64098_row67_col1\" class=\"data row67 col1\" >22,716</td>\n",
       "      <td id=\"T_64098_row67_col2\" class=\"data row67 col2\" >0.31%</td>\n",
       "    </tr>\n",
       "    <tr>\n",
       "      <th id=\"T_64098_level0_row68\" class=\"row_heading level0 row68\" >rougher.state.floatbank10_c_air</th>\n",
       "      <td id=\"T_64098_row68_col0\" class=\"data row68 col0\" >70</td>\n",
       "      <td id=\"T_64098_row68_col1\" class=\"data row68 col1\" >22,716</td>\n",
       "      <td id=\"T_64098_row68_col2\" class=\"data row68 col2\" >0.31%</td>\n",
       "    </tr>\n",
       "    <tr>\n",
       "      <th id=\"T_64098_level0_row69\" class=\"row_heading level0 row69\" >rougher.state.floatbank10_b_level</th>\n",
       "      <td id=\"T_64098_row69_col0\" class=\"data row69 col0\" >69</td>\n",
       "      <td id=\"T_64098_row69_col1\" class=\"data row69 col1\" >22,716</td>\n",
       "      <td id=\"T_64098_row69_col2\" class=\"data row69 col2\" >0.30%</td>\n",
       "    </tr>\n",
       "    <tr>\n",
       "      <th id=\"T_64098_level0_row70\" class=\"row_heading level0 row70\" >rougher.state.floatbank10_a_level</th>\n",
       "      <td id=\"T_64098_row70_col0\" class=\"data row70 col0\" >69</td>\n",
       "      <td id=\"T_64098_row70_col1\" class=\"data row70 col1\" >22,716</td>\n",
       "      <td id=\"T_64098_row70_col2\" class=\"data row70 col2\" >0.30%</td>\n",
       "    </tr>\n",
       "    <tr>\n",
       "      <th id=\"T_64098_level0_row71\" class=\"row_heading level0 row71\" >rougher.state.floatbank10_d_level</th>\n",
       "      <td id=\"T_64098_row71_col0\" class=\"data row71 col0\" >67</td>\n",
       "      <td id=\"T_64098_row71_col1\" class=\"data row71 col1\" >22,716</td>\n",
       "      <td id=\"T_64098_row71_col2\" class=\"data row71 col2\" >0.29%</td>\n",
       "    </tr>\n",
       "    <tr>\n",
       "      <th id=\"T_64098_level0_row72\" class=\"row_heading level0 row72\" >rougher.state.floatbank10_e_level</th>\n",
       "      <td id=\"T_64098_row72_col0\" class=\"data row72 col0\" >67</td>\n",
       "      <td id=\"T_64098_row72_col1\" class=\"data row72 col1\" >22,716</td>\n",
       "      <td id=\"T_64098_row72_col2\" class=\"data row72 col2\" >0.29%</td>\n",
       "    </tr>\n",
       "    <tr>\n",
       "      <th id=\"T_64098_level0_row73\" class=\"row_heading level0 row73\" >rougher.state.floatbank10_c_level</th>\n",
       "      <td id=\"T_64098_row73_col0\" class=\"data row73 col0\" >62</td>\n",
       "      <td id=\"T_64098_row73_col1\" class=\"data row73 col1\" >22,716</td>\n",
       "      <td id=\"T_64098_row73_col2\" class=\"data row73 col2\" >0.27%</td>\n",
       "    </tr>\n",
       "    <tr>\n",
       "      <th id=\"T_64098_level0_row74\" class=\"row_heading level0 row74\" >primary_cleaner.state.floatbank8_b_air</th>\n",
       "      <td id=\"T_64098_row74_col0\" class=\"data row74 col0\" >56</td>\n",
       "      <td id=\"T_64098_row74_col1\" class=\"data row74 col1\" >22,716</td>\n",
       "      <td id=\"T_64098_row74_col2\" class=\"data row74 col2\" >0.25%</td>\n",
       "    </tr>\n",
       "    <tr>\n",
       "      <th id=\"T_64098_level0_row75\" class=\"row_heading level0 row75\" >primary_cleaner.state.floatbank8_a_air</th>\n",
       "      <td id=\"T_64098_row75_col0\" class=\"data row75 col0\" >56</td>\n",
       "      <td id=\"T_64098_row75_col1\" class=\"data row75 col1\" >22,716</td>\n",
       "      <td id=\"T_64098_row75_col2\" class=\"data row75 col2\" >0.25%</td>\n",
       "    </tr>\n",
       "    <tr>\n",
       "      <th id=\"T_64098_level0_row76\" class=\"row_heading level0 row76\" >primary_cleaner.state.floatbank8_d_air</th>\n",
       "      <td id=\"T_64098_row76_col0\" class=\"data row76 col0\" >55</td>\n",
       "      <td id=\"T_64098_row76_col1\" class=\"data row76 col1\" >22,716</td>\n",
       "      <td id=\"T_64098_row76_col2\" class=\"data row76 col2\" >0.24%</td>\n",
       "    </tr>\n",
       "    <tr>\n",
       "      <th id=\"T_64098_level0_row77\" class=\"row_heading level0 row77\" >primary_cleaner.state.floatbank8_c_air</th>\n",
       "      <td id=\"T_64098_row77_col0\" class=\"data row77 col0\" >54</td>\n",
       "      <td id=\"T_64098_row77_col1\" class=\"data row77 col1\" >22,716</td>\n",
       "      <td id=\"T_64098_row77_col2\" class=\"data row77 col2\" >0.24%</td>\n",
       "    </tr>\n",
       "    <tr>\n",
       "      <th id=\"T_64098_level0_row78\" class=\"row_heading level0 row78\" >primary_cleaner.state.floatbank8_a_level</th>\n",
       "      <td id=\"T_64098_row78_col0\" class=\"data row78 col0\" >49</td>\n",
       "      <td id=\"T_64098_row78_col1\" class=\"data row78 col1\" >22,716</td>\n",
       "      <td id=\"T_64098_row78_col2\" class=\"data row78 col2\" >0.22%</td>\n",
       "    </tr>\n",
       "    <tr>\n",
       "      <th id=\"T_64098_level0_row79\" class=\"row_heading level0 row79\" >rougher.calculation.floatbank10_sulfate_to_au_feed</th>\n",
       "      <td id=\"T_64098_row79_col0\" class=\"data row79 col0\" >44</td>\n",
       "      <td id=\"T_64098_row79_col1\" class=\"data row79 col1\" >22,716</td>\n",
       "      <td id=\"T_64098_row79_col2\" class=\"data row79 col2\" >0.19%</td>\n",
       "    </tr>\n",
       "    <tr>\n",
       "      <th id=\"T_64098_level0_row80\" class=\"row_heading level0 row80\" >rougher.calculation.sulfate_to_au_concentrate</th>\n",
       "      <td id=\"T_64098_row80_col0\" class=\"data row80 col0\" >44</td>\n",
       "      <td id=\"T_64098_row80_col1\" class=\"data row80 col1\" >22,716</td>\n",
       "      <td id=\"T_64098_row80_col2\" class=\"data row80 col2\" >0.19%</td>\n",
       "    </tr>\n",
       "    <tr>\n",
       "      <th id=\"T_64098_level0_row81\" class=\"row_heading level0 row81\" >rougher.calculation.floatbank11_sulfate_to_au_feed</th>\n",
       "      <td id=\"T_64098_row81_col0\" class=\"data row81 col0\" >44</td>\n",
       "      <td id=\"T_64098_row81_col1\" class=\"data row81 col1\" >22,716</td>\n",
       "      <td id=\"T_64098_row81_col2\" class=\"data row81 col2\" >0.19%</td>\n",
       "    </tr>\n",
       "    <tr>\n",
       "      <th id=\"T_64098_level0_row82\" class=\"row_heading level0 row82\" >primary_cleaner.state.floatbank8_b_level</th>\n",
       "      <td id=\"T_64098_row82_col0\" class=\"data row82 col0\" >43</td>\n",
       "      <td id=\"T_64098_row82_col1\" class=\"data row82 col1\" >22,716</td>\n",
       "      <td id=\"T_64098_row82_col2\" class=\"data row82 col2\" >0.19%</td>\n",
       "    </tr>\n",
       "    <tr>\n",
       "      <th id=\"T_64098_level0_row83\" class=\"row_heading level0 row83\" >primary_cleaner.state.floatbank8_c_level</th>\n",
       "      <td id=\"T_64098_row83_col0\" class=\"data row83 col0\" >43</td>\n",
       "      <td id=\"T_64098_row83_col1\" class=\"data row83 col1\" >22,716</td>\n",
       "      <td id=\"T_64098_row83_col2\" class=\"data row83 col2\" >0.19%</td>\n",
       "    </tr>\n",
       "    <tr>\n",
       "      <th id=\"T_64098_level0_row84\" class=\"row_heading level0 row84\" >primary_cleaner.state.floatbank8_d_level</th>\n",
       "      <td id=\"T_64098_row84_col0\" class=\"data row84 col0\" >43</td>\n",
       "      <td id=\"T_64098_row84_col1\" class=\"data row84 col1\" >22,716</td>\n",
       "      <td id=\"T_64098_row84_col2\" class=\"data row84 col2\" >0.19%</td>\n",
       "    </tr>\n",
       "    <tr>\n",
       "      <th id=\"T_64098_level0_row85\" class=\"row_heading level0 row85\" >primary_cleaner.input.feed_size</th>\n",
       "      <td id=\"T_64098_row85_col0\" class=\"data row85 col0\" >0</td>\n",
       "      <td id=\"T_64098_row85_col1\" class=\"data row85 col1\" >22,716</td>\n",
       "      <td id=\"T_64098_row85_col2\" class=\"data row85 col2\" >0.00%</td>\n",
       "    </tr>\n",
       "    <tr>\n",
       "      <th id=\"T_64098_level0_row86\" class=\"row_heading level0 row86\" >date</th>\n",
       "      <td id=\"T_64098_row86_col0\" class=\"data row86 col0\" >0</td>\n",
       "      <td id=\"T_64098_row86_col1\" class=\"data row86 col1\" >22,716</td>\n",
       "      <td id=\"T_64098_row86_col2\" class=\"data row86 col2\" >0.00%</td>\n",
       "    </tr>\n",
       "  </tbody>\n",
       "</table>\n"
      ],
      "text/plain": [
       "<pandas.io.formats.style.Styler at 0x7fc92edf3b80>"
      ]
     },
     "execution_count": 8,
     "metadata": {},
     "output_type": "execute_result"
    }
   ],
   "source": [
    "# Looking at the missing values in the data.\n",
    "source.stb.missing(style=True)"
   ]
  },
  {
   "cell_type": "markdown",
   "metadata": {},
   "source": [
    "- We have the most missing values in one of our targets 'rougher.output.recovery', 13% is missing. the column expresses a calculation of several factors (like rougher.output.tail) that have missing values too and that is the cause for the missing values in our target.\n",
    "- 'final.output.recovery' has missing values too, 8% is missing.\n",
    "- All columns have missing values, except 2 ('primary_cleaner.input.feed_size' and 'date')"
   ]
  },
  {
   "cell_type": "code",
   "execution_count": 9,
   "metadata": {},
   "outputs": [
    {
     "data": {
      "text/html": [
       "<div>\n",
       "<style scoped>\n",
       "    .dataframe tbody tr th:only-of-type {\n",
       "        vertical-align: middle;\n",
       "    }\n",
       "\n",
       "    .dataframe tbody tr th {\n",
       "        vertical-align: top;\n",
       "    }\n",
       "\n",
       "    .dataframe thead th {\n",
       "        text-align: right;\n",
       "    }\n",
       "</style>\n",
       "<table border=\"1\" class=\"dataframe\">\n",
       "  <thead>\n",
       "    <tr style=\"text-align: right;\">\n",
       "      <th></th>\n",
       "      <th>date</th>\n",
       "      <th>final.output.concentrate_ag</th>\n",
       "      <th>final.output.concentrate_pb</th>\n",
       "      <th>final.output.concentrate_sol</th>\n",
       "      <th>final.output.concentrate_au</th>\n",
       "      <th>final.output.recovery</th>\n",
       "      <th>final.output.tail_ag</th>\n",
       "      <th>final.output.tail_pb</th>\n",
       "      <th>final.output.tail_sol</th>\n",
       "      <th>final.output.tail_au</th>\n",
       "      <th>...</th>\n",
       "      <th>secondary_cleaner.state.floatbank4_a_air</th>\n",
       "      <th>secondary_cleaner.state.floatbank4_a_level</th>\n",
       "      <th>secondary_cleaner.state.floatbank4_b_air</th>\n",
       "      <th>secondary_cleaner.state.floatbank4_b_level</th>\n",
       "      <th>secondary_cleaner.state.floatbank5_a_air</th>\n",
       "      <th>secondary_cleaner.state.floatbank5_a_level</th>\n",
       "      <th>secondary_cleaner.state.floatbank5_b_air</th>\n",
       "      <th>secondary_cleaner.state.floatbank5_b_level</th>\n",
       "      <th>secondary_cleaner.state.floatbank6_a_air</th>\n",
       "      <th>secondary_cleaner.state.floatbank6_a_level</th>\n",
       "    </tr>\n",
       "  </thead>\n",
       "  <tbody>\n",
       "    <tr>\n",
       "      <th>15731</th>\n",
       "      <td>2017-10-31 10:59:59</td>\n",
       "      <td>7.692</td>\n",
       "      <td>8.506</td>\n",
       "      <td>10.221</td>\n",
       "      <td>43.202</td>\n",
       "      <td>73.771</td>\n",
       "      <td>13.694</td>\n",
       "      <td>3.484</td>\n",
       "      <td>11.928</td>\n",
       "      <td>3.376</td>\n",
       "      <td>...</td>\n",
       "      <td>17.974</td>\n",
       "      <td>-500.046</td>\n",
       "      <td>15.958</td>\n",
       "      <td>-498.876</td>\n",
       "      <td>14.961</td>\n",
       "      <td>-500.529</td>\n",
       "      <td>11.016</td>\n",
       "      <td>-500.294</td>\n",
       "      <td>15.976</td>\n",
       "      <td>-500.828</td>\n",
       "    </tr>\n",
       "    <tr>\n",
       "      <th>5462</th>\n",
       "      <td>2016-08-29 13:59:59</td>\n",
       "      <td>4.805</td>\n",
       "      <td>11.318</td>\n",
       "      <td>7.140</td>\n",
       "      <td>44.773</td>\n",
       "      <td>65.329</td>\n",
       "      <td>8.362</td>\n",
       "      <td>2.608</td>\n",
       "      <td>8.708</td>\n",
       "      <td>3.465</td>\n",
       "      <td>...</td>\n",
       "      <td>11.973</td>\n",
       "      <td>-500.161</td>\n",
       "      <td>7.906</td>\n",
       "      <td>-500.325</td>\n",
       "      <td>8.001</td>\n",
       "      <td>-499.929</td>\n",
       "      <td>4.975</td>\n",
       "      <td>-500.167</td>\n",
       "      <td>24.998</td>\n",
       "      <td>-499.089</td>\n",
       "    </tr>\n",
       "    <tr>\n",
       "      <th>9409</th>\n",
       "      <td>2017-02-10 00:59:59</td>\n",
       "      <td>6.605</td>\n",
       "      <td>8.310</td>\n",
       "      <td>14.998</td>\n",
       "      <td>44.224</td>\n",
       "      <td>74.762</td>\n",
       "      <td>11.805</td>\n",
       "      <td>2.971</td>\n",
       "      <td>9.693</td>\n",
       "      <td>3.301</td>\n",
       "      <td>...</td>\n",
       "      <td>25.011</td>\n",
       "      <td>-400.539</td>\n",
       "      <td>22.967</td>\n",
       "      <td>-400.054</td>\n",
       "      <td>23.031</td>\n",
       "      <td>-450.460</td>\n",
       "      <td>19.994</td>\n",
       "      <td>-450.087</td>\n",
       "      <td>25.007</td>\n",
       "      <td>-600.230</td>\n",
       "    </tr>\n",
       "    <tr>\n",
       "      <th>15467</th>\n",
       "      <td>2017-10-20 10:59:59</td>\n",
       "      <td>4.661</td>\n",
       "      <td>11.034</td>\n",
       "      <td>8.974</td>\n",
       "      <td>46.275</td>\n",
       "      <td>66.259</td>\n",
       "      <td>9.835</td>\n",
       "      <td>4.642</td>\n",
       "      <td>12.695</td>\n",
       "      <td>3.631</td>\n",
       "      <td>...</td>\n",
       "      <td>20.999</td>\n",
       "      <td>-501.433</td>\n",
       "      <td>18.980</td>\n",
       "      <td>-400.001</td>\n",
       "      <td>14.988</td>\n",
       "      <td>-501.190</td>\n",
       "      <td>10.995</td>\n",
       "      <td>-500.191</td>\n",
       "      <td>16.012</td>\n",
       "      <td>-500.441</td>\n",
       "    </tr>\n",
       "    <tr>\n",
       "      <th>657</th>\n",
       "      <td>2016-02-11 09:00:00</td>\n",
       "      <td>5.835</td>\n",
       "      <td>9.709</td>\n",
       "      <td>5.333</td>\n",
       "      <td>43.452</td>\n",
       "      <td>66.732</td>\n",
       "      <td>10.839</td>\n",
       "      <td>1.799</td>\n",
       "      <td>18.142</td>\n",
       "      <td>2.798</td>\n",
       "      <td>...</td>\n",
       "      <td>21.983</td>\n",
       "      <td>-395.467</td>\n",
       "      <td>17.978</td>\n",
       "      <td>-397.198</td>\n",
       "      <td>20.083</td>\n",
       "      <td>-399.112</td>\n",
       "      <td>18.008</td>\n",
       "      <td>-398.949</td>\n",
       "      <td>26.962</td>\n",
       "      <td>-398.846</td>\n",
       "    </tr>\n",
       "  </tbody>\n",
       "</table>\n",
       "<p>5 rows × 87 columns</p>\n",
       "</div>"
      ],
      "text/plain": [
       "                      date  final.output.concentrate_ag  \\\n",
       "15731  2017-10-31 10:59:59                        7.692   \n",
       "5462   2016-08-29 13:59:59                        4.805   \n",
       "9409   2017-02-10 00:59:59                        6.605   \n",
       "15467  2017-10-20 10:59:59                        4.661   \n",
       "657    2016-02-11 09:00:00                        5.835   \n",
       "\n",
       "       final.output.concentrate_pb  final.output.concentrate_sol  \\\n",
       "15731                        8.506                        10.221   \n",
       "5462                        11.318                         7.140   \n",
       "9409                         8.310                        14.998   \n",
       "15467                       11.034                         8.974   \n",
       "657                          9.709                         5.333   \n",
       "\n",
       "       final.output.concentrate_au  final.output.recovery  \\\n",
       "15731                       43.202                 73.771   \n",
       "5462                        44.773                 65.329   \n",
       "9409                        44.224                 74.762   \n",
       "15467                       46.275                 66.259   \n",
       "657                         43.452                 66.732   \n",
       "\n",
       "       final.output.tail_ag  final.output.tail_pb  final.output.tail_sol  \\\n",
       "15731                13.694                 3.484                 11.928   \n",
       "5462                  8.362                 2.608                  8.708   \n",
       "9409                 11.805                 2.971                  9.693   \n",
       "15467                 9.835                 4.642                 12.695   \n",
       "657                  10.839                 1.799                 18.142   \n",
       "\n",
       "       final.output.tail_au  ...  secondary_cleaner.state.floatbank4_a_air  \\\n",
       "15731                 3.376  ...                                    17.974   \n",
       "5462                  3.465  ...                                    11.973   \n",
       "9409                  3.301  ...                                    25.011   \n",
       "15467                 3.631  ...                                    20.999   \n",
       "657                   2.798  ...                                    21.983   \n",
       "\n",
       "       secondary_cleaner.state.floatbank4_a_level  \\\n",
       "15731                                    -500.046   \n",
       "5462                                     -500.161   \n",
       "9409                                     -400.539   \n",
       "15467                                    -501.433   \n",
       "657                                      -395.467   \n",
       "\n",
       "       secondary_cleaner.state.floatbank4_b_air  \\\n",
       "15731                                    15.958   \n",
       "5462                                      7.906   \n",
       "9409                                     22.967   \n",
       "15467                                    18.980   \n",
       "657                                      17.978   \n",
       "\n",
       "       secondary_cleaner.state.floatbank4_b_level  \\\n",
       "15731                                    -498.876   \n",
       "5462                                     -500.325   \n",
       "9409                                     -400.054   \n",
       "15467                                    -400.001   \n",
       "657                                      -397.198   \n",
       "\n",
       "       secondary_cleaner.state.floatbank5_a_air  \\\n",
       "15731                                    14.961   \n",
       "5462                                      8.001   \n",
       "9409                                     23.031   \n",
       "15467                                    14.988   \n",
       "657                                      20.083   \n",
       "\n",
       "       secondary_cleaner.state.floatbank5_a_level  \\\n",
       "15731                                    -500.529   \n",
       "5462                                     -499.929   \n",
       "9409                                     -450.460   \n",
       "15467                                    -501.190   \n",
       "657                                      -399.112   \n",
       "\n",
       "       secondary_cleaner.state.floatbank5_b_air  \\\n",
       "15731                                    11.016   \n",
       "5462                                      4.975   \n",
       "9409                                     19.994   \n",
       "15467                                    10.995   \n",
       "657                                      18.008   \n",
       "\n",
       "       secondary_cleaner.state.floatbank5_b_level  \\\n",
       "15731                                    -500.294   \n",
       "5462                                     -500.167   \n",
       "9409                                     -450.087   \n",
       "15467                                    -500.191   \n",
       "657                                      -398.949   \n",
       "\n",
       "       secondary_cleaner.state.floatbank6_a_air  \\\n",
       "15731                                    15.976   \n",
       "5462                                     24.998   \n",
       "9409                                     25.007   \n",
       "15467                                    16.012   \n",
       "657                                      26.962   \n",
       "\n",
       "       secondary_cleaner.state.floatbank6_a_level  \n",
       "15731                                    -500.828  \n",
       "5462                                     -499.089  \n",
       "9409                                     -600.230  \n",
       "15467                                    -500.441  \n",
       "657                                      -398.846  \n",
       "\n",
       "[5 rows x 87 columns]"
      ]
     },
     "execution_count": 9,
     "metadata": {},
     "output_type": "execute_result"
    }
   ],
   "source": [
    "# Printing 5 rows randomly from the dataset to examine the data.\n",
    "source.sample(5)"
   ]
  },
  {
   "cell_type": "code",
   "execution_count": 10,
   "metadata": {
    "scrolled": true
   },
   "outputs": [
    {
     "data": {
      "text/html": [
       "<div>\n",
       "<style scoped>\n",
       "    .dataframe tbody tr th:only-of-type {\n",
       "        vertical-align: middle;\n",
       "    }\n",
       "\n",
       "    .dataframe tbody tr th {\n",
       "        vertical-align: top;\n",
       "    }\n",
       "\n",
       "    .dataframe thead th {\n",
       "        text-align: right;\n",
       "    }\n",
       "</style>\n",
       "<table border=\"1\" class=\"dataframe\">\n",
       "  <thead>\n",
       "    <tr style=\"text-align: right;\">\n",
       "      <th></th>\n",
       "      <th>final.output.concentrate_ag</th>\n",
       "      <th>final.output.concentrate_pb</th>\n",
       "      <th>final.output.concentrate_sol</th>\n",
       "      <th>final.output.concentrate_au</th>\n",
       "      <th>final.output.recovery</th>\n",
       "      <th>final.output.tail_ag</th>\n",
       "      <th>final.output.tail_pb</th>\n",
       "      <th>final.output.tail_sol</th>\n",
       "      <th>final.output.tail_au</th>\n",
       "      <th>primary_cleaner.input.sulfate</th>\n",
       "      <th>...</th>\n",
       "      <th>secondary_cleaner.state.floatbank4_a_air</th>\n",
       "      <th>secondary_cleaner.state.floatbank4_a_level</th>\n",
       "      <th>secondary_cleaner.state.floatbank4_b_air</th>\n",
       "      <th>secondary_cleaner.state.floatbank4_b_level</th>\n",
       "      <th>secondary_cleaner.state.floatbank5_a_air</th>\n",
       "      <th>secondary_cleaner.state.floatbank5_a_level</th>\n",
       "      <th>secondary_cleaner.state.floatbank5_b_air</th>\n",
       "      <th>secondary_cleaner.state.floatbank5_b_level</th>\n",
       "      <th>secondary_cleaner.state.floatbank6_a_air</th>\n",
       "      <th>secondary_cleaner.state.floatbank6_a_level</th>\n",
       "    </tr>\n",
       "  </thead>\n",
       "  <tbody>\n",
       "    <tr>\n",
       "      <th>count</th>\n",
       "      <td>22627.000</td>\n",
       "      <td>22629.000</td>\n",
       "      <td>22331.000</td>\n",
       "      <td>22630.000</td>\n",
       "      <td>20753.000</td>\n",
       "      <td>22633.000</td>\n",
       "      <td>22516.000</td>\n",
       "      <td>22445.000</td>\n",
       "      <td>22635.000</td>\n",
       "      <td>21107.000</td>\n",
       "      <td>...</td>\n",
       "      <td>22571.000</td>\n",
       "      <td>22587.000</td>\n",
       "      <td>22608.000</td>\n",
       "      <td>22607.000</td>\n",
       "      <td>22615.000</td>\n",
       "      <td>22615.000</td>\n",
       "      <td>22615.000</td>\n",
       "      <td>22616.000</td>\n",
       "      <td>22597.000</td>\n",
       "      <td>22615.000</td>\n",
       "    </tr>\n",
       "    <tr>\n",
       "      <th>mean</th>\n",
       "      <td>4.782</td>\n",
       "      <td>9.095</td>\n",
       "      <td>8.640</td>\n",
       "      <td>40.001</td>\n",
       "      <td>67.447</td>\n",
       "      <td>8.924</td>\n",
       "      <td>2.488</td>\n",
       "      <td>9.524</td>\n",
       "      <td>2.827</td>\n",
       "      <td>140.278</td>\n",
       "      <td>...</td>\n",
       "      <td>18.205</td>\n",
       "      <td>-499.879</td>\n",
       "      <td>14.356</td>\n",
       "      <td>-476.533</td>\n",
       "      <td>14.883</td>\n",
       "      <td>-503.323</td>\n",
       "      <td>11.627</td>\n",
       "      <td>-500.522</td>\n",
       "      <td>17.977</td>\n",
       "      <td>-519.361</td>\n",
       "    </tr>\n",
       "    <tr>\n",
       "      <th>std</th>\n",
       "      <td>2.030</td>\n",
       "      <td>3.231</td>\n",
       "      <td>3.785</td>\n",
       "      <td>13.398</td>\n",
       "      <td>11.616</td>\n",
       "      <td>3.518</td>\n",
       "      <td>1.189</td>\n",
       "      <td>4.080</td>\n",
       "      <td>1.263</td>\n",
       "      <td>49.919</td>\n",
       "      <td>...</td>\n",
       "      <td>6.561</td>\n",
       "      <td>80.274</td>\n",
       "      <td>5.656</td>\n",
       "      <td>93.823</td>\n",
       "      <td>6.373</td>\n",
       "      <td>72.926</td>\n",
       "      <td>5.757</td>\n",
       "      <td>78.956</td>\n",
       "      <td>6.636</td>\n",
       "      <td>75.477</td>\n",
       "    </tr>\n",
       "    <tr>\n",
       "      <th>min</th>\n",
       "      <td>0.000</td>\n",
       "      <td>0.000</td>\n",
       "      <td>0.000</td>\n",
       "      <td>0.000</td>\n",
       "      <td>0.000</td>\n",
       "      <td>0.000</td>\n",
       "      <td>0.000</td>\n",
       "      <td>0.000</td>\n",
       "      <td>0.000</td>\n",
       "      <td>0.000</td>\n",
       "      <td>...</td>\n",
       "      <td>0.000</td>\n",
       "      <td>-799.921</td>\n",
       "      <td>0.000</td>\n",
       "      <td>-800.837</td>\n",
       "      <td>-0.423</td>\n",
       "      <td>-799.741</td>\n",
       "      <td>0.427</td>\n",
       "      <td>-800.258</td>\n",
       "      <td>-0.079</td>\n",
       "      <td>-810.474</td>\n",
       "    </tr>\n",
       "    <tr>\n",
       "      <th>25%</th>\n",
       "      <td>4.019</td>\n",
       "      <td>8.750</td>\n",
       "      <td>7.117</td>\n",
       "      <td>42.384</td>\n",
       "      <td>63.282</td>\n",
       "      <td>7.684</td>\n",
       "      <td>1.805</td>\n",
       "      <td>8.144</td>\n",
       "      <td>2.303</td>\n",
       "      <td>110.177</td>\n",
       "      <td>...</td>\n",
       "      <td>14.096</td>\n",
       "      <td>-500.896</td>\n",
       "      <td>10.883</td>\n",
       "      <td>-500.309</td>\n",
       "      <td>10.941</td>\n",
       "      <td>-500.629</td>\n",
       "      <td>8.038</td>\n",
       "      <td>-500.168</td>\n",
       "      <td>13.968</td>\n",
       "      <td>-500.982</td>\n",
       "    </tr>\n",
       "    <tr>\n",
       "      <th>50%</th>\n",
       "      <td>4.954</td>\n",
       "      <td>9.915</td>\n",
       "      <td>8.909</td>\n",
       "      <td>44.653</td>\n",
       "      <td>68.322</td>\n",
       "      <td>9.484</td>\n",
       "      <td>2.653</td>\n",
       "      <td>10.213</td>\n",
       "      <td>2.914</td>\n",
       "      <td>141.331</td>\n",
       "      <td>...</td>\n",
       "      <td>18.007</td>\n",
       "      <td>-499.917</td>\n",
       "      <td>14.948</td>\n",
       "      <td>-499.612</td>\n",
       "      <td>14.859</td>\n",
       "      <td>-499.865</td>\n",
       "      <td>10.990</td>\n",
       "      <td>-499.952</td>\n",
       "      <td>18.004</td>\n",
       "      <td>-500.095</td>\n",
       "    </tr>\n",
       "    <tr>\n",
       "      <th>75%</th>\n",
       "      <td>5.863</td>\n",
       "      <td>10.930</td>\n",
       "      <td>10.706</td>\n",
       "      <td>46.112</td>\n",
       "      <td>72.951</td>\n",
       "      <td>11.085</td>\n",
       "      <td>3.288</td>\n",
       "      <td>11.861</td>\n",
       "      <td>3.555</td>\n",
       "      <td>174.050</td>\n",
       "      <td>...</td>\n",
       "      <td>22.998</td>\n",
       "      <td>-498.362</td>\n",
       "      <td>17.978</td>\n",
       "      <td>-400.224</td>\n",
       "      <td>18.015</td>\n",
       "      <td>-498.489</td>\n",
       "      <td>14.001</td>\n",
       "      <td>-499.492</td>\n",
       "      <td>23.010</td>\n",
       "      <td>-499.526</td>\n",
       "    </tr>\n",
       "    <tr>\n",
       "      <th>max</th>\n",
       "      <td>16.002</td>\n",
       "      <td>17.032</td>\n",
       "      <td>19.616</td>\n",
       "      <td>53.611</td>\n",
       "      <td>100.000</td>\n",
       "      <td>19.552</td>\n",
       "      <td>6.087</td>\n",
       "      <td>22.862</td>\n",
       "      <td>9.790</td>\n",
       "      <td>274.410</td>\n",
       "      <td>...</td>\n",
       "      <td>60.000</td>\n",
       "      <td>-127.692</td>\n",
       "      <td>31.270</td>\n",
       "      <td>-6.507</td>\n",
       "      <td>63.116</td>\n",
       "      <td>-244.484</td>\n",
       "      <td>39.846</td>\n",
       "      <td>-120.191</td>\n",
       "      <td>54.877</td>\n",
       "      <td>-29.094</td>\n",
       "    </tr>\n",
       "  </tbody>\n",
       "</table>\n",
       "<p>8 rows × 86 columns</p>\n",
       "</div>"
      ],
      "text/plain": [
       "       final.output.concentrate_ag  final.output.concentrate_pb  \\\n",
       "count                    22627.000                    22629.000   \n",
       "mean                         4.782                        9.095   \n",
       "std                          2.030                        3.231   \n",
       "min                          0.000                        0.000   \n",
       "25%                          4.019                        8.750   \n",
       "50%                          4.954                        9.915   \n",
       "75%                          5.863                       10.930   \n",
       "max                         16.002                       17.032   \n",
       "\n",
       "       final.output.concentrate_sol  final.output.concentrate_au  \\\n",
       "count                     22331.000                    22630.000   \n",
       "mean                          8.640                       40.001   \n",
       "std                           3.785                       13.398   \n",
       "min                           0.000                        0.000   \n",
       "25%                           7.117                       42.384   \n",
       "50%                           8.909                       44.653   \n",
       "75%                          10.706                       46.112   \n",
       "max                          19.616                       53.611   \n",
       "\n",
       "       final.output.recovery  final.output.tail_ag  final.output.tail_pb  \\\n",
       "count              20753.000             22633.000             22516.000   \n",
       "mean                  67.447                 8.924                 2.488   \n",
       "std                   11.616                 3.518                 1.189   \n",
       "min                    0.000                 0.000                 0.000   \n",
       "25%                   63.282                 7.684                 1.805   \n",
       "50%                   68.322                 9.484                 2.653   \n",
       "75%                   72.951                11.085                 3.288   \n",
       "max                  100.000                19.552                 6.087   \n",
       "\n",
       "       final.output.tail_sol  final.output.tail_au  \\\n",
       "count              22445.000             22635.000   \n",
       "mean                   9.524                 2.827   \n",
       "std                    4.080                 1.263   \n",
       "min                    0.000                 0.000   \n",
       "25%                    8.144                 2.303   \n",
       "50%                   10.213                 2.914   \n",
       "75%                   11.861                 3.555   \n",
       "max                   22.862                 9.790   \n",
       "\n",
       "       primary_cleaner.input.sulfate  ...  \\\n",
       "count                      21107.000  ...   \n",
       "mean                         140.278  ...   \n",
       "std                           49.919  ...   \n",
       "min                            0.000  ...   \n",
       "25%                          110.177  ...   \n",
       "50%                          141.331  ...   \n",
       "75%                          174.050  ...   \n",
       "max                          274.410  ...   \n",
       "\n",
       "       secondary_cleaner.state.floatbank4_a_air  \\\n",
       "count                                 22571.000   \n",
       "mean                                     18.205   \n",
       "std                                       6.561   \n",
       "min                                       0.000   \n",
       "25%                                      14.096   \n",
       "50%                                      18.007   \n",
       "75%                                      22.998   \n",
       "max                                      60.000   \n",
       "\n",
       "       secondary_cleaner.state.floatbank4_a_level  \\\n",
       "count                                   22587.000   \n",
       "mean                                     -499.879   \n",
       "std                                        80.274   \n",
       "min                                      -799.921   \n",
       "25%                                      -500.896   \n",
       "50%                                      -499.917   \n",
       "75%                                      -498.362   \n",
       "max                                      -127.692   \n",
       "\n",
       "       secondary_cleaner.state.floatbank4_b_air  \\\n",
       "count                                 22608.000   \n",
       "mean                                     14.356   \n",
       "std                                       5.656   \n",
       "min                                       0.000   \n",
       "25%                                      10.883   \n",
       "50%                                      14.948   \n",
       "75%                                      17.978   \n",
       "max                                      31.270   \n",
       "\n",
       "       secondary_cleaner.state.floatbank4_b_level  \\\n",
       "count                                   22607.000   \n",
       "mean                                     -476.533   \n",
       "std                                        93.823   \n",
       "min                                      -800.837   \n",
       "25%                                      -500.309   \n",
       "50%                                      -499.612   \n",
       "75%                                      -400.224   \n",
       "max                                        -6.507   \n",
       "\n",
       "       secondary_cleaner.state.floatbank5_a_air  \\\n",
       "count                                 22615.000   \n",
       "mean                                     14.883   \n",
       "std                                       6.373   \n",
       "min                                      -0.423   \n",
       "25%                                      10.941   \n",
       "50%                                      14.859   \n",
       "75%                                      18.015   \n",
       "max                                      63.116   \n",
       "\n",
       "       secondary_cleaner.state.floatbank5_a_level  \\\n",
       "count                                   22615.000   \n",
       "mean                                     -503.323   \n",
       "std                                        72.926   \n",
       "min                                      -799.741   \n",
       "25%                                      -500.629   \n",
       "50%                                      -499.865   \n",
       "75%                                      -498.489   \n",
       "max                                      -244.484   \n",
       "\n",
       "       secondary_cleaner.state.floatbank5_b_air  \\\n",
       "count                                 22615.000   \n",
       "mean                                     11.627   \n",
       "std                                       5.757   \n",
       "min                                       0.427   \n",
       "25%                                       8.038   \n",
       "50%                                      10.990   \n",
       "75%                                      14.001   \n",
       "max                                      39.846   \n",
       "\n",
       "       secondary_cleaner.state.floatbank5_b_level  \\\n",
       "count                                   22616.000   \n",
       "mean                                     -500.522   \n",
       "std                                        78.956   \n",
       "min                                      -800.258   \n",
       "25%                                      -500.168   \n",
       "50%                                      -499.952   \n",
       "75%                                      -499.492   \n",
       "max                                      -120.191   \n",
       "\n",
       "       secondary_cleaner.state.floatbank6_a_air  \\\n",
       "count                                 22597.000   \n",
       "mean                                     17.977   \n",
       "std                                       6.636   \n",
       "min                                      -0.079   \n",
       "25%                                      13.968   \n",
       "50%                                      18.004   \n",
       "75%                                      23.010   \n",
       "max                                      54.877   \n",
       "\n",
       "       secondary_cleaner.state.floatbank6_a_level  \n",
       "count                                   22615.000  \n",
       "mean                                     -519.361  \n",
       "std                                        75.477  \n",
       "min                                      -810.474  \n",
       "25%                                      -500.982  \n",
       "50%                                      -500.095  \n",
       "75%                                      -499.526  \n",
       "max                                       -29.094  \n",
       "\n",
       "[8 rows x 86 columns]"
      ]
     },
     "execution_count": 10,
     "metadata": {},
     "output_type": "execute_result"
    }
   ],
   "source": [
    "#Using describe() to get detailed information about our data\n",
    "source.describe()"
   ]
  },
  {
   "cell_type": "markdown",
   "metadata": {},
   "source": [
    "- We have negative values in some of the columns (probably as part of the production process).\n",
    "- We can see that some of the columns have a very high standard deviation."
   ]
  },
  {
   "cell_type": "markdown",
   "metadata": {},
   "source": [
    "#### Changing data types"
   ]
  },
  {
   "cell_type": "code",
   "execution_count": 11,
   "metadata": {},
   "outputs": [],
   "source": [
    "# changing date column to DateTime\n",
    "source['date'] = pd.to_datetime(source['date'])"
   ]
  },
  {
   "cell_type": "code",
   "execution_count": 12,
   "metadata": {
    "scrolled": true
   },
   "outputs": [
    {
     "data": {
      "text/plain": [
       "date                                          datetime64[ns]\n",
       "final.output.concentrate_ag                          float64\n",
       "final.output.concentrate_pb                          float64\n",
       "final.output.concentrate_sol                         float64\n",
       "final.output.concentrate_au                          float64\n",
       "                                                   ...      \n",
       "secondary_cleaner.state.floatbank5_a_level           float64\n",
       "secondary_cleaner.state.floatbank5_b_air             float64\n",
       "secondary_cleaner.state.floatbank5_b_level           float64\n",
       "secondary_cleaner.state.floatbank6_a_air             float64\n",
       "secondary_cleaner.state.floatbank6_a_level           float64\n",
       "Length: 87, dtype: object"
      ]
     },
     "execution_count": 12,
     "metadata": {},
     "output_type": "execute_result"
    }
   ],
   "source": [
    "source.dtypes"
   ]
  },
  {
   "cell_type": "markdown",
   "metadata": {},
   "source": [
    "#### Conclusion"
   ]
  },
  {
   "cell_type": "markdown",
   "metadata": {},
   "source": [
    "- We observed that the most missing values are in one of our targets 'rougher.output.recovery', 13% is missing. the column expresses a calculation of several factors (like rougher.output.tail) that have missing values too and that is probably the cause for the missing values in our target.\n",
    "- 'final.output.recovery', which is our other target column, has missing values too, 8% is missing.\n",
    "- We change 'date' to DateTime.\n",
    "- We observed that some of the columns have a very high standard deviation, and that might indicate that we need to deal with outliers."
   ]
  },
  {
   "cell_type": "markdown",
   "metadata": {},
   "source": [
    "### Train Data"
   ]
  },
  {
   "cell_type": "code",
   "execution_count": 13,
   "metadata": {
    "scrolled": true
   },
   "outputs": [
    {
     "name": "stdout",
     "output_type": "stream",
     "text": [
      "<class 'pandas.core.frame.DataFrame'>\n",
      "RangeIndex: 16860 entries, 0 to 16859\n",
      "Data columns (total 87 columns):\n",
      " #   Column                                              Non-Null Count  Dtype  \n",
      "---  ------                                              --------------  -----  \n",
      " 0   date                                                16860 non-null  object \n",
      " 1   final.output.concentrate_ag                         16788 non-null  float64\n",
      " 2   final.output.concentrate_pb                         16788 non-null  float64\n",
      " 3   final.output.concentrate_sol                        16490 non-null  float64\n",
      " 4   final.output.concentrate_au                         16789 non-null  float64\n",
      " 5   final.output.recovery                               15339 non-null  float64\n",
      " 6   final.output.tail_ag                                16794 non-null  float64\n",
      " 7   final.output.tail_pb                                16677 non-null  float64\n",
      " 8   final.output.tail_sol                               16715 non-null  float64\n",
      " 9   final.output.tail_au                                16794 non-null  float64\n",
      " 10  primary_cleaner.input.sulfate                       15553 non-null  float64\n",
      " 11  primary_cleaner.input.depressant                    15598 non-null  float64\n",
      " 12  primary_cleaner.input.feed_size                     16860 non-null  float64\n",
      " 13  primary_cleaner.input.xanthate                      15875 non-null  float64\n",
      " 14  primary_cleaner.output.concentrate_ag               16778 non-null  float64\n",
      " 15  primary_cleaner.output.concentrate_pb               16502 non-null  float64\n",
      " 16  primary_cleaner.output.concentrate_sol              16224 non-null  float64\n",
      " 17  primary_cleaner.output.concentrate_au               16778 non-null  float64\n",
      " 18  primary_cleaner.output.tail_ag                      16777 non-null  float64\n",
      " 19  primary_cleaner.output.tail_pb                      16761 non-null  float64\n",
      " 20  primary_cleaner.output.tail_sol                     16579 non-null  float64\n",
      " 21  primary_cleaner.output.tail_au                      16777 non-null  float64\n",
      " 22  primary_cleaner.state.floatbank8_a_air              16820 non-null  float64\n",
      " 23  primary_cleaner.state.floatbank8_a_level            16827 non-null  float64\n",
      " 24  primary_cleaner.state.floatbank8_b_air              16820 non-null  float64\n",
      " 25  primary_cleaner.state.floatbank8_b_level            16833 non-null  float64\n",
      " 26  primary_cleaner.state.floatbank8_c_air              16822 non-null  float64\n",
      " 27  primary_cleaner.state.floatbank8_c_level            16833 non-null  float64\n",
      " 28  primary_cleaner.state.floatbank8_d_air              16821 non-null  float64\n",
      " 29  primary_cleaner.state.floatbank8_d_level            16833 non-null  float64\n",
      " 30  rougher.calculation.sulfate_to_au_concentrate       16833 non-null  float64\n",
      " 31  rougher.calculation.floatbank10_sulfate_to_au_feed  16833 non-null  float64\n",
      " 32  rougher.calculation.floatbank11_sulfate_to_au_feed  16833 non-null  float64\n",
      " 33  rougher.calculation.au_pb_ratio                     15618 non-null  float64\n",
      " 34  rougher.input.feed_ag                               16778 non-null  float64\n",
      " 35  rougher.input.feed_pb                               16632 non-null  float64\n",
      " 36  rougher.input.feed_rate                             16347 non-null  float64\n",
      " 37  rougher.input.feed_size                             16443 non-null  float64\n",
      " 38  rougher.input.feed_sol                              16568 non-null  float64\n",
      " 39  rougher.input.feed_au                               16777 non-null  float64\n",
      " 40  rougher.input.floatbank10_sulfate                   15816 non-null  float64\n",
      " 41  rougher.input.floatbank10_xanthate                  16514 non-null  float64\n",
      " 42  rougher.input.floatbank11_sulfate                   16237 non-null  float64\n",
      " 43  rougher.input.floatbank11_xanthate                  14956 non-null  float64\n",
      " 44  rougher.output.concentrate_ag                       16778 non-null  float64\n",
      " 45  rougher.output.concentrate_pb                       16778 non-null  float64\n",
      " 46  rougher.output.concentrate_sol                      16698 non-null  float64\n",
      " 47  rougher.output.concentrate_au                       16778 non-null  float64\n",
      " 48  rougher.output.recovery                             14287 non-null  float64\n",
      " 49  rougher.output.tail_ag                              14610 non-null  float64\n",
      " 50  rougher.output.tail_pb                              16778 non-null  float64\n",
      " 51  rougher.output.tail_sol                             14611 non-null  float64\n",
      " 52  rougher.output.tail_au                              14611 non-null  float64\n",
      " 53  rougher.state.floatbank10_a_air                     16807 non-null  float64\n",
      " 54  rougher.state.floatbank10_a_level                   16807 non-null  float64\n",
      " 55  rougher.state.floatbank10_b_air                     16807 non-null  float64\n",
      " 56  rougher.state.floatbank10_b_level                   16807 non-null  float64\n",
      " 57  rougher.state.floatbank10_c_air                     16807 non-null  float64\n",
      " 58  rougher.state.floatbank10_c_level                   16814 non-null  float64\n",
      " 59  rougher.state.floatbank10_d_air                     16802 non-null  float64\n",
      " 60  rougher.state.floatbank10_d_level                   16809 non-null  float64\n",
      " 61  rougher.state.floatbank10_e_air                     16257 non-null  float64\n",
      " 62  rougher.state.floatbank10_e_level                   16809 non-null  float64\n",
      " 63  rougher.state.floatbank10_f_air                     16802 non-null  float64\n",
      " 64  rougher.state.floatbank10_f_level                   16802 non-null  float64\n",
      " 65  secondary_cleaner.output.tail_ag                    16776 non-null  float64\n",
      " 66  secondary_cleaner.output.tail_pb                    16764 non-null  float64\n",
      " 67  secondary_cleaner.output.tail_sol                   14874 non-null  float64\n",
      " 68  secondary_cleaner.output.tail_au                    16778 non-null  float64\n",
      " 69  secondary_cleaner.state.floatbank2_a_air            16497 non-null  float64\n",
      " 70  secondary_cleaner.state.floatbank2_a_level          16751 non-null  float64\n",
      " 71  secondary_cleaner.state.floatbank2_b_air            16705 non-null  float64\n",
      " 72  secondary_cleaner.state.floatbank2_b_level          16748 non-null  float64\n",
      " 73  secondary_cleaner.state.floatbank3_a_air            16763 non-null  float64\n",
      " 74  secondary_cleaner.state.floatbank3_a_level          16747 non-null  float64\n",
      " 75  secondary_cleaner.state.floatbank3_b_air            16752 non-null  float64\n",
      " 76  secondary_cleaner.state.floatbank3_b_level          16750 non-null  float64\n",
      " 77  secondary_cleaner.state.floatbank4_a_air            16731 non-null  float64\n",
      " 78  secondary_cleaner.state.floatbank4_a_level          16747 non-null  float64\n",
      " 79  secondary_cleaner.state.floatbank4_b_air            16768 non-null  float64\n",
      " 80  secondary_cleaner.state.floatbank4_b_level          16767 non-null  float64\n",
      " 81  secondary_cleaner.state.floatbank5_a_air            16775 non-null  float64\n",
      " 82  secondary_cleaner.state.floatbank5_a_level          16775 non-null  float64\n",
      " 83  secondary_cleaner.state.floatbank5_b_air            16775 non-null  float64\n",
      " 84  secondary_cleaner.state.floatbank5_b_level          16776 non-null  float64\n",
      " 85  secondary_cleaner.state.floatbank6_a_air            16757 non-null  float64\n",
      " 86  secondary_cleaner.state.floatbank6_a_level          16775 non-null  float64\n",
      "dtypes: float64(86), object(1)\n",
      "memory usage: 12.3 MB\n"
     ]
    }
   ],
   "source": [
    "# examine the entire data, missing values, dtypes, real memory usage.\n",
    "train.info(memory_usage='deep')"
   ]
  },
  {
   "cell_type": "markdown",
   "metadata": {},
   "source": [
    "- we have all the columns from the source data.\n",
    "- we see that we have missing values in almost all of the columns.\n",
    "- 'date' needs to be changed to DateTime dtype."
   ]
  },
  {
   "cell_type": "code",
   "execution_count": 14,
   "metadata": {
    "scrolled": true
   },
   "outputs": [
    {
     "data": {
      "text/html": [
       "<style type=\"text/css\">\n",
       "</style>\n",
       "<table id=\"T_26da5\">\n",
       "  <thead>\n",
       "    <tr>\n",
       "      <th class=\"blank level0\" >&nbsp;</th>\n",
       "      <th id=\"T_26da5_level0_col0\" class=\"col_heading level0 col0\" >missing</th>\n",
       "      <th id=\"T_26da5_level0_col1\" class=\"col_heading level0 col1\" >total</th>\n",
       "      <th id=\"T_26da5_level0_col2\" class=\"col_heading level0 col2\" >percent</th>\n",
       "    </tr>\n",
       "  </thead>\n",
       "  <tbody>\n",
       "    <tr>\n",
       "      <th id=\"T_26da5_level0_row0\" class=\"row_heading level0 row0\" >rougher.output.recovery</th>\n",
       "      <td id=\"T_26da5_row0_col0\" class=\"data row0 col0\" >2,573</td>\n",
       "      <td id=\"T_26da5_row0_col1\" class=\"data row0 col1\" >16,860</td>\n",
       "      <td id=\"T_26da5_row0_col2\" class=\"data row0 col2\" >15.26%</td>\n",
       "    </tr>\n",
       "    <tr>\n",
       "      <th id=\"T_26da5_level0_row1\" class=\"row_heading level0 row1\" >rougher.output.tail_ag</th>\n",
       "      <td id=\"T_26da5_row1_col0\" class=\"data row1 col0\" >2,250</td>\n",
       "      <td id=\"T_26da5_row1_col1\" class=\"data row1 col1\" >16,860</td>\n",
       "      <td id=\"T_26da5_row1_col2\" class=\"data row1 col2\" >13.35%</td>\n",
       "    </tr>\n",
       "    <tr>\n",
       "      <th id=\"T_26da5_level0_row2\" class=\"row_heading level0 row2\" >rougher.output.tail_sol</th>\n",
       "      <td id=\"T_26da5_row2_col0\" class=\"data row2 col0\" >2,249</td>\n",
       "      <td id=\"T_26da5_row2_col1\" class=\"data row2 col1\" >16,860</td>\n",
       "      <td id=\"T_26da5_row2_col2\" class=\"data row2 col2\" >13.34%</td>\n",
       "    </tr>\n",
       "    <tr>\n",
       "      <th id=\"T_26da5_level0_row3\" class=\"row_heading level0 row3\" >rougher.output.tail_au</th>\n",
       "      <td id=\"T_26da5_row3_col0\" class=\"data row3 col0\" >2,249</td>\n",
       "      <td id=\"T_26da5_row3_col1\" class=\"data row3 col1\" >16,860</td>\n",
       "      <td id=\"T_26da5_row3_col2\" class=\"data row3 col2\" >13.34%</td>\n",
       "    </tr>\n",
       "    <tr>\n",
       "      <th id=\"T_26da5_level0_row4\" class=\"row_heading level0 row4\" >secondary_cleaner.output.tail_sol</th>\n",
       "      <td id=\"T_26da5_row4_col0\" class=\"data row4 col0\" >1,986</td>\n",
       "      <td id=\"T_26da5_row4_col1\" class=\"data row4 col1\" >16,860</td>\n",
       "      <td id=\"T_26da5_row4_col2\" class=\"data row4 col2\" >11.78%</td>\n",
       "    </tr>\n",
       "    <tr>\n",
       "      <th id=\"T_26da5_level0_row5\" class=\"row_heading level0 row5\" >rougher.input.floatbank11_xanthate</th>\n",
       "      <td id=\"T_26da5_row5_col0\" class=\"data row5 col0\" >1,904</td>\n",
       "      <td id=\"T_26da5_row5_col1\" class=\"data row5 col1\" >16,860</td>\n",
       "      <td id=\"T_26da5_row5_col2\" class=\"data row5 col2\" >11.29%</td>\n",
       "    </tr>\n",
       "    <tr>\n",
       "      <th id=\"T_26da5_level0_row6\" class=\"row_heading level0 row6\" >final.output.recovery</th>\n",
       "      <td id=\"T_26da5_row6_col0\" class=\"data row6 col0\" >1,521</td>\n",
       "      <td id=\"T_26da5_row6_col1\" class=\"data row6 col1\" >16,860</td>\n",
       "      <td id=\"T_26da5_row6_col2\" class=\"data row6 col2\" >9.02%</td>\n",
       "    </tr>\n",
       "    <tr>\n",
       "      <th id=\"T_26da5_level0_row7\" class=\"row_heading level0 row7\" >primary_cleaner.input.sulfate</th>\n",
       "      <td id=\"T_26da5_row7_col0\" class=\"data row7 col0\" >1,307</td>\n",
       "      <td id=\"T_26da5_row7_col1\" class=\"data row7 col1\" >16,860</td>\n",
       "      <td id=\"T_26da5_row7_col2\" class=\"data row7 col2\" >7.75%</td>\n",
       "    </tr>\n",
       "    <tr>\n",
       "      <th id=\"T_26da5_level0_row8\" class=\"row_heading level0 row8\" >primary_cleaner.input.depressant</th>\n",
       "      <td id=\"T_26da5_row8_col0\" class=\"data row8 col0\" >1,262</td>\n",
       "      <td id=\"T_26da5_row8_col1\" class=\"data row8 col1\" >16,860</td>\n",
       "      <td id=\"T_26da5_row8_col2\" class=\"data row8 col2\" >7.49%</td>\n",
       "    </tr>\n",
       "    <tr>\n",
       "      <th id=\"T_26da5_level0_row9\" class=\"row_heading level0 row9\" >rougher.calculation.au_pb_ratio</th>\n",
       "      <td id=\"T_26da5_row9_col0\" class=\"data row9 col0\" >1,242</td>\n",
       "      <td id=\"T_26da5_row9_col1\" class=\"data row9 col1\" >16,860</td>\n",
       "      <td id=\"T_26da5_row9_col2\" class=\"data row9 col2\" >7.37%</td>\n",
       "    </tr>\n",
       "    <tr>\n",
       "      <th id=\"T_26da5_level0_row10\" class=\"row_heading level0 row10\" >rougher.input.floatbank10_sulfate</th>\n",
       "      <td id=\"T_26da5_row10_col0\" class=\"data row10 col0\" >1,044</td>\n",
       "      <td id=\"T_26da5_row10_col1\" class=\"data row10 col1\" >16,860</td>\n",
       "      <td id=\"T_26da5_row10_col2\" class=\"data row10 col2\" >6.19%</td>\n",
       "    </tr>\n",
       "    <tr>\n",
       "      <th id=\"T_26da5_level0_row11\" class=\"row_heading level0 row11\" >primary_cleaner.input.xanthate</th>\n",
       "      <td id=\"T_26da5_row11_col0\" class=\"data row11 col0\" >985</td>\n",
       "      <td id=\"T_26da5_row11_col1\" class=\"data row11 col1\" >16,860</td>\n",
       "      <td id=\"T_26da5_row11_col2\" class=\"data row11 col2\" >5.84%</td>\n",
       "    </tr>\n",
       "    <tr>\n",
       "      <th id=\"T_26da5_level0_row12\" class=\"row_heading level0 row12\" >primary_cleaner.output.concentrate_sol</th>\n",
       "      <td id=\"T_26da5_row12_col0\" class=\"data row12 col0\" >636</td>\n",
       "      <td id=\"T_26da5_row12_col1\" class=\"data row12 col1\" >16,860</td>\n",
       "      <td id=\"T_26da5_row12_col2\" class=\"data row12 col2\" >3.77%</td>\n",
       "    </tr>\n",
       "    <tr>\n",
       "      <th id=\"T_26da5_level0_row13\" class=\"row_heading level0 row13\" >rougher.input.floatbank11_sulfate</th>\n",
       "      <td id=\"T_26da5_row13_col0\" class=\"data row13 col0\" >623</td>\n",
       "      <td id=\"T_26da5_row13_col1\" class=\"data row13 col1\" >16,860</td>\n",
       "      <td id=\"T_26da5_row13_col2\" class=\"data row13 col2\" >3.70%</td>\n",
       "    </tr>\n",
       "    <tr>\n",
       "      <th id=\"T_26da5_level0_row14\" class=\"row_heading level0 row14\" >rougher.state.floatbank10_e_air</th>\n",
       "      <td id=\"T_26da5_row14_col0\" class=\"data row14 col0\" >603</td>\n",
       "      <td id=\"T_26da5_row14_col1\" class=\"data row14 col1\" >16,860</td>\n",
       "      <td id=\"T_26da5_row14_col2\" class=\"data row14 col2\" >3.58%</td>\n",
       "    </tr>\n",
       "    <tr>\n",
       "      <th id=\"T_26da5_level0_row15\" class=\"row_heading level0 row15\" >rougher.input.feed_rate</th>\n",
       "      <td id=\"T_26da5_row15_col0\" class=\"data row15 col0\" >513</td>\n",
       "      <td id=\"T_26da5_row15_col1\" class=\"data row15 col1\" >16,860</td>\n",
       "      <td id=\"T_26da5_row15_col2\" class=\"data row15 col2\" >3.04%</td>\n",
       "    </tr>\n",
       "    <tr>\n",
       "      <th id=\"T_26da5_level0_row16\" class=\"row_heading level0 row16\" >rougher.input.feed_size</th>\n",
       "      <td id=\"T_26da5_row16_col0\" class=\"data row16 col0\" >417</td>\n",
       "      <td id=\"T_26da5_row16_col1\" class=\"data row16 col1\" >16,860</td>\n",
       "      <td id=\"T_26da5_row16_col2\" class=\"data row16 col2\" >2.47%</td>\n",
       "    </tr>\n",
       "    <tr>\n",
       "      <th id=\"T_26da5_level0_row17\" class=\"row_heading level0 row17\" >final.output.concentrate_sol</th>\n",
       "      <td id=\"T_26da5_row17_col0\" class=\"data row17 col0\" >370</td>\n",
       "      <td id=\"T_26da5_row17_col1\" class=\"data row17 col1\" >16,860</td>\n",
       "      <td id=\"T_26da5_row17_col2\" class=\"data row17 col2\" >2.19%</td>\n",
       "    </tr>\n",
       "    <tr>\n",
       "      <th id=\"T_26da5_level0_row18\" class=\"row_heading level0 row18\" >secondary_cleaner.state.floatbank2_a_air</th>\n",
       "      <td id=\"T_26da5_row18_col0\" class=\"data row18 col0\" >363</td>\n",
       "      <td id=\"T_26da5_row18_col1\" class=\"data row18 col1\" >16,860</td>\n",
       "      <td id=\"T_26da5_row18_col2\" class=\"data row18 col2\" >2.15%</td>\n",
       "    </tr>\n",
       "    <tr>\n",
       "      <th id=\"T_26da5_level0_row19\" class=\"row_heading level0 row19\" >primary_cleaner.output.concentrate_pb</th>\n",
       "      <td id=\"T_26da5_row19_col0\" class=\"data row19 col0\" >358</td>\n",
       "      <td id=\"T_26da5_row19_col1\" class=\"data row19 col1\" >16,860</td>\n",
       "      <td id=\"T_26da5_row19_col2\" class=\"data row19 col2\" >2.12%</td>\n",
       "    </tr>\n",
       "    <tr>\n",
       "      <th id=\"T_26da5_level0_row20\" class=\"row_heading level0 row20\" >rougher.input.floatbank10_xanthate</th>\n",
       "      <td id=\"T_26da5_row20_col0\" class=\"data row20 col0\" >346</td>\n",
       "      <td id=\"T_26da5_row20_col1\" class=\"data row20 col1\" >16,860</td>\n",
       "      <td id=\"T_26da5_row20_col2\" class=\"data row20 col2\" >2.05%</td>\n",
       "    </tr>\n",
       "    <tr>\n",
       "      <th id=\"T_26da5_level0_row21\" class=\"row_heading level0 row21\" >rougher.input.feed_sol</th>\n",
       "      <td id=\"T_26da5_row21_col0\" class=\"data row21 col0\" >292</td>\n",
       "      <td id=\"T_26da5_row21_col1\" class=\"data row21 col1\" >16,860</td>\n",
       "      <td id=\"T_26da5_row21_col2\" class=\"data row21 col2\" >1.73%</td>\n",
       "    </tr>\n",
       "    <tr>\n",
       "      <th id=\"T_26da5_level0_row22\" class=\"row_heading level0 row22\" >primary_cleaner.output.tail_sol</th>\n",
       "      <td id=\"T_26da5_row22_col0\" class=\"data row22 col0\" >281</td>\n",
       "      <td id=\"T_26da5_row22_col1\" class=\"data row22 col1\" >16,860</td>\n",
       "      <td id=\"T_26da5_row22_col2\" class=\"data row22 col2\" >1.67%</td>\n",
       "    </tr>\n",
       "    <tr>\n",
       "      <th id=\"T_26da5_level0_row23\" class=\"row_heading level0 row23\" >rougher.input.feed_pb</th>\n",
       "      <td id=\"T_26da5_row23_col0\" class=\"data row23 col0\" >228</td>\n",
       "      <td id=\"T_26da5_row23_col1\" class=\"data row23 col1\" >16,860</td>\n",
       "      <td id=\"T_26da5_row23_col2\" class=\"data row23 col2\" >1.35%</td>\n",
       "    </tr>\n",
       "    <tr>\n",
       "      <th id=\"T_26da5_level0_row24\" class=\"row_heading level0 row24\" >final.output.tail_pb</th>\n",
       "      <td id=\"T_26da5_row24_col0\" class=\"data row24 col0\" >183</td>\n",
       "      <td id=\"T_26da5_row24_col1\" class=\"data row24 col1\" >16,860</td>\n",
       "      <td id=\"T_26da5_row24_col2\" class=\"data row24 col2\" >1.09%</td>\n",
       "    </tr>\n",
       "    <tr>\n",
       "      <th id=\"T_26da5_level0_row25\" class=\"row_heading level0 row25\" >rougher.output.concentrate_sol</th>\n",
       "      <td id=\"T_26da5_row25_col0\" class=\"data row25 col0\" >162</td>\n",
       "      <td id=\"T_26da5_row25_col1\" class=\"data row25 col1\" >16,860</td>\n",
       "      <td id=\"T_26da5_row25_col2\" class=\"data row25 col2\" >0.96%</td>\n",
       "    </tr>\n",
       "    <tr>\n",
       "      <th id=\"T_26da5_level0_row26\" class=\"row_heading level0 row26\" >secondary_cleaner.state.floatbank2_b_air</th>\n",
       "      <td id=\"T_26da5_row26_col0\" class=\"data row26 col0\" >155</td>\n",
       "      <td id=\"T_26da5_row26_col1\" class=\"data row26 col1\" >16,860</td>\n",
       "      <td id=\"T_26da5_row26_col2\" class=\"data row26 col2\" >0.92%</td>\n",
       "    </tr>\n",
       "    <tr>\n",
       "      <th id=\"T_26da5_level0_row27\" class=\"row_heading level0 row27\" >final.output.tail_sol</th>\n",
       "      <td id=\"T_26da5_row27_col0\" class=\"data row27 col0\" >145</td>\n",
       "      <td id=\"T_26da5_row27_col1\" class=\"data row27 col1\" >16,860</td>\n",
       "      <td id=\"T_26da5_row27_col2\" class=\"data row27 col2\" >0.86%</td>\n",
       "    </tr>\n",
       "    <tr>\n",
       "      <th id=\"T_26da5_level0_row28\" class=\"row_heading level0 row28\" >secondary_cleaner.state.floatbank4_a_air</th>\n",
       "      <td id=\"T_26da5_row28_col0\" class=\"data row28 col0\" >129</td>\n",
       "      <td id=\"T_26da5_row28_col1\" class=\"data row28 col1\" >16,860</td>\n",
       "      <td id=\"T_26da5_row28_col2\" class=\"data row28 col2\" >0.77%</td>\n",
       "    </tr>\n",
       "    <tr>\n",
       "      <th id=\"T_26da5_level0_row29\" class=\"row_heading level0 row29\" >secondary_cleaner.state.floatbank3_a_level</th>\n",
       "      <td id=\"T_26da5_row29_col0\" class=\"data row29 col0\" >113</td>\n",
       "      <td id=\"T_26da5_row29_col1\" class=\"data row29 col1\" >16,860</td>\n",
       "      <td id=\"T_26da5_row29_col2\" class=\"data row29 col2\" >0.67%</td>\n",
       "    </tr>\n",
       "    <tr>\n",
       "      <th id=\"T_26da5_level0_row30\" class=\"row_heading level0 row30\" >secondary_cleaner.state.floatbank4_a_level</th>\n",
       "      <td id=\"T_26da5_row30_col0\" class=\"data row30 col0\" >113</td>\n",
       "      <td id=\"T_26da5_row30_col1\" class=\"data row30 col1\" >16,860</td>\n",
       "      <td id=\"T_26da5_row30_col2\" class=\"data row30 col2\" >0.67%</td>\n",
       "    </tr>\n",
       "    <tr>\n",
       "      <th id=\"T_26da5_level0_row31\" class=\"row_heading level0 row31\" >secondary_cleaner.state.floatbank2_b_level</th>\n",
       "      <td id=\"T_26da5_row31_col0\" class=\"data row31 col0\" >112</td>\n",
       "      <td id=\"T_26da5_row31_col1\" class=\"data row31 col1\" >16,860</td>\n",
       "      <td id=\"T_26da5_row31_col2\" class=\"data row31 col2\" >0.66%</td>\n",
       "    </tr>\n",
       "    <tr>\n",
       "      <th id=\"T_26da5_level0_row32\" class=\"row_heading level0 row32\" >secondary_cleaner.state.floatbank3_b_level</th>\n",
       "      <td id=\"T_26da5_row32_col0\" class=\"data row32 col0\" >110</td>\n",
       "      <td id=\"T_26da5_row32_col1\" class=\"data row32 col1\" >16,860</td>\n",
       "      <td id=\"T_26da5_row32_col2\" class=\"data row32 col2\" >0.65%</td>\n",
       "    </tr>\n",
       "    <tr>\n",
       "      <th id=\"T_26da5_level0_row33\" class=\"row_heading level0 row33\" >secondary_cleaner.state.floatbank2_a_level</th>\n",
       "      <td id=\"T_26da5_row33_col0\" class=\"data row33 col0\" >109</td>\n",
       "      <td id=\"T_26da5_row33_col1\" class=\"data row33 col1\" >16,860</td>\n",
       "      <td id=\"T_26da5_row33_col2\" class=\"data row33 col2\" >0.65%</td>\n",
       "    </tr>\n",
       "    <tr>\n",
       "      <th id=\"T_26da5_level0_row34\" class=\"row_heading level0 row34\" >secondary_cleaner.state.floatbank3_b_air</th>\n",
       "      <td id=\"T_26da5_row34_col0\" class=\"data row34 col0\" >108</td>\n",
       "      <td id=\"T_26da5_row34_col1\" class=\"data row34 col1\" >16,860</td>\n",
       "      <td id=\"T_26da5_row34_col2\" class=\"data row34 col2\" >0.64%</td>\n",
       "    </tr>\n",
       "    <tr>\n",
       "      <th id=\"T_26da5_level0_row35\" class=\"row_heading level0 row35\" >secondary_cleaner.state.floatbank6_a_air</th>\n",
       "      <td id=\"T_26da5_row35_col0\" class=\"data row35 col0\" >103</td>\n",
       "      <td id=\"T_26da5_row35_col1\" class=\"data row35 col1\" >16,860</td>\n",
       "      <td id=\"T_26da5_row35_col2\" class=\"data row35 col2\" >0.61%</td>\n",
       "    </tr>\n",
       "    <tr>\n",
       "      <th id=\"T_26da5_level0_row36\" class=\"row_heading level0 row36\" >primary_cleaner.output.tail_pb</th>\n",
       "      <td id=\"T_26da5_row36_col0\" class=\"data row36 col0\" >99</td>\n",
       "      <td id=\"T_26da5_row36_col1\" class=\"data row36 col1\" >16,860</td>\n",
       "      <td id=\"T_26da5_row36_col2\" class=\"data row36 col2\" >0.59%</td>\n",
       "    </tr>\n",
       "    <tr>\n",
       "      <th id=\"T_26da5_level0_row37\" class=\"row_heading level0 row37\" >secondary_cleaner.state.floatbank3_a_air</th>\n",
       "      <td id=\"T_26da5_row37_col0\" class=\"data row37 col0\" >97</td>\n",
       "      <td id=\"T_26da5_row37_col1\" class=\"data row37 col1\" >16,860</td>\n",
       "      <td id=\"T_26da5_row37_col2\" class=\"data row37 col2\" >0.58%</td>\n",
       "    </tr>\n",
       "    <tr>\n",
       "      <th id=\"T_26da5_level0_row38\" class=\"row_heading level0 row38\" >secondary_cleaner.output.tail_pb</th>\n",
       "      <td id=\"T_26da5_row38_col0\" class=\"data row38 col0\" >96</td>\n",
       "      <td id=\"T_26da5_row38_col1\" class=\"data row38 col1\" >16,860</td>\n",
       "      <td id=\"T_26da5_row38_col2\" class=\"data row38 col2\" >0.57%</td>\n",
       "    </tr>\n",
       "    <tr>\n",
       "      <th id=\"T_26da5_level0_row39\" class=\"row_heading level0 row39\" >secondary_cleaner.state.floatbank4_b_level</th>\n",
       "      <td id=\"T_26da5_row39_col0\" class=\"data row39 col0\" >93</td>\n",
       "      <td id=\"T_26da5_row39_col1\" class=\"data row39 col1\" >16,860</td>\n",
       "      <td id=\"T_26da5_row39_col2\" class=\"data row39 col2\" >0.55%</td>\n",
       "    </tr>\n",
       "    <tr>\n",
       "      <th id=\"T_26da5_level0_row40\" class=\"row_heading level0 row40\" >secondary_cleaner.state.floatbank4_b_air</th>\n",
       "      <td id=\"T_26da5_row40_col0\" class=\"data row40 col0\" >92</td>\n",
       "      <td id=\"T_26da5_row40_col1\" class=\"data row40 col1\" >16,860</td>\n",
       "      <td id=\"T_26da5_row40_col2\" class=\"data row40 col2\" >0.55%</td>\n",
       "    </tr>\n",
       "    <tr>\n",
       "      <th id=\"T_26da5_level0_row41\" class=\"row_heading level0 row41\" >secondary_cleaner.state.floatbank5_b_air</th>\n",
       "      <td id=\"T_26da5_row41_col0\" class=\"data row41 col0\" >85</td>\n",
       "      <td id=\"T_26da5_row41_col1\" class=\"data row41 col1\" >16,860</td>\n",
       "      <td id=\"T_26da5_row41_col2\" class=\"data row41 col2\" >0.50%</td>\n",
       "    </tr>\n",
       "    <tr>\n",
       "      <th id=\"T_26da5_level0_row42\" class=\"row_heading level0 row42\" >secondary_cleaner.state.floatbank5_a_air</th>\n",
       "      <td id=\"T_26da5_row42_col0\" class=\"data row42 col0\" >85</td>\n",
       "      <td id=\"T_26da5_row42_col1\" class=\"data row42 col1\" >16,860</td>\n",
       "      <td id=\"T_26da5_row42_col2\" class=\"data row42 col2\" >0.50%</td>\n",
       "    </tr>\n",
       "    <tr>\n",
       "      <th id=\"T_26da5_level0_row43\" class=\"row_heading level0 row43\" >secondary_cleaner.state.floatbank5_a_level</th>\n",
       "      <td id=\"T_26da5_row43_col0\" class=\"data row43 col0\" >85</td>\n",
       "      <td id=\"T_26da5_row43_col1\" class=\"data row43 col1\" >16,860</td>\n",
       "      <td id=\"T_26da5_row43_col2\" class=\"data row43 col2\" >0.50%</td>\n",
       "    </tr>\n",
       "    <tr>\n",
       "      <th id=\"T_26da5_level0_row44\" class=\"row_heading level0 row44\" >secondary_cleaner.state.floatbank6_a_level</th>\n",
       "      <td id=\"T_26da5_row44_col0\" class=\"data row44 col0\" >85</td>\n",
       "      <td id=\"T_26da5_row44_col1\" class=\"data row44 col1\" >16,860</td>\n",
       "      <td id=\"T_26da5_row44_col2\" class=\"data row44 col2\" >0.50%</td>\n",
       "    </tr>\n",
       "    <tr>\n",
       "      <th id=\"T_26da5_level0_row45\" class=\"row_heading level0 row45\" >secondary_cleaner.state.floatbank5_b_level</th>\n",
       "      <td id=\"T_26da5_row45_col0\" class=\"data row45 col0\" >84</td>\n",
       "      <td id=\"T_26da5_row45_col1\" class=\"data row45 col1\" >16,860</td>\n",
       "      <td id=\"T_26da5_row45_col2\" class=\"data row45 col2\" >0.50%</td>\n",
       "    </tr>\n",
       "    <tr>\n",
       "      <th id=\"T_26da5_level0_row46\" class=\"row_heading level0 row46\" >secondary_cleaner.output.tail_ag</th>\n",
       "      <td id=\"T_26da5_row46_col0\" class=\"data row46 col0\" >84</td>\n",
       "      <td id=\"T_26da5_row46_col1\" class=\"data row46 col1\" >16,860</td>\n",
       "      <td id=\"T_26da5_row46_col2\" class=\"data row46 col2\" >0.50%</td>\n",
       "    </tr>\n",
       "    <tr>\n",
       "      <th id=\"T_26da5_level0_row47\" class=\"row_heading level0 row47\" >primary_cleaner.output.tail_ag</th>\n",
       "      <td id=\"T_26da5_row47_col0\" class=\"data row47 col0\" >83</td>\n",
       "      <td id=\"T_26da5_row47_col1\" class=\"data row47 col1\" >16,860</td>\n",
       "      <td id=\"T_26da5_row47_col2\" class=\"data row47 col2\" >0.49%</td>\n",
       "    </tr>\n",
       "    <tr>\n",
       "      <th id=\"T_26da5_level0_row48\" class=\"row_heading level0 row48\" >primary_cleaner.output.tail_au</th>\n",
       "      <td id=\"T_26da5_row48_col0\" class=\"data row48 col0\" >83</td>\n",
       "      <td id=\"T_26da5_row48_col1\" class=\"data row48 col1\" >16,860</td>\n",
       "      <td id=\"T_26da5_row48_col2\" class=\"data row48 col2\" >0.49%</td>\n",
       "    </tr>\n",
       "    <tr>\n",
       "      <th id=\"T_26da5_level0_row49\" class=\"row_heading level0 row49\" >rougher.input.feed_au</th>\n",
       "      <td id=\"T_26da5_row49_col0\" class=\"data row49 col0\" >83</td>\n",
       "      <td id=\"T_26da5_row49_col1\" class=\"data row49 col1\" >16,860</td>\n",
       "      <td id=\"T_26da5_row49_col2\" class=\"data row49 col2\" >0.49%</td>\n",
       "    </tr>\n",
       "    <tr>\n",
       "      <th id=\"T_26da5_level0_row50\" class=\"row_heading level0 row50\" >rougher.output.concentrate_pb</th>\n",
       "      <td id=\"T_26da5_row50_col0\" class=\"data row50 col0\" >82</td>\n",
       "      <td id=\"T_26da5_row50_col1\" class=\"data row50 col1\" >16,860</td>\n",
       "      <td id=\"T_26da5_row50_col2\" class=\"data row50 col2\" >0.49%</td>\n",
       "    </tr>\n",
       "    <tr>\n",
       "      <th id=\"T_26da5_level0_row51\" class=\"row_heading level0 row51\" >secondary_cleaner.output.tail_au</th>\n",
       "      <td id=\"T_26da5_row51_col0\" class=\"data row51 col0\" >82</td>\n",
       "      <td id=\"T_26da5_row51_col1\" class=\"data row51 col1\" >16,860</td>\n",
       "      <td id=\"T_26da5_row51_col2\" class=\"data row51 col2\" >0.49%</td>\n",
       "    </tr>\n",
       "    <tr>\n",
       "      <th id=\"T_26da5_level0_row52\" class=\"row_heading level0 row52\" >rougher.output.concentrate_ag</th>\n",
       "      <td id=\"T_26da5_row52_col0\" class=\"data row52 col0\" >82</td>\n",
       "      <td id=\"T_26da5_row52_col1\" class=\"data row52 col1\" >16,860</td>\n",
       "      <td id=\"T_26da5_row52_col2\" class=\"data row52 col2\" >0.49%</td>\n",
       "    </tr>\n",
       "    <tr>\n",
       "      <th id=\"T_26da5_level0_row53\" class=\"row_heading level0 row53\" >primary_cleaner.output.concentrate_ag</th>\n",
       "      <td id=\"T_26da5_row53_col0\" class=\"data row53 col0\" >82</td>\n",
       "      <td id=\"T_26da5_row53_col1\" class=\"data row53 col1\" >16,860</td>\n",
       "      <td id=\"T_26da5_row53_col2\" class=\"data row53 col2\" >0.49%</td>\n",
       "    </tr>\n",
       "    <tr>\n",
       "      <th id=\"T_26da5_level0_row54\" class=\"row_heading level0 row54\" >primary_cleaner.output.concentrate_au</th>\n",
       "      <td id=\"T_26da5_row54_col0\" class=\"data row54 col0\" >82</td>\n",
       "      <td id=\"T_26da5_row54_col1\" class=\"data row54 col1\" >16,860</td>\n",
       "      <td id=\"T_26da5_row54_col2\" class=\"data row54 col2\" >0.49%</td>\n",
       "    </tr>\n",
       "    <tr>\n",
       "      <th id=\"T_26da5_level0_row55\" class=\"row_heading level0 row55\" >rougher.output.concentrate_au</th>\n",
       "      <td id=\"T_26da5_row55_col0\" class=\"data row55 col0\" >82</td>\n",
       "      <td id=\"T_26da5_row55_col1\" class=\"data row55 col1\" >16,860</td>\n",
       "      <td id=\"T_26da5_row55_col2\" class=\"data row55 col2\" >0.49%</td>\n",
       "    </tr>\n",
       "    <tr>\n",
       "      <th id=\"T_26da5_level0_row56\" class=\"row_heading level0 row56\" >rougher.output.tail_pb</th>\n",
       "      <td id=\"T_26da5_row56_col0\" class=\"data row56 col0\" >82</td>\n",
       "      <td id=\"T_26da5_row56_col1\" class=\"data row56 col1\" >16,860</td>\n",
       "      <td id=\"T_26da5_row56_col2\" class=\"data row56 col2\" >0.49%</td>\n",
       "    </tr>\n",
       "    <tr>\n",
       "      <th id=\"T_26da5_level0_row57\" class=\"row_heading level0 row57\" >rougher.input.feed_ag</th>\n",
       "      <td id=\"T_26da5_row57_col0\" class=\"data row57 col0\" >82</td>\n",
       "      <td id=\"T_26da5_row57_col1\" class=\"data row57 col1\" >16,860</td>\n",
       "      <td id=\"T_26da5_row57_col2\" class=\"data row57 col2\" >0.49%</td>\n",
       "    </tr>\n",
       "    <tr>\n",
       "      <th id=\"T_26da5_level0_row58\" class=\"row_heading level0 row58\" >final.output.concentrate_ag</th>\n",
       "      <td id=\"T_26da5_row58_col0\" class=\"data row58 col0\" >72</td>\n",
       "      <td id=\"T_26da5_row58_col1\" class=\"data row58 col1\" >16,860</td>\n",
       "      <td id=\"T_26da5_row58_col2\" class=\"data row58 col2\" >0.43%</td>\n",
       "    </tr>\n",
       "    <tr>\n",
       "      <th id=\"T_26da5_level0_row59\" class=\"row_heading level0 row59\" >final.output.concentrate_pb</th>\n",
       "      <td id=\"T_26da5_row59_col0\" class=\"data row59 col0\" >72</td>\n",
       "      <td id=\"T_26da5_row59_col1\" class=\"data row59 col1\" >16,860</td>\n",
       "      <td id=\"T_26da5_row59_col2\" class=\"data row59 col2\" >0.43%</td>\n",
       "    </tr>\n",
       "    <tr>\n",
       "      <th id=\"T_26da5_level0_row60\" class=\"row_heading level0 row60\" >final.output.concentrate_au</th>\n",
       "      <td id=\"T_26da5_row60_col0\" class=\"data row60 col0\" >71</td>\n",
       "      <td id=\"T_26da5_row60_col1\" class=\"data row60 col1\" >16,860</td>\n",
       "      <td id=\"T_26da5_row60_col2\" class=\"data row60 col2\" >0.42%</td>\n",
       "    </tr>\n",
       "    <tr>\n",
       "      <th id=\"T_26da5_level0_row61\" class=\"row_heading level0 row61\" >final.output.tail_au</th>\n",
       "      <td id=\"T_26da5_row61_col0\" class=\"data row61 col0\" >66</td>\n",
       "      <td id=\"T_26da5_row61_col1\" class=\"data row61 col1\" >16,860</td>\n",
       "      <td id=\"T_26da5_row61_col2\" class=\"data row61 col2\" >0.39%</td>\n",
       "    </tr>\n",
       "    <tr>\n",
       "      <th id=\"T_26da5_level0_row62\" class=\"row_heading level0 row62\" >final.output.tail_ag</th>\n",
       "      <td id=\"T_26da5_row62_col0\" class=\"data row62 col0\" >66</td>\n",
       "      <td id=\"T_26da5_row62_col1\" class=\"data row62 col1\" >16,860</td>\n",
       "      <td id=\"T_26da5_row62_col2\" class=\"data row62 col2\" >0.39%</td>\n",
       "    </tr>\n",
       "    <tr>\n",
       "      <th id=\"T_26da5_level0_row63\" class=\"row_heading level0 row63\" >rougher.state.floatbank10_d_air</th>\n",
       "      <td id=\"T_26da5_row63_col0\" class=\"data row63 col0\" >58</td>\n",
       "      <td id=\"T_26da5_row63_col1\" class=\"data row63 col1\" >16,860</td>\n",
       "      <td id=\"T_26da5_row63_col2\" class=\"data row63 col2\" >0.34%</td>\n",
       "    </tr>\n",
       "    <tr>\n",
       "      <th id=\"T_26da5_level0_row64\" class=\"row_heading level0 row64\" >rougher.state.floatbank10_f_air</th>\n",
       "      <td id=\"T_26da5_row64_col0\" class=\"data row64 col0\" >58</td>\n",
       "      <td id=\"T_26da5_row64_col1\" class=\"data row64 col1\" >16,860</td>\n",
       "      <td id=\"T_26da5_row64_col2\" class=\"data row64 col2\" >0.34%</td>\n",
       "    </tr>\n",
       "    <tr>\n",
       "      <th id=\"T_26da5_level0_row65\" class=\"row_heading level0 row65\" >rougher.state.floatbank10_f_level</th>\n",
       "      <td id=\"T_26da5_row65_col0\" class=\"data row65 col0\" >58</td>\n",
       "      <td id=\"T_26da5_row65_col1\" class=\"data row65 col1\" >16,860</td>\n",
       "      <td id=\"T_26da5_row65_col2\" class=\"data row65 col2\" >0.34%</td>\n",
       "    </tr>\n",
       "    <tr>\n",
       "      <th id=\"T_26da5_level0_row66\" class=\"row_heading level0 row66\" >rougher.state.floatbank10_b_level</th>\n",
       "      <td id=\"T_26da5_row66_col0\" class=\"data row66 col0\" >53</td>\n",
       "      <td id=\"T_26da5_row66_col1\" class=\"data row66 col1\" >16,860</td>\n",
       "      <td id=\"T_26da5_row66_col2\" class=\"data row66 col2\" >0.31%</td>\n",
       "    </tr>\n",
       "    <tr>\n",
       "      <th id=\"T_26da5_level0_row67\" class=\"row_heading level0 row67\" >rougher.state.floatbank10_b_air</th>\n",
       "      <td id=\"T_26da5_row67_col0\" class=\"data row67 col0\" >53</td>\n",
       "      <td id=\"T_26da5_row67_col1\" class=\"data row67 col1\" >16,860</td>\n",
       "      <td id=\"T_26da5_row67_col2\" class=\"data row67 col2\" >0.31%</td>\n",
       "    </tr>\n",
       "    <tr>\n",
       "      <th id=\"T_26da5_level0_row68\" class=\"row_heading level0 row68\" >rougher.state.floatbank10_a_air</th>\n",
       "      <td id=\"T_26da5_row68_col0\" class=\"data row68 col0\" >53</td>\n",
       "      <td id=\"T_26da5_row68_col1\" class=\"data row68 col1\" >16,860</td>\n",
       "      <td id=\"T_26da5_row68_col2\" class=\"data row68 col2\" >0.31%</td>\n",
       "    </tr>\n",
       "    <tr>\n",
       "      <th id=\"T_26da5_level0_row69\" class=\"row_heading level0 row69\" >rougher.state.floatbank10_a_level</th>\n",
       "      <td id=\"T_26da5_row69_col0\" class=\"data row69 col0\" >53</td>\n",
       "      <td id=\"T_26da5_row69_col1\" class=\"data row69 col1\" >16,860</td>\n",
       "      <td id=\"T_26da5_row69_col2\" class=\"data row69 col2\" >0.31%</td>\n",
       "    </tr>\n",
       "    <tr>\n",
       "      <th id=\"T_26da5_level0_row70\" class=\"row_heading level0 row70\" >rougher.state.floatbank10_c_air</th>\n",
       "      <td id=\"T_26da5_row70_col0\" class=\"data row70 col0\" >53</td>\n",
       "      <td id=\"T_26da5_row70_col1\" class=\"data row70 col1\" >16,860</td>\n",
       "      <td id=\"T_26da5_row70_col2\" class=\"data row70 col2\" >0.31%</td>\n",
       "    </tr>\n",
       "    <tr>\n",
       "      <th id=\"T_26da5_level0_row71\" class=\"row_heading level0 row71\" >rougher.state.floatbank10_d_level</th>\n",
       "      <td id=\"T_26da5_row71_col0\" class=\"data row71 col0\" >51</td>\n",
       "      <td id=\"T_26da5_row71_col1\" class=\"data row71 col1\" >16,860</td>\n",
       "      <td id=\"T_26da5_row71_col2\" class=\"data row71 col2\" >0.30%</td>\n",
       "    </tr>\n",
       "    <tr>\n",
       "      <th id=\"T_26da5_level0_row72\" class=\"row_heading level0 row72\" >rougher.state.floatbank10_e_level</th>\n",
       "      <td id=\"T_26da5_row72_col0\" class=\"data row72 col0\" >51</td>\n",
       "      <td id=\"T_26da5_row72_col1\" class=\"data row72 col1\" >16,860</td>\n",
       "      <td id=\"T_26da5_row72_col2\" class=\"data row72 col2\" >0.30%</td>\n",
       "    </tr>\n",
       "    <tr>\n",
       "      <th id=\"T_26da5_level0_row73\" class=\"row_heading level0 row73\" >rougher.state.floatbank10_c_level</th>\n",
       "      <td id=\"T_26da5_row73_col0\" class=\"data row73 col0\" >46</td>\n",
       "      <td id=\"T_26da5_row73_col1\" class=\"data row73 col1\" >16,860</td>\n",
       "      <td id=\"T_26da5_row73_col2\" class=\"data row73 col2\" >0.27%</td>\n",
       "    </tr>\n",
       "    <tr>\n",
       "      <th id=\"T_26da5_level0_row74\" class=\"row_heading level0 row74\" >primary_cleaner.state.floatbank8_b_air</th>\n",
       "      <td id=\"T_26da5_row74_col0\" class=\"data row74 col0\" >40</td>\n",
       "      <td id=\"T_26da5_row74_col1\" class=\"data row74 col1\" >16,860</td>\n",
       "      <td id=\"T_26da5_row74_col2\" class=\"data row74 col2\" >0.24%</td>\n",
       "    </tr>\n",
       "    <tr>\n",
       "      <th id=\"T_26da5_level0_row75\" class=\"row_heading level0 row75\" >primary_cleaner.state.floatbank8_a_air</th>\n",
       "      <td id=\"T_26da5_row75_col0\" class=\"data row75 col0\" >40</td>\n",
       "      <td id=\"T_26da5_row75_col1\" class=\"data row75 col1\" >16,860</td>\n",
       "      <td id=\"T_26da5_row75_col2\" class=\"data row75 col2\" >0.24%</td>\n",
       "    </tr>\n",
       "    <tr>\n",
       "      <th id=\"T_26da5_level0_row76\" class=\"row_heading level0 row76\" >primary_cleaner.state.floatbank8_d_air</th>\n",
       "      <td id=\"T_26da5_row76_col0\" class=\"data row76 col0\" >39</td>\n",
       "      <td id=\"T_26da5_row76_col1\" class=\"data row76 col1\" >16,860</td>\n",
       "      <td id=\"T_26da5_row76_col2\" class=\"data row76 col2\" >0.23%</td>\n",
       "    </tr>\n",
       "    <tr>\n",
       "      <th id=\"T_26da5_level0_row77\" class=\"row_heading level0 row77\" >primary_cleaner.state.floatbank8_c_air</th>\n",
       "      <td id=\"T_26da5_row77_col0\" class=\"data row77 col0\" >38</td>\n",
       "      <td id=\"T_26da5_row77_col1\" class=\"data row77 col1\" >16,860</td>\n",
       "      <td id=\"T_26da5_row77_col2\" class=\"data row77 col2\" >0.23%</td>\n",
       "    </tr>\n",
       "    <tr>\n",
       "      <th id=\"T_26da5_level0_row78\" class=\"row_heading level0 row78\" >primary_cleaner.state.floatbank8_a_level</th>\n",
       "      <td id=\"T_26da5_row78_col0\" class=\"data row78 col0\" >33</td>\n",
       "      <td id=\"T_26da5_row78_col1\" class=\"data row78 col1\" >16,860</td>\n",
       "      <td id=\"T_26da5_row78_col2\" class=\"data row78 col2\" >0.20%</td>\n",
       "    </tr>\n",
       "    <tr>\n",
       "      <th id=\"T_26da5_level0_row79\" class=\"row_heading level0 row79\" >rougher.calculation.sulfate_to_au_concentrate</th>\n",
       "      <td id=\"T_26da5_row79_col0\" class=\"data row79 col0\" >27</td>\n",
       "      <td id=\"T_26da5_row79_col1\" class=\"data row79 col1\" >16,860</td>\n",
       "      <td id=\"T_26da5_row79_col2\" class=\"data row79 col2\" >0.16%</td>\n",
       "    </tr>\n",
       "    <tr>\n",
       "      <th id=\"T_26da5_level0_row80\" class=\"row_heading level0 row80\" >primary_cleaner.state.floatbank8_b_level</th>\n",
       "      <td id=\"T_26da5_row80_col0\" class=\"data row80 col0\" >27</td>\n",
       "      <td id=\"T_26da5_row80_col1\" class=\"data row80 col1\" >16,860</td>\n",
       "      <td id=\"T_26da5_row80_col2\" class=\"data row80 col2\" >0.16%</td>\n",
       "    </tr>\n",
       "    <tr>\n",
       "      <th id=\"T_26da5_level0_row81\" class=\"row_heading level0 row81\" >primary_cleaner.state.floatbank8_c_level</th>\n",
       "      <td id=\"T_26da5_row81_col0\" class=\"data row81 col0\" >27</td>\n",
       "      <td id=\"T_26da5_row81_col1\" class=\"data row81 col1\" >16,860</td>\n",
       "      <td id=\"T_26da5_row81_col2\" class=\"data row81 col2\" >0.16%</td>\n",
       "    </tr>\n",
       "    <tr>\n",
       "      <th id=\"T_26da5_level0_row82\" class=\"row_heading level0 row82\" >primary_cleaner.state.floatbank8_d_level</th>\n",
       "      <td id=\"T_26da5_row82_col0\" class=\"data row82 col0\" >27</td>\n",
       "      <td id=\"T_26da5_row82_col1\" class=\"data row82 col1\" >16,860</td>\n",
       "      <td id=\"T_26da5_row82_col2\" class=\"data row82 col2\" >0.16%</td>\n",
       "    </tr>\n",
       "    <tr>\n",
       "      <th id=\"T_26da5_level0_row83\" class=\"row_heading level0 row83\" >rougher.calculation.floatbank10_sulfate_to_au_feed</th>\n",
       "      <td id=\"T_26da5_row83_col0\" class=\"data row83 col0\" >27</td>\n",
       "      <td id=\"T_26da5_row83_col1\" class=\"data row83 col1\" >16,860</td>\n",
       "      <td id=\"T_26da5_row83_col2\" class=\"data row83 col2\" >0.16%</td>\n",
       "    </tr>\n",
       "    <tr>\n",
       "      <th id=\"T_26da5_level0_row84\" class=\"row_heading level0 row84\" >rougher.calculation.floatbank11_sulfate_to_au_feed</th>\n",
       "      <td id=\"T_26da5_row84_col0\" class=\"data row84 col0\" >27</td>\n",
       "      <td id=\"T_26da5_row84_col1\" class=\"data row84 col1\" >16,860</td>\n",
       "      <td id=\"T_26da5_row84_col2\" class=\"data row84 col2\" >0.16%</td>\n",
       "    </tr>\n",
       "    <tr>\n",
       "      <th id=\"T_26da5_level0_row85\" class=\"row_heading level0 row85\" >primary_cleaner.input.feed_size</th>\n",
       "      <td id=\"T_26da5_row85_col0\" class=\"data row85 col0\" >0</td>\n",
       "      <td id=\"T_26da5_row85_col1\" class=\"data row85 col1\" >16,860</td>\n",
       "      <td id=\"T_26da5_row85_col2\" class=\"data row85 col2\" >0.00%</td>\n",
       "    </tr>\n",
       "    <tr>\n",
       "      <th id=\"T_26da5_level0_row86\" class=\"row_heading level0 row86\" >date</th>\n",
       "      <td id=\"T_26da5_row86_col0\" class=\"data row86 col0\" >0</td>\n",
       "      <td id=\"T_26da5_row86_col1\" class=\"data row86 col1\" >16,860</td>\n",
       "      <td id=\"T_26da5_row86_col2\" class=\"data row86 col2\" >0.00%</td>\n",
       "    </tr>\n",
       "  </tbody>\n",
       "</table>\n"
      ],
      "text/plain": [
       "<pandas.io.formats.style.Styler at 0x7fc9148121c0>"
      ]
     },
     "execution_count": 14,
     "metadata": {},
     "output_type": "execute_result"
    }
   ],
   "source": [
    "# Looking at the missing values in the data.\n",
    "train.stb.missing(style=True)"
   ]
  },
  {
   "cell_type": "markdown",
   "metadata": {},
   "source": [
    "- We have the most missing values in one of our targets 'rougher.output.recovery', 15% is missing. the column expresses a calculation of a number of factors (like rougher.output.tail) that have missing values too and that is the cause for the missing values in our target.\n",
    "- 'final.output.recovery' has missing values too, 9% is missing.\n",
    "- The slight increase in missing values is probably due to the total number of rows being smaller while retaining most of the missing values in the source data.\n",
    "- All columns have missing values, except 2 ('primary_cleaner.input.feed_size' and 'date')."
   ]
  },
  {
   "cell_type": "code",
   "execution_count": 15,
   "metadata": {},
   "outputs": [
    {
     "data": {
      "text/html": [
       "<div>\n",
       "<style scoped>\n",
       "    .dataframe tbody tr th:only-of-type {\n",
       "        vertical-align: middle;\n",
       "    }\n",
       "\n",
       "    .dataframe tbody tr th {\n",
       "        vertical-align: top;\n",
       "    }\n",
       "\n",
       "    .dataframe thead th {\n",
       "        text-align: right;\n",
       "    }\n",
       "</style>\n",
       "<table border=\"1\" class=\"dataframe\">\n",
       "  <thead>\n",
       "    <tr style=\"text-align: right;\">\n",
       "      <th></th>\n",
       "      <th>date</th>\n",
       "      <th>final.output.concentrate_ag</th>\n",
       "      <th>final.output.concentrate_pb</th>\n",
       "      <th>final.output.concentrate_sol</th>\n",
       "      <th>final.output.concentrate_au</th>\n",
       "      <th>final.output.recovery</th>\n",
       "      <th>final.output.tail_ag</th>\n",
       "      <th>final.output.tail_pb</th>\n",
       "      <th>final.output.tail_sol</th>\n",
       "      <th>final.output.tail_au</th>\n",
       "      <th>...</th>\n",
       "      <th>secondary_cleaner.state.floatbank4_a_air</th>\n",
       "      <th>secondary_cleaner.state.floatbank4_a_level</th>\n",
       "      <th>secondary_cleaner.state.floatbank4_b_air</th>\n",
       "      <th>secondary_cleaner.state.floatbank4_b_level</th>\n",
       "      <th>secondary_cleaner.state.floatbank5_a_air</th>\n",
       "      <th>secondary_cleaner.state.floatbank5_a_level</th>\n",
       "      <th>secondary_cleaner.state.floatbank5_b_air</th>\n",
       "      <th>secondary_cleaner.state.floatbank5_b_level</th>\n",
       "      <th>secondary_cleaner.state.floatbank6_a_air</th>\n",
       "      <th>secondary_cleaner.state.floatbank6_a_level</th>\n",
       "    </tr>\n",
       "  </thead>\n",
       "  <tbody>\n",
       "    <tr>\n",
       "      <th>15370</th>\n",
       "      <td>2018-06-17 09:59:59</td>\n",
       "      <td>3.610</td>\n",
       "      <td>12.455</td>\n",
       "      <td>6.899</td>\n",
       "      <td>45.274</td>\n",
       "      <td>62.752</td>\n",
       "      <td>7.986</td>\n",
       "      <td>3.170</td>\n",
       "      <td>10.180</td>\n",
       "      <td>2.267</td>\n",
       "      <td>...</td>\n",
       "      <td>27.014</td>\n",
       "      <td>-500.635</td>\n",
       "      <td>19.982</td>\n",
       "      <td>-506.048</td>\n",
       "      <td>18.004</td>\n",
       "      <td>-499.941</td>\n",
       "      <td>13.980</td>\n",
       "      <td>-500.034</td>\n",
       "      <td>13.984</td>\n",
       "      <td>-499.896</td>\n",
       "    </tr>\n",
       "    <tr>\n",
       "      <th>13882</th>\n",
       "      <td>2018-04-16 09:59:59</td>\n",
       "      <td>6.381</td>\n",
       "      <td>9.719</td>\n",
       "      <td>9.420</td>\n",
       "      <td>44.142</td>\n",
       "      <td>87.646</td>\n",
       "      <td>6.688</td>\n",
       "      <td>0.902</td>\n",
       "      <td>4.211</td>\n",
       "      <td>0.990</td>\n",
       "      <td>...</td>\n",
       "      <td>26.972</td>\n",
       "      <td>-501.341</td>\n",
       "      <td>19.971</td>\n",
       "      <td>-499.769</td>\n",
       "      <td>17.941</td>\n",
       "      <td>-502.289</td>\n",
       "      <td>11.983</td>\n",
       "      <td>-500.051</td>\n",
       "      <td>14.960</td>\n",
       "      <td>-497.756</td>\n",
       "    </tr>\n",
       "    <tr>\n",
       "      <th>14390</th>\n",
       "      <td>2018-05-07 13:59:59</td>\n",
       "      <td>4.761</td>\n",
       "      <td>10.750</td>\n",
       "      <td>6.899</td>\n",
       "      <td>44.906</td>\n",
       "      <td>72.479</td>\n",
       "      <td>8.853</td>\n",
       "      <td>2.076</td>\n",
       "      <td>9.640</td>\n",
       "      <td>2.047</td>\n",
       "      <td>...</td>\n",
       "      <td>29.924</td>\n",
       "      <td>-498.381</td>\n",
       "      <td>19.860</td>\n",
       "      <td>-500.480</td>\n",
       "      <td>24.967</td>\n",
       "      <td>-499.539</td>\n",
       "      <td>22.987</td>\n",
       "      <td>-499.666</td>\n",
       "      <td>24.994</td>\n",
       "      <td>-499.110</td>\n",
       "    </tr>\n",
       "    <tr>\n",
       "      <th>8207</th>\n",
       "      <td>2017-04-22 22:59:59</td>\n",
       "      <td>5.593</td>\n",
       "      <td>11.088</td>\n",
       "      <td>9.317</td>\n",
       "      <td>43.032</td>\n",
       "      <td>69.116</td>\n",
       "      <td>8.316</td>\n",
       "      <td>2.681</td>\n",
       "      <td>10.086</td>\n",
       "      <td>2.413</td>\n",
       "      <td>...</td>\n",
       "      <td>25.022</td>\n",
       "      <td>-398.535</td>\n",
       "      <td>22.986</td>\n",
       "      <td>-398.725</td>\n",
       "      <td>25.990</td>\n",
       "      <td>-449.006</td>\n",
       "      <td>23.999</td>\n",
       "      <td>-449.944</td>\n",
       "      <td>29.980</td>\n",
       "      <td>-499.423</td>\n",
       "    </tr>\n",
       "    <tr>\n",
       "      <th>16677</th>\n",
       "      <td>2018-08-10 20:59:59</td>\n",
       "      <td>1.403</td>\n",
       "      <td>3.309</td>\n",
       "      <td>3.787</td>\n",
       "      <td>17.185</td>\n",
       "      <td>69.194</td>\n",
       "      <td>10.199</td>\n",
       "      <td>1.905</td>\n",
       "      <td>7.166</td>\n",
       "      <td>1.859</td>\n",
       "      <td>...</td>\n",
       "      <td>27.011</td>\n",
       "      <td>-501.583</td>\n",
       "      <td>23.003</td>\n",
       "      <td>-500.461</td>\n",
       "      <td>20.002</td>\n",
       "      <td>-501.380</td>\n",
       "      <td>15.012</td>\n",
       "      <td>-500.191</td>\n",
       "      <td>22.960</td>\n",
       "      <td>-795.549</td>\n",
       "    </tr>\n",
       "  </tbody>\n",
       "</table>\n",
       "<p>5 rows × 87 columns</p>\n",
       "</div>"
      ],
      "text/plain": [
       "                      date  final.output.concentrate_ag  \\\n",
       "15370  2018-06-17 09:59:59                        3.610   \n",
       "13882  2018-04-16 09:59:59                        6.381   \n",
       "14390  2018-05-07 13:59:59                        4.761   \n",
       "8207   2017-04-22 22:59:59                        5.593   \n",
       "16677  2018-08-10 20:59:59                        1.403   \n",
       "\n",
       "       final.output.concentrate_pb  final.output.concentrate_sol  \\\n",
       "15370                       12.455                         6.899   \n",
       "13882                        9.719                         9.420   \n",
       "14390                       10.750                         6.899   \n",
       "8207                        11.088                         9.317   \n",
       "16677                        3.309                         3.787   \n",
       "\n",
       "       final.output.concentrate_au  final.output.recovery  \\\n",
       "15370                       45.274                 62.752   \n",
       "13882                       44.142                 87.646   \n",
       "14390                       44.906                 72.479   \n",
       "8207                        43.032                 69.116   \n",
       "16677                       17.185                 69.194   \n",
       "\n",
       "       final.output.tail_ag  final.output.tail_pb  final.output.tail_sol  \\\n",
       "15370                 7.986                 3.170                 10.180   \n",
       "13882                 6.688                 0.902                  4.211   \n",
       "14390                 8.853                 2.076                  9.640   \n",
       "8207                  8.316                 2.681                 10.086   \n",
       "16677                10.199                 1.905                  7.166   \n",
       "\n",
       "       final.output.tail_au  ...  secondary_cleaner.state.floatbank4_a_air  \\\n",
       "15370                 2.267  ...                                    27.014   \n",
       "13882                 0.990  ...                                    26.972   \n",
       "14390                 2.047  ...                                    29.924   \n",
       "8207                  2.413  ...                                    25.022   \n",
       "16677                 1.859  ...                                    27.011   \n",
       "\n",
       "       secondary_cleaner.state.floatbank4_a_level  \\\n",
       "15370                                    -500.635   \n",
       "13882                                    -501.341   \n",
       "14390                                    -498.381   \n",
       "8207                                     -398.535   \n",
       "16677                                    -501.583   \n",
       "\n",
       "       secondary_cleaner.state.floatbank4_b_air  \\\n",
       "15370                                    19.982   \n",
       "13882                                    19.971   \n",
       "14390                                    19.860   \n",
       "8207                                     22.986   \n",
       "16677                                    23.003   \n",
       "\n",
       "       secondary_cleaner.state.floatbank4_b_level  \\\n",
       "15370                                    -506.048   \n",
       "13882                                    -499.769   \n",
       "14390                                    -500.480   \n",
       "8207                                     -398.725   \n",
       "16677                                    -500.461   \n",
       "\n",
       "       secondary_cleaner.state.floatbank5_a_air  \\\n",
       "15370                                    18.004   \n",
       "13882                                    17.941   \n",
       "14390                                    24.967   \n",
       "8207                                     25.990   \n",
       "16677                                    20.002   \n",
       "\n",
       "       secondary_cleaner.state.floatbank5_a_level  \\\n",
       "15370                                    -499.941   \n",
       "13882                                    -502.289   \n",
       "14390                                    -499.539   \n",
       "8207                                     -449.006   \n",
       "16677                                    -501.380   \n",
       "\n",
       "       secondary_cleaner.state.floatbank5_b_air  \\\n",
       "15370                                    13.980   \n",
       "13882                                    11.983   \n",
       "14390                                    22.987   \n",
       "8207                                     23.999   \n",
       "16677                                    15.012   \n",
       "\n",
       "       secondary_cleaner.state.floatbank5_b_level  \\\n",
       "15370                                    -500.034   \n",
       "13882                                    -500.051   \n",
       "14390                                    -499.666   \n",
       "8207                                     -449.944   \n",
       "16677                                    -500.191   \n",
       "\n",
       "       secondary_cleaner.state.floatbank6_a_air  \\\n",
       "15370                                    13.984   \n",
       "13882                                    14.960   \n",
       "14390                                    24.994   \n",
       "8207                                     29.980   \n",
       "16677                                    22.960   \n",
       "\n",
       "       secondary_cleaner.state.floatbank6_a_level  \n",
       "15370                                    -499.896  \n",
       "13882                                    -497.756  \n",
       "14390                                    -499.110  \n",
       "8207                                     -499.423  \n",
       "16677                                    -795.549  \n",
       "\n",
       "[5 rows x 87 columns]"
      ]
     },
     "execution_count": 15,
     "metadata": {},
     "output_type": "execute_result"
    }
   ],
   "source": [
    "# Printing 5 rows randomly from the dataset to examine the data.\n",
    "train.sample(5)"
   ]
  },
  {
   "cell_type": "code",
   "execution_count": 16,
   "metadata": {
    "scrolled": true
   },
   "outputs": [
    {
     "data": {
      "text/html": [
       "<div>\n",
       "<style scoped>\n",
       "    .dataframe tbody tr th:only-of-type {\n",
       "        vertical-align: middle;\n",
       "    }\n",
       "\n",
       "    .dataframe tbody tr th {\n",
       "        vertical-align: top;\n",
       "    }\n",
       "\n",
       "    .dataframe thead th {\n",
       "        text-align: right;\n",
       "    }\n",
       "</style>\n",
       "<table border=\"1\" class=\"dataframe\">\n",
       "  <thead>\n",
       "    <tr style=\"text-align: right;\">\n",
       "      <th></th>\n",
       "      <th>final.output.concentrate_ag</th>\n",
       "      <th>final.output.concentrate_pb</th>\n",
       "      <th>final.output.concentrate_sol</th>\n",
       "      <th>final.output.concentrate_au</th>\n",
       "      <th>final.output.recovery</th>\n",
       "      <th>final.output.tail_ag</th>\n",
       "      <th>final.output.tail_pb</th>\n",
       "      <th>final.output.tail_sol</th>\n",
       "      <th>final.output.tail_au</th>\n",
       "      <th>primary_cleaner.input.sulfate</th>\n",
       "      <th>...</th>\n",
       "      <th>secondary_cleaner.state.floatbank4_a_air</th>\n",
       "      <th>secondary_cleaner.state.floatbank4_a_level</th>\n",
       "      <th>secondary_cleaner.state.floatbank4_b_air</th>\n",
       "      <th>secondary_cleaner.state.floatbank4_b_level</th>\n",
       "      <th>secondary_cleaner.state.floatbank5_a_air</th>\n",
       "      <th>secondary_cleaner.state.floatbank5_a_level</th>\n",
       "      <th>secondary_cleaner.state.floatbank5_b_air</th>\n",
       "      <th>secondary_cleaner.state.floatbank5_b_level</th>\n",
       "      <th>secondary_cleaner.state.floatbank6_a_air</th>\n",
       "      <th>secondary_cleaner.state.floatbank6_a_level</th>\n",
       "    </tr>\n",
       "  </thead>\n",
       "  <tbody>\n",
       "    <tr>\n",
       "      <th>count</th>\n",
       "      <td>16788.000</td>\n",
       "      <td>16788.000</td>\n",
       "      <td>16490.000</td>\n",
       "      <td>16789.000</td>\n",
       "      <td>15339.000</td>\n",
       "      <td>16794.000</td>\n",
       "      <td>16677.000</td>\n",
       "      <td>16715.000</td>\n",
       "      <td>16794.000</td>\n",
       "      <td>15553.000</td>\n",
       "      <td>...</td>\n",
       "      <td>16731.000</td>\n",
       "      <td>16747.000</td>\n",
       "      <td>16768.000</td>\n",
       "      <td>16767.000</td>\n",
       "      <td>16775.000</td>\n",
       "      <td>16775.000</td>\n",
       "      <td>16775.000</td>\n",
       "      <td>16776.000</td>\n",
       "      <td>16757.000</td>\n",
       "      <td>16775.000</td>\n",
       "    </tr>\n",
       "    <tr>\n",
       "      <th>mean</th>\n",
       "      <td>4.717</td>\n",
       "      <td>9.114</td>\n",
       "      <td>8.301</td>\n",
       "      <td>39.467</td>\n",
       "      <td>67.213</td>\n",
       "      <td>8.757</td>\n",
       "      <td>2.360</td>\n",
       "      <td>9.304</td>\n",
       "      <td>2.688</td>\n",
       "      <td>129.480</td>\n",
       "      <td>...</td>\n",
       "      <td>19.102</td>\n",
       "      <td>-494.164</td>\n",
       "      <td>14.778</td>\n",
       "      <td>-476.600</td>\n",
       "      <td>15.779</td>\n",
       "      <td>-500.230</td>\n",
       "      <td>12.377</td>\n",
       "      <td>-498.956</td>\n",
       "      <td>18.429</td>\n",
       "      <td>-521.802</td>\n",
       "    </tr>\n",
       "    <tr>\n",
       "      <th>std</th>\n",
       "      <td>2.097</td>\n",
       "      <td>3.389</td>\n",
       "      <td>3.826</td>\n",
       "      <td>13.917</td>\n",
       "      <td>11.960</td>\n",
       "      <td>3.634</td>\n",
       "      <td>1.216</td>\n",
       "      <td>4.263</td>\n",
       "      <td>1.273</td>\n",
       "      <td>45.387</td>\n",
       "      <td>...</td>\n",
       "      <td>6.883</td>\n",
       "      <td>84.803</td>\n",
       "      <td>5.999</td>\n",
       "      <td>89.381</td>\n",
       "      <td>6.835</td>\n",
       "      <td>76.984</td>\n",
       "      <td>6.220</td>\n",
       "      <td>82.146</td>\n",
       "      <td>6.958</td>\n",
       "      <td>77.171</td>\n",
       "    </tr>\n",
       "    <tr>\n",
       "      <th>min</th>\n",
       "      <td>0.000</td>\n",
       "      <td>0.000</td>\n",
       "      <td>0.000</td>\n",
       "      <td>0.000</td>\n",
       "      <td>0.000</td>\n",
       "      <td>0.000</td>\n",
       "      <td>0.000</td>\n",
       "      <td>0.000</td>\n",
       "      <td>0.000</td>\n",
       "      <td>0.000</td>\n",
       "      <td>...</td>\n",
       "      <td>0.000</td>\n",
       "      <td>-799.921</td>\n",
       "      <td>0.000</td>\n",
       "      <td>-800.022</td>\n",
       "      <td>-0.423</td>\n",
       "      <td>-799.741</td>\n",
       "      <td>0.427</td>\n",
       "      <td>-800.258</td>\n",
       "      <td>0.024</td>\n",
       "      <td>-810.474</td>\n",
       "    </tr>\n",
       "    <tr>\n",
       "      <th>25%</th>\n",
       "      <td>3.971</td>\n",
       "      <td>8.826</td>\n",
       "      <td>6.939</td>\n",
       "      <td>42.056</td>\n",
       "      <td>62.626</td>\n",
       "      <td>7.611</td>\n",
       "      <td>1.642</td>\n",
       "      <td>7.870</td>\n",
       "      <td>2.173</td>\n",
       "      <td>103.064</td>\n",
       "      <td>...</td>\n",
       "      <td>14.508</td>\n",
       "      <td>-500.838</td>\n",
       "      <td>10.741</td>\n",
       "      <td>-500.269</td>\n",
       "      <td>10.978</td>\n",
       "      <td>-500.531</td>\n",
       "      <td>8.926</td>\n",
       "      <td>-500.148</td>\n",
       "      <td>13.978</td>\n",
       "      <td>-501.081</td>\n",
       "    </tr>\n",
       "    <tr>\n",
       "      <th>50%</th>\n",
       "      <td>4.869</td>\n",
       "      <td>10.065</td>\n",
       "      <td>8.557</td>\n",
       "      <td>44.499</td>\n",
       "      <td>67.645</td>\n",
       "      <td>9.220</td>\n",
       "      <td>2.454</td>\n",
       "      <td>10.022</td>\n",
       "      <td>2.781</td>\n",
       "      <td>131.783</td>\n",
       "      <td>...</td>\n",
       "      <td>19.987</td>\n",
       "      <td>-499.778</td>\n",
       "      <td>14.944</td>\n",
       "      <td>-499.593</td>\n",
       "      <td>15.998</td>\n",
       "      <td>-499.784</td>\n",
       "      <td>11.093</td>\n",
       "      <td>-499.933</td>\n",
       "      <td>18.035</td>\n",
       "      <td>-500.110</td>\n",
       "    </tr>\n",
       "    <tr>\n",
       "      <th>75%</th>\n",
       "      <td>5.821</td>\n",
       "      <td>11.055</td>\n",
       "      <td>10.290</td>\n",
       "      <td>45.976</td>\n",
       "      <td>72.825</td>\n",
       "      <td>10.971</td>\n",
       "      <td>3.192</td>\n",
       "      <td>11.649</td>\n",
       "      <td>3.417</td>\n",
       "      <td>159.540</td>\n",
       "      <td>...</td>\n",
       "      <td>24.984</td>\n",
       "      <td>-494.649</td>\n",
       "      <td>20.024</td>\n",
       "      <td>-400.138</td>\n",
       "      <td>20.001</td>\n",
       "      <td>-496.532</td>\n",
       "      <td>15.979</td>\n",
       "      <td>-498.418</td>\n",
       "      <td>24.985</td>\n",
       "      <td>-499.566</td>\n",
       "    </tr>\n",
       "    <tr>\n",
       "      <th>max</th>\n",
       "      <td>16.002</td>\n",
       "      <td>17.032</td>\n",
       "      <td>18.125</td>\n",
       "      <td>53.611</td>\n",
       "      <td>100.000</td>\n",
       "      <td>19.552</td>\n",
       "      <td>6.087</td>\n",
       "      <td>22.318</td>\n",
       "      <td>9.790</td>\n",
       "      <td>252.000</td>\n",
       "      <td>...</td>\n",
       "      <td>60.000</td>\n",
       "      <td>-127.692</td>\n",
       "      <td>28.004</td>\n",
       "      <td>-71.472</td>\n",
       "      <td>63.116</td>\n",
       "      <td>-275.073</td>\n",
       "      <td>39.846</td>\n",
       "      <td>-120.191</td>\n",
       "      <td>54.877</td>\n",
       "      <td>-39.785</td>\n",
       "    </tr>\n",
       "  </tbody>\n",
       "</table>\n",
       "<p>8 rows × 86 columns</p>\n",
       "</div>"
      ],
      "text/plain": [
       "       final.output.concentrate_ag  final.output.concentrate_pb  \\\n",
       "count                    16788.000                    16788.000   \n",
       "mean                         4.717                        9.114   \n",
       "std                          2.097                        3.389   \n",
       "min                          0.000                        0.000   \n",
       "25%                          3.971                        8.826   \n",
       "50%                          4.869                       10.065   \n",
       "75%                          5.821                       11.055   \n",
       "max                         16.002                       17.032   \n",
       "\n",
       "       final.output.concentrate_sol  final.output.concentrate_au  \\\n",
       "count                     16490.000                    16789.000   \n",
       "mean                          8.301                       39.467   \n",
       "std                           3.826                       13.917   \n",
       "min                           0.000                        0.000   \n",
       "25%                           6.939                       42.056   \n",
       "50%                           8.557                       44.499   \n",
       "75%                          10.290                       45.976   \n",
       "max                          18.125                       53.611   \n",
       "\n",
       "       final.output.recovery  final.output.tail_ag  final.output.tail_pb  \\\n",
       "count              15339.000             16794.000             16677.000   \n",
       "mean                  67.213                 8.757                 2.360   \n",
       "std                   11.960                 3.634                 1.216   \n",
       "min                    0.000                 0.000                 0.000   \n",
       "25%                   62.626                 7.611                 1.642   \n",
       "50%                   67.645                 9.220                 2.454   \n",
       "75%                   72.825                10.971                 3.192   \n",
       "max                  100.000                19.552                 6.087   \n",
       "\n",
       "       final.output.tail_sol  final.output.tail_au  \\\n",
       "count              16715.000             16794.000   \n",
       "mean                   9.304                 2.688   \n",
       "std                    4.263                 1.273   \n",
       "min                    0.000                 0.000   \n",
       "25%                    7.870                 2.173   \n",
       "50%                   10.022                 2.781   \n",
       "75%                   11.649                 3.417   \n",
       "max                   22.318                 9.790   \n",
       "\n",
       "       primary_cleaner.input.sulfate  ...  \\\n",
       "count                      15553.000  ...   \n",
       "mean                         129.480  ...   \n",
       "std                           45.387  ...   \n",
       "min                            0.000  ...   \n",
       "25%                          103.064  ...   \n",
       "50%                          131.783  ...   \n",
       "75%                          159.540  ...   \n",
       "max                          252.000  ...   \n",
       "\n",
       "       secondary_cleaner.state.floatbank4_a_air  \\\n",
       "count                                 16731.000   \n",
       "mean                                     19.102   \n",
       "std                                       6.883   \n",
       "min                                       0.000   \n",
       "25%                                      14.508   \n",
       "50%                                      19.987   \n",
       "75%                                      24.984   \n",
       "max                                      60.000   \n",
       "\n",
       "       secondary_cleaner.state.floatbank4_a_level  \\\n",
       "count                                   16747.000   \n",
       "mean                                     -494.164   \n",
       "std                                        84.803   \n",
       "min                                      -799.921   \n",
       "25%                                      -500.838   \n",
       "50%                                      -499.778   \n",
       "75%                                      -494.649   \n",
       "max                                      -127.692   \n",
       "\n",
       "       secondary_cleaner.state.floatbank4_b_air  \\\n",
       "count                                 16768.000   \n",
       "mean                                     14.778   \n",
       "std                                       5.999   \n",
       "min                                       0.000   \n",
       "25%                                      10.741   \n",
       "50%                                      14.944   \n",
       "75%                                      20.024   \n",
       "max                                      28.004   \n",
       "\n",
       "       secondary_cleaner.state.floatbank4_b_level  \\\n",
       "count                                   16767.000   \n",
       "mean                                     -476.600   \n",
       "std                                        89.381   \n",
       "min                                      -800.022   \n",
       "25%                                      -500.269   \n",
       "50%                                      -499.593   \n",
       "75%                                      -400.138   \n",
       "max                                       -71.472   \n",
       "\n",
       "       secondary_cleaner.state.floatbank5_a_air  \\\n",
       "count                                 16775.000   \n",
       "mean                                     15.779   \n",
       "std                                       6.835   \n",
       "min                                      -0.423   \n",
       "25%                                      10.978   \n",
       "50%                                      15.998   \n",
       "75%                                      20.001   \n",
       "max                                      63.116   \n",
       "\n",
       "       secondary_cleaner.state.floatbank5_a_level  \\\n",
       "count                                   16775.000   \n",
       "mean                                     -500.230   \n",
       "std                                        76.984   \n",
       "min                                      -799.741   \n",
       "25%                                      -500.531   \n",
       "50%                                      -499.784   \n",
       "75%                                      -496.532   \n",
       "max                                      -275.073   \n",
       "\n",
       "       secondary_cleaner.state.floatbank5_b_air  \\\n",
       "count                                 16775.000   \n",
       "mean                                     12.377   \n",
       "std                                       6.220   \n",
       "min                                       0.427   \n",
       "25%                                       8.926   \n",
       "50%                                      11.093   \n",
       "75%                                      15.979   \n",
       "max                                      39.846   \n",
       "\n",
       "       secondary_cleaner.state.floatbank5_b_level  \\\n",
       "count                                   16776.000   \n",
       "mean                                     -498.956   \n",
       "std                                        82.146   \n",
       "min                                      -800.258   \n",
       "25%                                      -500.148   \n",
       "50%                                      -499.933   \n",
       "75%                                      -498.418   \n",
       "max                                      -120.191   \n",
       "\n",
       "       secondary_cleaner.state.floatbank6_a_air  \\\n",
       "count                                 16757.000   \n",
       "mean                                     18.429   \n",
       "std                                       6.958   \n",
       "min                                       0.024   \n",
       "25%                                      13.978   \n",
       "50%                                      18.035   \n",
       "75%                                      24.985   \n",
       "max                                      54.877   \n",
       "\n",
       "       secondary_cleaner.state.floatbank6_a_level  \n",
       "count                                   16775.000  \n",
       "mean                                     -521.802  \n",
       "std                                        77.171  \n",
       "min                                      -810.474  \n",
       "25%                                      -501.081  \n",
       "50%                                      -500.110  \n",
       "75%                                      -499.566  \n",
       "max                                       -39.785  \n",
       "\n",
       "[8 rows x 86 columns]"
      ]
     },
     "execution_count": 16,
     "metadata": {},
     "output_type": "execute_result"
    }
   ],
   "source": [
    "# Using describe() to get detailed information about our data\n",
    "train.describe()"
   ]
  },
  {
   "cell_type": "markdown",
   "metadata": {},
   "source": [
    "- We have negative values in some of the columns (probably as part of the production process).\n",
    "- We can see that some of the columns have a very high standard deviation."
   ]
  },
  {
   "cell_type": "markdown",
   "metadata": {},
   "source": [
    "#### Changing data types"
   ]
  },
  {
   "cell_type": "code",
   "execution_count": 17,
   "metadata": {},
   "outputs": [],
   "source": [
    "# changing date column to DateTime\n",
    "train['date'] = pd.to_datetime(train['date'])"
   ]
  },
  {
   "cell_type": "code",
   "execution_count": 18,
   "metadata": {
    "scrolled": true
   },
   "outputs": [
    {
     "data": {
      "text/plain": [
       "date                                          datetime64[ns]\n",
       "final.output.concentrate_ag                          float64\n",
       "final.output.concentrate_pb                          float64\n",
       "final.output.concentrate_sol                         float64\n",
       "final.output.concentrate_au                          float64\n",
       "                                                   ...      \n",
       "secondary_cleaner.state.floatbank5_a_level           float64\n",
       "secondary_cleaner.state.floatbank5_b_air             float64\n",
       "secondary_cleaner.state.floatbank5_b_level           float64\n",
       "secondary_cleaner.state.floatbank6_a_air             float64\n",
       "secondary_cleaner.state.floatbank6_a_level           float64\n",
       "Length: 87, dtype: object"
      ]
     },
     "execution_count": 18,
     "metadata": {},
     "output_type": "execute_result"
    }
   ],
   "source": [
    "train.dtypes"
   ]
  },
  {
   "cell_type": "markdown",
   "metadata": {},
   "source": [
    "Success!"
   ]
  },
  {
   "cell_type": "markdown",
   "metadata": {},
   "source": [
    "#### Conclusion"
   ]
  },
  {
   "cell_type": "markdown",
   "metadata": {},
   "source": [
    "- We observed that the most missing values are in one of our targets 'rougher.output.recovery', 15% is missing. the column expresses a calculation of several factors (like rougher.output.tail) that have missing values too and that is probably the cause for the missing values in our target.\n",
    "- 'final.output.recovery', which is our other target column, has missing values too, 9% is missing.\n",
    "- We change 'date' to DateTime.\n",
    "- We observed that some of the columns have a very high standard deviation, and that might indicate that we need to deal with outliers."
   ]
  },
  {
   "cell_type": "markdown",
   "metadata": {},
   "source": [
    "### Test Data"
   ]
  },
  {
   "cell_type": "code",
   "execution_count": 19,
   "metadata": {
    "scrolled": true
   },
   "outputs": [
    {
     "name": "stdout",
     "output_type": "stream",
     "text": [
      "<class 'pandas.core.frame.DataFrame'>\n",
      "RangeIndex: 5856 entries, 0 to 5855\n",
      "Data columns (total 53 columns):\n",
      " #   Column                                      Non-Null Count  Dtype  \n",
      "---  ------                                      --------------  -----  \n",
      " 0   date                                        5856 non-null   object \n",
      " 1   primary_cleaner.input.sulfate               5554 non-null   float64\n",
      " 2   primary_cleaner.input.depressant            5572 non-null   float64\n",
      " 3   primary_cleaner.input.feed_size             5856 non-null   float64\n",
      " 4   primary_cleaner.input.xanthate              5690 non-null   float64\n",
      " 5   primary_cleaner.state.floatbank8_a_air      5840 non-null   float64\n",
      " 6   primary_cleaner.state.floatbank8_a_level    5840 non-null   float64\n",
      " 7   primary_cleaner.state.floatbank8_b_air      5840 non-null   float64\n",
      " 8   primary_cleaner.state.floatbank8_b_level    5840 non-null   float64\n",
      " 9   primary_cleaner.state.floatbank8_c_air      5840 non-null   float64\n",
      " 10  primary_cleaner.state.floatbank8_c_level    5840 non-null   float64\n",
      " 11  primary_cleaner.state.floatbank8_d_air      5840 non-null   float64\n",
      " 12  primary_cleaner.state.floatbank8_d_level    5840 non-null   float64\n",
      " 13  rougher.input.feed_ag                       5840 non-null   float64\n",
      " 14  rougher.input.feed_pb                       5840 non-null   float64\n",
      " 15  rougher.input.feed_rate                     5816 non-null   float64\n",
      " 16  rougher.input.feed_size                     5834 non-null   float64\n",
      " 17  rougher.input.feed_sol                      5789 non-null   float64\n",
      " 18  rougher.input.feed_au                       5840 non-null   float64\n",
      " 19  rougher.input.floatbank10_sulfate           5599 non-null   float64\n",
      " 20  rougher.input.floatbank10_xanthate          5733 non-null   float64\n",
      " 21  rougher.input.floatbank11_sulfate           5801 non-null   float64\n",
      " 22  rougher.input.floatbank11_xanthate          5503 non-null   float64\n",
      " 23  rougher.state.floatbank10_a_air             5839 non-null   float64\n",
      " 24  rougher.state.floatbank10_a_level           5840 non-null   float64\n",
      " 25  rougher.state.floatbank10_b_air             5839 non-null   float64\n",
      " 26  rougher.state.floatbank10_b_level           5840 non-null   float64\n",
      " 27  rougher.state.floatbank10_c_air             5839 non-null   float64\n",
      " 28  rougher.state.floatbank10_c_level           5840 non-null   float64\n",
      " 29  rougher.state.floatbank10_d_air             5839 non-null   float64\n",
      " 30  rougher.state.floatbank10_d_level           5840 non-null   float64\n",
      " 31  rougher.state.floatbank10_e_air             5839 non-null   float64\n",
      " 32  rougher.state.floatbank10_e_level           5840 non-null   float64\n",
      " 33  rougher.state.floatbank10_f_air             5839 non-null   float64\n",
      " 34  rougher.state.floatbank10_f_level           5840 non-null   float64\n",
      " 35  secondary_cleaner.state.floatbank2_a_air    5836 non-null   float64\n",
      " 36  secondary_cleaner.state.floatbank2_a_level  5840 non-null   float64\n",
      " 37  secondary_cleaner.state.floatbank2_b_air    5833 non-null   float64\n",
      " 38  secondary_cleaner.state.floatbank2_b_level  5840 non-null   float64\n",
      " 39  secondary_cleaner.state.floatbank3_a_air    5822 non-null   float64\n",
      " 40  secondary_cleaner.state.floatbank3_a_level  5840 non-null   float64\n",
      " 41  secondary_cleaner.state.floatbank3_b_air    5840 non-null   float64\n",
      " 42  secondary_cleaner.state.floatbank3_b_level  5840 non-null   float64\n",
      " 43  secondary_cleaner.state.floatbank4_a_air    5840 non-null   float64\n",
      " 44  secondary_cleaner.state.floatbank4_a_level  5840 non-null   float64\n",
      " 45  secondary_cleaner.state.floatbank4_b_air    5840 non-null   float64\n",
      " 46  secondary_cleaner.state.floatbank4_b_level  5840 non-null   float64\n",
      " 47  secondary_cleaner.state.floatbank5_a_air    5840 non-null   float64\n",
      " 48  secondary_cleaner.state.floatbank5_a_level  5840 non-null   float64\n",
      " 49  secondary_cleaner.state.floatbank5_b_air    5840 non-null   float64\n",
      " 50  secondary_cleaner.state.floatbank5_b_level  5840 non-null   float64\n",
      " 51  secondary_cleaner.state.floatbank6_a_air    5840 non-null   float64\n",
      " 52  secondary_cleaner.state.floatbank6_a_level  5840 non-null   float64\n",
      "dtypes: float64(52), object(1)\n",
      "memory usage: 2.7 MB\n"
     ]
    }
   ],
   "source": [
    "# examine the entire data, missing values, Dtypes, real memory usage.\n",
    "test.info(memory_usage='deep')"
   ]
  },
  {
   "cell_type": "markdown",
   "metadata": {},
   "source": [
    "- we don't have all the columns from the source data.\n",
    "- We are even missing our two target columns, and we'll need to add them in.\n",
    "- we see that we have missing values in almost all of the columns.\n",
    "- 'date' needs to be changed to DateTime dtype."
   ]
  },
  {
   "cell_type": "code",
   "execution_count": 20,
   "metadata": {
    "scrolled": true
   },
   "outputs": [
    {
     "data": {
      "text/html": [
       "<style type=\"text/css\">\n",
       "</style>\n",
       "<table id=\"T_36bcc\">\n",
       "  <thead>\n",
       "    <tr>\n",
       "      <th class=\"blank level0\" >&nbsp;</th>\n",
       "      <th id=\"T_36bcc_level0_col0\" class=\"col_heading level0 col0\" >missing</th>\n",
       "      <th id=\"T_36bcc_level0_col1\" class=\"col_heading level0 col1\" >total</th>\n",
       "      <th id=\"T_36bcc_level0_col2\" class=\"col_heading level0 col2\" >percent</th>\n",
       "    </tr>\n",
       "  </thead>\n",
       "  <tbody>\n",
       "    <tr>\n",
       "      <th id=\"T_36bcc_level0_row0\" class=\"row_heading level0 row0\" >rougher.input.floatbank11_xanthate</th>\n",
       "      <td id=\"T_36bcc_row0_col0\" class=\"data row0 col0\" >353</td>\n",
       "      <td id=\"T_36bcc_row0_col1\" class=\"data row0 col1\" >5,856</td>\n",
       "      <td id=\"T_36bcc_row0_col2\" class=\"data row0 col2\" >6.03%</td>\n",
       "    </tr>\n",
       "    <tr>\n",
       "      <th id=\"T_36bcc_level0_row1\" class=\"row_heading level0 row1\" >primary_cleaner.input.sulfate</th>\n",
       "      <td id=\"T_36bcc_row1_col0\" class=\"data row1 col0\" >302</td>\n",
       "      <td id=\"T_36bcc_row1_col1\" class=\"data row1 col1\" >5,856</td>\n",
       "      <td id=\"T_36bcc_row1_col2\" class=\"data row1 col2\" >5.16%</td>\n",
       "    </tr>\n",
       "    <tr>\n",
       "      <th id=\"T_36bcc_level0_row2\" class=\"row_heading level0 row2\" >primary_cleaner.input.depressant</th>\n",
       "      <td id=\"T_36bcc_row2_col0\" class=\"data row2 col0\" >284</td>\n",
       "      <td id=\"T_36bcc_row2_col1\" class=\"data row2 col1\" >5,856</td>\n",
       "      <td id=\"T_36bcc_row2_col2\" class=\"data row2 col2\" >4.85%</td>\n",
       "    </tr>\n",
       "    <tr>\n",
       "      <th id=\"T_36bcc_level0_row3\" class=\"row_heading level0 row3\" >rougher.input.floatbank10_sulfate</th>\n",
       "      <td id=\"T_36bcc_row3_col0\" class=\"data row3 col0\" >257</td>\n",
       "      <td id=\"T_36bcc_row3_col1\" class=\"data row3 col1\" >5,856</td>\n",
       "      <td id=\"T_36bcc_row3_col2\" class=\"data row3 col2\" >4.39%</td>\n",
       "    </tr>\n",
       "    <tr>\n",
       "      <th id=\"T_36bcc_level0_row4\" class=\"row_heading level0 row4\" >primary_cleaner.input.xanthate</th>\n",
       "      <td id=\"T_36bcc_row4_col0\" class=\"data row4 col0\" >166</td>\n",
       "      <td id=\"T_36bcc_row4_col1\" class=\"data row4 col1\" >5,856</td>\n",
       "      <td id=\"T_36bcc_row4_col2\" class=\"data row4 col2\" >2.83%</td>\n",
       "    </tr>\n",
       "    <tr>\n",
       "      <th id=\"T_36bcc_level0_row5\" class=\"row_heading level0 row5\" >rougher.input.floatbank10_xanthate</th>\n",
       "      <td id=\"T_36bcc_row5_col0\" class=\"data row5 col0\" >123</td>\n",
       "      <td id=\"T_36bcc_row5_col1\" class=\"data row5 col1\" >5,856</td>\n",
       "      <td id=\"T_36bcc_row5_col2\" class=\"data row5 col2\" >2.10%</td>\n",
       "    </tr>\n",
       "    <tr>\n",
       "      <th id=\"T_36bcc_level0_row6\" class=\"row_heading level0 row6\" >rougher.input.feed_sol</th>\n",
       "      <td id=\"T_36bcc_row6_col0\" class=\"data row6 col0\" >67</td>\n",
       "      <td id=\"T_36bcc_row6_col1\" class=\"data row6 col1\" >5,856</td>\n",
       "      <td id=\"T_36bcc_row6_col2\" class=\"data row6 col2\" >1.14%</td>\n",
       "    </tr>\n",
       "    <tr>\n",
       "      <th id=\"T_36bcc_level0_row7\" class=\"row_heading level0 row7\" >rougher.input.floatbank11_sulfate</th>\n",
       "      <td id=\"T_36bcc_row7_col0\" class=\"data row7 col0\" >55</td>\n",
       "      <td id=\"T_36bcc_row7_col1\" class=\"data row7 col1\" >5,856</td>\n",
       "      <td id=\"T_36bcc_row7_col2\" class=\"data row7 col2\" >0.94%</td>\n",
       "    </tr>\n",
       "    <tr>\n",
       "      <th id=\"T_36bcc_level0_row8\" class=\"row_heading level0 row8\" >rougher.input.feed_rate</th>\n",
       "      <td id=\"T_36bcc_row8_col0\" class=\"data row8 col0\" >40</td>\n",
       "      <td id=\"T_36bcc_row8_col1\" class=\"data row8 col1\" >5,856</td>\n",
       "      <td id=\"T_36bcc_row8_col2\" class=\"data row8 col2\" >0.68%</td>\n",
       "    </tr>\n",
       "    <tr>\n",
       "      <th id=\"T_36bcc_level0_row9\" class=\"row_heading level0 row9\" >secondary_cleaner.state.floatbank3_a_air</th>\n",
       "      <td id=\"T_36bcc_row9_col0\" class=\"data row9 col0\" >34</td>\n",
       "      <td id=\"T_36bcc_row9_col1\" class=\"data row9 col1\" >5,856</td>\n",
       "      <td id=\"T_36bcc_row9_col2\" class=\"data row9 col2\" >0.58%</td>\n",
       "    </tr>\n",
       "    <tr>\n",
       "      <th id=\"T_36bcc_level0_row10\" class=\"row_heading level0 row10\" >secondary_cleaner.state.floatbank2_b_air</th>\n",
       "      <td id=\"T_36bcc_row10_col0\" class=\"data row10 col0\" >23</td>\n",
       "      <td id=\"T_36bcc_row10_col1\" class=\"data row10 col1\" >5,856</td>\n",
       "      <td id=\"T_36bcc_row10_col2\" class=\"data row10 col2\" >0.39%</td>\n",
       "    </tr>\n",
       "    <tr>\n",
       "      <th id=\"T_36bcc_level0_row11\" class=\"row_heading level0 row11\" >rougher.input.feed_size</th>\n",
       "      <td id=\"T_36bcc_row11_col0\" class=\"data row11 col0\" >22</td>\n",
       "      <td id=\"T_36bcc_row11_col1\" class=\"data row11 col1\" >5,856</td>\n",
       "      <td id=\"T_36bcc_row11_col2\" class=\"data row11 col2\" >0.38%</td>\n",
       "    </tr>\n",
       "    <tr>\n",
       "      <th id=\"T_36bcc_level0_row12\" class=\"row_heading level0 row12\" >secondary_cleaner.state.floatbank2_a_air</th>\n",
       "      <td id=\"T_36bcc_row12_col0\" class=\"data row12 col0\" >20</td>\n",
       "      <td id=\"T_36bcc_row12_col1\" class=\"data row12 col1\" >5,856</td>\n",
       "      <td id=\"T_36bcc_row12_col2\" class=\"data row12 col2\" >0.34%</td>\n",
       "    </tr>\n",
       "    <tr>\n",
       "      <th id=\"T_36bcc_level0_row13\" class=\"row_heading level0 row13\" >rougher.state.floatbank10_a_air</th>\n",
       "      <td id=\"T_36bcc_row13_col0\" class=\"data row13 col0\" >17</td>\n",
       "      <td id=\"T_36bcc_row13_col1\" class=\"data row13 col1\" >5,856</td>\n",
       "      <td id=\"T_36bcc_row13_col2\" class=\"data row13 col2\" >0.29%</td>\n",
       "    </tr>\n",
       "    <tr>\n",
       "      <th id=\"T_36bcc_level0_row14\" class=\"row_heading level0 row14\" >rougher.state.floatbank10_c_air</th>\n",
       "      <td id=\"T_36bcc_row14_col0\" class=\"data row14 col0\" >17</td>\n",
       "      <td id=\"T_36bcc_row14_col1\" class=\"data row14 col1\" >5,856</td>\n",
       "      <td id=\"T_36bcc_row14_col2\" class=\"data row14 col2\" >0.29%</td>\n",
       "    </tr>\n",
       "    <tr>\n",
       "      <th id=\"T_36bcc_level0_row15\" class=\"row_heading level0 row15\" >rougher.state.floatbank10_d_air</th>\n",
       "      <td id=\"T_36bcc_row15_col0\" class=\"data row15 col0\" >17</td>\n",
       "      <td id=\"T_36bcc_row15_col1\" class=\"data row15 col1\" >5,856</td>\n",
       "      <td id=\"T_36bcc_row15_col2\" class=\"data row15 col2\" >0.29%</td>\n",
       "    </tr>\n",
       "    <tr>\n",
       "      <th id=\"T_36bcc_level0_row16\" class=\"row_heading level0 row16\" >rougher.state.floatbank10_e_air</th>\n",
       "      <td id=\"T_36bcc_row16_col0\" class=\"data row16 col0\" >17</td>\n",
       "      <td id=\"T_36bcc_row16_col1\" class=\"data row16 col1\" >5,856</td>\n",
       "      <td id=\"T_36bcc_row16_col2\" class=\"data row16 col2\" >0.29%</td>\n",
       "    </tr>\n",
       "    <tr>\n",
       "      <th id=\"T_36bcc_level0_row17\" class=\"row_heading level0 row17\" >rougher.state.floatbank10_b_air</th>\n",
       "      <td id=\"T_36bcc_row17_col0\" class=\"data row17 col0\" >17</td>\n",
       "      <td id=\"T_36bcc_row17_col1\" class=\"data row17 col1\" >5,856</td>\n",
       "      <td id=\"T_36bcc_row17_col2\" class=\"data row17 col2\" >0.29%</td>\n",
       "    </tr>\n",
       "    <tr>\n",
       "      <th id=\"T_36bcc_level0_row18\" class=\"row_heading level0 row18\" >rougher.state.floatbank10_f_air</th>\n",
       "      <td id=\"T_36bcc_row18_col0\" class=\"data row18 col0\" >17</td>\n",
       "      <td id=\"T_36bcc_row18_col1\" class=\"data row18 col1\" >5,856</td>\n",
       "      <td id=\"T_36bcc_row18_col2\" class=\"data row18 col2\" >0.29%</td>\n",
       "    </tr>\n",
       "    <tr>\n",
       "      <th id=\"T_36bcc_level0_row19\" class=\"row_heading level0 row19\" >secondary_cleaner.state.floatbank3_a_level</th>\n",
       "      <td id=\"T_36bcc_row19_col0\" class=\"data row19 col0\" >16</td>\n",
       "      <td id=\"T_36bcc_row19_col1\" class=\"data row19 col1\" >5,856</td>\n",
       "      <td id=\"T_36bcc_row19_col2\" class=\"data row19 col2\" >0.27%</td>\n",
       "    </tr>\n",
       "    <tr>\n",
       "      <th id=\"T_36bcc_level0_row20\" class=\"row_heading level0 row20\" >secondary_cleaner.state.floatbank3_b_air</th>\n",
       "      <td id=\"T_36bcc_row20_col0\" class=\"data row20 col0\" >16</td>\n",
       "      <td id=\"T_36bcc_row20_col1\" class=\"data row20 col1\" >5,856</td>\n",
       "      <td id=\"T_36bcc_row20_col2\" class=\"data row20 col2\" >0.27%</td>\n",
       "    </tr>\n",
       "    <tr>\n",
       "      <th id=\"T_36bcc_level0_row21\" class=\"row_heading level0 row21\" >secondary_cleaner.state.floatbank3_b_level</th>\n",
       "      <td id=\"T_36bcc_row21_col0\" class=\"data row21 col0\" >16</td>\n",
       "      <td id=\"T_36bcc_row21_col1\" class=\"data row21 col1\" >5,856</td>\n",
       "      <td id=\"T_36bcc_row21_col2\" class=\"data row21 col2\" >0.27%</td>\n",
       "    </tr>\n",
       "    <tr>\n",
       "      <th id=\"T_36bcc_level0_row22\" class=\"row_heading level0 row22\" >secondary_cleaner.state.floatbank4_a_air</th>\n",
       "      <td id=\"T_36bcc_row22_col0\" class=\"data row22 col0\" >16</td>\n",
       "      <td id=\"T_36bcc_row22_col1\" class=\"data row22 col1\" >5,856</td>\n",
       "      <td id=\"T_36bcc_row22_col2\" class=\"data row22 col2\" >0.27%</td>\n",
       "    </tr>\n",
       "    <tr>\n",
       "      <th id=\"T_36bcc_level0_row23\" class=\"row_heading level0 row23\" >secondary_cleaner.state.floatbank4_a_level</th>\n",
       "      <td id=\"T_36bcc_row23_col0\" class=\"data row23 col0\" >16</td>\n",
       "      <td id=\"T_36bcc_row23_col1\" class=\"data row23 col1\" >5,856</td>\n",
       "      <td id=\"T_36bcc_row23_col2\" class=\"data row23 col2\" >0.27%</td>\n",
       "    </tr>\n",
       "    <tr>\n",
       "      <th id=\"T_36bcc_level0_row24\" class=\"row_heading level0 row24\" >secondary_cleaner.state.floatbank4_b_air</th>\n",
       "      <td id=\"T_36bcc_row24_col0\" class=\"data row24 col0\" >16</td>\n",
       "      <td id=\"T_36bcc_row24_col1\" class=\"data row24 col1\" >5,856</td>\n",
       "      <td id=\"T_36bcc_row24_col2\" class=\"data row24 col2\" >0.27%</td>\n",
       "    </tr>\n",
       "    <tr>\n",
       "      <th id=\"T_36bcc_level0_row25\" class=\"row_heading level0 row25\" >secondary_cleaner.state.floatbank4_b_level</th>\n",
       "      <td id=\"T_36bcc_row25_col0\" class=\"data row25 col0\" >16</td>\n",
       "      <td id=\"T_36bcc_row25_col1\" class=\"data row25 col1\" >5,856</td>\n",
       "      <td id=\"T_36bcc_row25_col2\" class=\"data row25 col2\" >0.27%</td>\n",
       "    </tr>\n",
       "    <tr>\n",
       "      <th id=\"T_36bcc_level0_row26\" class=\"row_heading level0 row26\" >secondary_cleaner.state.floatbank5_a_air</th>\n",
       "      <td id=\"T_36bcc_row26_col0\" class=\"data row26 col0\" >16</td>\n",
       "      <td id=\"T_36bcc_row26_col1\" class=\"data row26 col1\" >5,856</td>\n",
       "      <td id=\"T_36bcc_row26_col2\" class=\"data row26 col2\" >0.27%</td>\n",
       "    </tr>\n",
       "    <tr>\n",
       "      <th id=\"T_36bcc_level0_row27\" class=\"row_heading level0 row27\" >secondary_cleaner.state.floatbank5_a_level</th>\n",
       "      <td id=\"T_36bcc_row27_col0\" class=\"data row27 col0\" >16</td>\n",
       "      <td id=\"T_36bcc_row27_col1\" class=\"data row27 col1\" >5,856</td>\n",
       "      <td id=\"T_36bcc_row27_col2\" class=\"data row27 col2\" >0.27%</td>\n",
       "    </tr>\n",
       "    <tr>\n",
       "      <th id=\"T_36bcc_level0_row28\" class=\"row_heading level0 row28\" >secondary_cleaner.state.floatbank2_b_level</th>\n",
       "      <td id=\"T_36bcc_row28_col0\" class=\"data row28 col0\" >16</td>\n",
       "      <td id=\"T_36bcc_row28_col1\" class=\"data row28 col1\" >5,856</td>\n",
       "      <td id=\"T_36bcc_row28_col2\" class=\"data row28 col2\" >0.27%</td>\n",
       "    </tr>\n",
       "    <tr>\n",
       "      <th id=\"T_36bcc_level0_row29\" class=\"row_heading level0 row29\" >secondary_cleaner.state.floatbank5_b_air</th>\n",
       "      <td id=\"T_36bcc_row29_col0\" class=\"data row29 col0\" >16</td>\n",
       "      <td id=\"T_36bcc_row29_col1\" class=\"data row29 col1\" >5,856</td>\n",
       "      <td id=\"T_36bcc_row29_col2\" class=\"data row29 col2\" >0.27%</td>\n",
       "    </tr>\n",
       "    <tr>\n",
       "      <th id=\"T_36bcc_level0_row30\" class=\"row_heading level0 row30\" >secondary_cleaner.state.floatbank5_b_level</th>\n",
       "      <td id=\"T_36bcc_row30_col0\" class=\"data row30 col0\" >16</td>\n",
       "      <td id=\"T_36bcc_row30_col1\" class=\"data row30 col1\" >5,856</td>\n",
       "      <td id=\"T_36bcc_row30_col2\" class=\"data row30 col2\" >0.27%</td>\n",
       "    </tr>\n",
       "    <tr>\n",
       "      <th id=\"T_36bcc_level0_row31\" class=\"row_heading level0 row31\" >secondary_cleaner.state.floatbank6_a_air</th>\n",
       "      <td id=\"T_36bcc_row31_col0\" class=\"data row31 col0\" >16</td>\n",
       "      <td id=\"T_36bcc_row31_col1\" class=\"data row31 col1\" >5,856</td>\n",
       "      <td id=\"T_36bcc_row31_col2\" class=\"data row31 col2\" >0.27%</td>\n",
       "    </tr>\n",
       "    <tr>\n",
       "      <th id=\"T_36bcc_level0_row32\" class=\"row_heading level0 row32\" >secondary_cleaner.state.floatbank2_a_level</th>\n",
       "      <td id=\"T_36bcc_row32_col0\" class=\"data row32 col0\" >16</td>\n",
       "      <td id=\"T_36bcc_row32_col1\" class=\"data row32 col1\" >5,856</td>\n",
       "      <td id=\"T_36bcc_row32_col2\" class=\"data row32 col2\" >0.27%</td>\n",
       "    </tr>\n",
       "    <tr>\n",
       "      <th id=\"T_36bcc_level0_row33\" class=\"row_heading level0 row33\" >rougher.state.floatbank10_b_level</th>\n",
       "      <td id=\"T_36bcc_row33_col0\" class=\"data row33 col0\" >16</td>\n",
       "      <td id=\"T_36bcc_row33_col1\" class=\"data row33 col1\" >5,856</td>\n",
       "      <td id=\"T_36bcc_row33_col2\" class=\"data row33 col2\" >0.27%</td>\n",
       "    </tr>\n",
       "    <tr>\n",
       "      <th id=\"T_36bcc_level0_row34\" class=\"row_heading level0 row34\" >secondary_cleaner.state.floatbank6_a_level</th>\n",
       "      <td id=\"T_36bcc_row34_col0\" class=\"data row34 col0\" >16</td>\n",
       "      <td id=\"T_36bcc_row34_col1\" class=\"data row34 col1\" >5,856</td>\n",
       "      <td id=\"T_36bcc_row34_col2\" class=\"data row34 col2\" >0.27%</td>\n",
       "    </tr>\n",
       "    <tr>\n",
       "      <th id=\"T_36bcc_level0_row35\" class=\"row_heading level0 row35\" >rougher.state.floatbank10_f_level</th>\n",
       "      <td id=\"T_36bcc_row35_col0\" class=\"data row35 col0\" >16</td>\n",
       "      <td id=\"T_36bcc_row35_col1\" class=\"data row35 col1\" >5,856</td>\n",
       "      <td id=\"T_36bcc_row35_col2\" class=\"data row35 col2\" >0.27%</td>\n",
       "    </tr>\n",
       "    <tr>\n",
       "      <th id=\"T_36bcc_level0_row36\" class=\"row_heading level0 row36\" >rougher.state.floatbank10_e_level</th>\n",
       "      <td id=\"T_36bcc_row36_col0\" class=\"data row36 col0\" >16</td>\n",
       "      <td id=\"T_36bcc_row36_col1\" class=\"data row36 col1\" >5,856</td>\n",
       "      <td id=\"T_36bcc_row36_col2\" class=\"data row36 col2\" >0.27%</td>\n",
       "    </tr>\n",
       "    <tr>\n",
       "      <th id=\"T_36bcc_level0_row37\" class=\"row_heading level0 row37\" >primary_cleaner.state.floatbank8_a_air</th>\n",
       "      <td id=\"T_36bcc_row37_col0\" class=\"data row37 col0\" >16</td>\n",
       "      <td id=\"T_36bcc_row37_col1\" class=\"data row37 col1\" >5,856</td>\n",
       "      <td id=\"T_36bcc_row37_col2\" class=\"data row37 col2\" >0.27%</td>\n",
       "    </tr>\n",
       "    <tr>\n",
       "      <th id=\"T_36bcc_level0_row38\" class=\"row_heading level0 row38\" >primary_cleaner.state.floatbank8_a_level</th>\n",
       "      <td id=\"T_36bcc_row38_col0\" class=\"data row38 col0\" >16</td>\n",
       "      <td id=\"T_36bcc_row38_col1\" class=\"data row38 col1\" >5,856</td>\n",
       "      <td id=\"T_36bcc_row38_col2\" class=\"data row38 col2\" >0.27%</td>\n",
       "    </tr>\n",
       "    <tr>\n",
       "      <th id=\"T_36bcc_level0_row39\" class=\"row_heading level0 row39\" >primary_cleaner.state.floatbank8_b_air</th>\n",
       "      <td id=\"T_36bcc_row39_col0\" class=\"data row39 col0\" >16</td>\n",
       "      <td id=\"T_36bcc_row39_col1\" class=\"data row39 col1\" >5,856</td>\n",
       "      <td id=\"T_36bcc_row39_col2\" class=\"data row39 col2\" >0.27%</td>\n",
       "    </tr>\n",
       "    <tr>\n",
       "      <th id=\"T_36bcc_level0_row40\" class=\"row_heading level0 row40\" >primary_cleaner.state.floatbank8_b_level</th>\n",
       "      <td id=\"T_36bcc_row40_col0\" class=\"data row40 col0\" >16</td>\n",
       "      <td id=\"T_36bcc_row40_col1\" class=\"data row40 col1\" >5,856</td>\n",
       "      <td id=\"T_36bcc_row40_col2\" class=\"data row40 col2\" >0.27%</td>\n",
       "    </tr>\n",
       "    <tr>\n",
       "      <th id=\"T_36bcc_level0_row41\" class=\"row_heading level0 row41\" >primary_cleaner.state.floatbank8_c_air</th>\n",
       "      <td id=\"T_36bcc_row41_col0\" class=\"data row41 col0\" >16</td>\n",
       "      <td id=\"T_36bcc_row41_col1\" class=\"data row41 col1\" >5,856</td>\n",
       "      <td id=\"T_36bcc_row41_col2\" class=\"data row41 col2\" >0.27%</td>\n",
       "    </tr>\n",
       "    <tr>\n",
       "      <th id=\"T_36bcc_level0_row42\" class=\"row_heading level0 row42\" >primary_cleaner.state.floatbank8_c_level</th>\n",
       "      <td id=\"T_36bcc_row42_col0\" class=\"data row42 col0\" >16</td>\n",
       "      <td id=\"T_36bcc_row42_col1\" class=\"data row42 col1\" >5,856</td>\n",
       "      <td id=\"T_36bcc_row42_col2\" class=\"data row42 col2\" >0.27%</td>\n",
       "    </tr>\n",
       "    <tr>\n",
       "      <th id=\"T_36bcc_level0_row43\" class=\"row_heading level0 row43\" >primary_cleaner.state.floatbank8_d_air</th>\n",
       "      <td id=\"T_36bcc_row43_col0\" class=\"data row43 col0\" >16</td>\n",
       "      <td id=\"T_36bcc_row43_col1\" class=\"data row43 col1\" >5,856</td>\n",
       "      <td id=\"T_36bcc_row43_col2\" class=\"data row43 col2\" >0.27%</td>\n",
       "    </tr>\n",
       "    <tr>\n",
       "      <th id=\"T_36bcc_level0_row44\" class=\"row_heading level0 row44\" >primary_cleaner.state.floatbank8_d_level</th>\n",
       "      <td id=\"T_36bcc_row44_col0\" class=\"data row44 col0\" >16</td>\n",
       "      <td id=\"T_36bcc_row44_col1\" class=\"data row44 col1\" >5,856</td>\n",
       "      <td id=\"T_36bcc_row44_col2\" class=\"data row44 col2\" >0.27%</td>\n",
       "    </tr>\n",
       "    <tr>\n",
       "      <th id=\"T_36bcc_level0_row45\" class=\"row_heading level0 row45\" >rougher.input.feed_ag</th>\n",
       "      <td id=\"T_36bcc_row45_col0\" class=\"data row45 col0\" >16</td>\n",
       "      <td id=\"T_36bcc_row45_col1\" class=\"data row45 col1\" >5,856</td>\n",
       "      <td id=\"T_36bcc_row45_col2\" class=\"data row45 col2\" >0.27%</td>\n",
       "    </tr>\n",
       "    <tr>\n",
       "      <th id=\"T_36bcc_level0_row46\" class=\"row_heading level0 row46\" >rougher.input.feed_pb</th>\n",
       "      <td id=\"T_36bcc_row46_col0\" class=\"data row46 col0\" >16</td>\n",
       "      <td id=\"T_36bcc_row46_col1\" class=\"data row46 col1\" >5,856</td>\n",
       "      <td id=\"T_36bcc_row46_col2\" class=\"data row46 col2\" >0.27%</td>\n",
       "    </tr>\n",
       "    <tr>\n",
       "      <th id=\"T_36bcc_level0_row47\" class=\"row_heading level0 row47\" >rougher.input.feed_au</th>\n",
       "      <td id=\"T_36bcc_row47_col0\" class=\"data row47 col0\" >16</td>\n",
       "      <td id=\"T_36bcc_row47_col1\" class=\"data row47 col1\" >5,856</td>\n",
       "      <td id=\"T_36bcc_row47_col2\" class=\"data row47 col2\" >0.27%</td>\n",
       "    </tr>\n",
       "    <tr>\n",
       "      <th id=\"T_36bcc_level0_row48\" class=\"row_heading level0 row48\" >rougher.state.floatbank10_a_level</th>\n",
       "      <td id=\"T_36bcc_row48_col0\" class=\"data row48 col0\" >16</td>\n",
       "      <td id=\"T_36bcc_row48_col1\" class=\"data row48 col1\" >5,856</td>\n",
       "      <td id=\"T_36bcc_row48_col2\" class=\"data row48 col2\" >0.27%</td>\n",
       "    </tr>\n",
       "    <tr>\n",
       "      <th id=\"T_36bcc_level0_row49\" class=\"row_heading level0 row49\" >rougher.state.floatbank10_c_level</th>\n",
       "      <td id=\"T_36bcc_row49_col0\" class=\"data row49 col0\" >16</td>\n",
       "      <td id=\"T_36bcc_row49_col1\" class=\"data row49 col1\" >5,856</td>\n",
       "      <td id=\"T_36bcc_row49_col2\" class=\"data row49 col2\" >0.27%</td>\n",
       "    </tr>\n",
       "    <tr>\n",
       "      <th id=\"T_36bcc_level0_row50\" class=\"row_heading level0 row50\" >rougher.state.floatbank10_d_level</th>\n",
       "      <td id=\"T_36bcc_row50_col0\" class=\"data row50 col0\" >16</td>\n",
       "      <td id=\"T_36bcc_row50_col1\" class=\"data row50 col1\" >5,856</td>\n",
       "      <td id=\"T_36bcc_row50_col2\" class=\"data row50 col2\" >0.27%</td>\n",
       "    </tr>\n",
       "    <tr>\n",
       "      <th id=\"T_36bcc_level0_row51\" class=\"row_heading level0 row51\" >primary_cleaner.input.feed_size</th>\n",
       "      <td id=\"T_36bcc_row51_col0\" class=\"data row51 col0\" >0</td>\n",
       "      <td id=\"T_36bcc_row51_col1\" class=\"data row51 col1\" >5,856</td>\n",
       "      <td id=\"T_36bcc_row51_col2\" class=\"data row51 col2\" >0.00%</td>\n",
       "    </tr>\n",
       "    <tr>\n",
       "      <th id=\"T_36bcc_level0_row52\" class=\"row_heading level0 row52\" >date</th>\n",
       "      <td id=\"T_36bcc_row52_col0\" class=\"data row52 col0\" >0</td>\n",
       "      <td id=\"T_36bcc_row52_col1\" class=\"data row52 col1\" >5,856</td>\n",
       "      <td id=\"T_36bcc_row52_col2\" class=\"data row52 col2\" >0.00%</td>\n",
       "    </tr>\n",
       "  </tbody>\n",
       "</table>\n"
      ],
      "text/plain": [
       "<pandas.io.formats.style.Styler at 0x7fc914a245b0>"
      ]
     },
     "execution_count": 20,
     "metadata": {},
     "output_type": "execute_result"
    }
   ],
   "source": [
    "# Looking at the missing values in the data.\n",
    "test.stb.missing(style=True)"
   ]
  },
  {
   "cell_type": "markdown",
   "metadata": {},
   "source": [
    "- Here too, we observe missing values, it is logical that we'll have missing values in the source data, and in return, the subsets Train and Test have missing values too.\n",
    "- We are missing here our target columns as well."
   ]
  },
  {
   "cell_type": "code",
   "execution_count": 21,
   "metadata": {},
   "outputs": [
    {
     "data": {
      "text/html": [
       "<div>\n",
       "<style scoped>\n",
       "    .dataframe tbody tr th:only-of-type {\n",
       "        vertical-align: middle;\n",
       "    }\n",
       "\n",
       "    .dataframe tbody tr th {\n",
       "        vertical-align: top;\n",
       "    }\n",
       "\n",
       "    .dataframe thead th {\n",
       "        text-align: right;\n",
       "    }\n",
       "</style>\n",
       "<table border=\"1\" class=\"dataframe\">\n",
       "  <thead>\n",
       "    <tr style=\"text-align: right;\">\n",
       "      <th></th>\n",
       "      <th>date</th>\n",
       "      <th>primary_cleaner.input.sulfate</th>\n",
       "      <th>primary_cleaner.input.depressant</th>\n",
       "      <th>primary_cleaner.input.feed_size</th>\n",
       "      <th>primary_cleaner.input.xanthate</th>\n",
       "      <th>primary_cleaner.state.floatbank8_a_air</th>\n",
       "      <th>primary_cleaner.state.floatbank8_a_level</th>\n",
       "      <th>primary_cleaner.state.floatbank8_b_air</th>\n",
       "      <th>primary_cleaner.state.floatbank8_b_level</th>\n",
       "      <th>primary_cleaner.state.floatbank8_c_air</th>\n",
       "      <th>...</th>\n",
       "      <th>secondary_cleaner.state.floatbank4_a_air</th>\n",
       "      <th>secondary_cleaner.state.floatbank4_a_level</th>\n",
       "      <th>secondary_cleaner.state.floatbank4_b_air</th>\n",
       "      <th>secondary_cleaner.state.floatbank4_b_level</th>\n",
       "      <th>secondary_cleaner.state.floatbank5_a_air</th>\n",
       "      <th>secondary_cleaner.state.floatbank5_a_level</th>\n",
       "      <th>secondary_cleaner.state.floatbank5_b_air</th>\n",
       "      <th>secondary_cleaner.state.floatbank5_b_level</th>\n",
       "      <th>secondary_cleaner.state.floatbank6_a_air</th>\n",
       "      <th>secondary_cleaner.state.floatbank6_a_level</th>\n",
       "    </tr>\n",
       "  </thead>\n",
       "  <tbody>\n",
       "    <tr>\n",
       "      <th>2217</th>\n",
       "      <td>2016-12-02 09:59:59</td>\n",
       "      <td>250.819</td>\n",
       "      <td>8.527</td>\n",
       "      <td>7.620</td>\n",
       "      <td>1.333</td>\n",
       "      <td>1504.461</td>\n",
       "      <td>-499.641</td>\n",
       "      <td>1500.756</td>\n",
       "      <td>-500.559</td>\n",
       "      <td>1499.747</td>\n",
       "      <td>...</td>\n",
       "      <td>18.006</td>\n",
       "      <td>-500.551</td>\n",
       "      <td>16.033</td>\n",
       "      <td>-500.780</td>\n",
       "      <td>16.090</td>\n",
       "      <td>-501.029</td>\n",
       "      <td>11.931</td>\n",
       "      <td>-500.403</td>\n",
       "      <td>21.958</td>\n",
       "      <td>-501.651</td>\n",
       "    </tr>\n",
       "    <tr>\n",
       "      <th>2512</th>\n",
       "      <td>2016-12-14 16:59:59</td>\n",
       "      <td>204.545</td>\n",
       "      <td>10.480</td>\n",
       "      <td>8.220</td>\n",
       "      <td>1.278</td>\n",
       "      <td>1605.107</td>\n",
       "      <td>-500.064</td>\n",
       "      <td>1602.918</td>\n",
       "      <td>-499.863</td>\n",
       "      <td>1598.495</td>\n",
       "      <td>...</td>\n",
       "      <td>17.013</td>\n",
       "      <td>-499.634</td>\n",
       "      <td>14.966</td>\n",
       "      <td>-498.896</td>\n",
       "      <td>17.162</td>\n",
       "      <td>-500.292</td>\n",
       "      <td>11.968</td>\n",
       "      <td>-500.122</td>\n",
       "      <td>21.021</td>\n",
       "      <td>-499.984</td>\n",
       "    </tr>\n",
       "    <tr>\n",
       "      <th>2699</th>\n",
       "      <td>2016-12-22 11:59:59</td>\n",
       "      <td>9.488</td>\n",
       "      <td>1.134</td>\n",
       "      <td>7.730</td>\n",
       "      <td>0.079</td>\n",
       "      <td>1543.642</td>\n",
       "      <td>-573.737</td>\n",
       "      <td>1507.344</td>\n",
       "      <td>-602.068</td>\n",
       "      <td>1503.530</td>\n",
       "      <td>...</td>\n",
       "      <td>16.945</td>\n",
       "      <td>-495.970</td>\n",
       "      <td>14.865</td>\n",
       "      <td>-497.902</td>\n",
       "      <td>13.110</td>\n",
       "      <td>-498.209</td>\n",
       "      <td>12.019</td>\n",
       "      <td>-499.287</td>\n",
       "      <td>21.005</td>\n",
       "      <td>-500.824</td>\n",
       "    </tr>\n",
       "    <tr>\n",
       "      <th>5328</th>\n",
       "      <td>2017-12-10 00:59:59</td>\n",
       "      <td>229.309</td>\n",
       "      <td>10.540</td>\n",
       "      <td>9.770</td>\n",
       "      <td>1.056</td>\n",
       "      <td>1549.077</td>\n",
       "      <td>-499.934</td>\n",
       "      <td>1548.795</td>\n",
       "      <td>-504.235</td>\n",
       "      <td>1547.542</td>\n",
       "      <td>...</td>\n",
       "      <td>19.985</td>\n",
       "      <td>-498.276</td>\n",
       "      <td>15.060</td>\n",
       "      <td>-151.822</td>\n",
       "      <td>10.936</td>\n",
       "      <td>-499.451</td>\n",
       "      <td>8.033</td>\n",
       "      <td>-500.124</td>\n",
       "      <td>12.020</td>\n",
       "      <td>-500.175</td>\n",
       "    </tr>\n",
       "    <tr>\n",
       "      <th>4748</th>\n",
       "      <td>2017-11-15 20:59:59</td>\n",
       "      <td>186.799</td>\n",
       "      <td>7.994</td>\n",
       "      <td>7.300</td>\n",
       "      <td>2.563</td>\n",
       "      <td>1601.704</td>\n",
       "      <td>-500.167</td>\n",
       "      <td>1598.940</td>\n",
       "      <td>-497.693</td>\n",
       "      <td>1561.610</td>\n",
       "      <td>...</td>\n",
       "      <td>17.007</td>\n",
       "      <td>-500.520</td>\n",
       "      <td>9.977</td>\n",
       "      <td>-499.962</td>\n",
       "      <td>10.972</td>\n",
       "      <td>-500.185</td>\n",
       "      <td>9.043</td>\n",
       "      <td>-499.960</td>\n",
       "      <td>16.022</td>\n",
       "      <td>-499.609</td>\n",
       "    </tr>\n",
       "  </tbody>\n",
       "</table>\n",
       "<p>5 rows × 53 columns</p>\n",
       "</div>"
      ],
      "text/plain": [
       "                     date  primary_cleaner.input.sulfate  \\\n",
       "2217  2016-12-02 09:59:59                        250.819   \n",
       "2512  2016-12-14 16:59:59                        204.545   \n",
       "2699  2016-12-22 11:59:59                          9.488   \n",
       "5328  2017-12-10 00:59:59                        229.309   \n",
       "4748  2017-11-15 20:59:59                        186.799   \n",
       "\n",
       "      primary_cleaner.input.depressant  primary_cleaner.input.feed_size  \\\n",
       "2217                             8.527                            7.620   \n",
       "2512                            10.480                            8.220   \n",
       "2699                             1.134                            7.730   \n",
       "5328                            10.540                            9.770   \n",
       "4748                             7.994                            7.300   \n",
       "\n",
       "      primary_cleaner.input.xanthate  primary_cleaner.state.floatbank8_a_air  \\\n",
       "2217                           1.333                                1504.461   \n",
       "2512                           1.278                                1605.107   \n",
       "2699                           0.079                                1543.642   \n",
       "5328                           1.056                                1549.077   \n",
       "4748                           2.563                                1601.704   \n",
       "\n",
       "      primary_cleaner.state.floatbank8_a_level  \\\n",
       "2217                                  -499.641   \n",
       "2512                                  -500.064   \n",
       "2699                                  -573.737   \n",
       "5328                                  -499.934   \n",
       "4748                                  -500.167   \n",
       "\n",
       "      primary_cleaner.state.floatbank8_b_air  \\\n",
       "2217                                1500.756   \n",
       "2512                                1602.918   \n",
       "2699                                1507.344   \n",
       "5328                                1548.795   \n",
       "4748                                1598.940   \n",
       "\n",
       "      primary_cleaner.state.floatbank8_b_level  \\\n",
       "2217                                  -500.559   \n",
       "2512                                  -499.863   \n",
       "2699                                  -602.068   \n",
       "5328                                  -504.235   \n",
       "4748                                  -497.693   \n",
       "\n",
       "      primary_cleaner.state.floatbank8_c_air  ...  \\\n",
       "2217                                1499.747  ...   \n",
       "2512                                1598.495  ...   \n",
       "2699                                1503.530  ...   \n",
       "5328                                1547.542  ...   \n",
       "4748                                1561.610  ...   \n",
       "\n",
       "      secondary_cleaner.state.floatbank4_a_air  \\\n",
       "2217                                    18.006   \n",
       "2512                                    17.013   \n",
       "2699                                    16.945   \n",
       "5328                                    19.985   \n",
       "4748                                    17.007   \n",
       "\n",
       "      secondary_cleaner.state.floatbank4_a_level  \\\n",
       "2217                                    -500.551   \n",
       "2512                                    -499.634   \n",
       "2699                                    -495.970   \n",
       "5328                                    -498.276   \n",
       "4748                                    -500.520   \n",
       "\n",
       "      secondary_cleaner.state.floatbank4_b_air  \\\n",
       "2217                                    16.033   \n",
       "2512                                    14.966   \n",
       "2699                                    14.865   \n",
       "5328                                    15.060   \n",
       "4748                                     9.977   \n",
       "\n",
       "      secondary_cleaner.state.floatbank4_b_level  \\\n",
       "2217                                    -500.780   \n",
       "2512                                    -498.896   \n",
       "2699                                    -497.902   \n",
       "5328                                    -151.822   \n",
       "4748                                    -499.962   \n",
       "\n",
       "      secondary_cleaner.state.floatbank5_a_air  \\\n",
       "2217                                    16.090   \n",
       "2512                                    17.162   \n",
       "2699                                    13.110   \n",
       "5328                                    10.936   \n",
       "4748                                    10.972   \n",
       "\n",
       "      secondary_cleaner.state.floatbank5_a_level  \\\n",
       "2217                                    -501.029   \n",
       "2512                                    -500.292   \n",
       "2699                                    -498.209   \n",
       "5328                                    -499.451   \n",
       "4748                                    -500.185   \n",
       "\n",
       "      secondary_cleaner.state.floatbank5_b_air  \\\n",
       "2217                                    11.931   \n",
       "2512                                    11.968   \n",
       "2699                                    12.019   \n",
       "5328                                     8.033   \n",
       "4748                                     9.043   \n",
       "\n",
       "      secondary_cleaner.state.floatbank5_b_level  \\\n",
       "2217                                    -500.403   \n",
       "2512                                    -500.122   \n",
       "2699                                    -499.287   \n",
       "5328                                    -500.124   \n",
       "4748                                    -499.960   \n",
       "\n",
       "      secondary_cleaner.state.floatbank6_a_air  \\\n",
       "2217                                    21.958   \n",
       "2512                                    21.021   \n",
       "2699                                    21.005   \n",
       "5328                                    12.020   \n",
       "4748                                    16.022   \n",
       "\n",
       "      secondary_cleaner.state.floatbank6_a_level  \n",
       "2217                                    -501.651  \n",
       "2512                                    -499.984  \n",
       "2699                                    -500.824  \n",
       "5328                                    -500.175  \n",
       "4748                                    -499.609  \n",
       "\n",
       "[5 rows x 53 columns]"
      ]
     },
     "execution_count": 21,
     "metadata": {},
     "output_type": "execute_result"
    }
   ],
   "source": [
    "# Printing 5 rows randomly from the dataset to examine the data.\n",
    "test.sample(5)"
   ]
  },
  {
   "cell_type": "code",
   "execution_count": 22,
   "metadata": {},
   "outputs": [
    {
     "data": {
      "text/html": [
       "<div>\n",
       "<style scoped>\n",
       "    .dataframe tbody tr th:only-of-type {\n",
       "        vertical-align: middle;\n",
       "    }\n",
       "\n",
       "    .dataframe tbody tr th {\n",
       "        vertical-align: top;\n",
       "    }\n",
       "\n",
       "    .dataframe thead th {\n",
       "        text-align: right;\n",
       "    }\n",
       "</style>\n",
       "<table border=\"1\" class=\"dataframe\">\n",
       "  <thead>\n",
       "    <tr style=\"text-align: right;\">\n",
       "      <th></th>\n",
       "      <th>primary_cleaner.input.sulfate</th>\n",
       "      <th>primary_cleaner.input.depressant</th>\n",
       "      <th>primary_cleaner.input.feed_size</th>\n",
       "      <th>primary_cleaner.input.xanthate</th>\n",
       "      <th>primary_cleaner.state.floatbank8_a_air</th>\n",
       "      <th>primary_cleaner.state.floatbank8_a_level</th>\n",
       "      <th>primary_cleaner.state.floatbank8_b_air</th>\n",
       "      <th>primary_cleaner.state.floatbank8_b_level</th>\n",
       "      <th>primary_cleaner.state.floatbank8_c_air</th>\n",
       "      <th>primary_cleaner.state.floatbank8_c_level</th>\n",
       "      <th>...</th>\n",
       "      <th>secondary_cleaner.state.floatbank4_a_air</th>\n",
       "      <th>secondary_cleaner.state.floatbank4_a_level</th>\n",
       "      <th>secondary_cleaner.state.floatbank4_b_air</th>\n",
       "      <th>secondary_cleaner.state.floatbank4_b_level</th>\n",
       "      <th>secondary_cleaner.state.floatbank5_a_air</th>\n",
       "      <th>secondary_cleaner.state.floatbank5_a_level</th>\n",
       "      <th>secondary_cleaner.state.floatbank5_b_air</th>\n",
       "      <th>secondary_cleaner.state.floatbank5_b_level</th>\n",
       "      <th>secondary_cleaner.state.floatbank6_a_air</th>\n",
       "      <th>secondary_cleaner.state.floatbank6_a_level</th>\n",
       "    </tr>\n",
       "  </thead>\n",
       "  <tbody>\n",
       "    <tr>\n",
       "      <th>count</th>\n",
       "      <td>5554.000</td>\n",
       "      <td>5572.000</td>\n",
       "      <td>5856.000</td>\n",
       "      <td>5690.000</td>\n",
       "      <td>5840.000</td>\n",
       "      <td>5840.000</td>\n",
       "      <td>5840.000</td>\n",
       "      <td>5840.000</td>\n",
       "      <td>5840.000</td>\n",
       "      <td>5840.000</td>\n",
       "      <td>...</td>\n",
       "      <td>5840.000</td>\n",
       "      <td>5840.000</td>\n",
       "      <td>5840.000</td>\n",
       "      <td>5840.000</td>\n",
       "      <td>5840.000</td>\n",
       "      <td>5840.000</td>\n",
       "      <td>5840.000</td>\n",
       "      <td>5840.000</td>\n",
       "      <td>5840.000</td>\n",
       "      <td>5840.000</td>\n",
       "    </tr>\n",
       "    <tr>\n",
       "      <th>mean</th>\n",
       "      <td>170.515</td>\n",
       "      <td>8.483</td>\n",
       "      <td>7.265</td>\n",
       "      <td>1.321</td>\n",
       "      <td>1481.990</td>\n",
       "      <td>-509.058</td>\n",
       "      <td>1486.909</td>\n",
       "      <td>-511.744</td>\n",
       "      <td>1468.495</td>\n",
       "      <td>-509.741</td>\n",
       "      <td>...</td>\n",
       "      <td>15.636</td>\n",
       "      <td>-516.266</td>\n",
       "      <td>13.146</td>\n",
       "      <td>-476.339</td>\n",
       "      <td>12.309</td>\n",
       "      <td>-512.208</td>\n",
       "      <td>9.471</td>\n",
       "      <td>-505.018</td>\n",
       "      <td>16.679</td>\n",
       "      <td>-512.352</td>\n",
       "    </tr>\n",
       "    <tr>\n",
       "      <th>std</th>\n",
       "      <td>49.609</td>\n",
       "      <td>3.353</td>\n",
       "      <td>0.612</td>\n",
       "      <td>0.693</td>\n",
       "      <td>310.453</td>\n",
       "      <td>61.339</td>\n",
       "      <td>313.224</td>\n",
       "      <td>67.139</td>\n",
       "      <td>309.981</td>\n",
       "      <td>62.672</td>\n",
       "      <td>...</td>\n",
       "      <td>4.661</td>\n",
       "      <td>62.757</td>\n",
       "      <td>4.304</td>\n",
       "      <td>105.549</td>\n",
       "      <td>3.763</td>\n",
       "      <td>58.865</td>\n",
       "      <td>3.312</td>\n",
       "      <td>68.786</td>\n",
       "      <td>5.405</td>\n",
       "      <td>69.920</td>\n",
       "    </tr>\n",
       "    <tr>\n",
       "      <th>min</th>\n",
       "      <td>0.000</td>\n",
       "      <td>0.000</td>\n",
       "      <td>5.650</td>\n",
       "      <td>0.000</td>\n",
       "      <td>0.000</td>\n",
       "      <td>-799.774</td>\n",
       "      <td>0.000</td>\n",
       "      <td>-800.029</td>\n",
       "      <td>0.000</td>\n",
       "      <td>-799.995</td>\n",
       "      <td>...</td>\n",
       "      <td>0.000</td>\n",
       "      <td>-799.799</td>\n",
       "      <td>0.000</td>\n",
       "      <td>-800.837</td>\n",
       "      <td>-0.223</td>\n",
       "      <td>-799.661</td>\n",
       "      <td>0.528</td>\n",
       "      <td>-800.220</td>\n",
       "      <td>-0.079</td>\n",
       "      <td>-809.860</td>\n",
       "    </tr>\n",
       "    <tr>\n",
       "      <th>25%</th>\n",
       "      <td>143.340</td>\n",
       "      <td>6.411</td>\n",
       "      <td>6.886</td>\n",
       "      <td>0.889</td>\n",
       "      <td>1497.191</td>\n",
       "      <td>-500.455</td>\n",
       "      <td>1497.150</td>\n",
       "      <td>-500.937</td>\n",
       "      <td>1437.050</td>\n",
       "      <td>-501.300</td>\n",
       "      <td>...</td>\n",
       "      <td>12.058</td>\n",
       "      <td>-501.055</td>\n",
       "      <td>11.880</td>\n",
       "      <td>-500.419</td>\n",
       "      <td>10.123</td>\n",
       "      <td>-500.879</td>\n",
       "      <td>7.991</td>\n",
       "      <td>-500.223</td>\n",
       "      <td>13.012</td>\n",
       "      <td>-500.834</td>\n",
       "    </tr>\n",
       "    <tr>\n",
       "      <th>50%</th>\n",
       "      <td>176.104</td>\n",
       "      <td>8.023</td>\n",
       "      <td>7.259</td>\n",
       "      <td>1.183</td>\n",
       "      <td>1554.660</td>\n",
       "      <td>-499.997</td>\n",
       "      <td>1553.268</td>\n",
       "      <td>-500.067</td>\n",
       "      <td>1546.161</td>\n",
       "      <td>-500.080</td>\n",
       "      <td>...</td>\n",
       "      <td>17.002</td>\n",
       "      <td>-500.160</td>\n",
       "      <td>14.952</td>\n",
       "      <td>-499.644</td>\n",
       "      <td>12.063</td>\n",
       "      <td>-500.048</td>\n",
       "      <td>9.981</td>\n",
       "      <td>-500.001</td>\n",
       "      <td>16.007</td>\n",
       "      <td>-500.041</td>\n",
       "    </tr>\n",
       "    <tr>\n",
       "      <th>75%</th>\n",
       "      <td>207.241</td>\n",
       "      <td>10.018</td>\n",
       "      <td>7.650</td>\n",
       "      <td>1.764</td>\n",
       "      <td>1601.682</td>\n",
       "      <td>-499.575</td>\n",
       "      <td>1601.785</td>\n",
       "      <td>-499.323</td>\n",
       "      <td>1600.786</td>\n",
       "      <td>-499.010</td>\n",
       "      <td>...</td>\n",
       "      <td>18.031</td>\n",
       "      <td>-499.442</td>\n",
       "      <td>15.940</td>\n",
       "      <td>-401.524</td>\n",
       "      <td>15.018</td>\n",
       "      <td>-499.297</td>\n",
       "      <td>11.992</td>\n",
       "      <td>-499.723</td>\n",
       "      <td>21.009</td>\n",
       "      <td>-499.396</td>\n",
       "    </tr>\n",
       "    <tr>\n",
       "      <th>max</th>\n",
       "      <td>274.410</td>\n",
       "      <td>40.025</td>\n",
       "      <td>15.500</td>\n",
       "      <td>5.433</td>\n",
       "      <td>2212.432</td>\n",
       "      <td>-57.195</td>\n",
       "      <td>1975.148</td>\n",
       "      <td>-142.527</td>\n",
       "      <td>1715.054</td>\n",
       "      <td>-150.937</td>\n",
       "      <td>...</td>\n",
       "      <td>30.052</td>\n",
       "      <td>-401.565</td>\n",
       "      <td>31.270</td>\n",
       "      <td>-6.507</td>\n",
       "      <td>25.259</td>\n",
       "      <td>-244.484</td>\n",
       "      <td>14.090</td>\n",
       "      <td>-126.463</td>\n",
       "      <td>26.706</td>\n",
       "      <td>-29.094</td>\n",
       "    </tr>\n",
       "  </tbody>\n",
       "</table>\n",
       "<p>8 rows × 52 columns</p>\n",
       "</div>"
      ],
      "text/plain": [
       "       primary_cleaner.input.sulfate  primary_cleaner.input.depressant  \\\n",
       "count                       5554.000                          5572.000   \n",
       "mean                         170.515                             8.483   \n",
       "std                           49.609                             3.353   \n",
       "min                            0.000                             0.000   \n",
       "25%                          143.340                             6.411   \n",
       "50%                          176.104                             8.023   \n",
       "75%                          207.241                            10.018   \n",
       "max                          274.410                            40.025   \n",
       "\n",
       "       primary_cleaner.input.feed_size  primary_cleaner.input.xanthate  \\\n",
       "count                         5856.000                        5690.000   \n",
       "mean                             7.265                           1.321   \n",
       "std                              0.612                           0.693   \n",
       "min                              5.650                           0.000   \n",
       "25%                              6.886                           0.889   \n",
       "50%                              7.259                           1.183   \n",
       "75%                              7.650                           1.764   \n",
       "max                             15.500                           5.433   \n",
       "\n",
       "       primary_cleaner.state.floatbank8_a_air  \\\n",
       "count                                5840.000   \n",
       "mean                                 1481.990   \n",
       "std                                   310.453   \n",
       "min                                     0.000   \n",
       "25%                                  1497.191   \n",
       "50%                                  1554.660   \n",
       "75%                                  1601.682   \n",
       "max                                  2212.432   \n",
       "\n",
       "       primary_cleaner.state.floatbank8_a_level  \\\n",
       "count                                  5840.000   \n",
       "mean                                   -509.058   \n",
       "std                                      61.339   \n",
       "min                                    -799.774   \n",
       "25%                                    -500.455   \n",
       "50%                                    -499.997   \n",
       "75%                                    -499.575   \n",
       "max                                     -57.195   \n",
       "\n",
       "       primary_cleaner.state.floatbank8_b_air  \\\n",
       "count                                5840.000   \n",
       "mean                                 1486.909   \n",
       "std                                   313.224   \n",
       "min                                     0.000   \n",
       "25%                                  1497.150   \n",
       "50%                                  1553.268   \n",
       "75%                                  1601.785   \n",
       "max                                  1975.148   \n",
       "\n",
       "       primary_cleaner.state.floatbank8_b_level  \\\n",
       "count                                  5840.000   \n",
       "mean                                   -511.744   \n",
       "std                                      67.139   \n",
       "min                                    -800.029   \n",
       "25%                                    -500.937   \n",
       "50%                                    -500.067   \n",
       "75%                                    -499.323   \n",
       "max                                    -142.527   \n",
       "\n",
       "       primary_cleaner.state.floatbank8_c_air  \\\n",
       "count                                5840.000   \n",
       "mean                                 1468.495   \n",
       "std                                   309.981   \n",
       "min                                     0.000   \n",
       "25%                                  1437.050   \n",
       "50%                                  1546.161   \n",
       "75%                                  1600.786   \n",
       "max                                  1715.054   \n",
       "\n",
       "       primary_cleaner.state.floatbank8_c_level  ...  \\\n",
       "count                                  5840.000  ...   \n",
       "mean                                   -509.741  ...   \n",
       "std                                      62.672  ...   \n",
       "min                                    -799.995  ...   \n",
       "25%                                    -501.300  ...   \n",
       "50%                                    -500.080  ...   \n",
       "75%                                    -499.010  ...   \n",
       "max                                    -150.937  ...   \n",
       "\n",
       "       secondary_cleaner.state.floatbank4_a_air  \\\n",
       "count                                  5840.000   \n",
       "mean                                     15.636   \n",
       "std                                       4.661   \n",
       "min                                       0.000   \n",
       "25%                                      12.058   \n",
       "50%                                      17.002   \n",
       "75%                                      18.031   \n",
       "max                                      30.052   \n",
       "\n",
       "       secondary_cleaner.state.floatbank4_a_level  \\\n",
       "count                                    5840.000   \n",
       "mean                                     -516.266   \n",
       "std                                        62.757   \n",
       "min                                      -799.799   \n",
       "25%                                      -501.055   \n",
       "50%                                      -500.160   \n",
       "75%                                      -499.442   \n",
       "max                                      -401.565   \n",
       "\n",
       "       secondary_cleaner.state.floatbank4_b_air  \\\n",
       "count                                  5840.000   \n",
       "mean                                     13.146   \n",
       "std                                       4.304   \n",
       "min                                       0.000   \n",
       "25%                                      11.880   \n",
       "50%                                      14.952   \n",
       "75%                                      15.940   \n",
       "max                                      31.270   \n",
       "\n",
       "       secondary_cleaner.state.floatbank4_b_level  \\\n",
       "count                                    5840.000   \n",
       "mean                                     -476.339   \n",
       "std                                       105.549   \n",
       "min                                      -800.837   \n",
       "25%                                      -500.419   \n",
       "50%                                      -499.644   \n",
       "75%                                      -401.524   \n",
       "max                                        -6.507   \n",
       "\n",
       "       secondary_cleaner.state.floatbank5_a_air  \\\n",
       "count                                  5840.000   \n",
       "mean                                     12.309   \n",
       "std                                       3.763   \n",
       "min                                      -0.223   \n",
       "25%                                      10.123   \n",
       "50%                                      12.063   \n",
       "75%                                      15.018   \n",
       "max                                      25.259   \n",
       "\n",
       "       secondary_cleaner.state.floatbank5_a_level  \\\n",
       "count                                    5840.000   \n",
       "mean                                     -512.208   \n",
       "std                                        58.865   \n",
       "min                                      -799.661   \n",
       "25%                                      -500.879   \n",
       "50%                                      -500.048   \n",
       "75%                                      -499.297   \n",
       "max                                      -244.484   \n",
       "\n",
       "       secondary_cleaner.state.floatbank5_b_air  \\\n",
       "count                                  5840.000   \n",
       "mean                                      9.471   \n",
       "std                                       3.312   \n",
       "min                                       0.528   \n",
       "25%                                       7.991   \n",
       "50%                                       9.981   \n",
       "75%                                      11.992   \n",
       "max                                      14.090   \n",
       "\n",
       "       secondary_cleaner.state.floatbank5_b_level  \\\n",
       "count                                    5840.000   \n",
       "mean                                     -505.018   \n",
       "std                                        68.786   \n",
       "min                                      -800.220   \n",
       "25%                                      -500.223   \n",
       "50%                                      -500.001   \n",
       "75%                                      -499.723   \n",
       "max                                      -126.463   \n",
       "\n",
       "       secondary_cleaner.state.floatbank6_a_air  \\\n",
       "count                                  5840.000   \n",
       "mean                                     16.679   \n",
       "std                                       5.405   \n",
       "min                                      -0.079   \n",
       "25%                                      13.012   \n",
       "50%                                      16.007   \n",
       "75%                                      21.009   \n",
       "max                                      26.706   \n",
       "\n",
       "       secondary_cleaner.state.floatbank6_a_level  \n",
       "count                                    5840.000  \n",
       "mean                                     -512.352  \n",
       "std                                        69.920  \n",
       "min                                      -809.860  \n",
       "25%                                      -500.834  \n",
       "50%                                      -500.041  \n",
       "75%                                      -499.396  \n",
       "max                                       -29.094  \n",
       "\n",
       "[8 rows x 52 columns]"
      ]
     },
     "execution_count": 22,
     "metadata": {},
     "output_type": "execute_result"
    }
   ],
   "source": [
    "# Using describe() to get detailed information about our data\n",
    "test.describe()"
   ]
  },
  {
   "cell_type": "markdown",
   "metadata": {},
   "source": [
    "- We have negative values in some of the columns (probably as part of the production process).\n",
    "- We can see that some of the columns have a very high standard deviation."
   ]
  },
  {
   "cell_type": "markdown",
   "metadata": {},
   "source": [
    "#### Changing date column to datetime type"
   ]
  },
  {
   "cell_type": "code",
   "execution_count": 23,
   "metadata": {},
   "outputs": [],
   "source": [
    "# changing date column to DateTime\n",
    "test['date'] = pd.to_datetime(test['date'])"
   ]
  },
  {
   "cell_type": "code",
   "execution_count": 24,
   "metadata": {
    "scrolled": true
   },
   "outputs": [
    {
     "data": {
      "text/plain": [
       "date                                          datetime64[ns]\n",
       "primary_cleaner.input.sulfate                        float64\n",
       "primary_cleaner.input.depressant                     float64\n",
       "primary_cleaner.input.feed_size                      float64\n",
       "primary_cleaner.input.xanthate                       float64\n",
       "primary_cleaner.state.floatbank8_a_air               float64\n",
       "primary_cleaner.state.floatbank8_a_level             float64\n",
       "primary_cleaner.state.floatbank8_b_air               float64\n",
       "primary_cleaner.state.floatbank8_b_level             float64\n",
       "primary_cleaner.state.floatbank8_c_air               float64\n",
       "primary_cleaner.state.floatbank8_c_level             float64\n",
       "primary_cleaner.state.floatbank8_d_air               float64\n",
       "primary_cleaner.state.floatbank8_d_level             float64\n",
       "rougher.input.feed_ag                                float64\n",
       "rougher.input.feed_pb                                float64\n",
       "rougher.input.feed_rate                              float64\n",
       "rougher.input.feed_size                              float64\n",
       "rougher.input.feed_sol                               float64\n",
       "rougher.input.feed_au                                float64\n",
       "rougher.input.floatbank10_sulfate                    float64\n",
       "rougher.input.floatbank10_xanthate                   float64\n",
       "rougher.input.floatbank11_sulfate                    float64\n",
       "rougher.input.floatbank11_xanthate                   float64\n",
       "rougher.state.floatbank10_a_air                      float64\n",
       "rougher.state.floatbank10_a_level                    float64\n",
       "rougher.state.floatbank10_b_air                      float64\n",
       "rougher.state.floatbank10_b_level                    float64\n",
       "rougher.state.floatbank10_c_air                      float64\n",
       "rougher.state.floatbank10_c_level                    float64\n",
       "rougher.state.floatbank10_d_air                      float64\n",
       "rougher.state.floatbank10_d_level                    float64\n",
       "rougher.state.floatbank10_e_air                      float64\n",
       "rougher.state.floatbank10_e_level                    float64\n",
       "rougher.state.floatbank10_f_air                      float64\n",
       "rougher.state.floatbank10_f_level                    float64\n",
       "secondary_cleaner.state.floatbank2_a_air             float64\n",
       "secondary_cleaner.state.floatbank2_a_level           float64\n",
       "secondary_cleaner.state.floatbank2_b_air             float64\n",
       "secondary_cleaner.state.floatbank2_b_level           float64\n",
       "secondary_cleaner.state.floatbank3_a_air             float64\n",
       "secondary_cleaner.state.floatbank3_a_level           float64\n",
       "secondary_cleaner.state.floatbank3_b_air             float64\n",
       "secondary_cleaner.state.floatbank3_b_level           float64\n",
       "secondary_cleaner.state.floatbank4_a_air             float64\n",
       "secondary_cleaner.state.floatbank4_a_level           float64\n",
       "secondary_cleaner.state.floatbank4_b_air             float64\n",
       "secondary_cleaner.state.floatbank4_b_level           float64\n",
       "secondary_cleaner.state.floatbank5_a_air             float64\n",
       "secondary_cleaner.state.floatbank5_a_level           float64\n",
       "secondary_cleaner.state.floatbank5_b_air             float64\n",
       "secondary_cleaner.state.floatbank5_b_level           float64\n",
       "secondary_cleaner.state.floatbank6_a_air             float64\n",
       "secondary_cleaner.state.floatbank6_a_level           float64\n",
       "dtype: object"
      ]
     },
     "execution_count": 24,
     "metadata": {},
     "output_type": "execute_result"
    }
   ],
   "source": [
    "test.dtypes"
   ]
  },
  {
   "cell_type": "markdown",
   "metadata": {},
   "source": [
    "#### Conclusion"
   ]
  },
  {
   "cell_type": "markdown",
   "metadata": {},
   "source": [
    "- We observed that our target columns are missing, among other columns (53 columns compared to 87 in the source and training data).\n",
    "- We change 'date' to DateTime.\n",
    "- We observed that some of the columns have a very high standard deviation, and that might indicate that we need to deal with outliers."
   ]
  },
  {
   "cell_type": "markdown",
   "metadata": {},
   "source": [
    "----"
   ]
  },
  {
   "cell_type": "markdown",
   "metadata": {},
   "source": [
    "## Data Validation"
   ]
  },
  {
   "cell_type": "markdown",
   "metadata": {},
   "source": [
    "### Recovery Calculation"
   ]
  },
  {
   "attachments": {
    "Recovery_1576238822_1589899219.jpg": {
     "image/jpeg": "[encoded data removed]"
    }
   },
   "cell_type": "markdown",
   "metadata": {},
   "source": [
    "It would be wise to validate the solidity of the data before we continue with our study.<br>\n",
    "We know that to calculate recovery we use a specific formula that based on the data collected will result in the recovery of gold from the initial ore.\n",
    "<br>\n",
    "\n",
    "The recovery formula:\n",
    "<img src=\"attachment:Recovery_1576238822_1589899219.jpg\" width=400 height=400 />\n",
    "\n",
    "where <br>\n",
    "**C** -  is the share of gold in the concentrate right after flotation (for finding the rougher concentrate recovery) or, after purification (for finding the final concentrate recovery).\n",
    "<br>\n",
    "\n",
    "**F** -  is the share of gold in the feed before flotation (for finding the rougher concentrate recovery) or, in the concentrate right after flotation (for finding the final concentrate recovery).\n",
    "<br>\n",
    "\n",
    "**T** -  is the share of gold in the rougher tails right after flotation (for finding the rougher concentrate recovery) or, after purification (for finding the final concentrate recovery)."
   ]
  },
  {
   "cell_type": "code",
   "execution_count": 25,
   "metadata": {},
   "outputs": [],
   "source": [
    "# Assigning each relevent column to the variable of the formula\n",
    "C = train['rougher.output.concentrate_au'] \n",
    "F = train['rougher.input.feed_au']         \n",
    "T = train['rougher.output.tail_au']        \n",
    "\n",
    "# calculating recovery\n",
    "train['recovery_calc'] = ((C * (F - T)) / (F * (C - T))) * 100"
   ]
  },
  {
   "cell_type": "code",
   "execution_count": 26,
   "metadata": {},
   "outputs": [
    {
     "data": {
      "text/plain": [
       "count   14577.000\n",
       "mean          NaN\n",
       "std           NaN\n",
       "min          -inf\n",
       "25%        79.651\n",
       "50%        85.215\n",
       "75%        90.197\n",
       "max           inf\n",
       "Name: recovery_calc, dtype: float64"
      ]
     },
     "execution_count": 26,
     "metadata": {},
     "output_type": "execute_result"
    }
   ],
   "source": [
    "train['recovery_calc'].describe()"
   ]
  },
  {
   "cell_type": "markdown",
   "metadata": {},
   "source": [
    "- We can see that we have missing and inf values in our calculations."
   ]
  },
  {
   "cell_type": "code",
   "execution_count": 27,
   "metadata": {},
   "outputs": [
    {
     "data": {
      "text/plain": [
       "-0.000     320\n",
       "-inf        29\n",
       "83.407      10\n",
       "100.000      6\n",
       "91.792       5\n",
       "          ... \n",
       "82.895       1\n",
       "82.887       1\n",
       "82.173       1\n",
       "85.258       1\n",
       "89.515       1\n",
       "Name: recovery_calc, Length: 14207, dtype: int64"
      ]
     },
     "execution_count": 27,
     "metadata": {},
     "output_type": "execute_result"
    }
   ],
   "source": [
    "train['recovery_calc'].value_counts()"
   ]
  },
  {
   "cell_type": "markdown",
   "metadata": {},
   "source": [
    "- We have 320 values of 0.\n",
    "- 29 values of -inf.\n",
    "- That indicates that we'll have to do pre-processing on our data later so it will be useful to us."
   ]
  },
  {
   "cell_type": "code",
   "execution_count": 28,
   "metadata": {},
   "outputs": [],
   "source": [
    "# assigning the calculated recover column as well as the provided column to MAE variable\n",
    "MAE = train[['recovery_calc', 'rougher.output.recovery']]"
   ]
  },
  {
   "cell_type": "code",
   "execution_count": 29,
   "metadata": {},
   "outputs": [
    {
     "data": {
      "text/plain": [
       "9.303415616264301e-15"
      ]
     },
     "execution_count": 29,
     "metadata": {},
     "output_type": "execute_result"
    }
   ],
   "source": [
    "# calculating MAE between the two columns to see how far our calculation is from the provided data.\n",
    "MAE = (MAE['recovery_calc'] -  MAE['rougher.output.recovery']).abs().mean()\n",
    "MAE"
   ]
  },
  {
   "cell_type": "markdown",
   "metadata": {},
   "source": [
    "#### Conclusion"
   ]
  },
  {
   "cell_type": "markdown",
   "metadata": {},
   "source": [
    "- We can see that we get a very low error margin between our calculation and the provided recovery data (9.3 to the power of -15), which would probably result in a model that is performing quite well on our data.\n",
    "- The margin of error is so small of a number that it is neglectable and we can rest assured that our data is solid in this aspect.\n",
    "- It is also important to note that pandas treated the inf values as nulls and ignores them in the calculations."
   ]
  },
  {
   "cell_type": "markdown",
   "metadata": {},
   "source": [
    "### Columns Difference Between Train and Test"
   ]
  },
  {
   "cell_type": "markdown",
   "metadata": {},
   "source": [
    "Let's investigate the column difference between the training set and the test set."
   ]
  },
  {
   "cell_type": "code",
   "execution_count": 30,
   "metadata": {},
   "outputs": [
    {
     "data": {
      "text/plain": [
       "['final.output.concentrate_ag',\n",
       " 'final.output.concentrate_au',\n",
       " 'final.output.concentrate_pb',\n",
       " 'final.output.concentrate_sol',\n",
       " 'final.output.recovery',\n",
       " 'final.output.tail_ag',\n",
       " 'final.output.tail_au',\n",
       " 'final.output.tail_pb',\n",
       " 'final.output.tail_sol',\n",
       " 'primary_cleaner.output.concentrate_ag',\n",
       " 'primary_cleaner.output.concentrate_au',\n",
       " 'primary_cleaner.output.concentrate_pb',\n",
       " 'primary_cleaner.output.concentrate_sol',\n",
       " 'primary_cleaner.output.tail_ag',\n",
       " 'primary_cleaner.output.tail_au',\n",
       " 'primary_cleaner.output.tail_pb',\n",
       " 'primary_cleaner.output.tail_sol',\n",
       " 'recovery_calc',\n",
       " 'rougher.calculation.au_pb_ratio',\n",
       " 'rougher.calculation.floatbank10_sulfate_to_au_feed',\n",
       " 'rougher.calculation.floatbank11_sulfate_to_au_feed',\n",
       " 'rougher.calculation.sulfate_to_au_concentrate',\n",
       " 'rougher.output.concentrate_ag',\n",
       " 'rougher.output.concentrate_au',\n",
       " 'rougher.output.concentrate_pb',\n",
       " 'rougher.output.concentrate_sol',\n",
       " 'rougher.output.recovery',\n",
       " 'rougher.output.tail_ag',\n",
       " 'rougher.output.tail_au',\n",
       " 'rougher.output.tail_pb',\n",
       " 'rougher.output.tail_sol',\n",
       " 'secondary_cleaner.output.tail_ag',\n",
       " 'secondary_cleaner.output.tail_au',\n",
       " 'secondary_cleaner.output.tail_pb',\n",
       " 'secondary_cleaner.output.tail_sol']"
      ]
     },
     "execution_count": 30,
     "metadata": {},
     "output_type": "execute_result"
    }
   ],
   "source": [
    "test_train_difference = list(set(train) - set(test))\n",
    "sorted(test_train_difference)"
   ]
  },
  {
   "cell_type": "markdown",
   "metadata": {},
   "source": [
    "- As we can see, the difference in columns between the train and test data is boiled down to columns that would cause data leakage in our test data like outputs and calculations and we would like to avoid that. \n",
    "- For example, if our model will learn the concentration of metals in each stage it could indicate the recovery that we are after."
   ]
  },
  {
   "cell_type": "markdown",
   "metadata": {},
   "source": [
    "- We'll merge the two target columns that are missing from test data from the source data.\n",
    "- We'll drop the columns that are not in the test data from the train data.\n",
    "- Then, We'll drop the columns that are not in the train data from the test data.\n",
    "- That way we'll ensure that both our training set and test set have the same number of features and targets."
   ]
  },
  {
   "cell_type": "code",
   "execution_count": 31,
   "metadata": {},
   "outputs": [],
   "source": [
    "# documenting sizes and missing values before dropping and merging of columns\n",
    "before_train = [train.shape, train.isnull().any(axis=1).sum(), (train.isnull().any(axis=1).sum() / len(train))*100] \n",
    "before_test = [test.shape, test.isnull().any(axis=1).sum(), (test.isnull().any(axis=1).sum() / len(test))*100]"
   ]
  },
  {
   "cell_type": "code",
   "execution_count": 32,
   "metadata": {},
   "outputs": [],
   "source": [
    "# Merging target values from source into test on date column.\n",
    "test = pd.merge(test, source[['date',\n",
    "                              'final.output.recovery',\n",
    "                              'rougher.output.recovery']], \n",
    "                on='date', how='left')\n",
    "\n",
    "# Dropping features not in test from train.\n",
    "train = train.drop(columns=[x for x in train if x not in test], axis=1)\n",
    "\n",
    "# Dropping features not in train from test.\n",
    "test= test.drop(columns=[x for x in test if x not in train], axis=1)"
   ]
  },
  {
   "cell_type": "code",
   "execution_count": 33,
   "metadata": {},
   "outputs": [],
   "source": [
    "# documenting sizes and missing values after dropping and merging of columns\n",
    "after_train = [train.shape, train.isnull().any(axis=1).sum(), (train.isnull().any(axis=1).sum() / len(train))*100]\n",
    "after_test = [test.shape, test.isnull().any(axis=1).sum(), (test.isnull().any(axis=1).sum() / len(test))*100]"
   ]
  },
  {
   "cell_type": "code",
   "execution_count": 34,
   "metadata": {},
   "outputs": [
    {
     "data": {
      "text/html": [
       "<div>\n",
       "<style scoped>\n",
       "    .dataframe tbody tr th:only-of-type {\n",
       "        vertical-align: middle;\n",
       "    }\n",
       "\n",
       "    .dataframe tbody tr th {\n",
       "        vertical-align: top;\n",
       "    }\n",
       "\n",
       "    .dataframe thead th {\n",
       "        text-align: right;\n",
       "    }\n",
       "</style>\n",
       "<table border=\"1\" class=\"dataframe\">\n",
       "  <thead>\n",
       "    <tr style=\"text-align: right;\">\n",
       "      <th></th>\n",
       "      <th>Train Size</th>\n",
       "      <th>Train Missing Values</th>\n",
       "      <th>Train Share of Missing Values</th>\n",
       "      <th>Test Size</th>\n",
       "      <th>Test Missing Values</th>\n",
       "      <th>Test Share of Missing Values</th>\n",
       "    </tr>\n",
       "  </thead>\n",
       "  <tbody>\n",
       "    <tr>\n",
       "      <th>Before</th>\n",
       "      <td>(16860, 88)</td>\n",
       "      <td>5843</td>\n",
       "      <td>34.656</td>\n",
       "      <td>(5856, 53)</td>\n",
       "      <td>473</td>\n",
       "      <td>8.077</td>\n",
       "    </tr>\n",
       "    <tr>\n",
       "      <th>After</th>\n",
       "      <td>(16860, 55)</td>\n",
       "      <td>4181</td>\n",
       "      <td>24.798</td>\n",
       "      <td>(5856, 55)</td>\n",
       "      <td>627</td>\n",
       "      <td>10.707</td>\n",
       "    </tr>\n",
       "  </tbody>\n",
       "</table>\n",
       "</div>"
      ],
      "text/plain": [
       "         Train Size  Train Missing Values  Train Share of Missing Values  \\\n",
       "Before  (16860, 88)                  5843                         34.656   \n",
       "After   (16860, 55)                  4181                         24.798   \n",
       "\n",
       "         Test Size  Test Missing Values  Test Share of Missing Values  \n",
       "Before  (5856, 53)                  473                         8.077  \n",
       "After   (5856, 55)                  627                        10.707  "
      ]
     },
     "execution_count": 34,
     "metadata": {},
     "output_type": "execute_result"
    }
   ],
   "source": [
    "sizes = pd.DataFrame([[\n",
    "                       before_train[0], before_train[1], before_train[2],\n",
    "                       before_test[0], before_test[1], before_test[2]\n",
    "                      ],\n",
    "                      [after_train[0], after_train[1], after_train[2],\n",
    "                       after_test[0], after_test[1], after_test[2]\n",
    "                      ]],\n",
    "                     columns = ['Train Size', 'Train Missing Values', 'Train Share of Missing Values', \n",
    "                                'Test Size', 'Test Missing Values', 'Test Share of Missing Values'],\n",
    "                     index = ['Before', 'After']\n",
    "                    )\n",
    "sizes"
   ]
  },
  {
   "cell_type": "markdown",
   "metadata": {},
   "source": [
    "- We can see that after merging and dropping our training set and test set have the same number of features and targets (55 columns in total).\n",
    "- We can see that there is a decrease in the number of missing values in our training set due to columns that were dropped.\n",
    "- We can see an increase in missing values in the test data due to adding the two target columns that have a portion of the values missing.\n",
    "- The number of rows in both sets remains the same, which is a good thing as we do not expect a change in the number of rows."
   ]
  },
  {
   "cell_type": "markdown",
   "metadata": {},
   "source": [
    "#### Conclusion"
   ]
  },
  {
   "cell_type": "markdown",
   "metadata": {},
   "source": [
    "- the difference in columns between the train and test data is boiled down to columns that would cause data leakage in our test data like outputs and calculations and we would like to avoid that.\n",
    "- We merged the two target columns that were missing from test data from the source data.\n",
    "- We dropped the columns that were not in the test data from the train data.\n",
    "- We dropped the columns that were not in the train data from the test data.\n",
    "- We ensured that both our training set and test set have the same number of features and targets.\n",
    "- As a result of the merging and dropping of columns train data has fewer missing values, but the test data gain a few missing values due to the merge of two columns that contain missing values."
   ]
  },
  {
   "cell_type": "markdown",
   "metadata": {},
   "source": [
    "## Pre-Processing"
   ]
  },
  {
   "cell_type": "markdown",
   "metadata": {},
   "source": [
    "### Duplicates"
   ]
  },
  {
   "cell_type": "code",
   "execution_count": 35,
   "metadata": {},
   "outputs": [
    {
     "name": "stdout",
     "output_type": "stream",
     "text": [
      "Duplicates in the train dataset: 0\n",
      "Duplicates in the test  dataset: 0\n"
     ]
    }
   ],
   "source": [
    "print(f\"Duplicates in the train dataset: {train.duplicated().sum()}\")\n",
    "print(f\"Duplicates in the test  dataset: {test.duplicated() .sum()}\")"
   ]
  },
  {
   "cell_type": "markdown",
   "metadata": {},
   "source": [
    "- No duplicates in our data!"
   ]
  },
  {
   "cell_type": "markdown",
   "metadata": {},
   "source": [
    "### Missing Values"
   ]
  },
  {
   "cell_type": "code",
   "execution_count": 36,
   "metadata": {},
   "outputs": [
    {
     "name": "stdout",
     "output_type": "stream",
     "text": [
      "Rows with NaNs in the train dataset:              4181\n",
      "train_scaled dataset - Percent of rows with NaNs: 24.8%\n",
      "\n",
      "Rows with NaNs in the test  dataset:              627\n",
      "test_scaled dataset -  Percent of rows with NaNs: 10.71%\n"
     ]
    }
   ],
   "source": [
    "print(f\"Rows with NaNs in the train dataset:              {train.isnull().any(axis=1).sum()}\")\n",
    "print(f\"train_scaled dataset - Percent of rows with NaNs: {round (100 * (train.isnull().any(axis=1).sum() / len(train)), 2)}%\")\n",
    "print()\n",
    "print(f\"Rows with NaNs in the test  dataset:              {test.isnull() .any(axis=1).sum()}\")\n",
    "print(f\"test_scaled dataset -  Percent of rows with NaNs: {round (100 * (test.isnull().any(axis=1).sum() / len(test)), 2)}%\")"
   ]
  },
  {
   "cell_type": "markdown",
   "metadata": {},
   "source": [
    "- We have 4,181 missing values in our training set after dropping irrelevant columns, we'll need to fill as many values as we can.\n",
    "- We have 627 missing values in our test set after merging the two target columns, we'll need to fill as many values as we can."
   ]
  },
  {
   "cell_type": "markdown",
   "metadata": {},
   "source": [
    "We got information from the warehouse that the **sensors might fail to transmit data from time to time** and that will result in missing values in different places in our data.<br>\n",
    "However, due to the nature of production, we were informed that **values that are close to one another in terms of timestamp are mostly similar in value**, which is great because we can use it to fill as much as we can from our missing values."
   ]
  },
  {
   "cell_type": "markdown",
   "metadata": {},
   "source": [
    "Let's see if our data is ordered by date."
   ]
  },
  {
   "cell_type": "code",
   "execution_count": 37,
   "metadata": {},
   "outputs": [
    {
     "data": {
      "text/plain": [
       "0   2016-01-15 00:00:00\n",
       "1   2016-01-15 01:00:00\n",
       "2   2016-01-15 02:00:00\n",
       "3   2016-01-15 03:00:00\n",
       "4   2016-01-15 04:00:00\n",
       "5   2016-01-15 05:00:00\n",
       "6   2016-01-15 06:00:00\n",
       "7   2016-01-15 07:00:00\n",
       "8   2016-01-15 08:00:00\n",
       "9   2016-01-15 09:00:00\n",
       "Name: date, dtype: datetime64[ns]"
      ]
     },
     "execution_count": 37,
     "metadata": {},
     "output_type": "execute_result"
    }
   ],
   "source": [
    "train['date'].head(10)"
   ]
  },
  {
   "cell_type": "code",
   "execution_count": 38,
   "metadata": {},
   "outputs": [
    {
     "data": {
      "text/plain": [
       "16850   2018-08-18 01:59:59\n",
       "16851   2018-08-18 02:59:59\n",
       "16852   2018-08-18 03:59:59\n",
       "16853   2018-08-18 04:59:59\n",
       "16854   2018-08-18 05:59:59\n",
       "16855   2018-08-18 06:59:59\n",
       "16856   2018-08-18 07:59:59\n",
       "16857   2018-08-18 08:59:59\n",
       "16858   2018-08-18 09:59:59\n",
       "16859   2018-08-18 10:59:59\n",
       "Name: date, dtype: datetime64[ns]"
      ]
     },
     "execution_count": 38,
     "metadata": {},
     "output_type": "execute_result"
    }
   ],
   "source": [
    "train['date'].tail(10)"
   ]
  },
  {
   "cell_type": "markdown",
   "metadata": {},
   "source": [
    "- it is! our data is ordered by date and that means that we can utilize it to fill the missing values."
   ]
  },
  {
   "cell_type": "markdown",
   "metadata": {},
   "source": [
    "**We'll use KNNImputer for this task** as it uses the mean of the n-nearest neighbor values in the training set to fill in the missing value at hand.<br>\n",
    "\n",
    "For us to use it **we'll need to scale the data first** so that the distances between values will make sense and won't be so far apart, as we recall there are very high and very low values in our data and that would negatively affect the performance of the Imputer."
   ]
  },
  {
   "cell_type": "markdown",
   "metadata": {},
   "source": [
    "**To scale the data we'll use MinMaxScaler()** as it will scale the data into a given range, in this case, the default setting of 0 to 1.<br>\n",
    "When using a standard scaler in this case we might get negative values in places that would not make sense,<br>\n",
    "so the choice of MinMaxScaler is better for us in this case.\n",
    "<br>\n",
    "\n",
    "**We'll train our scaler on the training data set except for the 'date' and target columns**, then we'll transform the data according to this training and fill the missing values in both data sets except for the columns that are not scaled.\n",
    "<br>\n",
    "\n",
    "This is important because the target columns are a piece of very sensitive information for our process and we would like it to remain true to the source data as much as possible or it will negatively affect our model's ability to predict, and the data should remain as it is because that is our leverage over the missing values and also we should know at which time each reading was made."
   ]
  },
  {
   "cell_type": "markdown",
   "metadata": {},
   "source": [
    "#### Scaling The Data"
   ]
  },
  {
   "cell_type": "code",
   "execution_count": 39,
   "metadata": {},
   "outputs": [],
   "source": [
    "# creatting a MinMaxScaler instance.\n",
    "scaler = MinMaxScaler()\n",
    "\n",
    "# creatting lists for columns to scale and columns not to scale.\n",
    "scale_columns = [x for x in train.columns if x not in ['date','rougher.output.recovery', 'final.output.recovery']]\n",
    "non_scale_columns = ['date','rougher.output.recovery', 'final.output.recovery']\n",
    "\n",
    "# scalling the data in scale columns for training and testing datasets\n",
    "train_scaled = pd.DataFrame(scaler.fit_transform(train[scale_columns].copy()), columns = scale_columns)\n",
    "test_scaled  = pd.DataFrame(scaler.transform(test[scale_columns].copy()), columns = scale_columns)"
   ]
  },
  {
   "cell_type": "markdown",
   "metadata": {},
   "source": [
    "#### Filling NaN with KNNImputer"
   ]
  },
  {
   "cell_type": "code",
   "execution_count": 40,
   "metadata": {},
   "outputs": [],
   "source": [
    "# creating an instance of KNNImputer\n",
    "imputer = KNNImputer()\n",
    "\n",
    "# scale values in both DataFrames and add the 'date' column back to each of them.\n",
    "train_scaled = pd.concat([train[non_scale_columns]] + \n",
    "                         [pd.DataFrame(imputer.fit_transform(train_scaled),\n",
    "                          columns = train_scaled.columns)], axis = 1)\n",
    "\n",
    "test_scaled = pd.concat([test[non_scale_columns]] + \n",
    "                        [pd.DataFrame(imputer.transform(test_scaled),\n",
    "                         columns=test_scaled.columns)], axis = 1)"
   ]
  },
  {
   "cell_type": "code",
   "execution_count": 41,
   "metadata": {},
   "outputs": [
    {
     "name": "stdout",
     "output_type": "stream",
     "text": [
      "train_scaled dataset - Number  of rows with NaNs:                        2711\n",
      "train_scaled dataset - Percent of rows with NaNs in one or both targets: 16.08%\n",
      "\n",
      "test_scaled dataset -  Number  of rows with NaNs:                        566\n",
      "test_scaled dataset -  Percent of rows with NaNs in one or both targets: 9.67%\n"
     ]
    }
   ],
   "source": [
    "# printing the remaining rows with NaNs in each dataset.\n",
    "print(f\"train_scaled dataset - Number  of rows with NaNs:                        {train_scaled.isnull().any(axis=1).sum()}\")\n",
    "print(f\"train_scaled dataset - Percent of rows with NaNs in one or both targets: {round (100 * (train_scaled.isnull().any(axis=1).sum() / len(train_scaled)), 2)}%\")\n",
    "print()\n",
    "print(f\"test_scaled dataset -  Number  of rows with NaNs:                        {test_scaled.isna().any(axis=1).sum()}\")\n",
    "print(f\"test_scaled dataset -  Percent of rows with NaNs in one or both targets: {round (100 * (test_scaled.isnull().any(axis=1).sum() / len(test_scaled)), 2)}%\")"
   ]
  },
  {
   "cell_type": "markdown",
   "metadata": {},
   "source": [
    "- We were able to get **from 24.8% to 16.08%** of missing values in train data.\n",
    "- We were able to get **from 10.71% to 9.67%** of missing values in test data."
   ]
  },
  {
   "cell_type": "markdown",
   "metadata": {},
   "source": [
    "At this point, there is not much we can do with the missing values that remained in our data, although these are a significant portion of the data (16% and 9.6%) we should consider dropping them continue with our study and in the worst-case scenario come back to this step and try to deal with it further."
   ]
  },
  {
   "cell_type": "code",
   "execution_count": 42,
   "metadata": {},
   "outputs": [],
   "source": [
    "# dropping rows with NaNs in target columns\n",
    "train_scaled = train_scaled.dropna().reset_index(drop=True)\n",
    "test_scaled = test_scaled.dropna().reset_index(drop=True)"
   ]
  },
  {
   "cell_type": "markdown",
   "metadata": {},
   "source": [
    "#### Conclusion"
   ]
  },
  {
   "cell_type": "markdown",
   "metadata": {},
   "source": [
    "At this stage of the study, we dealt with processing our data for our models to train on.<br>\n",
    "We didn't look at outliers at this stage because it makes more sense to do it while analyzing the data and understanding the context of these outliers.\n",
    "<br>\n",
    "\n",
    "- We looked deeper into our missing values and with the help of scaling and KNNImputer we were able to fill a significant portion of the missing values.\n",
    "- We exclude from this process the date column and the two targets as these are sensitive information for us and we don't want to change or damage it in any way and we need our date to remain as it is.\n",
    "- We were able to recover 8% of the training data values and 1% of the test data values in this process.\n",
    "- We decided to drop the remaining missing values although they are a significant portion of our data, as there is not much we can do with them at this stage and if we discover later on in the process that it damages our results we'll come back to deal with them further."
   ]
  },
  {
   "cell_type": "markdown",
   "metadata": {},
   "source": [
    "## Analyzing The Data"
   ]
  },
  {
   "cell_type": "markdown",
   "metadata": {},
   "source": [
    "At this stage, the data is ready to be analyzed."
   ]
  },
  {
   "cell_type": "markdown",
   "metadata": {},
   "source": [
    "### Concentrations of Metals (Au, Ag, Pb)"
   ]
  },
  {
   "cell_type": "markdown",
   "metadata": {},
   "source": [
    "Let's look at the concentration of metals at different stages of production.<br>\n",
    "We expect to see an increase in concentration as we move along the production line."
   ]
  },
  {
   "cell_type": "markdown",
   "metadata": {},
   "source": [
    "It seems to suit this case to use a reverse funnel graph to visualize how the concentrations change from stage to stage.<br>"
   ]
  },
  {
   "cell_type": "code",
   "execution_count": 43,
   "metadata": {},
   "outputs": [],
   "source": [
    "# creating a list of the stages of production\n",
    "stages = ['rougher.input.feed', 'rougher.output', 'primary_cleaner.output', 'final.output']\n",
    "\n",
    "# creating a dataframe fo gold consentration at each stage\n",
    "df_gold = pd.DataFrame(dict(concentrate=[round(source['rougher.input.feed_au'].mean(), 1),\n",
    "                                         round(source['rougher.output.concentrate_au'].mean(), 1),\n",
    "                                         round(source['primary_cleaner.output.concentrate_au'].mean(), 1),\n",
    "                                         round(source['final.output.concentrate_au'].mean(), 1)], \n",
    "                            stage=stages))\n",
    "\n",
    "# creating a dataframe fo silver consentration at each stage\n",
    "df_silver = pd.DataFrame(dict(concentrate=[round(source['rougher.input.feed_ag'].mean(), 1),\n",
    "                                           round(source['rougher.output.concentrate_ag'].mean(), 1),\n",
    "                                           round(source['primary_cleaner.output.concentrate_ag'].mean(), 1),\n",
    "                                           round(source['final.output.concentrate_ag'].mean(), 1)],\n",
    "                              stage=stages))\n",
    "\n",
    "# creating a dataframe fo lead consentration at each stage\n",
    "df_lead = pd.DataFrame(dict(concentrate=[round(source['rougher.input.feed_pb'].mean(), 1),\n",
    "                                         round(source['rougher.output.concentrate_pb'].mean(), 1),\n",
    "                                         round(source['primary_cleaner.output.concentrate_pb'].mean(), 1),\n",
    "                                         round(source['final.output.concentrate_pb'].mean(), 1)],\n",
    "                            stage=stages))"
   ]
  },
  {
   "cell_type": "markdown",
   "metadata": {},
   "source": [
    "Plotting the reverse funnel"
   ]
  },
  {
   "cell_type": "code",
   "execution_count": 44,
   "metadata": {},
   "outputs": [
    {
     "data": {
      "image/png": "[encoded data removed]"
     },
     "metadata": {},
     "output_type": "display_data"
    }
   ],
   "source": [
    "fig = go.Figure()\n",
    "\n",
    "# gold funnel\n",
    "fig.add_trace(go.Funnel(\n",
    "    name = 'Au - Gold',\n",
    "    y = df_gold['stage'],\n",
    "    x = df_gold['concentrate'],\n",
    "    textposition = \"inside\",\n",
    "    textinfo = \"value + percent previous\"))\n",
    "\n",
    "# silver funnel\n",
    "fig.add_trace(go.Funnel(\n",
    "    name = 'Ag - Silver',\n",
    "    y = df_silver['stage'],\n",
    "    x = df_silver['concentrate'],\n",
    "    textposition = \"inside\",\n",
    "    textinfo = \"value + percent previous\"))\n",
    "\n",
    "# lead funnel\n",
    "fig.add_trace(go.Funnel(\n",
    "    name = 'Pb - Lead',\n",
    "    y = df_lead['stage'],\n",
    "    x = df_lead['concentrate'],\n",
    "    textposition = \"inside\",\n",
    "    textinfo = \"value + percent previous\"))\n",
    "\n",
    "# changing color to suite the different metals\n",
    "fig.data[0].marker.color = \"gold\"\n",
    "fig.data[1].marker.color = \"silver\"\n",
    "fig.data[2].marker.color = \"dimgray\"\n",
    "\n",
    "# legend title\n",
    "fig.update_layout(legend_title_text='Metals')\n",
    "\n",
    "# plot title\n",
    "fig.update_layout(\n",
    "                  title={'text': \"The Concentration of Metals (Gold, Silver, Lead) At Each Stage of Production\",\n",
    "                         'y':0.9,'x':0.5,'xanchor': 'center','yanchor': 'top'}\n",
    "                 )\n",
    "fig.show(\"png\")"
   ]
  },
  {
   "cell_type": "markdown",
   "metadata": {},
   "source": [
    "#### Conclusion"
   ]
  },
  {
   "cell_type": "markdown",
   "metadata": {},
   "source": [
    "Here we have a reverse funnel plot that shows the concentration(%) of metals at each stage of production and the difference in percentage from the previous stage.<br>\n",
    "##### Gold Concentration\n",
    "- We can see that overall gold concentration is increasing, the biggest increase is after the floatation stage an increase of 236% compared to what came in. \n",
    "- Then after the primary cleaner we have an increase of 163%.\n",
    "- and in the last stage, the secondary cleaner we have an increase of 137% compared to the previous stage.\n",
    "<br>\n",
    "\n",
    "##### Silver Concentration\n",
    "- We can see that overall Silver concentration is decreasing, the biggest decrease is after the secondary cleaner stage at a decrease of 38% compared to the previous stage. \n",
    "- The single increase that we do have with silver is after the floatation process and it makes sense as a lot of unusable material is disposed of at this stage, so compared to what came in we have more metal at this stage.\n",
    "- Then we see a decrease in concentration in the cleaning stages.\n",
    "<br>\n",
    "\n",
    "##### Lead Concentration\n",
    "- We can see that overall lead concentration is increasing, the biggest increase is after the floatation stage an increase of 209% compared to what came in. \n",
    "- Then after the primary cleaner we have an increase of 129%.\n",
    "- and in the last stage, the secondary cleaner we have an increase of 102% which is almost identical to the previous stage."
   ]
  },
  {
   "cell_type": "markdown",
   "metadata": {},
   "source": [
    "### Comparing The Distribution of Feed Particle Size Between Train and Test Data"
   ]
  },
  {
   "cell_type": "markdown",
   "metadata": {},
   "source": [
    "Now let us take a closer look at the feed particle size, especially how the distribution differs between the train set and the test set."
   ]
  },
  {
   "cell_type": "code",
   "execution_count": 45,
   "metadata": {},
   "outputs": [
    {
     "data": {
      "image/png": "[encoded data removed]",
      "text/plain": [
       "<Figure size 864x432 with 1 Axes>"
      ]
     },
     "metadata": {},
     "output_type": "display_data"
    }
   ],
   "source": [
    "fig = plt.figure(figsize=(12,6))\n",
    "\n",
    "# plot title\n",
    "fig.suptitle('Distribution of Feed Particle Size Between Train and Test Data', size = 16)\n",
    "\n",
    "# plotting distplot for 'rougher.input.feed_size' stage for both sets of data\n",
    "sns.distplot(train_scaled['rougher.input.feed_size'], label = 'Train - rougher.input.feed_size')\n",
    "sns.distplot(test_scaled['rougher.input.feed_size'], label = 'Test - rougher.input.feed_size')\n",
    "\n",
    "# plotting distplot for 'primary_cleaner.input.feed_size' stage for both sets of data\n",
    "sns.distplot(train_scaled['primary_cleaner.input.feed_size'], label = 'Train - primary_cleaner.input.feed_size')\n",
    "sns.distplot(test_scaled['primary_cleaner.input.feed_size'], label = 'Test - primary_cleaner.input.feed_size')\n",
    "\n",
    "# legend font size\n",
    "plt.legend(fontsize=12)\n",
    "\n",
    "# axes labels\n",
    "plt.xlabel(\"Particle Size (scaled)\", size = 12)\n",
    "plt.ylabel(\"Frequency and Density\", size = 12)\n",
    "\n",
    "plt.show()"
   ]
  },
  {
   "cell_type": "markdown",
   "metadata": {},
   "source": [
    "#### Conclusion"
   ]
  },
  {
   "cell_type": "markdown",
   "metadata": {},
   "source": [
    "As we can see from the graph **the distributions of both stages in both sets of the data are pretty similar to one another.**<br>\n",
    "**That is a good thing** as widely differing in the distribution of a key feature like 'feed.size' between training and testing data sets might have a negative effect on the model's performance.\n",
    "\n",
    "It's important to note that the scale of this graph is not the real scale, it is normalized."
   ]
  },
  {
   "cell_type": "markdown",
   "metadata": {},
   "source": [
    "### The Total Concentrations of All Metals at Different Stages"
   ]
  },
  {
   "cell_type": "markdown",
   "metadata": {},
   "source": [
    "We've looked at the different concentrations of metals at different stages as well as the distribution of feed size particles between the data sets.<br>\n",
    "Let's investigate the total concentration of metal at different stages of production.<br>\n",
    "We expect to see an increase in concentration from stage to stage."
   ]
  },
  {
   "cell_type": "code",
   "execution_count": 46,
   "metadata": {},
   "outputs": [],
   "source": [
    "# creating a function to claculate the total concentration of metals at different stages of production.\n",
    "# the function gets dataframe and stage of production\n",
    "# it returns the total concentrate of metals at this stage\n",
    "\n",
    "def total_metal_concentration(data, stage):\n",
    "    metals = ['_au','_ag','_pb']\n",
    "    \n",
    "    total_metal_concentration = (\n",
    "                                 data[stage + metals[0]] + \n",
    "                                 data[stage + metals[1]] + \n",
    "                                 data[stage + metals[2]]\n",
    "                                )\n",
    "    return total_metal_concentration"
   ]
  },
  {
   "cell_type": "code",
   "execution_count": 47,
   "metadata": {},
   "outputs": [
    {
     "data": {
      "image/png": "[encoded data removed]",
      "text/plain": [
       "<Figure size 864x432 with 1 Axes>"
      ]
     },
     "metadata": {},
     "output_type": "display_data"
    }
   ],
   "source": [
    "fig = plt.figure(figsize=(12,6))\n",
    "\n",
    "# plot title\n",
    "fig.suptitle('The Total Concentrations of All Metals at Different Stages of Production', size = 16)\n",
    "\n",
    "# plotting distplot of total metal concentrations at different stages of the source data \n",
    "# using total_metal_concentration function\n",
    "sns.distplot(total_metal_concentration(source, 'rougher.input.feed'),         label = 'rougher.input.feed')\n",
    "sns.distplot(total_metal_concentration(source, 'rougher.output.concentrate'), label = 'rougher.output.concentrate')\n",
    "sns.distplot(total_metal_concentration(source, 'final.output.concentrate'),   label = 'final.output.concentrate')\n",
    "\n",
    "# legend font size\n",
    "plt.legend(fontsize=12)\n",
    "\n",
    "# axes labels\n",
    "plt.xlabel(\"Concentration of Metals (%)\", size = 12)\n",
    "plt.ylabel(\"Frequency and Density\", size = 12)\n",
    "\n",
    "plt.show()"
   ]
  },
  {
   "cell_type": "markdown",
   "metadata": {},
   "source": [
    "#### Conclusion"
   ]
  },
  {
   "cell_type": "markdown",
   "metadata": {},
   "source": [
    "Although we see an increase in total metal concentration from stage to stage,<br>\n",
    "we can also see that we have values of 0 and values around zero for each stage, we would expect to see that for later stages there will be no 0 values as the purification increases.\n",
    "<br>\n",
    "\n",
    "Therefore we can consider these values as outliers in our data as they do not contribute to our information gain and they are probably caused by a malfunction of production sensors that failed to transmit data at certain points in time."
   ]
  },
  {
   "cell_type": "markdown",
   "metadata": {},
   "source": [
    "### Addressing Outliers"
   ]
  },
  {
   "cell_type": "markdown",
   "metadata": {},
   "source": [
    "We'll use the data from the first stage of production to decide where the outlier threshold should be since the outliers are on the left side of our graph."
   ]
  },
  {
   "cell_type": "code",
   "execution_count": 48,
   "metadata": {},
   "outputs": [
    {
     "data": {
      "text/html": [
       "<div>\n",
       "<style scoped>\n",
       "    .dataframe tbody tr th:only-of-type {\n",
       "        vertical-align: middle;\n",
       "    }\n",
       "\n",
       "    .dataframe tbody tr th {\n",
       "        vertical-align: top;\n",
       "    }\n",
       "\n",
       "    .dataframe thead th {\n",
       "        text-align: right;\n",
       "    }\n",
       "</style>\n",
       "<table border=\"1\" class=\"dataframe\">\n",
       "  <thead>\n",
       "    <tr style=\"text-align: right;\">\n",
       "      <th></th>\n",
       "      <th>concentrations</th>\n",
       "    </tr>\n",
       "  </thead>\n",
       "  <tbody>\n",
       "    <tr>\n",
       "      <th>1652</th>\n",
       "      <td>18.617</td>\n",
       "    </tr>\n",
       "    <tr>\n",
       "      <th>14794</th>\n",
       "      <td>18.861</td>\n",
       "    </tr>\n",
       "    <tr>\n",
       "      <th>18536</th>\n",
       "      <td>25.883</td>\n",
       "    </tr>\n",
       "    <tr>\n",
       "      <th>19520</th>\n",
       "      <td>16.331</td>\n",
       "    </tr>\n",
       "    <tr>\n",
       "      <th>3986</th>\n",
       "      <td>17.755</td>\n",
       "    </tr>\n",
       "  </tbody>\n",
       "</table>\n",
       "</div>"
      ],
      "text/plain": [
       "       concentrations\n",
       "1652           18.617\n",
       "14794          18.861\n",
       "18536          25.883\n",
       "19520          16.331\n",
       "3986           17.755"
      ]
     },
     "execution_count": 48,
     "metadata": {},
     "output_type": "execute_result"
    }
   ],
   "source": [
    "# creating a dataframe of the total concentrations of metal at the first stage of production\n",
    "outlier_thershold = pd.DataFrame(total_metal_concentration(source, 'rougher.input.feed'),columns = ['concentrations'])\n",
    "outlier_thershold.sample(5)"
   ]
  },
  {
   "cell_type": "code",
   "execution_count": 67,
   "metadata": {},
   "outputs": [
    {
     "data": {
      "image/png": "[encoded data removed]"
     },
     "metadata": {},
     "output_type": "display_data"
    }
   ],
   "source": [
    "# plotting a violin plot to determine where the outlier threshold should be applied\n",
    "fig = px.violin(outlier_thershold, x=\"concentrations\", box=True, points='all')\n",
    "fig.show(\"png\")"
   ]
  },
  {
   "cell_type": "markdown",
   "metadata": {},
   "source": [
    "- **We can see from the graph that the lower fence sits at 6.09.**<br>\n",
    "- The plot suggests that below that point we should consider our observations as outliers and therefore we should remove them."
   ]
  },
  {
   "cell_type": "code",
   "execution_count": 50,
   "metadata": {},
   "outputs": [
    {
     "data": {
      "text/html": [
       "<div>\n",
       "<style scoped>\n",
       "    .dataframe tbody tr th:only-of-type {\n",
       "        vertical-align: middle;\n",
       "    }\n",
       "\n",
       "    .dataframe tbody tr th {\n",
       "        vertical-align: top;\n",
       "    }\n",
       "\n",
       "    .dataframe thead th {\n",
       "        text-align: right;\n",
       "    }\n",
       "</style>\n",
       "<table border=\"1\" class=\"dataframe\">\n",
       "  <thead>\n",
       "    <tr style=\"text-align: right;\">\n",
       "      <th></th>\n",
       "      <th>date</th>\n",
       "      <th>final.output.concentrate_ag</th>\n",
       "      <th>final.output.concentrate_pb</th>\n",
       "      <th>final.output.concentrate_sol</th>\n",
       "      <th>final.output.concentrate_au</th>\n",
       "      <th>final.output.recovery</th>\n",
       "      <th>final.output.tail_ag</th>\n",
       "      <th>final.output.tail_pb</th>\n",
       "      <th>final.output.tail_sol</th>\n",
       "      <th>final.output.tail_au</th>\n",
       "      <th>...</th>\n",
       "      <th>secondary_cleaner.state.floatbank4_a_air</th>\n",
       "      <th>secondary_cleaner.state.floatbank4_a_level</th>\n",
       "      <th>secondary_cleaner.state.floatbank4_b_air</th>\n",
       "      <th>secondary_cleaner.state.floatbank4_b_level</th>\n",
       "      <th>secondary_cleaner.state.floatbank5_a_air</th>\n",
       "      <th>secondary_cleaner.state.floatbank5_a_level</th>\n",
       "      <th>secondary_cleaner.state.floatbank5_b_air</th>\n",
       "      <th>secondary_cleaner.state.floatbank5_b_level</th>\n",
       "      <th>secondary_cleaner.state.floatbank6_a_air</th>\n",
       "      <th>secondary_cleaner.state.floatbank6_a_level</th>\n",
       "    </tr>\n",
       "  </thead>\n",
       "  <tbody>\n",
       "    <tr>\n",
       "      <th>0</th>\n",
       "      <td>2016-01-15 00:00:00</td>\n",
       "      <td>6.055</td>\n",
       "      <td>9.890</td>\n",
       "      <td>5.507</td>\n",
       "      <td>42.192</td>\n",
       "      <td>70.541</td>\n",
       "      <td>10.412</td>\n",
       "      <td>0.895</td>\n",
       "      <td>16.904</td>\n",
       "      <td>2.143</td>\n",
       "      <td>...</td>\n",
       "      <td>14.017</td>\n",
       "      <td>-502.488</td>\n",
       "      <td>12.100</td>\n",
       "      <td>-504.716</td>\n",
       "      <td>9.926</td>\n",
       "      <td>-498.310</td>\n",
       "      <td>8.080</td>\n",
       "      <td>-500.471</td>\n",
       "      <td>14.151</td>\n",
       "      <td>-605.842</td>\n",
       "    </tr>\n",
       "    <tr>\n",
       "      <th>1</th>\n",
       "      <td>2016-01-15 01:00:00</td>\n",
       "      <td>6.029</td>\n",
       "      <td>9.969</td>\n",
       "      <td>5.258</td>\n",
       "      <td>42.702</td>\n",
       "      <td>69.266</td>\n",
       "      <td>10.463</td>\n",
       "      <td>0.927</td>\n",
       "      <td>16.635</td>\n",
       "      <td>2.225</td>\n",
       "      <td>...</td>\n",
       "      <td>13.992</td>\n",
       "      <td>-505.503</td>\n",
       "      <td>11.951</td>\n",
       "      <td>-501.332</td>\n",
       "      <td>10.039</td>\n",
       "      <td>-500.170</td>\n",
       "      <td>7.985</td>\n",
       "      <td>-500.582</td>\n",
       "      <td>13.998</td>\n",
       "      <td>-599.787</td>\n",
       "    </tr>\n",
       "    <tr>\n",
       "      <th>2</th>\n",
       "      <td>2016-01-15 02:00:00</td>\n",
       "      <td>6.056</td>\n",
       "      <td>10.214</td>\n",
       "      <td>5.384</td>\n",
       "      <td>42.658</td>\n",
       "      <td>68.116</td>\n",
       "      <td>10.507</td>\n",
       "      <td>0.954</td>\n",
       "      <td>16.209</td>\n",
       "      <td>2.258</td>\n",
       "      <td>...</td>\n",
       "      <td>14.015</td>\n",
       "      <td>-502.521</td>\n",
       "      <td>11.913</td>\n",
       "      <td>-501.133</td>\n",
       "      <td>10.071</td>\n",
       "      <td>-500.129</td>\n",
       "      <td>8.014</td>\n",
       "      <td>-500.518</td>\n",
       "      <td>14.029</td>\n",
       "      <td>-601.427</td>\n",
       "    </tr>\n",
       "  </tbody>\n",
       "</table>\n",
       "<p>3 rows × 87 columns</p>\n",
       "</div>"
      ],
      "text/plain": [
       "                 date  final.output.concentrate_ag  \\\n",
       "0 2016-01-15 00:00:00                        6.055   \n",
       "1 2016-01-15 01:00:00                        6.029   \n",
       "2 2016-01-15 02:00:00                        6.056   \n",
       "\n",
       "   final.output.concentrate_pb  final.output.concentrate_sol  \\\n",
       "0                        9.890                         5.507   \n",
       "1                        9.969                         5.258   \n",
       "2                       10.214                         5.384   \n",
       "\n",
       "   final.output.concentrate_au  final.output.recovery  final.output.tail_ag  \\\n",
       "0                       42.192                 70.541                10.412   \n",
       "1                       42.702                 69.266                10.463   \n",
       "2                       42.658                 68.116                10.507   \n",
       "\n",
       "   final.output.tail_pb  final.output.tail_sol  final.output.tail_au  ...  \\\n",
       "0                 0.895                 16.904                 2.143  ...   \n",
       "1                 0.927                 16.635                 2.225  ...   \n",
       "2                 0.954                 16.209                 2.258  ...   \n",
       "\n",
       "   secondary_cleaner.state.floatbank4_a_air  \\\n",
       "0                                    14.017   \n",
       "1                                    13.992   \n",
       "2                                    14.015   \n",
       "\n",
       "   secondary_cleaner.state.floatbank4_a_level  \\\n",
       "0                                    -502.488   \n",
       "1                                    -505.503   \n",
       "2                                    -502.521   \n",
       "\n",
       "   secondary_cleaner.state.floatbank4_b_air  \\\n",
       "0                                    12.100   \n",
       "1                                    11.951   \n",
       "2                                    11.913   \n",
       "\n",
       "   secondary_cleaner.state.floatbank4_b_level  \\\n",
       "0                                    -504.716   \n",
       "1                                    -501.332   \n",
       "2                                    -501.133   \n",
       "\n",
       "   secondary_cleaner.state.floatbank5_a_air  \\\n",
       "0                                     9.926   \n",
       "1                                    10.039   \n",
       "2                                    10.071   \n",
       "\n",
       "   secondary_cleaner.state.floatbank5_a_level  \\\n",
       "0                                    -498.310   \n",
       "1                                    -500.170   \n",
       "2                                    -500.129   \n",
       "\n",
       "   secondary_cleaner.state.floatbank5_b_air  \\\n",
       "0                                     8.080   \n",
       "1                                     7.985   \n",
       "2                                     8.014   \n",
       "\n",
       "   secondary_cleaner.state.floatbank5_b_level  \\\n",
       "0                                    -500.471   \n",
       "1                                    -500.582   \n",
       "2                                    -500.518   \n",
       "\n",
       "   secondary_cleaner.state.floatbank6_a_air  \\\n",
       "0                                    14.151   \n",
       "1                                    13.998   \n",
       "2                                    14.029   \n",
       "\n",
       "   secondary_cleaner.state.floatbank6_a_level  \n",
       "0                                    -605.842  \n",
       "1                                    -599.787  \n",
       "2                                    -601.427  \n",
       "\n",
       "[3 rows x 87 columns]"
      ]
     },
     "execution_count": 50,
     "metadata": {},
     "output_type": "execute_result"
    }
   ],
   "source": [
    "# creating a subset of source data, where the total concentration on metals at each stage is above 6.09\n",
    "source_no_outliers = source.loc[(source[['rougher.input.feed_au', 'rougher.input.feed_ag', 'rougher.input.feed_pb']].sum(axis = 1) > 6.09)\n",
    "                                & (source[['rougher.output.concentrate_au', 'rougher.output.concentrate_ag', 'rougher.output.concentrate_pb']].sum(axis = 1) > 6.09)\n",
    "                                & (source[['final.output.concentrate_au', 'final.output.concentrate_ag', 'final.output.concentrate_pb']].sum(axis = 1) > 6.09)\n",
    "                               ]\n",
    "\n",
    "source_no_outliers.head(3)"
   ]
  },
  {
   "cell_type": "code",
   "execution_count": 51,
   "metadata": {},
   "outputs": [
    {
     "name": "stdout",
     "output_type": "stream",
     "text": [
      "The number of outliers rows removed from the data: 2943\n"
     ]
    }
   ],
   "source": [
    "# printing the number of rows that we discarded\n",
    "print(f'The number of outliers rows removed from the data: {len(source) - len(source_no_outliers)}')"
   ]
  },
  {
   "cell_type": "markdown",
   "metadata": {},
   "source": [
    "- We've discarded 2,943 rows of outliers, now we'll look at the data again and see the effect of the removal of the outliers."
   ]
  },
  {
   "cell_type": "code",
   "execution_count": 52,
   "metadata": {},
   "outputs": [
    {
     "data": {
      "image/png": "[encoded data removed]",
      "text/plain": [
       "<Figure size 864x432 with 1 Axes>"
      ]
     },
     "metadata": {},
     "output_type": "display_data"
    }
   ],
   "source": [
    "fig = plt.figure(figsize=(12,6))\n",
    "\n",
    "# plot title\n",
    "fig.suptitle('The Total Concentrations of All Metals at Different Stages - No Outliers', size = 16)\n",
    "\n",
    "# plotting distplot of total metal concentrations at different stages of the source data without outliers \n",
    "# using total_metal_concentration function\n",
    "sns.distplot(total_metal_concentration(source_no_outliers, 'rougher.input.feed'),         label = 'rougher.input.feed')\n",
    "sns.distplot(total_metal_concentration(source_no_outliers, 'rougher.output.concentrate'), label = 'rougher.output.concentrate')\n",
    "sns.distplot(total_metal_concentration(source_no_outliers, 'final.output.concentrate'),   label = 'final.output.concentrate')\n",
    "\n",
    "# legend font size\n",
    "plt.legend(fontsize=12)\n",
    "\n",
    "# axes labels\n",
    "plt.xlabel(\"Concentration of Metals (%)\", size = 12)\n",
    "plt.ylabel(\"Frequency and Density\", size = 12)\n",
    "\n",
    "plt.show()"
   ]
  },
  {
   "cell_type": "markdown",
   "metadata": {},
   "source": [
    "#### Conclusion"
   ]
  },
  {
   "cell_type": "markdown",
   "metadata": {},
   "source": [
    "- We can see that there are no outliers in the data now and it does make more sense.<br>\n",
    "- We can also see the increase in the concentration from stage to stage as well as the values becoming less and less sparse."
   ]
  },
  {
   "cell_type": "markdown",
   "metadata": {},
   "source": [
    "### Addressing Outliers in Train and Test"
   ]
  },
  {
   "cell_type": "markdown",
   "metadata": {},
   "source": [
    "We addressed the outliers in the source data, we need to discard the same data in the train and test sets."
   ]
  },
  {
   "cell_type": "code",
   "execution_count": 53,
   "metadata": {},
   "outputs": [
    {
     "data": {
      "text/html": [
       "<div>\n",
       "<style scoped>\n",
       "    .dataframe tbody tr th:only-of-type {\n",
       "        vertical-align: middle;\n",
       "    }\n",
       "\n",
       "    .dataframe tbody tr th {\n",
       "        vertical-align: top;\n",
       "    }\n",
       "\n",
       "    .dataframe thead th {\n",
       "        text-align: right;\n",
       "    }\n",
       "</style>\n",
       "<table border=\"1\" class=\"dataframe\">\n",
       "  <thead>\n",
       "    <tr style=\"text-align: right;\">\n",
       "      <th></th>\n",
       "      <th>Initial Length</th>\n",
       "      <th>Length Without Outliers</th>\n",
       "      <th>Change in (%)</th>\n",
       "    </tr>\n",
       "  </thead>\n",
       "  <tbody>\n",
       "    <tr>\n",
       "      <th>Train Data</th>\n",
       "      <td>14149</td>\n",
       "      <td>13779</td>\n",
       "      <td>2.620</td>\n",
       "    </tr>\n",
       "    <tr>\n",
       "      <th>Test Data</th>\n",
       "      <td>5290</td>\n",
       "      <td>5151</td>\n",
       "      <td>2.630</td>\n",
       "    </tr>\n",
       "  </tbody>\n",
       "</table>\n",
       "</div>"
      ],
      "text/plain": [
       "            Initial Length  Length Without Outliers  Change in (%)\n",
       "Train Data           14149                    13779          2.620\n",
       "Test Data             5290                     5151          2.630"
      ]
     },
     "metadata": {},
     "output_type": "display_data"
    }
   ],
   "source": [
    "# legnth of data before removing outliers.\n",
    "length_before = [len(train_scaled), len(test_scaled)]\n",
    "\n",
    "# removing outliers from train and test by the date in source\n",
    "train_scaled = train_scaled.loc[train_scaled['date'].isin(source_no_outliers['date'])].reset_index()\n",
    "test_scaled  = test_scaled .loc[test_scaled ['date'].isin(source_no_outliers['date'])].reset_index()\n",
    "\n",
    "# changes in the length of data before and after\n",
    "display(pd.DataFrame([[length_before[0], len(train_scaled), round((1 - (len(train_scaled) / length_before[0]))*100, 2)],\n",
    "                      [length_before[1], len(test_scaled) , round((1 - (len(test_scaled) / length_before[1]))*100, 2)]],\n",
    "                     columns = ['Initial Length', 'Length Without Outliers', 'Change in (%)'], index = ['Train Data','Test Data']\n",
    "                    ))"
   ]
  },
  {
   "cell_type": "markdown",
   "metadata": {},
   "source": [
    "#### Conclusion"
   ]
  },
  {
   "cell_type": "markdown",
   "metadata": {},
   "source": [
    "- We discarded the rows that contained outliers in train and test data sets using the date column of source data."
   ]
  },
  {
   "cell_type": "markdown",
   "metadata": {},
   "source": [
    "### Conclusion"
   ]
  },
  {
   "cell_type": "markdown",
   "metadata": {},
   "source": [
    "In this part of our study, we looked deeper into the data, analyzed key features at different stages of production and between our different data sets.\n",
    "<br>\n",
    "We also observed outliers and values that don't make much sense or contribute anything to our information gained from the data and we took care of them.\n",
    "<br>\n",
    "\n",
    "- We know that overall our gold concentration is increasing.\n",
    "- We know that overall our silver concentration is decreasing.\n",
    "- We know that overall our lead concentration is increasing.\n",
    "- The distributions of feed particle size before and after floatation in both train and test sets of the data are pretty similar to one another. That is a good thing as widely differing in the distribution of a key feature like 'feed.size' between training and testing data sets might harm the model's performance.\n",
    "- We saw an increase in total metal concentration from stage to stage, but we also saw that we have values of 0 and values around zero for each stage, we would expect to see that for later stages there will be no 0 values as the purification increases. Therefore we considered these values as outliers in our data and removed them.\n",
    "- We saw the increase in the concentration from stage to stage as well as the concentration values become less and less sparse."
   ]
  },
  {
   "cell_type": "markdown",
   "metadata": {},
   "source": [
    "## Training Models"
   ]
  },
  {
   "cell_type": "markdown",
   "metadata": {},
   "source": [
    "The data sets are now ready to be used to train different models. <br>\n",
    "To maximize our model's ability to predict the results as best as possible, we use grid search and cross-validation to find the best parameters to use.<br>\n",
    "The best scoring model will be tested against our test data, which simulates a real-world scenario where there is no prior knowledge of the data."
   ]
  },
  {
   "cell_type": "markdown",
   "metadata": {},
   "source": [
    "### Creating sMAPE score function."
   ]
  },
  {
   "cell_type": "markdown",
   "metadata": {},
   "source": [
    "In this study, we will use the sMAPE score, which is similar to MAE, but expressed in relative terms instead of absolute ones.<br>\n",
    "As we have two columns to predict from different stages of the production line, we'll modify sMAPE and name it Final sMAPE, which consists of both columns in a ratio of 25:75 for the beginning of the production line and the end respectively."
   ]
  },
  {
   "cell_type": "markdown",
   "metadata": {},
   "source": [
    "We'll create a function for sMAPE to be used in our Final sMAPE function as well."
   ]
  },
  {
   "cell_type": "code",
   "execution_count": 54,
   "metadata": {},
   "outputs": [],
   "source": [
    "# a function to calculate sMAPE score.\n",
    "def smape_calc(target_true, target_pred):\n",
    "    smape = np.mean(abs(target_pred - target_true) / ((abs(target_true) + abs(target_pred)) / 2)) * 100\n",
    "    return smape\n",
    "\n",
    "# a function to calculate final sMAPE as instructed in the description.\n",
    "def final_smape(target_true, target_pred):\n",
    "    predicted_raw, predicted_final = target_pred[:, 0], target_pred[:, 1]\n",
    "    target_true_raw,      target_true_final      = target_true[:, 0], target_true[:, 1]\n",
    "    final_smape = ((0.25 * (smape_calc(target_true_raw, predicted_raw))) + \n",
    "                   (0.75 * (smape_calc(target_true_final, predicted_final))))\n",
    "    return final_smape"
   ]
  },
  {
   "cell_type": "markdown",
   "metadata": {},
   "source": [
    "### Seperating features and targets for training and test set."
   ]
  },
  {
   "cell_type": "markdown",
   "metadata": {},
   "source": [
    "We'll separate our targets and features of each data set into a variable."
   ]
  },
  {
   "cell_type": "code",
   "execution_count": 55,
   "metadata": {},
   "outputs": [],
   "source": [
    "# creating a list of feature and target columns.\n",
    "targets  = ['rougher.output.recovery','final.output.recovery']\n",
    "features = [x for x in train_scaled if x not in targets and x != 'date']\n",
    "\n",
    "# splitting train and test datasets by features and targets\n",
    "train_targets,   test_targets   = train_scaled[targets] .values, test_scaled[targets] .values\n",
    "train_features, test_features   = train_scaled[features].values, test_scaled[features].values"
   ]
  },
  {
   "cell_type": "code",
   "execution_count": 56,
   "metadata": {},
   "outputs": [
    {
     "data": {
      "text/plain": [
       "(13779, 53)"
      ]
     },
     "metadata": {},
     "output_type": "display_data"
    },
    {
     "data": {
      "text/plain": [
       "(13779, 2)"
      ]
     },
     "metadata": {},
     "output_type": "display_data"
    },
    {
     "data": {
      "text/plain": [
       "(5151, 53)"
      ]
     },
     "metadata": {},
     "output_type": "display_data"
    },
    {
     "data": {
      "text/plain": [
       "(5151, 2)"
      ]
     },
     "metadata": {},
     "output_type": "display_data"
    }
   ],
   "source": [
    "display(train_features.shape, train_targets.shape, test_features.shape, test_targets.shape)"
   ]
  },
  {
   "cell_type": "markdown",
   "metadata": {},
   "source": [
    "looks right!"
   ]
  },
  {
   "cell_type": "markdown",
   "metadata": {},
   "source": [
    "### Creating a scorer and Training function"
   ]
  },
  {
   "cell_type": "markdown",
   "metadata": {},
   "source": [
    "Wrapping our Final sMAPE function as a callable scorer to be used in grid-search, It takes a score function and returns a callable that scores an estimator’s output.\n",
    "<br>\n",
    "\n",
    "Creating a function to train the model using grid-search, cross-validation, and score the model using our sMAPE metric,\n",
    "it returns a data frame with the name of the model, the best score, and the best parameters."
   ]
  },
  {
   "cell_type": "code",
   "execution_count": 57,
   "metadata": {},
   "outputs": [],
   "source": [
    "# making a scorer for GridSearchcV.\n",
    "smape = make_scorer(final_smape, greater_is_better = False)\n",
    "\n",
    "# a function to train and fit models using GridSearchCV\n",
    "# it returns a dataframe with the name of the model, the best score and the best parameters.\n",
    "def train_fit_score(model, params, name):\n",
    "    model = GridSearchCV(model, param_grid = params, cv = 5, scoring = smape, verbose = 0, refit = True)\n",
    "    model.fit(train_features, train_targets)\n",
    "    return pd.DataFrame([[name, abs(model.best_score_), model.best_params_]], columns = ['Estimator', 'Best Score', 'Best Parameters'])"
   ]
  },
  {
   "cell_type": "markdown",
   "metadata": {},
   "source": [
    "### Training Linear Reggresion"
   ]
  },
  {
   "cell_type": "markdown",
   "metadata": {},
   "source": [
    "Training a Linear Regression model using our train_fit_score function."
   ]
  },
  {
   "cell_type": "code",
   "execution_count": 58,
   "metadata": {},
   "outputs": [
    {
     "name": "stdout",
     "output_type": "stream",
     "text": [
      "CPU times: user 313 ms, sys: 17.4 ms, total: 331 ms\n",
      "Wall time: 101 ms\n"
     ]
    },
    {
     "data": {
      "text/html": [
       "<div>\n",
       "<style scoped>\n",
       "    .dataframe tbody tr th:only-of-type {\n",
       "        vertical-align: middle;\n",
       "    }\n",
       "\n",
       "    .dataframe tbody tr th {\n",
       "        vertical-align: top;\n",
       "    }\n",
       "\n",
       "    .dataframe thead th {\n",
       "        text-align: right;\n",
       "    }\n",
       "</style>\n",
       "<table border=\"1\" class=\"dataframe\">\n",
       "  <thead>\n",
       "    <tr style=\"text-align: right;\">\n",
       "      <th></th>\n",
       "      <th>Estimator</th>\n",
       "      <th>Best Score</th>\n",
       "      <th>Best Parameters</th>\n",
       "    </tr>\n",
       "  </thead>\n",
       "  <tbody>\n",
       "    <tr>\n",
       "      <th>0</th>\n",
       "      <td>Linear Regression</td>\n",
       "      <td>8.861</td>\n",
       "      <td>{}</td>\n",
       "    </tr>\n",
       "  </tbody>\n",
       "</table>\n",
       "</div>"
      ],
      "text/plain": [
       "           Estimator  Best Score Best Parameters\n",
       "0  Linear Regression       8.861              {}"
      ]
     },
     "execution_count": 58,
     "metadata": {},
     "output_type": "execute_result"
    }
   ],
   "source": [
    "%%time\n",
    "# Training a Linear Regressor\n",
    "Linear = train_fit_score(model  = LinearRegression(), \n",
    "                                  params = {}, \n",
    "                                  name   = 'Linear Regression')\n",
    "Linear"
   ]
  },
  {
   "cell_type": "markdown",
   "metadata": {},
   "source": [
    "#### Conclusion"
   ]
  },
  {
   "cell_type": "markdown",
   "metadata": {},
   "source": [
    "- This is our first model so we have nothing to compare the score with.\n",
    "- But we can see that training the model is pretty fast."
   ]
  },
  {
   "cell_type": "markdown",
   "metadata": {},
   "source": [
    "### Training Lasso Regressor"
   ]
  },
  {
   "cell_type": "markdown",
   "metadata": {},
   "source": [
    "Training a Lasso Regressor model using our train_fit_score function, we'll iterate over different values of 'alpha' which is the constant that multiplies the L1 term.<br>\n",
    "the default value is 1, we'll iterate from 0.01 to 1 in steps of 0.05"
   ]
  },
  {
   "cell_type": "code",
   "execution_count": 59,
   "metadata": {},
   "outputs": [
    {
     "name": "stdout",
     "output_type": "stream",
     "text": [
      "CPU times: user 6.32 s, sys: 91.4 ms, total: 6.41 s\n",
      "Wall time: 1.83 s\n"
     ]
    },
    {
     "data": {
      "text/html": [
       "<div>\n",
       "<style scoped>\n",
       "    .dataframe tbody tr th:only-of-type {\n",
       "        vertical-align: middle;\n",
       "    }\n",
       "\n",
       "    .dataframe tbody tr th {\n",
       "        vertical-align: top;\n",
       "    }\n",
       "\n",
       "    .dataframe thead th {\n",
       "        text-align: right;\n",
       "    }\n",
       "</style>\n",
       "<table border=\"1\" class=\"dataframe\">\n",
       "  <thead>\n",
       "    <tr style=\"text-align: right;\">\n",
       "      <th></th>\n",
       "      <th>Estimator</th>\n",
       "      <th>Best Score</th>\n",
       "      <th>Best Parameters</th>\n",
       "    </tr>\n",
       "  </thead>\n",
       "  <tbody>\n",
       "    <tr>\n",
       "      <th>0</th>\n",
       "      <td>Lasso Regressor</td>\n",
       "      <td>7.995</td>\n",
       "      <td>{'alpha': 0.060000000000000005}</td>\n",
       "    </tr>\n",
       "  </tbody>\n",
       "</table>\n",
       "</div>"
      ],
      "text/plain": [
       "         Estimator  Best Score                  Best Parameters\n",
       "0  Lasso Regressor       7.995  {'alpha': 0.060000000000000005}"
      ]
     },
     "execution_count": 59,
     "metadata": {},
     "output_type": "execute_result"
    }
   ],
   "source": [
    "%%time\n",
    "# Training a Lasso Regressor\n",
    "LassoRegressor = train_fit_score(model  = Lasso(random_state = 12345), \n",
    "                                 params = {'alpha': np.arange(.01, 1, .05)}, \n",
    "                                 name   = 'Lasso Regressor')\n",
    "LassoRegressor"
   ]
  },
  {
   "cell_type": "markdown",
   "metadata": {},
   "source": [
    "#### Conclusion"
   ]
  },
  {
   "cell_type": "markdown",
   "metadata": {},
   "source": [
    "- The score is better than the Linear score almost by 1.\n",
    "- the best-performing model had an alpha of 0.06.\n",
    "- The training was slower."
   ]
  },
  {
   "cell_type": "markdown",
   "metadata": {},
   "source": [
    "### Training Ridge Regressor"
   ]
  },
  {
   "cell_type": "markdown",
   "metadata": {},
   "source": [
    "Training a Ridge Regressor model using our train_fit_score function, we'll iterate over different values of 'alpha' which is the regularization strength.<br> \n",
    "Regularization improves the conditioning of the problem and reduces the variance of the estimates. <br>\n",
    "Larger values specify stronger regularization. <br>\n",
    "the default value is 1, we'll iterate from 0.01 to 1 in stetps of 0.05"
   ]
  },
  {
   "cell_type": "code",
   "execution_count": 60,
   "metadata": {},
   "outputs": [
    {
     "name": "stdout",
     "output_type": "stream",
     "text": [
      "CPU times: user 2.97 s, sys: 63 ms, total: 3.03 s\n",
      "Wall time: 776 ms\n"
     ]
    },
    {
     "data": {
      "text/html": [
       "<div>\n",
       "<style scoped>\n",
       "    .dataframe tbody tr th:only-of-type {\n",
       "        vertical-align: middle;\n",
       "    }\n",
       "\n",
       "    .dataframe tbody tr th {\n",
       "        vertical-align: top;\n",
       "    }\n",
       "\n",
       "    .dataframe thead th {\n",
       "        text-align: right;\n",
       "    }\n",
       "</style>\n",
       "<table border=\"1\" class=\"dataframe\">\n",
       "  <thead>\n",
       "    <tr style=\"text-align: right;\">\n",
       "      <th></th>\n",
       "      <th>Estimator</th>\n",
       "      <th>Best Score</th>\n",
       "      <th>Best Parameters</th>\n",
       "    </tr>\n",
       "  </thead>\n",
       "  <tbody>\n",
       "    <tr>\n",
       "      <th>0</th>\n",
       "      <td>Ridge Regressor</td>\n",
       "      <td>8.492</td>\n",
       "      <td>{'alpha': 0.9600000000000001}</td>\n",
       "    </tr>\n",
       "  </tbody>\n",
       "</table>\n",
       "</div>"
      ],
      "text/plain": [
       "         Estimator  Best Score                Best Parameters\n",
       "0  Ridge Regressor       8.492  {'alpha': 0.9600000000000001}"
      ]
     },
     "execution_count": 60,
     "metadata": {},
     "output_type": "execute_result"
    }
   ],
   "source": [
    "%%time\n",
    "# Training a Ridge Regressor\n",
    "Ridge = train_fit_score(model  = Ridge(random_state = 12345), \n",
    "                                 params = {'alpha': np.arange(.01, 1, .05)}, \n",
    "                                 name   = 'Ridge Regressor')\n",
    "Ridge"
   ]
  },
  {
   "cell_type": "markdown",
   "metadata": {},
   "source": [
    "#### Conclusion"
   ]
  },
  {
   "cell_type": "markdown",
   "metadata": {},
   "source": [
    "- The score is better than the Linear score but not by a large margin.\n",
    "- The ridge model performs worse than the lasso.\n",
    "- the best-performing model had an alpha of 0.96.\n",
    "- The training was slower."
   ]
  },
  {
   "cell_type": "markdown",
   "metadata": {},
   "source": [
    "### Training KNeighbors Regressor"
   ]
  },
  {
   "cell_type": "markdown",
   "metadata": {},
   "source": [
    "Training a KNeighbors Regressor model using our train_fit_score function, we'll iterate over different values of 'n_neighbors' and 'weights' which are the\n",
    "- Number of neighbors to use, the default is 5, we'll go with 2-10 by steps of 1.\n",
    "- Weight function used in prediction, \n",
    "  - ‘uniform’ uniform weights. All points in each neighborhood are weighted equally.\n",
    "  - ‘distance’ weight points by the inverse of their distance."
   ]
  },
  {
   "cell_type": "code",
   "execution_count": 61,
   "metadata": {},
   "outputs": [
    {
     "name": "stdout",
     "output_type": "stream",
     "text": [
      "CPU times: user 1min 32s, sys: 18.5 s, total: 1min 51s\n",
      "Wall time: 51.1 s\n"
     ]
    },
    {
     "data": {
      "text/html": [
       "<div>\n",
       "<style scoped>\n",
       "    .dataframe tbody tr th:only-of-type {\n",
       "        vertical-align: middle;\n",
       "    }\n",
       "\n",
       "    .dataframe tbody tr th {\n",
       "        vertical-align: top;\n",
       "    }\n",
       "\n",
       "    .dataframe thead th {\n",
       "        text-align: right;\n",
       "    }\n",
       "</style>\n",
       "<table border=\"1\" class=\"dataframe\">\n",
       "  <thead>\n",
       "    <tr style=\"text-align: right;\">\n",
       "      <th></th>\n",
       "      <th>Estimator</th>\n",
       "      <th>Best Score</th>\n",
       "      <th>Best Parameters</th>\n",
       "    </tr>\n",
       "  </thead>\n",
       "  <tbody>\n",
       "    <tr>\n",
       "      <th>0</th>\n",
       "      <td>KNeighbors Regressor</td>\n",
       "      <td>10.262</td>\n",
       "      <td>{'n_neighbors': 9, 'weights': 'distance'}</td>\n",
       "    </tr>\n",
       "  </tbody>\n",
       "</table>\n",
       "</div>"
      ],
      "text/plain": [
       "              Estimator  Best Score                            Best Parameters\n",
       "0  KNeighbors Regressor      10.262  {'n_neighbors': 9, 'weights': 'distance'}"
      ]
     },
     "execution_count": 61,
     "metadata": {},
     "output_type": "execute_result"
    }
   ],
   "source": [
    "%%time\n",
    "# Training a KNeighbors Regressor\n",
    "KNNeighbors = train_fit_score(model  = KNeighborsRegressor(),\n",
    "                              params = {'n_neighbors': range (2, 10, 1),\n",
    "                                        'weights' : ['uniform', 'distance']\n",
    "                                       },\n",
    "                              name   =  'KNeighbors Regressor')\n",
    "KNNeighbors"
   ]
  },
  {
   "cell_type": "markdown",
   "metadata": {},
   "source": [
    "#### Conclusion"
   ]
  },
  {
   "cell_type": "markdown",
   "metadata": {},
   "source": [
    "- The score is better than the Linear score but not by a large margin.\n",
    "- The ridge model performs worse than the lasso.\n",
    "- the best-performing model had an alpha of 0.96.\n",
    "- The training was slower."
   ]
  },
  {
   "cell_type": "markdown",
   "metadata": {},
   "source": [
    "### Training Decision Tree Regressor"
   ]
  },
  {
   "cell_type": "markdown",
   "metadata": {},
   "source": [
    "Training a Decision Tree Regressor model using our train_fit_score function, we'll iterate over different values of 'max_depth', 'min_impurity_decrease' and 'min_samples_split' which are the\n",
    "- The maximum depth of the tree, the default is None, we'll go with 5-10 by steps of 5.\n",
    "- A node will be split if this split induces a decrease of the impurity greater than or equal to this value, the default is 0, we'll go with 0.01-0.2 by steps of 0.02.\n",
    "- The minimum number of samples required to split an internal node, the default is 2, we'll go with 2-10 by steps of 2."
   ]
  },
  {
   "cell_type": "code",
   "execution_count": 62,
   "metadata": {},
   "outputs": [
    {
     "name": "stdout",
     "output_type": "stream",
     "text": [
      "CPU times: user 47.8 s, sys: 158 ms, total: 48 s\n",
      "Wall time: 48.3 s\n"
     ]
    },
    {
     "data": {
      "text/html": [
       "<div>\n",
       "<style scoped>\n",
       "    .dataframe tbody tr th:only-of-type {\n",
       "        vertical-align: middle;\n",
       "    }\n",
       "\n",
       "    .dataframe tbody tr th {\n",
       "        vertical-align: top;\n",
       "    }\n",
       "\n",
       "    .dataframe thead th {\n",
       "        text-align: right;\n",
       "    }\n",
       "</style>\n",
       "<table border=\"1\" class=\"dataframe\">\n",
       "  <thead>\n",
       "    <tr style=\"text-align: right;\">\n",
       "      <th></th>\n",
       "      <th>Estimator</th>\n",
       "      <th>Best Score</th>\n",
       "      <th>Best Parameters</th>\n",
       "    </tr>\n",
       "  </thead>\n",
       "  <tbody>\n",
       "    <tr>\n",
       "      <th>0</th>\n",
       "      <td>Decision Tree</td>\n",
       "      <td>9.317</td>\n",
       "      <td>{'max_depth': 5, 'min_impurity_decrease': 0.18...</td>\n",
       "    </tr>\n",
       "  </tbody>\n",
       "</table>\n",
       "</div>"
      ],
      "text/plain": [
       "       Estimator  Best Score  \\\n",
       "0  Decision Tree       9.317   \n",
       "\n",
       "                                     Best Parameters  \n",
       "0  {'max_depth': 5, 'min_impurity_decrease': 0.18...  "
      ]
     },
     "execution_count": 62,
     "metadata": {},
     "output_type": "execute_result"
    }
   ],
   "source": [
    "%%time\n",
    "# Training a Decision Tree Regressor.\n",
    "DecisionTree = train_fit_score(model  = DecisionTreeRegressor(random_state=12345),\n",
    "                               params = {'max_depth': range(5, 10, 5),\n",
    "                                         'min_impurity_decrease': np.arange(.01, .20, .02),\n",
    "                                         'min_samples_split': range(2, 10, 2)\n",
    "                                        },\n",
    "                               name   =  'Decision Tree')\n",
    "DecisionTree"
   ]
  },
  {
   "cell_type": "markdown",
   "metadata": {},
   "source": [
    "#### Conclusion"
   ]
  },
  {
   "cell_type": "markdown",
   "metadata": {},
   "source": [
    "- This is our worst score yet.\n",
    "- The best parameters are 'max_depth': 5, 'min_impurity_decrease': 0.189, 'min_samples_split': 2\n",
    "- The training was slower."
   ]
  },
  {
   "cell_type": "markdown",
   "metadata": {},
   "source": [
    "### Training Random Forest Regressor"
   ]
  },
  {
   "cell_type": "markdown",
   "metadata": {},
   "source": [
    "Training a Random Forest Regressor model using our train_fit_score function, we'll iterate over different values of 'n_estimators', 'max_depth' and 'min_impurity_decrease' which are the\n",
    "- The number of trees in the forest, the default is 100, we'll go with 10-85 by steps of 25.\n",
    "- The maximum depth of the tree, the default is None, we'll go with 5-45 by steps of 10.\n",
    "- A node will be split if this split induces a decrease of the impurity greater than or equal to this value, the default is 0, we'll go with 0.05-0.25 by steps of 0.1."
   ]
  },
  {
   "cell_type": "code",
   "execution_count": 63,
   "metadata": {},
   "outputs": [
    {
     "name": "stdout",
     "output_type": "stream",
     "text": [
      "CPU times: user 16min 19s, sys: 4.38 s, total: 16min 24s\n",
      "Wall time: 16min 32s\n"
     ]
    },
    {
     "data": {
      "text/html": [
       "<div>\n",
       "<style scoped>\n",
       "    .dataframe tbody tr th:only-of-type {\n",
       "        vertical-align: middle;\n",
       "    }\n",
       "\n",
       "    .dataframe tbody tr th {\n",
       "        vertical-align: top;\n",
       "    }\n",
       "\n",
       "    .dataframe thead th {\n",
       "        text-align: right;\n",
       "    }\n",
       "</style>\n",
       "<table border=\"1\" class=\"dataframe\">\n",
       "  <thead>\n",
       "    <tr style=\"text-align: right;\">\n",
       "      <th></th>\n",
       "      <th>Estimator</th>\n",
       "      <th>Best Score</th>\n",
       "      <th>Best Parameters</th>\n",
       "    </tr>\n",
       "  </thead>\n",
       "  <tbody>\n",
       "    <tr>\n",
       "      <th>0</th>\n",
       "      <td>Random Forest</td>\n",
       "      <td>8.310</td>\n",
       "      <td>{'max_depth': 5, 'min_impurity_decrease': 0.15...</td>\n",
       "    </tr>\n",
       "  </tbody>\n",
       "</table>\n",
       "</div>"
      ],
      "text/plain": [
       "       Estimator  Best Score  \\\n",
       "0  Random Forest       8.310   \n",
       "\n",
       "                                     Best Parameters  \n",
       "0  {'max_depth': 5, 'min_impurity_decrease': 0.15...  "
      ]
     },
     "execution_count": 63,
     "metadata": {},
     "output_type": "execute_result"
    }
   ],
   "source": [
    "%%time\n",
    "# Training a Random Forest Regressor.\n",
    "RandomForest = train_fit_score(model  = RandomForestRegressor(random_state=12345),\n",
    "                                        params = {'n_estimators': range(10, 85, 25),\n",
    "                                                  'max_depth': range(5, 45, 10),\n",
    "                                                  'min_impurity_decrease': np.arange(.05, .25, .1)\n",
    "                                                 },\n",
    "                                        name   =  'Random Forest')\n",
    "RandomForest"
   ]
  },
  {
   "cell_type": "markdown",
   "metadata": {},
   "source": [
    "#### Conclusion"
   ]
  },
  {
   "cell_type": "markdown",
   "metadata": {},
   "source": [
    "- This is our second best model after Lasso.\n",
    "- The best parameters are 'max_depth': 5, 'min_impurity_decrease': 0.15, 'n_estimators': 60.\n",
    "- The training was the slowest 25 minutes (!!!)."
   ]
  },
  {
   "cell_type": "markdown",
   "metadata": {},
   "source": [
    "### Scores for all the models above"
   ]
  },
  {
   "cell_type": "markdown",
   "metadata": {},
   "source": [
    "We'll now combine all of the scores into one data frame for reference and comparison and will pick the best model that we trained."
   ]
  },
  {
   "cell_type": "code",
   "execution_count": 64,
   "metadata": {},
   "outputs": [
    {
     "data": {
      "text/html": [
       "<div>\n",
       "<style scoped>\n",
       "    .dataframe tbody tr th:only-of-type {\n",
       "        vertical-align: middle;\n",
       "    }\n",
       "\n",
       "    .dataframe tbody tr th {\n",
       "        vertical-align: top;\n",
       "    }\n",
       "\n",
       "    .dataframe thead th {\n",
       "        text-align: right;\n",
       "    }\n",
       "</style>\n",
       "<table border=\"1\" class=\"dataframe\">\n",
       "  <thead>\n",
       "    <tr style=\"text-align: right;\">\n",
       "      <th></th>\n",
       "      <th>Estimator</th>\n",
       "      <th>Best Score</th>\n",
       "      <th>Best Parameters</th>\n",
       "    </tr>\n",
       "  </thead>\n",
       "  <tbody>\n",
       "    <tr>\n",
       "      <th>0</th>\n",
       "      <td>Lasso Regressor</td>\n",
       "      <td>7.995</td>\n",
       "      <td>{'alpha': 0.060000000000000005}</td>\n",
       "    </tr>\n",
       "    <tr>\n",
       "      <th>1</th>\n",
       "      <td>Random Forest</td>\n",
       "      <td>8.310</td>\n",
       "      <td>{'max_depth': 5, 'min_impurity_decrease': 0.15000000000000002, 'n_estimators': 60}</td>\n",
       "    </tr>\n",
       "    <tr>\n",
       "      <th>2</th>\n",
       "      <td>Ridge Regressor</td>\n",
       "      <td>8.492</td>\n",
       "      <td>{'alpha': 0.9600000000000001}</td>\n",
       "    </tr>\n",
       "    <tr>\n",
       "      <th>3</th>\n",
       "      <td>Linear Regression</td>\n",
       "      <td>8.861</td>\n",
       "      <td>{}</td>\n",
       "    </tr>\n",
       "    <tr>\n",
       "      <th>4</th>\n",
       "      <td>Decision Tree</td>\n",
       "      <td>9.317</td>\n",
       "      <td>{'max_depth': 5, 'min_impurity_decrease': 0.18999999999999997, 'min_samples_split': 2}</td>\n",
       "    </tr>\n",
       "    <tr>\n",
       "      <th>5</th>\n",
       "      <td>KNeighbors Regressor</td>\n",
       "      <td>10.262</td>\n",
       "      <td>{'n_neighbors': 9, 'weights': 'distance'}</td>\n",
       "    </tr>\n",
       "  </tbody>\n",
       "</table>\n",
       "</div>"
      ],
      "text/plain": [
       "              Estimator  Best Score  \\\n",
       "0       Lasso Regressor       7.995   \n",
       "1         Random Forest       8.310   \n",
       "2       Ridge Regressor       8.492   \n",
       "3     Linear Regression       8.861   \n",
       "4         Decision Tree       9.317   \n",
       "5  KNeighbors Regressor      10.262   \n",
       "\n",
       "                                                                          Best Parameters  \n",
       "0                                                         {'alpha': 0.060000000000000005}  \n",
       "1      {'max_depth': 5, 'min_impurity_decrease': 0.15000000000000002, 'n_estimators': 60}  \n",
       "2                                                           {'alpha': 0.9600000000000001}  \n",
       "3                                                                                      {}  \n",
       "4  {'max_depth': 5, 'min_impurity_decrease': 0.18999999999999997, 'min_samples_split': 2}  \n",
       "5                                               {'n_neighbors': 9, 'weights': 'distance'}  "
      ]
     },
     "execution_count": 64,
     "metadata": {},
     "output_type": "execute_result"
    }
   ],
   "source": [
    "# concatinating all scores into one DataFrame\n",
    "scores = pd.concat([Linear, \n",
    "                    LassoRegressor,\n",
    "                    Ridge,\n",
    "                    KNNeighbors, \n",
    "                    DecisionTree,\n",
    "                    RandomForest\n",
    "                   ], \n",
    "                   ignore_index=True).sort_values(['Best Score']).reset_index(drop=True)\n",
    "\n",
    "# widening the column view\n",
    "pd.set_option('display.max_colwidth', 400)\n",
    "scores"
   ]
  },
  {
   "cell_type": "markdown",
   "metadata": {},
   "source": [
    "#### Conclusion"
   ]
  },
  {
   "cell_type": "markdown",
   "metadata": {},
   "source": [
    "**Our second best model is Lasso Regressor with a score of 7.995% of error.**"
   ]
  },
  {
   "cell_type": "markdown",
   "metadata": {},
   "source": [
    "### Testing The Best Model"
   ]
  },
  {
   "cell_type": "markdown",
   "metadata": {},
   "source": [
    "We now have a model that performs better than all the models we tested and fined tune its parameters.<br>\n",
    "It is time to check how it performs on our test data and see if it's even worth considering or we should go back to the drawing board."
   ]
  },
  {
   "cell_type": "code",
   "execution_count": 65,
   "metadata": {},
   "outputs": [
    {
     "name": "stdout",
     "output_type": "stream",
     "text": [
      "Final sMAPE score for the best Lasso Regressor model on test datasets: 6.91\n"
     ]
    }
   ],
   "source": [
    "# Create instance of best Lasso regression model and fit it to training data.\n",
    "best_model = Lasso(**scores['Best Parameters'][0]).fit(train_features, train_targets)\n",
    "\n",
    "# Obtain final sMAPE score for model using testing datasets\n",
    "Lasso_smape = round(final_smape(test_targets, best_model.predict(test_features)), 2)\n",
    "\n",
    "# Printing result\n",
    "print(f'Final sMAPE score for the best Lasso Regressor model on test datasets: {Lasso_smape}')"
   ]
  },
  {
   "cell_type": "markdown",
   "metadata": {},
   "source": [
    "#### Conclusion"
   ]
  },
  {
   "cell_type": "markdown",
   "metadata": {},
   "source": [
    "**Interestingly, our model performs better on the test data set than on the training data set, our result is a sMAPE of 6.91% of error**, although it is better than the training model it does not tell us much until we will check our model against a dummy model/base model to see whom it performs."
   ]
  },
  {
   "cell_type": "markdown",
   "metadata": {},
   "source": [
    "### Sanity Check"
   ]
  },
  {
   "cell_type": "markdown",
   "metadata": {},
   "source": [
    "Let's see how a dummy model performs on our data and calculate the score to figure out if our trained model performance is any good."
   ]
  },
  {
   "cell_type": "code",
   "execution_count": 66,
   "metadata": {
    "scrolled": true
   },
   "outputs": [
    {
     "name": "stdout",
     "output_type": "stream",
     "text": [
      "Final sMAPE score for sanity check model: 7.76\n"
     ]
    }
   ],
   "source": [
    "# Building a sanity 'model' and calculating sMAPE score\n",
    "sanity_smape = final_smape(test_targets, np.tile(np.mean(train_targets, axis=0), (len(test_targets), 1)))\n",
    "\n",
    "# Printing result\n",
    "print(f'Final sMAPE score for sanity check model: {(round(sanity_smape, 2))}')"
   ]
  },
  {
   "cell_type": "markdown",
   "metadata": {},
   "source": [
    "#### Conclusion"
   ]
  },
  {
   "cell_type": "markdown",
   "metadata": {},
   "source": [
    "As we can see our dummy model has a score of 7.76 while our trained model has a score of 6.91, although it is not a big difference **we can be sure that our model performs better** and that we should use it as a predicter in our production line."
   ]
  },
  {
   "cell_type": "markdown",
   "metadata": {},
   "source": [
    "## Conclusion"
   ]
  },
  {
   "cell_type": "markdown",
   "metadata": {},
   "source": [
    "In our study, we researched the data provided by a metal mining company, processed it, analyzed it, and trained different machine learning algorithms to predict the extraction and purification of gold from gold ores.\n",
    "<br>\n",
    "\n",
    "This study aimed to develop a prototype model that can accurately predict the recovery of gold from gold ores and subsequently save millions of dollars in production.\n",
    "<br>\n",
    "\n",
    "**For the best results of prediction, our recommendation is to use the Lasso Regression model (alpha parameter set at 0.06).<br>\n",
    "Using our model, we can predict gold recovery at both stages of production with a margin of error of 6.91%.**\n",
    "<br>\n",
    "\n",
    "When the mining company deploys this model and fine-tunes it further, it will lead to significant cost savings and an increase in net profit."
   ]
  }
 ],
 "metadata": {
  "ExecuteTimeLog": [
   {
    "duration": 35758,
    "start_time": "2021-10-17T16:22:17.260Z"
   },
   {
    "duration": 1259,
    "start_time": "2021-10-17T16:23:06.453Z"
   },
   {
    "duration": 915,
    "start_time": "2021-10-17T16:23:12.168Z"
   },
   {
    "duration": 18,
    "start_time": "2021-10-17T16:35:56.796Z"
   },
   {
    "duration": 318,
    "start_time": "2021-10-17T16:36:38.048Z"
   },
   {
    "duration": 358,
    "start_time": "2021-10-17T16:36:42.436Z"
   },
   {
    "duration": 186,
    "start_time": "2021-10-17T16:38:13.437Z"
   },
   {
    "duration": 21,
    "start_time": "2021-10-17T16:38:38.183Z"
   },
   {
    "duration": 175,
    "start_time": "2021-10-17T16:39:15.123Z"
   },
   {
    "duration": 213,
    "start_time": "2021-10-17T16:39:18.644Z"
   },
   {
    "duration": 164,
    "start_time": "2021-10-17T16:40:52.403Z"
   },
   {
    "duration": 16,
    "start_time": "2021-10-17T16:40:56.060Z"
   },
   {
    "duration": 12,
    "start_time": "2021-10-17T16:42:22.164Z"
   },
   {
    "duration": 15,
    "start_time": "2021-10-17T16:42:34.112Z"
   },
   {
    "duration": 19,
    "start_time": "2021-10-17T16:42:40.832Z"
   },
   {
    "duration": 122,
    "start_time": "2021-10-17T16:42:45.289Z"
   },
   {
    "duration": 19,
    "start_time": "2021-10-17T16:42:54.258Z"
   },
   {
    "duration": 25,
    "start_time": "2021-10-17T16:43:04.921Z"
   },
   {
    "duration": 20,
    "start_time": "2021-10-17T16:43:10.845Z"
   },
   {
    "duration": 242,
    "start_time": "2021-10-17T16:43:14.505Z"
   },
   {
    "duration": 433,
    "start_time": "2021-10-18T10:57:09.409Z"
   },
   {
    "duration": 706,
    "start_time": "2021-10-18T10:57:17.709Z"
   },
   {
    "duration": 2700,
    "start_time": "2021-10-18T10:57:22.771Z"
   },
   {
    "duration": 42,
    "start_time": "2021-10-18T10:57:25.433Z"
   },
   {
    "duration": 391,
    "start_time": "2021-10-18T10:57:27.494Z"
   },
   {
    "duration": 1211,
    "start_time": "2021-10-18T10:57:33.548Z"
   },
   {
    "duration": 10214,
    "start_time": "2021-10-18T10:57:37.160Z"
   },
   {
    "duration": 9679,
    "start_time": "2021-10-18T10:58:07.018Z"
   },
   {
    "duration": 17,
    "start_time": "2021-10-18T10:58:37.211Z"
   },
   {
    "duration": 15,
    "start_time": "2021-10-18T11:01:56.381Z"
   },
   {
    "duration": 14,
    "start_time": "2021-10-18T11:02:16.095Z"
   },
   {
    "duration": 15,
    "start_time": "2021-10-18T11:03:18.119Z"
   },
   {
    "duration": 15,
    "start_time": "2021-10-18T11:03:42.812Z"
   },
   {
    "duration": 18,
    "start_time": "2021-10-18T11:04:58.941Z"
   },
   {
    "duration": 478,
    "start_time": "2021-10-18T11:05:01.045Z"
   },
   {
    "duration": 19,
    "start_time": "2021-10-18T11:05:03.880Z"
   },
   {
    "duration": 17,
    "start_time": "2021-10-18T11:06:52.107Z"
   },
   {
    "duration": 13,
    "start_time": "2021-10-18T11:07:27.983Z"
   },
   {
    "duration": 13,
    "start_time": "2021-10-18T11:08:13.039Z"
   },
   {
    "duration": 13,
    "start_time": "2021-10-18T11:08:56.523Z"
   },
   {
    "duration": 13,
    "start_time": "2021-10-18T11:09:46.440Z"
   },
   {
    "duration": 13,
    "start_time": "2021-10-18T11:09:53.673Z"
   },
   {
    "duration": 12,
    "start_time": "2021-10-18T11:09:58.216Z"
   },
   {
    "duration": 65644,
    "start_time": "2021-10-18T11:11:50.037Z"
   },
   {
    "duration": 1906,
    "start_time": "2021-10-18T11:12:55.684Z"
   },
   {
    "duration": 1085,
    "start_time": "2021-10-18T11:12:57.593Z"
   },
   {
    "duration": 26,
    "start_time": "2021-10-18T11:12:58.681Z"
   },
   {
    "duration": 3210,
    "start_time": "2021-10-18T11:12:58.709Z"
   },
   {
    "duration": 46,
    "start_time": "2021-10-18T11:13:01.922Z"
   },
   {
    "duration": 343,
    "start_time": "2021-10-18T11:13:01.970Z"
   },
   {
    "duration": 18,
    "start_time": "2021-10-18T11:13:02.316Z"
   },
   {
    "duration": 33,
    "start_time": "2021-10-18T11:13:02.336Z"
   },
   {
    "duration": 45,
    "start_time": "2021-10-18T11:13:02.372Z"
   },
   {
    "duration": 203,
    "start_time": "2021-10-18T11:13:02.419Z"
   },
   {
    "duration": 40,
    "start_time": "2021-10-18T11:13:02.624Z"
   },
   {
    "duration": 34,
    "start_time": "2021-10-18T11:13:02.667Z"
   },
   {
    "duration": 55,
    "start_time": "2021-10-18T11:13:02.704Z"
   },
   {
    "duration": 363,
    "start_time": "2021-10-18T11:13:02.761Z"
   },
   {
    "duration": 17,
    "start_time": "2021-10-18T11:36:13.891Z"
   },
   {
    "duration": 13,
    "start_time": "2021-10-18T11:36:20.202Z"
   },
   {
    "duration": 14,
    "start_time": "2021-10-18T11:37:30.167Z"
   },
   {
    "duration": 23666,
    "start_time": "2021-10-18T15:31:12.566Z"
   },
   {
    "duration": 1964,
    "start_time": "2021-10-18T15:31:36.235Z"
   },
   {
    "duration": 1207,
    "start_time": "2021-10-18T15:31:38.202Z"
   },
   {
    "duration": 26,
    "start_time": "2021-10-18T15:31:39.412Z"
   },
   {
    "duration": 854,
    "start_time": "2021-10-18T15:31:39.441Z"
   },
   {
    "duration": 34,
    "start_time": "2021-10-18T15:31:40.298Z"
   },
   {
    "duration": 350,
    "start_time": "2021-10-18T15:31:40.335Z"
   },
   {
    "duration": 18,
    "start_time": "2021-10-18T15:31:40.690Z"
   },
   {
    "duration": 47,
    "start_time": "2021-10-18T15:31:40.712Z"
   },
   {
    "duration": 34,
    "start_time": "2021-10-18T15:31:40.762Z"
   },
   {
    "duration": 224,
    "start_time": "2021-10-18T15:31:40.799Z"
   },
   {
    "duration": 41,
    "start_time": "2021-10-18T15:31:41.026Z"
   },
   {
    "duration": 36,
    "start_time": "2021-10-18T15:31:41.070Z"
   },
   {
    "duration": 66,
    "start_time": "2021-10-18T15:31:41.109Z"
   },
   {
    "duration": 366,
    "start_time": "2021-10-18T15:31:41.178Z"
   },
   {
    "duration": 37226,
    "start_time": "2021-10-19T15:09:04.377Z"
   },
   {
    "duration": 1481,
    "start_time": "2021-10-19T15:09:41.606Z"
   },
   {
    "duration": 932,
    "start_time": "2021-10-19T15:09:43.090Z"
   },
   {
    "duration": 21,
    "start_time": "2021-10-19T15:09:44.024Z"
   },
   {
    "duration": 621,
    "start_time": "2021-10-19T15:09:44.047Z"
   },
   {
    "duration": 23,
    "start_time": "2021-10-19T15:09:44.670Z"
   },
   {
    "duration": 252,
    "start_time": "2021-10-19T15:09:44.696Z"
   },
   {
    "duration": 18,
    "start_time": "2021-10-19T15:09:44.950Z"
   },
   {
    "duration": 16,
    "start_time": "2021-10-19T15:09:44.971Z"
   },
   {
    "duration": 22,
    "start_time": "2021-10-19T15:09:44.989Z"
   },
   {
    "duration": 161,
    "start_time": "2021-10-19T15:09:45.013Z"
   },
   {
    "duration": 21,
    "start_time": "2021-10-19T15:09:45.176Z"
   },
   {
    "duration": 30,
    "start_time": "2021-10-19T15:09:45.200Z"
   },
   {
    "duration": 51,
    "start_time": "2021-10-19T15:09:45.232Z"
   },
   {
    "duration": 278,
    "start_time": "2021-10-19T15:09:45.286Z"
   },
   {
    "duration": 402,
    "start_time": "2021-10-19T16:05:18.816Z"
   },
   {
    "duration": 7,
    "start_time": "2021-10-19T16:05:24.610Z"
   },
   {
    "duration": 7,
    "start_time": "2021-10-19T16:05:32.483Z"
   },
   {
    "duration": 6,
    "start_time": "2021-10-19T16:05:37.176Z"
   },
   {
    "duration": 493,
    "start_time": "2021-10-19T16:06:14.765Z"
   },
   {
    "duration": 5,
    "start_time": "2021-10-19T16:07:52.742Z"
   },
   {
    "duration": 5,
    "start_time": "2021-10-19T16:08:04.442Z"
   },
   {
    "duration": 6,
    "start_time": "2021-10-19T16:09:07.701Z"
   },
   {
    "duration": 256,
    "start_time": "2021-10-19T16:09:13.348Z"
   },
   {
    "duration": 255,
    "start_time": "2021-10-19T16:09:36.087Z"
   },
   {
    "duration": 259,
    "start_time": "2021-10-19T16:09:54.647Z"
   },
   {
    "duration": 8,
    "start_time": "2021-10-19T16:09:57.855Z"
   },
   {
    "duration": 6,
    "start_time": "2021-10-19T16:10:03.963Z"
   },
   {
    "duration": 6,
    "start_time": "2021-10-19T16:10:13.032Z"
   },
   {
    "duration": 85,
    "start_time": "2021-10-19T16:10:21.187Z"
   },
   {
    "duration": 8,
    "start_time": "2021-10-19T16:10:27.093Z"
   },
   {
    "duration": 6,
    "start_time": "2021-10-19T16:11:22.242Z"
   },
   {
    "duration": 6,
    "start_time": "2021-10-19T16:11:26.281Z"
   },
   {
    "duration": 280,
    "start_time": "2021-10-19T16:11:38.195Z"
   },
   {
    "duration": 269,
    "start_time": "2021-10-19T16:12:16.121Z"
   },
   {
    "duration": 8,
    "start_time": "2021-10-19T16:12:36.007Z"
   },
   {
    "duration": 7,
    "start_time": "2021-10-19T16:12:41.375Z"
   },
   {
    "duration": 267,
    "start_time": "2021-10-19T16:13:35.422Z"
   },
   {
    "duration": 4,
    "start_time": "2021-10-19T16:16:22.722Z"
   },
   {
    "duration": 93,
    "start_time": "2021-10-19T16:17:09.836Z"
   },
   {
    "duration": 5,
    "start_time": "2021-10-19T16:17:31.482Z"
   },
   {
    "duration": 161,
    "start_time": "2021-10-19T16:17:31.920Z"
   },
   {
    "duration": 9,
    "start_time": "2021-10-19T16:18:49.119Z"
   },
   {
    "duration": 5,
    "start_time": "2021-10-19T16:19:06.656Z"
   },
   {
    "duration": 274,
    "start_time": "2021-10-19T16:19:27.244Z"
   },
   {
    "duration": 421,
    "start_time": "2021-10-19T16:20:20.280Z"
   },
   {
    "duration": 6,
    "start_time": "2021-10-19T16:20:22.618Z"
   },
   {
    "duration": 567,
    "start_time": "2021-10-19T16:20:27.751Z"
   },
   {
    "duration": 7,
    "start_time": "2021-10-19T16:20:45.670Z"
   },
   {
    "duration": 9,
    "start_time": "2021-10-19T16:22:42.749Z"
   },
   {
    "duration": 9,
    "start_time": "2021-10-19T16:28:52.118Z"
   },
   {
    "duration": -157,
    "start_time": "2021-10-19T16:29:29.204Z"
   },
   {
    "duration": 6,
    "start_time": "2021-10-19T16:29:37.301Z"
   },
   {
    "duration": 8,
    "start_time": "2021-10-19T16:30:38.274Z"
   },
   {
    "duration": 6,
    "start_time": "2021-10-19T16:30:45.654Z"
   },
   {
    "duration": 20,
    "start_time": "2021-10-19T16:31:25.662Z"
   },
   {
    "duration": 5,
    "start_time": "2021-10-19T16:31:26.886Z"
   },
   {
    "duration": 12,
    "start_time": "2021-10-19T16:31:32.427Z"
   },
   {
    "duration": 6,
    "start_time": "2021-10-19T16:31:32.785Z"
   },
   {
    "duration": 14,
    "start_time": "2021-10-19T16:32:41.385Z"
   },
   {
    "duration": 6,
    "start_time": "2021-10-19T16:32:42.036Z"
   },
   {
    "duration": 934,
    "start_time": "2021-10-19T16:32:51.564Z"
   },
   {
    "duration": 6,
    "start_time": "2021-10-19T16:32:56.474Z"
   },
   {
    "duration": 12,
    "start_time": "2021-10-19T16:32:57.327Z"
   },
   {
    "duration": 8,
    "start_time": "2021-10-19T16:32:58.093Z"
   },
   {
    "duration": 7,
    "start_time": "2021-10-19T16:33:24.927Z"
   },
   {
    "duration": 6,
    "start_time": "2021-10-19T16:33:28.145Z"
   },
   {
    "duration": 13,
    "start_time": "2021-10-19T16:34:15.302Z"
   },
   {
    "duration": 7,
    "start_time": "2021-10-19T16:36:08.208Z"
   },
   {
    "duration": 29,
    "start_time": "2021-10-19T16:36:17.849Z"
   },
   {
    "duration": 9,
    "start_time": "2021-10-19T16:36:26.774Z"
   },
   {
    "duration": 13,
    "start_time": "2021-10-19T16:36:37.777Z"
   },
   {
    "duration": 7,
    "start_time": "2021-10-19T16:37:45.196Z"
   },
   {
    "duration": 7,
    "start_time": "2021-10-19T16:38:30.444Z"
   },
   {
    "duration": 262,
    "start_time": "2021-10-19T16:38:51.160Z"
   },
   {
    "duration": 306,
    "start_time": "2021-10-19T16:38:57.174Z"
   },
   {
    "duration": 7,
    "start_time": "2021-10-19T16:39:01.862Z"
   },
   {
    "duration": 4,
    "start_time": "2021-10-19T16:39:07.525Z"
   },
   {
    "duration": 7,
    "start_time": "2021-10-19T16:39:21.069Z"
   },
   {
    "duration": 9,
    "start_time": "2021-10-19T16:41:43.431Z"
   },
   {
    "duration": 21,
    "start_time": "2021-10-19T16:41:52.898Z"
   },
   {
    "duration": 6,
    "start_time": "2021-10-19T16:51:10.639Z"
   },
   {
    "duration": 7,
    "start_time": "2021-10-19T16:51:20.680Z"
   },
   {
    "duration": 9,
    "start_time": "2021-10-19T16:51:46.933Z"
   },
   {
    "duration": 284,
    "start_time": "2021-10-19T16:52:23.503Z"
   },
   {
    "duration": 15461,
    "start_time": "2021-10-19T16:55:57.924Z"
   },
   {
    "duration": 1383,
    "start_time": "2021-10-19T16:56:13.388Z"
   },
   {
    "duration": 902,
    "start_time": "2021-10-19T16:56:14.773Z"
   },
   {
    "duration": 19,
    "start_time": "2021-10-19T16:56:15.677Z"
   },
   {
    "duration": 578,
    "start_time": "2021-10-19T16:56:15.698Z"
   },
   {
    "duration": 24,
    "start_time": "2021-10-19T16:56:16.278Z"
   },
   {
    "duration": 226,
    "start_time": "2021-10-19T16:56:16.303Z"
   },
   {
    "duration": 11,
    "start_time": "2021-10-19T16:56:16.531Z"
   },
   {
    "duration": 27,
    "start_time": "2021-10-19T16:56:16.544Z"
   },
   {
    "duration": 21,
    "start_time": "2021-10-19T16:56:16.572Z"
   },
   {
    "duration": 139,
    "start_time": "2021-10-19T16:56:16.594Z"
   },
   {
    "duration": 20,
    "start_time": "2021-10-19T16:56:16.735Z"
   },
   {
    "duration": 27,
    "start_time": "2021-10-19T16:56:16.764Z"
   },
   {
    "duration": 20,
    "start_time": "2021-10-19T16:56:16.793Z"
   },
   {
    "duration": 362,
    "start_time": "2021-10-19T16:56:16.815Z"
   },
   {
    "duration": 7,
    "start_time": "2021-10-19T16:56:17.179Z"
   },
   {
    "duration": 51,
    "start_time": "2021-10-19T16:56:17.188Z"
   },
   {
    "duration": 14,
    "start_time": "2021-10-19T16:56:17.241Z"
   },
   {
    "duration": 16,
    "start_time": "2021-10-19T16:56:17.257Z"
   },
   {
    "duration": 235,
    "start_time": "2021-10-19T16:56:23.957Z"
   },
   {
    "duration": 892,
    "start_time": "2021-10-19T16:56:34.388Z"
   },
   {
    "duration": 127,
    "start_time": "2021-10-19T16:56:39.325Z"
   },
   {
    "duration": 123,
    "start_time": "2021-10-19T16:56:47.032Z"
   },
   {
    "duration": 128,
    "start_time": "2021-10-19T16:57:16.631Z"
   },
   {
    "duration": 259,
    "start_time": "2021-10-19T16:58:03.016Z"
   },
   {
    "duration": 129,
    "start_time": "2021-10-19T16:58:12.296Z"
   },
   {
    "duration": 256,
    "start_time": "2021-10-19T16:58:16.324Z"
   },
   {
    "duration": 128,
    "start_time": "2021-10-19T16:58:25.707Z"
   },
   {
    "duration": 918,
    "start_time": "2021-10-19T16:58:48.061Z"
   },
   {
    "duration": 951,
    "start_time": "2021-10-19T16:59:15.816Z"
   },
   {
    "duration": 271,
    "start_time": "2021-10-19T16:59:20.685Z"
   },
   {
    "duration": 126,
    "start_time": "2021-10-19T16:59:32.183Z"
   },
   {
    "duration": 611,
    "start_time": "2021-10-19T16:59:49.081Z"
   },
   {
    "duration": 9,
    "start_time": "2021-10-19T17:01:26.552Z"
   },
   {
    "duration": 268,
    "start_time": "2021-10-19T17:13:29.530Z"
   },
   {
    "duration": 255,
    "start_time": "2021-10-19T17:13:53.956Z"
   },
   {
    "duration": 376,
    "start_time": "2021-10-19T17:14:01.638Z"
   },
   {
    "duration": 7,
    "start_time": "2021-10-19T17:14:25.175Z"
   },
   {
    "duration": 304,
    "start_time": "2021-10-19T17:15:00.208Z"
   },
   {
    "duration": 31,
    "start_time": "2021-10-19T17:15:28.345Z"
   },
   {
    "duration": 11,
    "start_time": "2021-10-19T17:15:39.854Z"
   },
   {
    "duration": 15,
    "start_time": "2021-10-19T17:15:42.365Z"
   },
   {
    "duration": 12,
    "start_time": "2021-10-19T17:15:50.743Z"
   },
   {
    "duration": 11,
    "start_time": "2021-10-19T17:15:58.821Z"
   },
   {
    "duration": 14,
    "start_time": "2021-10-19T17:16:01.645Z"
   },
   {
    "duration": 14,
    "start_time": "2021-10-19T17:16:13.751Z"
   },
   {
    "duration": 11,
    "start_time": "2021-10-19T17:16:40.154Z"
   },
   {
    "duration": 557,
    "start_time": "2021-10-19T17:25:51.357Z"
   },
   {
    "duration": 7,
    "start_time": "2021-10-19T17:25:57.754Z"
   },
   {
    "duration": 763,
    "start_time": "2021-10-19T17:26:04.912Z"
   },
   {
    "duration": 5,
    "start_time": "2021-10-19T17:26:14.000Z"
   },
   {
    "duration": 665,
    "start_time": "2021-10-19T17:26:16.940Z"
   },
   {
    "duration": 5,
    "start_time": "2021-10-19T17:26:35.252Z"
   },
   {
    "duration": 680,
    "start_time": "2021-10-19T17:26:37.940Z"
   },
   {
    "duration": 951,
    "start_time": "2021-10-19T17:27:03.197Z"
   },
   {
    "duration": 804,
    "start_time": "2021-10-19T17:27:07.101Z"
   },
   {
    "duration": 284,
    "start_time": "2021-10-19T17:27:54.588Z"
   },
   {
    "duration": 9,
    "start_time": "2021-10-19T17:28:00.358Z"
   },
   {
    "duration": 5,
    "start_time": "2021-10-19T17:28:13.423Z"
   },
   {
    "duration": 718,
    "start_time": "2021-10-19T17:28:14.333Z"
   },
   {
    "duration": 5,
    "start_time": "2021-10-19T17:28:41.657Z"
   },
   {
    "duration": 669,
    "start_time": "2021-10-19T17:28:42.377Z"
   },
   {
    "duration": 5,
    "start_time": "2021-10-19T17:28:52.570Z"
   },
   {
    "duration": 667,
    "start_time": "2021-10-19T17:28:53.753Z"
   },
   {
    "duration": 5,
    "start_time": "2021-10-19T17:28:58.783Z"
   },
   {
    "duration": 710,
    "start_time": "2021-10-19T17:28:59.829Z"
   },
   {
    "duration": 41452,
    "start_time": "2021-10-20T09:39:22.965Z"
   },
   {
    "duration": 1315,
    "start_time": "2021-10-20T09:40:04.419Z"
   },
   {
    "duration": 842,
    "start_time": "2021-10-20T09:40:05.736Z"
   },
   {
    "duration": 16,
    "start_time": "2021-10-20T09:40:06.580Z"
   },
   {
    "duration": 589,
    "start_time": "2021-10-20T09:40:06.598Z"
   },
   {
    "duration": 21,
    "start_time": "2021-10-20T09:40:07.188Z"
   },
   {
    "duration": 207,
    "start_time": "2021-10-20T09:40:07.210Z"
   },
   {
    "duration": 11,
    "start_time": "2021-10-20T09:40:07.419Z"
   },
   {
    "duration": 13,
    "start_time": "2021-10-20T09:40:07.432Z"
   },
   {
    "duration": 43,
    "start_time": "2021-10-20T09:40:07.446Z"
   },
   {
    "duration": 113,
    "start_time": "2021-10-20T09:40:07.491Z"
   },
   {
    "duration": 17,
    "start_time": "2021-10-20T09:40:07.606Z"
   },
   {
    "duration": 22,
    "start_time": "2021-10-20T09:40:07.624Z"
   },
   {
    "duration": 39,
    "start_time": "2021-10-20T09:40:07.648Z"
   },
   {
    "duration": 226,
    "start_time": "2021-10-20T09:40:07.689Z"
   },
   {
    "duration": 6,
    "start_time": "2021-10-20T09:40:07.916Z"
   },
   {
    "duration": 19,
    "start_time": "2021-10-20T09:40:07.924Z"
   },
   {
    "duration": 5,
    "start_time": "2021-10-20T09:40:07.944Z"
   },
   {
    "duration": 6,
    "start_time": "2021-10-20T09:40:07.951Z"
   },
   {
    "duration": 9,
    "start_time": "2021-10-20T09:40:07.977Z"
   },
   {
    "duration": 13,
    "start_time": "2021-10-20T09:40:07.988Z"
   },
   {
    "duration": 8,
    "start_time": "2021-10-20T09:40:08.002Z"
   },
   {
    "duration": 625,
    "start_time": "2021-10-20T09:40:08.013Z"
   },
   {
    "duration": 4,
    "start_time": "2021-10-20T09:40:08.640Z"
   },
   {
    "duration": 698,
    "start_time": "2021-10-20T09:40:08.646Z"
   },
   {
    "duration": 7,
    "start_time": "2021-10-20T09:40:09.346Z"
   },
   {
    "duration": 9,
    "start_time": "2021-10-20T09:40:09.354Z"
   },
   {
    "duration": 600,
    "start_time": "2021-10-20T09:40:41.913Z"
   },
   {
    "duration": 134,
    "start_time": "2021-10-20T09:40:54.190Z"
   },
   {
    "duration": 227,
    "start_time": "2021-10-20T09:51:12.564Z"
   },
   {
    "duration": 532,
    "start_time": "2021-10-20T09:51:23.400Z"
   },
   {
    "duration": 136,
    "start_time": "2021-10-20T09:51:30.756Z"
   },
   {
    "duration": 202,
    "start_time": "2021-10-20T09:51:38.482Z"
   },
   {
    "duration": 134,
    "start_time": "2021-10-20T09:51:55.531Z"
   },
   {
    "duration": 602,
    "start_time": "2021-10-20T09:52:38.999Z"
   },
   {
    "duration": 852,
    "start_time": "2021-10-20T09:53:26.317Z"
   },
   {
    "duration": 602,
    "start_time": "2021-10-20T09:54:02.636Z"
   },
   {
    "duration": 154,
    "start_time": "2021-10-20T09:54:06.936Z"
   },
   {
    "duration": 6,
    "start_time": "2021-10-20T09:55:28.401Z"
   },
   {
    "duration": 312,
    "start_time": "2021-10-20T09:56:24.619Z"
   },
   {
    "duration": 332,
    "start_time": "2021-10-20T09:56:48.289Z"
   },
   {
    "duration": 5,
    "start_time": "2021-10-20T09:56:55.645Z"
   },
   {
    "duration": 11,
    "start_time": "2021-10-20T09:57:25.123Z"
   },
   {
    "duration": 11,
    "start_time": "2021-10-20T09:57:37.079Z"
   },
   {
    "duration": 381,
    "start_time": "2021-10-20T09:57:49.614Z"
   },
   {
    "duration": 11,
    "start_time": "2021-10-20T09:57:59.637Z"
   },
   {
    "duration": 8,
    "start_time": "2021-10-20T09:59:29.681Z"
   },
   {
    "duration": 12,
    "start_time": "2021-10-20T10:00:26.081Z"
   },
   {
    "duration": 11,
    "start_time": "2021-10-20T10:01:01.475Z"
   },
   {
    "duration": 327,
    "start_time": "2021-10-20T10:03:40.446Z"
   },
   {
    "duration": 438,
    "start_time": "2021-10-20T10:05:25.908Z"
   },
   {
    "duration": 355,
    "start_time": "2021-10-20T10:05:32.792Z"
   },
   {
    "duration": 731,
    "start_time": "2021-10-20T10:05:42.525Z"
   },
   {
    "duration": 888,
    "start_time": "2021-10-20T10:05:56.152Z"
   },
   {
    "duration": 12,
    "start_time": "2021-10-20T10:06:09.424Z"
   },
   {
    "duration": 11,
    "start_time": "2021-10-20T10:06:18.163Z"
   },
   {
    "duration": 111,
    "start_time": "2021-10-20T10:09:28.673Z"
   },
   {
    "duration": 1257,
    "start_time": "2021-10-20T10:09:44.833Z"
   },
   {
    "duration": 1219,
    "start_time": "2021-10-20T10:10:06.918Z"
   },
   {
    "duration": 1305,
    "start_time": "2021-10-20T10:10:17.321Z"
   },
   {
    "duration": 11,
    "start_time": "2021-10-20T10:10:46.403Z"
   },
   {
    "duration": 10,
    "start_time": "2021-10-20T10:12:35.497Z"
   },
   {
    "duration": 11,
    "start_time": "2021-10-20T10:12:46.517Z"
   },
   {
    "duration": 10,
    "start_time": "2021-10-20T10:14:28.583Z"
   },
   {
    "duration": 338,
    "start_time": "2021-10-20T10:17:27.379Z"
   },
   {
    "duration": 1647,
    "start_time": "2021-10-20T10:18:30.212Z"
   },
   {
    "duration": 11,
    "start_time": "2021-10-20T10:18:58.212Z"
   },
   {
    "duration": 14,
    "start_time": "2021-10-20T10:20:39.139Z"
   },
   {
    "duration": 363,
    "start_time": "2021-10-20T10:20:56.902Z"
   },
   {
    "duration": 435,
    "start_time": "2021-10-20T10:55:12.547Z"
   },
   {
    "duration": 388,
    "start_time": "2021-10-20T10:55:25.936Z"
   },
   {
    "duration": 505,
    "start_time": "2021-10-20T10:57:01.900Z"
   },
   {
    "duration": 382,
    "start_time": "2021-10-20T10:57:15.480Z"
   },
   {
    "duration": 75007,
    "start_time": "2021-10-20T10:57:21.184Z"
   },
   {
    "duration": 3770,
    "start_time": "2021-10-20T10:58:59.677Z"
   },
   {
    "duration": 3781,
    "start_time": "2021-10-20T10:59:27.501Z"
   },
   {
    "duration": 3688,
    "start_time": "2021-10-20T11:01:15.109Z"
   },
   {
    "duration": 4014,
    "start_time": "2021-10-20T11:01:45.800Z"
   },
   {
    "duration": 1299,
    "start_time": "2021-10-20T11:02:36.950Z"
   },
   {
    "duration": 1300,
    "start_time": "2021-10-20T11:03:01.114Z"
   },
   {
    "duration": 883,
    "start_time": "2021-10-20T11:03:26.622Z"
   },
   {
    "duration": 336,
    "start_time": "2021-10-20T11:03:32.159Z"
   },
   {
    "duration": 10,
    "start_time": "2021-10-20T11:03:37.996Z"
   },
   {
    "duration": 15727,
    "start_time": "2021-10-20T11:04:34.684Z"
   },
   {
    "duration": 5290,
    "start_time": "2021-10-20T11:06:41.539Z"
   },
   {
    "duration": 105,
    "start_time": "2021-10-20T11:07:58.784Z"
   },
   {
    "duration": 25,
    "start_time": "2021-10-20T11:08:06.557Z"
   },
   {
    "duration": 8,
    "start_time": "2021-10-20T11:08:15.962Z"
   },
   {
    "duration": 7,
    "start_time": "2021-10-20T11:08:45.822Z"
   },
   {
    "duration": 4,
    "start_time": "2021-10-20T11:09:24.433Z"
   },
   {
    "duration": 8,
    "start_time": "2021-10-20T11:09:36.019Z"
   },
   {
    "duration": 2361,
    "start_time": "2021-10-20T11:09:42.736Z"
   },
   {
    "duration": 7,
    "start_time": "2021-10-20T11:10:08.848Z"
   },
   {
    "duration": 891,
    "start_time": "2021-10-20T11:10:34.231Z"
   },
   {
    "duration": 7,
    "start_time": "2021-10-20T11:10:48.740Z"
   },
   {
    "duration": 2094,
    "start_time": "2021-10-20T11:11:05.268Z"
   },
   {
    "duration": 7,
    "start_time": "2021-10-20T11:11:51.540Z"
   },
   {
    "duration": 6,
    "start_time": "2021-10-20T11:11:57.548Z"
   },
   {
    "duration": 8,
    "start_time": "2021-10-20T11:12:00.877Z"
   },
   {
    "duration": 6,
    "start_time": "2021-10-20T11:12:19.450Z"
   },
   {
    "duration": 814,
    "start_time": "2021-10-20T11:12:55.180Z"
   },
   {
    "duration": 7,
    "start_time": "2021-10-20T11:13:02.559Z"
   },
   {
    "duration": 797,
    "start_time": "2021-10-20T11:13:18.368Z"
   },
   {
    "duration": 7,
    "start_time": "2021-10-20T11:13:32.677Z"
   },
   {
    "duration": 6,
    "start_time": "2021-10-20T11:13:37.460Z"
   },
   {
    "duration": 23505,
    "start_time": "2021-10-20T11:14:34.333Z"
   },
   {
    "duration": 869,
    "start_time": "2021-10-20T11:15:13.364Z"
   },
   {
    "duration": 11,
    "start_time": "2021-10-20T11:15:20.116Z"
   },
   {
    "duration": 7,
    "start_time": "2021-10-20T11:15:22.097Z"
   },
   {
    "duration": 6,
    "start_time": "2021-10-20T11:15:24.930Z"
   },
   {
    "duration": 5,
    "start_time": "2021-10-20T11:15:33.884Z"
   },
   {
    "duration": 581,
    "start_time": "2021-10-20T11:15:45.173Z"
   },
   {
    "duration": 8,
    "start_time": "2021-10-20T15:54:54.563Z"
   },
   {
    "duration": 741,
    "start_time": "2021-10-20T15:54:59.130Z"
   },
   {
    "duration": 161,
    "start_time": "2021-10-20T15:55:06.911Z"
   },
   {
    "duration": 361,
    "start_time": "2021-10-20T15:56:14.937Z"
   },
   {
    "duration": 6,
    "start_time": "2021-10-20T15:56:18.364Z"
   },
   {
    "duration": 800,
    "start_time": "2021-10-20T15:56:24.667Z"
   },
   {
    "duration": 7,
    "start_time": "2021-10-20T15:56:30.584Z"
   },
   {
    "duration": 25,
    "start_time": "2021-10-20T15:56:35.160Z"
   },
   {
    "duration": 5,
    "start_time": "2021-10-20T15:56:37.278Z"
   },
   {
    "duration": 2434,
    "start_time": "2021-10-20T15:56:40.391Z"
   },
   {
    "duration": 908,
    "start_time": "2021-10-20T15:57:10.747Z"
   },
   {
    "duration": 12,
    "start_time": "2021-10-20T15:57:16.843Z"
   },
   {
    "duration": 7,
    "start_time": "2021-10-20T15:57:19.228Z"
   },
   {
    "duration": 7,
    "start_time": "2021-10-20T15:57:20.544Z"
   },
   {
    "duration": 5,
    "start_time": "2021-10-20T15:57:21.974Z"
   },
   {
    "duration": 675,
    "start_time": "2021-10-20T15:57:23.043Z"
   },
   {
    "duration": 7,
    "start_time": "2021-10-20T15:58:08.426Z"
   },
   {
    "duration": 7,
    "start_time": "2021-10-20T15:58:28.915Z"
   },
   {
    "duration": 8,
    "start_time": "2021-10-20T15:58:50.646Z"
   },
   {
    "duration": 7,
    "start_time": "2021-10-20T15:59:09.514Z"
   },
   {
    "duration": 7,
    "start_time": "2021-10-20T15:59:44.129Z"
   },
   {
    "duration": 401,
    "start_time": "2021-10-20T15:59:58.137Z"
   },
   {
    "duration": 781,
    "start_time": "2021-10-20T16:00:07.125Z"
   },
   {
    "duration": 11,
    "start_time": "2021-10-20T16:00:16.610Z"
   },
   {
    "duration": 11,
    "start_time": "2021-10-20T16:00:21.346Z"
   },
   {
    "duration": 6,
    "start_time": "2021-10-20T16:00:24.015Z"
   },
   {
    "duration": 6,
    "start_time": "2021-10-20T16:00:25.532Z"
   },
   {
    "duration": 5,
    "start_time": "2021-10-20T16:00:26.982Z"
   },
   {
    "duration": 566,
    "start_time": "2021-10-20T16:00:27.648Z"
   },
   {
    "duration": 7,
    "start_time": "2021-10-20T16:00:32.561Z"
   },
   {
    "duration": 852,
    "start_time": "2021-10-20T16:00:34.115Z"
   },
   {
    "duration": 12,
    "start_time": "2021-10-20T16:00:40.494Z"
   },
   {
    "duration": 7,
    "start_time": "2021-10-20T16:00:45.050Z"
   },
   {
    "duration": 6,
    "start_time": "2021-10-20T16:00:56.306Z"
   },
   {
    "duration": 4,
    "start_time": "2021-10-20T16:00:57.727Z"
   },
   {
    "duration": 589,
    "start_time": "2021-10-20T16:00:59.461Z"
   },
   {
    "duration": 848,
    "start_time": "2021-10-20T16:01:35.068Z"
   },
   {
    "duration": 12,
    "start_time": "2021-10-20T16:01:39.669Z"
   },
   {
    "duration": 6,
    "start_time": "2021-10-20T16:01:40.748Z"
   },
   {
    "duration": 7,
    "start_time": "2021-10-20T16:01:41.581Z"
   },
   {
    "duration": 4,
    "start_time": "2021-10-20T16:01:42.169Z"
   },
   {
    "duration": 537,
    "start_time": "2021-10-20T16:01:42.898Z"
   },
   {
    "duration": 762,
    "start_time": "2021-10-20T16:01:47.262Z"
   },
   {
    "duration": 11,
    "start_time": "2021-10-20T16:01:50.617Z"
   },
   {
    "duration": 7,
    "start_time": "2021-10-20T16:01:52.684Z"
   },
   {
    "duration": 7,
    "start_time": "2021-10-20T16:01:55.374Z"
   },
   {
    "duration": 4,
    "start_time": "2021-10-20T16:01:56.118Z"
   },
   {
    "duration": 662,
    "start_time": "2021-10-20T16:01:57.558Z"
   },
   {
    "duration": 8,
    "start_time": "2021-10-20T16:02:58.399Z"
   },
   {
    "duration": 642,
    "start_time": "2021-10-20T16:03:03.395Z"
   },
   {
    "duration": 154,
    "start_time": "2021-10-20T16:03:09.457Z"
   },
   {
    "duration": 11,
    "start_time": "2021-10-20T16:03:48.844Z"
   },
   {
    "duration": 6,
    "start_time": "2021-10-20T16:04:05.880Z"
   },
   {
    "duration": 6,
    "start_time": "2021-10-20T16:04:20.482Z"
   },
   {
    "duration": 830,
    "start_time": "2021-10-20T16:04:29.957Z"
   },
   {
    "duration": 12,
    "start_time": "2021-10-20T16:04:35.630Z"
   },
   {
    "duration": 6,
    "start_time": "2021-10-20T16:04:36.817Z"
   },
   {
    "duration": 6,
    "start_time": "2021-10-20T16:04:47.976Z"
   },
   {
    "duration": 5,
    "start_time": "2021-10-20T16:04:49.111Z"
   },
   {
    "duration": 5,
    "start_time": "2021-10-20T16:04:53.394Z"
   },
   {
    "duration": 726,
    "start_time": "2021-10-20T16:04:55.657Z"
   },
   {
    "duration": 466,
    "start_time": "2021-10-20T16:05:02.264Z"
   },
   {
    "duration": 7,
    "start_time": "2021-10-20T16:05:59.202Z"
   },
   {
    "duration": 633,
    "start_time": "2021-10-20T16:06:05.107Z"
   },
   {
    "duration": 299,
    "start_time": "2021-10-20T16:06:13.555Z"
   },
   {
    "duration": 11,
    "start_time": "2021-10-20T16:07:17.346Z"
   },
   {
    "duration": 6,
    "start_time": "2021-10-20T16:07:56.759Z"
   },
   {
    "duration": 7,
    "start_time": "2021-10-20T16:08:07.477Z"
   },
   {
    "duration": 5,
    "start_time": "2021-10-20T16:08:11.169Z"
   },
   {
    "duration": 499,
    "start_time": "2021-10-20T16:08:15.062Z"
   },
   {
    "duration": 7,
    "start_time": "2021-10-20T16:09:52.400Z"
   },
   {
    "duration": 653,
    "start_time": "2021-10-20T16:09:57.355Z"
   },
   {
    "duration": 164,
    "start_time": "2021-10-20T16:10:02.936Z"
   },
   {
    "duration": 12,
    "start_time": "2021-10-20T16:11:33.277Z"
   },
   {
    "duration": 6,
    "start_time": "2021-10-20T16:11:57.578Z"
   },
   {
    "duration": 6,
    "start_time": "2021-10-20T16:12:19.178Z"
   },
   {
    "duration": 7,
    "start_time": "2021-10-20T16:12:23.674Z"
   },
   {
    "duration": 5,
    "start_time": "2021-10-20T16:12:26.127Z"
   },
   {
    "duration": 526,
    "start_time": "2021-10-20T16:12:28.264Z"
   },
   {
    "duration": 15475,
    "start_time": "2021-10-20T16:12:59.048Z"
   },
   {
    "duration": 1319,
    "start_time": "2021-10-20T16:13:14.526Z"
   },
   {
    "duration": 884,
    "start_time": "2021-10-20T16:13:15.847Z"
   },
   {
    "duration": 17,
    "start_time": "2021-10-20T16:13:16.733Z"
   },
   {
    "duration": 586,
    "start_time": "2021-10-20T16:13:16.751Z"
   },
   {
    "duration": 23,
    "start_time": "2021-10-20T16:13:17.338Z"
   },
   {
    "duration": 214,
    "start_time": "2021-10-20T16:13:17.363Z"
   },
   {
    "duration": 11,
    "start_time": "2021-10-20T16:13:17.580Z"
   },
   {
    "duration": 14,
    "start_time": "2021-10-20T16:13:17.593Z"
   },
   {
    "duration": 18,
    "start_time": "2021-10-20T16:13:17.608Z"
   },
   {
    "duration": 134,
    "start_time": "2021-10-20T16:13:17.628Z"
   },
   {
    "duration": 25,
    "start_time": "2021-10-20T16:13:17.763Z"
   },
   {
    "duration": 23,
    "start_time": "2021-10-20T16:13:17.789Z"
   },
   {
    "duration": 18,
    "start_time": "2021-10-20T16:13:17.813Z"
   },
   {
    "duration": 236,
    "start_time": "2021-10-20T16:13:17.833Z"
   },
   {
    "duration": 11,
    "start_time": "2021-10-20T16:13:18.070Z"
   },
   {
    "duration": 13,
    "start_time": "2021-10-20T16:13:18.083Z"
   },
   {
    "duration": 570,
    "start_time": "2021-10-20T16:13:18.098Z"
   },
   {
    "duration": 630,
    "start_time": "2021-10-20T16:13:18.669Z"
   },
   {
    "duration": 11,
    "start_time": "2021-10-20T16:13:19.301Z"
   },
   {
    "duration": 6,
    "start_time": "2021-10-20T16:13:19.314Z"
   },
   {
    "duration": 6,
    "start_time": "2021-10-20T16:13:19.377Z"
   },
   {
    "duration": 4,
    "start_time": "2021-10-20T16:13:19.387Z"
   },
   {
    "duration": 626,
    "start_time": "2021-10-20T16:13:19.394Z"
   },
   {
    "duration": 7,
    "start_time": "2021-10-20T16:13:20.022Z"
   },
   {
    "duration": 749,
    "start_time": "2021-10-20T16:13:20.030Z"
   },
   {
    "duration": 267,
    "start_time": "2021-10-20T16:13:20.781Z"
   },
   {
    "duration": 26,
    "start_time": "2021-10-20T16:13:21.051Z"
   },
   {
    "duration": 7,
    "start_time": "2021-10-20T16:13:21.079Z"
   },
   {
    "duration": 9,
    "start_time": "2021-10-20T16:13:21.088Z"
   },
   {
    "duration": 5,
    "start_time": "2021-10-20T16:13:21.099Z"
   },
   {
    "duration": 721,
    "start_time": "2021-10-20T16:13:21.106Z"
   },
   {
    "duration": 8,
    "start_time": "2021-10-20T16:13:21.829Z"
   },
   {
    "duration": 549,
    "start_time": "2021-10-20T16:13:21.839Z"
   },
   {
    "duration": 161,
    "start_time": "2021-10-20T16:13:22.389Z"
   },
   {
    "duration": 25,
    "start_time": "2021-10-20T16:13:22.551Z"
   },
   {
    "duration": 6,
    "start_time": "2021-10-20T16:13:22.578Z"
   },
   {
    "duration": 9,
    "start_time": "2021-10-20T16:13:22.585Z"
   },
   {
    "duration": 5,
    "start_time": "2021-10-20T16:13:22.596Z"
   },
   {
    "duration": 660,
    "start_time": "2021-10-20T16:13:22.602Z"
   },
   {
    "duration": 16,
    "start_time": "2021-10-20T16:13:23.263Z"
   },
   {
    "duration": 642,
    "start_time": "2021-10-20T16:13:23.280Z"
   },
   {
    "duration": 157,
    "start_time": "2021-10-20T16:13:23.924Z"
   },
   {
    "duration": 11,
    "start_time": "2021-10-20T16:13:24.083Z"
   },
   {
    "duration": 6,
    "start_time": "2021-10-20T16:13:24.095Z"
   },
   {
    "duration": 7,
    "start_time": "2021-10-20T16:13:24.102Z"
   },
   {
    "duration": 6,
    "start_time": "2021-10-20T16:13:24.111Z"
   },
   {
    "duration": 544,
    "start_time": "2021-10-20T16:13:24.118Z"
   },
   {
    "duration": 13,
    "start_time": "2021-10-20T16:13:24.664Z"
   },
   {
    "duration": 577,
    "start_time": "2021-10-20T16:13:24.679Z"
   },
   {
    "duration": 274,
    "start_time": "2021-10-20T16:13:25.258Z"
   },
   {
    "duration": 12,
    "start_time": "2021-10-20T16:13:25.533Z"
   },
   {
    "duration": 33,
    "start_time": "2021-10-20T16:13:25.547Z"
   },
   {
    "duration": 6,
    "start_time": "2021-10-20T16:13:25.582Z"
   },
   {
    "duration": 4,
    "start_time": "2021-10-20T16:13:25.589Z"
   },
   {
    "duration": 553,
    "start_time": "2021-10-20T16:13:25.595Z"
   },
   {
    "duration": 5,
    "start_time": "2021-10-20T16:13:26.150Z"
   },
   {
    "duration": 8,
    "start_time": "2021-10-20T16:13:26.157Z"
   },
   {
    "duration": 5,
    "start_time": "2021-10-20T16:22:19.499Z"
   },
   {
    "duration": 5,
    "start_time": "2021-10-20T16:22:27.523Z"
   },
   {
    "duration": 4,
    "start_time": "2021-10-20T16:23:24.262Z"
   },
   {
    "duration": 9,
    "start_time": "2021-10-20T16:23:36.566Z"
   },
   {
    "duration": 2,
    "start_time": "2021-10-20T16:24:35.268Z"
   },
   {
    "duration": 7,
    "start_time": "2021-10-20T16:24:43.864Z"
   },
   {
    "duration": 70559,
    "start_time": "2021-10-20T16:25:23.477Z"
   },
   {
    "duration": -278,
    "start_time": "2021-10-20T16:26:34.316Z"
   },
   {
    "duration": 5,
    "start_time": "2021-10-20T16:26:36.781Z"
   },
   {
    "duration": 7,
    "start_time": "2021-10-20T16:26:37.648Z"
   },
   {
    "duration": 1487,
    "start_time": "2021-10-20T16:26:42.744Z"
   },
   {
    "duration": 4434,
    "start_time": "2021-10-20T16:57:39.223Z"
   },
   {
    "duration": 623,
    "start_time": "2021-10-20T16:57:51.427Z"
   },
   {
    "duration": 401,
    "start_time": "2021-10-20T17:04:49.483Z"
   },
   {
    "duration": 4,
    "start_time": "2021-10-20T17:06:02.771Z"
   },
   {
    "duration": 7,
    "start_time": "2021-10-20T17:08:28.320Z"
   },
   {
    "duration": 637,
    "start_time": "2021-10-20T17:08:35.317Z"
   },
   {
    "duration": 151,
    "start_time": "2021-10-20T17:08:43.137Z"
   },
   {
    "duration": 13,
    "start_time": "2021-10-20T17:09:55.790Z"
   },
   {
    "duration": 10,
    "start_time": "2021-10-20T17:10:17.606Z"
   },
   {
    "duration": 5,
    "start_time": "2021-10-20T17:10:52.695Z"
   },
   {
    "duration": 6,
    "start_time": "2021-10-20T17:11:12.506Z"
   },
   {
    "duration": 7,
    "start_time": "2021-10-20T17:12:18.404Z"
   },
   {
    "duration": 6,
    "start_time": "2021-10-20T17:12:29.885Z"
   },
   {
    "duration": 5,
    "start_time": "2021-10-20T17:12:34.059Z"
   },
   {
    "duration": 566,
    "start_time": "2021-10-20T17:12:38.881Z"
   },
   {
    "duration": 5,
    "start_time": "2021-10-20T17:12:55.299Z"
   },
   {
    "duration": 922,
    "start_time": "2021-10-20T17:20:59.705Z"
   },
   {
    "duration": 7,
    "start_time": "2021-10-20T17:22:34.364Z"
   },
   {
    "duration": 609,
    "start_time": "2021-10-20T17:22:35.827Z"
   },
   {
    "duration": 148,
    "start_time": "2021-10-20T17:22:37.962Z"
   },
   {
    "duration": 11,
    "start_time": "2021-10-20T17:22:43.295Z"
   },
   {
    "duration": 5,
    "start_time": "2021-10-20T17:22:47.044Z"
   },
   {
    "duration": 6,
    "start_time": "2021-10-20T17:22:55.705Z"
   },
   {
    "duration": 6,
    "start_time": "2021-10-20T17:23:00.318Z"
   },
   {
    "duration": 5,
    "start_time": "2021-10-20T17:23:01.791Z"
   },
   {
    "duration": 625,
    "start_time": "2021-10-20T17:23:03.366Z"
   },
   {
    "duration": 7,
    "start_time": "2021-10-20T17:23:41.730Z"
   },
   {
    "duration": 1454,
    "start_time": "2021-10-20T17:23:48.536Z"
   },
   {
    "duration": 629,
    "start_time": "2021-10-20T17:23:53.601Z"
   },
   {
    "duration": 5,
    "start_time": "2021-10-20T17:23:58.358Z"
   },
   {
    "duration": 113,
    "start_time": "2021-10-20T17:25:16.253Z"
   },
   {
    "duration": 2308,
    "start_time": "2021-10-20T17:25:21.766Z"
   },
   {
    "duration": 647,
    "start_time": "2021-10-20T17:26:06.062Z"
   },
   {
    "duration": 6,
    "start_time": "2021-10-20T17:26:27.988Z"
   },
   {
    "duration": 3623,
    "start_time": "2021-10-20T17:27:25.830Z"
   },
   {
    "duration": 2249,
    "start_time": "2021-10-20T17:30:16.647Z"
   },
   {
    "duration": 712,
    "start_time": "2021-10-20T17:31:01.306Z"
   },
   {
    "duration": 2654,
    "start_time": "2021-10-20T17:32:11.071Z"
   },
   {
    "duration": 3,
    "start_time": "2021-10-20T17:32:51.981Z"
   },
   {
    "duration": 144,
    "start_time": "2021-10-20T17:33:18.556Z"
   },
   {
    "duration": 6,
    "start_time": "2021-10-20T17:33:22.988Z"
   },
   {
    "duration": 6,
    "start_time": "2021-10-20T17:33:40.572Z"
   },
   {
    "duration": 616,
    "start_time": "2021-10-20T17:33:56.281Z"
   },
   {
    "duration": 350,
    "start_time": "2021-10-20T17:34:03.344Z"
   },
   {
    "duration": 7,
    "start_time": "2021-10-20T17:44:41.894Z"
   },
   {
    "duration": 8,
    "start_time": "2021-10-20T17:46:13.427Z"
   },
   {
    "duration": 5,
    "start_time": "2021-10-20T17:46:52.285Z"
   },
   {
    "duration": 5,
    "start_time": "2021-10-20T17:47:04.456Z"
   },
   {
    "duration": 5,
    "start_time": "2021-10-20T17:47:16.909Z"
   },
   {
    "duration": 7,
    "start_time": "2021-10-20T17:47:26.931Z"
   },
   {
    "duration": 5,
    "start_time": "2021-10-20T17:47:41.498Z"
   },
   {
    "duration": 4,
    "start_time": "2021-10-20T17:47:47.949Z"
   },
   {
    "duration": 4,
    "start_time": "2021-10-20T17:48:05.881Z"
   },
   {
    "duration": 5,
    "start_time": "2021-10-20T17:49:47.208Z"
   },
   {
    "duration": 5,
    "start_time": "2021-10-20T17:49:53.735Z"
   },
   {
    "duration": 5,
    "start_time": "2021-10-20T17:50:08.620Z"
   },
   {
    "duration": 5,
    "start_time": "2021-10-20T17:50:19.959Z"
   },
   {
    "duration": 5,
    "start_time": "2021-10-20T17:50:32.527Z"
   },
   {
    "duration": 6,
    "start_time": "2021-10-20T17:50:40.007Z"
   },
   {
    "duration": 5,
    "start_time": "2021-10-20T17:50:49.053Z"
   },
   {
    "duration": 630,
    "start_time": "2021-10-20T17:50:55.646Z"
   },
   {
    "duration": 15331,
    "start_time": "2021-10-20T17:51:29.193Z"
   },
   {
    "duration": 1319,
    "start_time": "2021-10-20T17:51:44.526Z"
   },
   {
    "duration": 3,
    "start_time": "2021-10-20T17:51:45.847Z"
   },
   {
    "duration": 1065,
    "start_time": "2021-10-20T17:51:45.852Z"
   },
   {
    "duration": 19,
    "start_time": "2021-10-20T17:51:46.919Z"
   },
   {
    "duration": 640,
    "start_time": "2021-10-20T17:51:46.940Z"
   },
   {
    "duration": 17,
    "start_time": "2021-10-20T17:51:47.582Z"
   },
   {
    "duration": 216,
    "start_time": "2021-10-20T17:51:47.601Z"
   },
   {
    "duration": 12,
    "start_time": "2021-10-20T17:51:47.820Z"
   },
   {
    "duration": 16,
    "start_time": "2021-10-20T17:51:47.835Z"
   },
   {
    "duration": 39,
    "start_time": "2021-10-20T17:51:47.853Z"
   },
   {
    "duration": 117,
    "start_time": "2021-10-20T17:51:47.894Z"
   },
   {
    "duration": 18,
    "start_time": "2021-10-20T17:51:48.012Z"
   },
   {
    "duration": 24,
    "start_time": "2021-10-20T17:51:48.032Z"
   },
   {
    "duration": 33,
    "start_time": "2021-10-20T17:51:48.057Z"
   },
   {
    "duration": 242,
    "start_time": "2021-10-20T17:51:48.091Z"
   },
   {
    "duration": 7,
    "start_time": "2021-10-20T17:51:48.335Z"
   },
   {
    "duration": 13,
    "start_time": "2021-10-20T17:51:48.344Z"
   },
   {
    "duration": 607,
    "start_time": "2021-10-20T17:51:48.359Z"
   },
   {
    "duration": 632,
    "start_time": "2021-10-20T17:51:48.968Z"
   },
   {
    "duration": 11,
    "start_time": "2021-10-20T17:51:49.602Z"
   },
   {
    "duration": 63,
    "start_time": "2021-10-20T17:51:49.615Z"
   },
   {
    "duration": 6,
    "start_time": "2021-10-20T17:51:49.679Z"
   },
   {
    "duration": 5,
    "start_time": "2021-10-20T17:51:49.687Z"
   },
   {
    "duration": 637,
    "start_time": "2021-10-20T17:51:49.693Z"
   },
   {
    "duration": 7,
    "start_time": "2021-10-20T17:51:50.332Z"
   },
   {
    "duration": 727,
    "start_time": "2021-10-20T17:51:50.343Z"
   },
   {
    "duration": 265,
    "start_time": "2021-10-20T17:51:51.072Z"
   },
   {
    "duration": 14,
    "start_time": "2021-10-20T17:51:51.339Z"
   },
   {
    "duration": 26,
    "start_time": "2021-10-20T17:51:51.356Z"
   },
   {
    "duration": 7,
    "start_time": "2021-10-20T17:51:51.384Z"
   },
   {
    "duration": 5,
    "start_time": "2021-10-20T17:51:51.393Z"
   },
   {
    "duration": 701,
    "start_time": "2021-10-20T17:51:51.400Z"
   },
   {
    "duration": 8,
    "start_time": "2021-10-20T17:51:52.103Z"
   },
   {
    "duration": 551,
    "start_time": "2021-10-20T17:51:52.113Z"
   },
   {
    "duration": 162,
    "start_time": "2021-10-20T17:51:52.666Z"
   },
   {
    "duration": 17,
    "start_time": "2021-10-20T17:51:52.830Z"
   },
   {
    "duration": 8,
    "start_time": "2021-10-20T17:51:52.877Z"
   },
   {
    "duration": 7,
    "start_time": "2021-10-20T17:51:52.887Z"
   },
   {
    "duration": 5,
    "start_time": "2021-10-20T17:51:52.897Z"
   },
   {
    "duration": 660,
    "start_time": "2021-10-20T17:51:52.904Z"
   },
   {
    "duration": 12,
    "start_time": "2021-10-20T17:51:53.565Z"
   },
   {
    "duration": 616,
    "start_time": "2021-10-20T17:51:53.578Z"
   },
   {
    "duration": 155,
    "start_time": "2021-10-20T17:51:54.196Z"
   },
   {
    "duration": 11,
    "start_time": "2021-10-20T17:51:54.352Z"
   },
   {
    "duration": 6,
    "start_time": "2021-10-20T17:51:54.377Z"
   },
   {
    "duration": 11,
    "start_time": "2021-10-20T17:51:54.385Z"
   },
   {
    "duration": 8,
    "start_time": "2021-10-20T17:51:54.397Z"
   },
   {
    "duration": 558,
    "start_time": "2021-10-20T17:51:54.406Z"
   },
   {
    "duration": 11,
    "start_time": "2021-10-20T17:51:54.966Z"
   },
   {
    "duration": 564,
    "start_time": "2021-10-20T17:51:54.979Z"
   },
   {
    "duration": 278,
    "start_time": "2021-10-20T17:51:55.545Z"
   },
   {
    "duration": 16,
    "start_time": "2021-10-20T17:51:55.825Z"
   },
   {
    "duration": 36,
    "start_time": "2021-10-20T17:51:55.843Z"
   },
   {
    "duration": 8,
    "start_time": "2021-10-20T17:51:55.881Z"
   },
   {
    "duration": 5,
    "start_time": "2021-10-20T17:51:55.891Z"
   },
   {
    "duration": 586,
    "start_time": "2021-10-20T17:51:55.898Z"
   },
   {
    "duration": 9,
    "start_time": "2021-10-20T17:51:56.486Z"
   },
   {
    "duration": 599,
    "start_time": "2021-10-20T17:51:56.497Z"
   },
   {
    "duration": 157,
    "start_time": "2021-10-20T17:51:57.098Z"
   },
   {
    "duration": 23,
    "start_time": "2021-10-20T17:51:57.257Z"
   },
   {
    "duration": 5,
    "start_time": "2021-10-20T17:51:57.281Z"
   },
   {
    "duration": 7,
    "start_time": "2021-10-20T17:51:57.288Z"
   },
   {
    "duration": 7,
    "start_time": "2021-10-20T17:51:57.296Z"
   },
   {
    "duration": 5,
    "start_time": "2021-10-20T17:51:57.305Z"
   },
   {
    "duration": 694,
    "start_time": "2021-10-20T17:51:57.311Z"
   },
   {
    "duration": 4,
    "start_time": "2021-10-20T17:51:58.007Z"
   },
   {
    "duration": 12,
    "start_time": "2021-10-20T17:51:58.013Z"
   },
   {
    "duration": 7,
    "start_time": "2021-10-20T17:51:58.026Z"
   },
   {
    "duration": 2423,
    "start_time": "2021-10-20T17:51:58.034Z"
   },
   {
    "duration": 7,
    "start_time": "2021-10-20T17:53:00.836Z"
   },
   {
    "duration": 6,
    "start_time": "2021-10-20T17:53:04.257Z"
   },
   {
    "duration": 7,
    "start_time": "2021-10-20T17:53:13.358Z"
   },
   {
    "duration": 7,
    "start_time": "2021-10-20T17:53:19.782Z"
   },
   {
    "duration": 6,
    "start_time": "2021-10-20T17:53:42.313Z"
   },
   {
    "duration": 4,
    "start_time": "2021-10-20T17:53:45.051Z"
   },
   {
    "duration": 826,
    "start_time": "2021-10-20T17:53:52.052Z"
   },
   {
    "duration": 8,
    "start_time": "2021-10-20T17:54:01.992Z"
   },
   {
    "duration": 604,
    "start_time": "2021-10-20T17:54:04.975Z"
   },
   {
    "duration": 135,
    "start_time": "2021-10-20T17:54:22.905Z"
   },
   {
    "duration": 5,
    "start_time": "2021-10-20T17:55:35.936Z"
   },
   {
    "duration": 16833,
    "start_time": "2021-10-23T15:52:42.595Z"
   },
   {
    "duration": 1498,
    "start_time": "2021-10-23T15:52:59.430Z"
   },
   {
    "duration": 3,
    "start_time": "2021-10-23T15:53:00.930Z"
   },
   {
    "duration": 1402,
    "start_time": "2021-10-23T15:53:00.944Z"
   },
   {
    "duration": 29,
    "start_time": "2021-10-23T15:53:02.348Z"
   },
   {
    "duration": 830,
    "start_time": "2021-10-23T15:53:02.379Z"
   },
   {
    "duration": 33,
    "start_time": "2021-10-23T15:53:03.211Z"
   },
   {
    "duration": 236,
    "start_time": "2021-10-23T15:53:03.249Z"
   },
   {
    "duration": 12,
    "start_time": "2021-10-23T15:53:03.487Z"
   },
   {
    "duration": 19,
    "start_time": "2021-10-23T15:53:03.501Z"
   },
   {
    "duration": 38,
    "start_time": "2021-10-23T15:53:03.522Z"
   },
   {
    "duration": 203,
    "start_time": "2021-10-23T15:53:03.562Z"
   },
   {
    "duration": 29,
    "start_time": "2021-10-23T15:53:03.767Z"
   },
   {
    "duration": 56,
    "start_time": "2021-10-23T15:53:03.799Z"
   },
   {
    "duration": 19,
    "start_time": "2021-10-23T15:53:03.858Z"
   },
   {
    "duration": 254,
    "start_time": "2021-10-23T15:53:03.879Z"
   },
   {
    "duration": 12,
    "start_time": "2021-10-23T15:53:04.135Z"
   },
   {
    "duration": 9,
    "start_time": "2021-10-23T15:53:04.150Z"
   },
   {
    "duration": 696,
    "start_time": "2021-10-23T15:53:04.161Z"
   },
   {
    "duration": 1024,
    "start_time": "2021-10-23T15:53:04.860Z"
   },
   {
    "duration": 68,
    "start_time": "2021-10-23T15:53:05.885Z"
   },
   {
    "duration": 9,
    "start_time": "2021-10-23T15:53:05.956Z"
   },
   {
    "duration": 6,
    "start_time": "2021-10-23T15:53:05.970Z"
   },
   {
    "duration": 4,
    "start_time": "2021-10-23T15:53:05.979Z"
   },
   {
    "duration": 1124,
    "start_time": "2021-10-23T15:53:05.985Z"
   },
   {
    "duration": 11,
    "start_time": "2021-10-23T15:53:07.112Z"
   },
   {
    "duration": 824,
    "start_time": "2021-10-23T15:53:07.125Z"
   },
   {
    "duration": 289,
    "start_time": "2021-10-23T15:53:07.952Z"
   },
   {
    "duration": 11,
    "start_time": "2021-10-23T15:53:08.245Z"
   },
   {
    "duration": 8,
    "start_time": "2021-10-23T15:53:08.258Z"
   },
   {
    "duration": 12,
    "start_time": "2021-10-23T15:53:08.269Z"
   },
   {
    "duration": 18,
    "start_time": "2021-10-23T15:53:08.285Z"
   },
   {
    "duration": 761,
    "start_time": "2021-10-23T15:53:08.305Z"
   },
   {
    "duration": 9,
    "start_time": "2021-10-23T15:53:09.068Z"
   },
   {
    "duration": 628,
    "start_time": "2021-10-23T15:53:09.079Z"
   },
   {
    "duration": 187,
    "start_time": "2021-10-23T15:53:09.708Z"
   },
   {
    "duration": 13,
    "start_time": "2021-10-23T15:53:09.896Z"
   },
   {
    "duration": 39,
    "start_time": "2021-10-23T15:53:09.911Z"
   },
   {
    "duration": 21,
    "start_time": "2021-10-23T15:53:09.952Z"
   },
   {
    "duration": 15,
    "start_time": "2021-10-23T15:53:09.975Z"
   },
   {
    "duration": 675,
    "start_time": "2021-10-23T15:53:09.992Z"
   },
   {
    "duration": 8,
    "start_time": "2021-10-23T15:53:10.669Z"
   },
   {
    "duration": 761,
    "start_time": "2021-10-23T15:53:10.679Z"
   },
   {
    "duration": 182,
    "start_time": "2021-10-23T15:53:11.444Z"
   },
   {
    "duration": 23,
    "start_time": "2021-10-23T15:53:11.629Z"
   },
   {
    "duration": 10,
    "start_time": "2021-10-23T15:53:11.655Z"
   },
   {
    "duration": 22,
    "start_time": "2021-10-23T15:53:11.667Z"
   },
   {
    "duration": 23,
    "start_time": "2021-10-23T15:53:11.691Z"
   },
   {
    "duration": 584,
    "start_time": "2021-10-23T15:53:11.716Z"
   },
   {
    "duration": 7,
    "start_time": "2021-10-23T15:53:12.303Z"
   },
   {
    "duration": 656,
    "start_time": "2021-10-23T15:53:12.312Z"
   },
   {
    "duration": 320,
    "start_time": "2021-10-23T15:53:12.969Z"
   },
   {
    "duration": 17,
    "start_time": "2021-10-23T15:53:13.292Z"
   },
   {
    "duration": 38,
    "start_time": "2021-10-23T15:53:13.311Z"
   },
   {
    "duration": 9,
    "start_time": "2021-10-23T15:53:13.352Z"
   },
   {
    "duration": 7,
    "start_time": "2021-10-23T15:53:13.363Z"
   },
   {
    "duration": 659,
    "start_time": "2021-10-23T15:53:13.373Z"
   },
   {
    "duration": 18,
    "start_time": "2021-10-23T15:53:14.034Z"
   },
   {
    "duration": 694,
    "start_time": "2021-10-23T15:53:14.054Z"
   },
   {
    "duration": 177,
    "start_time": "2021-10-23T15:53:14.750Z"
   },
   {
    "duration": 19,
    "start_time": "2021-10-23T15:53:14.929Z"
   },
   {
    "duration": 4,
    "start_time": "2021-10-23T15:53:14.951Z"
   },
   {
    "duration": 29,
    "start_time": "2021-10-23T15:53:14.957Z"
   },
   {
    "duration": 16,
    "start_time": "2021-10-23T15:53:14.988Z"
   },
   {
    "duration": 64,
    "start_time": "2021-10-23T15:53:15.006Z"
   },
   {
    "duration": 902,
    "start_time": "2021-10-23T15:53:15.072Z"
   },
   {
    "duration": 6,
    "start_time": "2021-10-23T15:53:15.976Z"
   },
   {
    "duration": 15,
    "start_time": "2021-10-23T15:53:15.988Z"
   },
   {
    "duration": 8,
    "start_time": "2021-10-23T15:53:16.006Z"
   },
   {
    "duration": 1806,
    "start_time": "2021-10-23T15:53:16.015Z"
   },
   {
    "duration": 8,
    "start_time": "2021-10-23T15:53:17.823Z"
   },
   {
    "duration": 11,
    "start_time": "2021-10-23T15:53:17.844Z"
   },
   {
    "duration": 16,
    "start_time": "2021-10-23T15:53:17.858Z"
   },
   {
    "duration": 24,
    "start_time": "2021-10-23T15:53:17.876Z"
   },
   {
    "duration": 701,
    "start_time": "2021-10-23T15:53:17.902Z"
   },
   {
    "duration": 734,
    "start_time": "2021-10-23T15:53:18.604Z"
   },
   {
    "duration": 9,
    "start_time": "2021-10-23T15:53:19.344Z"
   },
   {
    "duration": 5,
    "start_time": "2021-10-23T15:54:40.628Z"
   },
   {
    "duration": 5,
    "start_time": "2021-10-23T15:55:30.876Z"
   },
   {
    "duration": 15,
    "start_time": "2021-10-23T15:55:50.401Z"
   },
   {
    "duration": 4,
    "start_time": "2021-10-23T15:56:37.026Z"
   },
   {
    "duration": 6,
    "start_time": "2021-10-23T15:56:37.749Z"
   },
   {
    "duration": 6,
    "start_time": "2021-10-23T15:56:44.216Z"
   },
   {
    "duration": 4,
    "start_time": "2021-10-23T15:57:00.766Z"
   },
   {
    "duration": 6,
    "start_time": "2021-10-23T15:57:01.587Z"
   },
   {
    "duration": 4,
    "start_time": "2021-10-23T15:57:05.433Z"
   },
   {
    "duration": 3,
    "start_time": "2021-10-23T15:57:05.939Z"
   },
   {
    "duration": 9,
    "start_time": "2021-10-23T15:57:06.447Z"
   },
   {
    "duration": 7,
    "start_time": "2021-10-23T15:57:07.089Z"
   },
   {
    "duration": 1282,
    "start_time": "2021-10-23T15:57:23.774Z"
   },
   {
    "duration": 6,
    "start_time": "2021-10-23T15:57:32.423Z"
   },
   {
    "duration": 5,
    "start_time": "2021-10-23T15:57:35.841Z"
   },
   {
    "duration": 5,
    "start_time": "2021-10-23T15:57:36.449Z"
   },
   {
    "duration": 11,
    "start_time": "2021-10-23T15:57:37.056Z"
   },
   {
    "duration": 10,
    "start_time": "2021-10-23T15:57:37.555Z"
   },
   {
    "duration": 521,
    "start_time": "2021-10-23T15:59:17.073Z"
   },
   {
    "duration": 914,
    "start_time": "2021-10-23T16:02:06.982Z"
   },
   {
    "duration": 6,
    "start_time": "2021-10-23T16:02:17.957Z"
   },
   {
    "duration": 4,
    "start_time": "2021-10-23T16:02:21.575Z"
   },
   {
    "duration": 3,
    "start_time": "2021-10-23T16:02:23.184Z"
   },
   {
    "duration": 10,
    "start_time": "2021-10-23T16:02:24.027Z"
   },
   {
    "duration": 6,
    "start_time": "2021-10-23T16:02:26.583Z"
   },
   {
    "duration": 5,
    "start_time": "2021-10-23T16:02:44.516Z"
   },
   {
    "duration": 4,
    "start_time": "2021-10-23T16:02:48.180Z"
   },
   {
    "duration": 12,
    "start_time": "2021-10-23T16:02:48.810Z"
   },
   {
    "duration": 6,
    "start_time": "2021-10-23T16:03:23.450Z"
   },
   {
    "duration": 14,
    "start_time": "2021-10-23T16:03:28.502Z"
   },
   {
    "duration": 19,
    "start_time": "2021-10-23T16:03:38.345Z"
   },
   {
    "duration": 9,
    "start_time": "2021-10-23T16:03:57.562Z"
   },
   {
    "duration": 13,
    "start_time": "2021-10-23T16:04:19.389Z"
   },
   {
    "duration": 7,
    "start_time": "2021-10-23T16:05:00.047Z"
   },
   {
    "duration": 823,
    "start_time": "2021-10-23T16:09:23.388Z"
   },
   {
    "duration": 6,
    "start_time": "2021-10-23T16:09:26.383Z"
   },
   {
    "duration": 5,
    "start_time": "2021-10-23T16:09:31.005Z"
   },
   {
    "duration": 4,
    "start_time": "2021-10-23T16:09:31.792Z"
   },
   {
    "duration": 8,
    "start_time": "2021-10-23T16:09:33.320Z"
   },
   {
    "duration": 6,
    "start_time": "2021-10-23T16:09:35.234Z"
   },
   {
    "duration": 4,
    "start_time": "2021-10-23T16:11:29.613Z"
   },
   {
    "duration": 6,
    "start_time": "2021-10-23T16:11:31.699Z"
   },
   {
    "duration": 34569,
    "start_time": "2021-10-24T07:33:48.631Z"
   },
   {
    "duration": 14939,
    "start_time": "2021-10-24T07:53:48.401Z"
   },
   {
    "duration": 1380,
    "start_time": "2021-10-24T07:54:03.342Z"
   },
   {
    "duration": 3,
    "start_time": "2021-10-24T07:54:04.724Z"
   },
   {
    "duration": 885,
    "start_time": "2021-10-24T07:54:04.729Z"
   },
   {
    "duration": 17,
    "start_time": "2021-10-24T07:54:05.616Z"
   },
   {
    "duration": 539,
    "start_time": "2021-10-24T07:54:05.635Z"
   },
   {
    "duration": 16,
    "start_time": "2021-10-24T07:54:06.175Z"
   },
   {
    "duration": 211,
    "start_time": "2021-10-24T07:54:06.193Z"
   },
   {
    "duration": 8,
    "start_time": "2021-10-24T07:54:06.406Z"
   },
   {
    "duration": 18,
    "start_time": "2021-10-24T07:54:06.416Z"
   },
   {
    "duration": 28,
    "start_time": "2021-10-24T07:54:06.436Z"
   },
   {
    "duration": 14,
    "start_time": "2021-10-24T07:54:06.466Z"
   },
   {
    "duration": 121,
    "start_time": "2021-10-24T07:54:06.481Z"
   },
   {
    "duration": 11,
    "start_time": "2021-10-24T07:54:06.604Z"
   },
   {
    "duration": 22,
    "start_time": "2021-10-24T07:54:06.617Z"
   },
   {
    "duration": 40,
    "start_time": "2021-10-24T07:54:06.640Z"
   },
   {
    "duration": 18,
    "start_time": "2021-10-24T07:54:06.682Z"
   },
   {
    "duration": 235,
    "start_time": "2021-10-24T07:54:06.701Z"
   },
   {
    "duration": 12,
    "start_time": "2021-10-24T07:54:06.937Z"
   },
   {
    "duration": 18,
    "start_time": "2021-10-24T07:54:06.951Z"
   },
   {
    "duration": 344,
    "start_time": "2021-10-24T07:54:06.971Z"
   },
   {
    "duration": -109,
    "start_time": "2021-10-24T07:54:07.426Z"
   },
   {
    "duration": -111,
    "start_time": "2021-10-24T07:54:07.429Z"
   },
   {
    "duration": -113,
    "start_time": "2021-10-24T07:54:07.432Z"
   },
   {
    "duration": -114,
    "start_time": "2021-10-24T07:54:07.434Z"
   },
   {
    "duration": -116,
    "start_time": "2021-10-24T07:54:07.437Z"
   },
   {
    "duration": 205,
    "start_time": "2021-10-24T07:57:36.454Z"
   },
   {
    "duration": 245,
    "start_time": "2021-10-24T07:58:48.377Z"
   },
   {
    "duration": 8,
    "start_time": "2021-10-24T08:04:15.384Z"
   },
   {
    "duration": 7,
    "start_time": "2021-10-24T08:04:25.137Z"
   },
   {
    "duration": 2897,
    "start_time": "2021-10-24T08:04:41.508Z"
   },
   {
    "duration": 6,
    "start_time": "2021-10-24T08:04:45.442Z"
   },
   {
    "duration": 10,
    "start_time": "2021-10-24T08:04:46.489Z"
   },
   {
    "duration": 8,
    "start_time": "2021-10-24T08:04:47.433Z"
   },
   {
    "duration": 13,
    "start_time": "2021-10-24T08:04:49.281Z"
   },
   {
    "duration": 6,
    "start_time": "2021-10-24T08:04:58.808Z"
   },
   {
    "duration": 5,
    "start_time": "2021-10-24T08:07:42.170Z"
   },
   {
    "duration": 4,
    "start_time": "2021-10-24T08:08:49.888Z"
   },
   {
    "duration": 4,
    "start_time": "2021-10-24T08:12:22.889Z"
   },
   {
    "duration": 5,
    "start_time": "2021-10-24T08:12:34.104Z"
   },
   {
    "duration": 3,
    "start_time": "2021-10-25T08:51:10.115Z"
   },
   {
    "duration": 15110,
    "start_time": "2021-10-25T08:51:17.145Z"
   },
   {
    "duration": 1502,
    "start_time": "2021-10-25T08:51:32.257Z"
   },
   {
    "duration": 3,
    "start_time": "2021-10-25T08:51:33.764Z"
   },
   {
    "duration": 16,
    "start_time": "2021-10-25T08:51:33.769Z"
   },
   {
    "duration": 942,
    "start_time": "2021-10-25T08:51:33.787Z"
   },
   {
    "duration": 32,
    "start_time": "2021-10-25T08:51:34.731Z"
   },
   {
    "duration": 544,
    "start_time": "2021-10-25T08:51:34.766Z"
   },
   {
    "duration": 19,
    "start_time": "2021-10-25T08:51:35.314Z"
   },
   {
    "duration": 235,
    "start_time": "2021-10-25T08:51:35.336Z"
   },
   {
    "duration": 9,
    "start_time": "2021-10-25T08:51:35.574Z"
   },
   {
    "duration": 18,
    "start_time": "2021-10-25T08:51:35.585Z"
   },
   {
    "duration": 17,
    "start_time": "2021-10-25T08:51:35.605Z"
   },
   {
    "duration": 41,
    "start_time": "2021-10-25T08:51:35.624Z"
   },
   {
    "duration": 134,
    "start_time": "2021-10-25T08:51:35.667Z"
   },
   {
    "duration": 12,
    "start_time": "2021-10-25T08:51:35.803Z"
   },
   {
    "duration": 35,
    "start_time": "2021-10-25T08:51:35.817Z"
   },
   {
    "duration": 32,
    "start_time": "2021-10-25T08:51:35.854Z"
   },
   {
    "duration": 16,
    "start_time": "2021-10-25T08:51:35.888Z"
   },
   {
    "duration": 267,
    "start_time": "2021-10-25T08:51:35.906Z"
   },
   {
    "duration": 12,
    "start_time": "2021-10-25T08:51:36.175Z"
   },
   {
    "duration": 6,
    "start_time": "2021-10-25T08:51:36.189Z"
   },
   {
    "duration": 12,
    "start_time": "2021-10-25T08:51:36.197Z"
   },
   {
    "duration": 8,
    "start_time": "2021-10-25T08:51:36.212Z"
   },
   {
    "duration": 44,
    "start_time": "2021-10-25T08:51:36.222Z"
   },
   {
    "duration": 8,
    "start_time": "2021-10-25T08:51:36.268Z"
   },
   {
    "duration": 6,
    "start_time": "2021-10-25T08:51:36.278Z"
   },
   {
    "duration": 872,
    "start_time": "2021-10-25T08:53:52.278Z"
   },
   {
    "duration": 10,
    "start_time": "2021-10-25T08:54:00.738Z"
   },
   {
    "duration": 6,
    "start_time": "2021-10-25T08:54:12.708Z"
   },
   {
    "duration": 345,
    "start_time": "2021-10-25T08:54:23.935Z"
   },
   {
    "duration": 332,
    "start_time": "2021-10-25T08:54:29.605Z"
   },
   {
    "duration": 5,
    "start_time": "2021-10-25T08:54:33.352Z"
   },
   {
    "duration": 7,
    "start_time": "2021-10-25T08:55:14.089Z"
   },
   {
    "duration": 5,
    "start_time": "2021-10-25T08:55:22.000Z"
   },
   {
    "duration": 4,
    "start_time": "2021-10-25T08:55:29.425Z"
   },
   {
    "duration": 7,
    "start_time": "2021-10-25T08:55:36.311Z"
   },
   {
    "duration": 19,
    "start_time": "2021-10-25T08:56:21.614Z"
   },
   {
    "duration": 205,
    "start_time": "2021-10-25T08:56:23.078Z"
   },
   {
    "duration": 17,
    "start_time": "2021-10-25T08:56:29.487Z"
   },
   {
    "duration": 17,
    "start_time": "2021-10-25T08:56:30.840Z"
   },
   {
    "duration": 17,
    "start_time": "2021-10-25T08:56:31.535Z"
   },
   {
    "duration": 19,
    "start_time": "2021-10-25T08:56:32.097Z"
   },
   {
    "duration": 17,
    "start_time": "2021-10-25T08:56:32.614Z"
   },
   {
    "duration": 8,
    "start_time": "2021-10-25T08:57:28.045Z"
   },
   {
    "duration": 7,
    "start_time": "2021-10-25T08:57:28.695Z"
   },
   {
    "duration": 9,
    "start_time": "2021-10-25T08:58:01.233Z"
   },
   {
    "duration": 6,
    "start_time": "2021-10-25T08:58:01.808Z"
   },
   {
    "duration": 617,
    "start_time": "2021-10-25T09:24:22.023Z"
   },
   {
    "duration": 4,
    "start_time": "2021-10-25T09:24:49.496Z"
   },
   {
    "duration": 106,
    "start_time": "2021-10-25T09:25:04.113Z"
   },
   {
    "duration": 94,
    "start_time": "2021-10-25T09:25:14.089Z"
   },
   {
    "duration": 4,
    "start_time": "2021-10-25T09:36:36.331Z"
   },
   {
    "duration": 9,
    "start_time": "2021-10-25T09:36:46.748Z"
   },
   {
    "duration": 20412,
    "start_time": "2021-10-25T11:11:10.191Z"
   },
   {
    "duration": 1467,
    "start_time": "2021-10-25T11:11:30.606Z"
   },
   {
    "duration": 3,
    "start_time": "2021-10-25T11:11:32.076Z"
   },
   {
    "duration": 24,
    "start_time": "2021-10-25T11:11:32.081Z"
   },
   {
    "duration": 934,
    "start_time": "2021-10-25T11:11:32.106Z"
   },
   {
    "duration": 27,
    "start_time": "2021-10-25T11:11:33.042Z"
   },
   {
    "duration": 559,
    "start_time": "2021-10-25T11:11:33.071Z"
   },
   {
    "duration": 18,
    "start_time": "2021-10-25T11:11:33.633Z"
   },
   {
    "duration": 238,
    "start_time": "2021-10-25T11:11:33.653Z"
   },
   {
    "duration": 8,
    "start_time": "2021-10-25T11:11:33.893Z"
   },
   {
    "duration": 33,
    "start_time": "2021-10-25T11:11:33.903Z"
   },
   {
    "duration": 29,
    "start_time": "2021-10-25T11:11:33.938Z"
   },
   {
    "duration": 17,
    "start_time": "2021-10-25T11:11:33.969Z"
   },
   {
    "duration": 20,
    "start_time": "2021-10-25T11:11:33.988Z"
   },
   {
    "duration": 135,
    "start_time": "2021-10-25T11:11:34.010Z"
   },
   {
    "duration": 5,
    "start_time": "2021-10-25T11:11:34.147Z"
   },
   {
    "duration": 25,
    "start_time": "2021-10-25T11:11:34.154Z"
   },
   {
    "duration": 37,
    "start_time": "2021-10-25T11:11:34.181Z"
   },
   {
    "duration": 28,
    "start_time": "2021-10-25T11:11:34.220Z"
   },
   {
    "duration": 16,
    "start_time": "2021-10-25T11:11:34.250Z"
   },
   {
    "duration": 263,
    "start_time": "2021-10-25T11:11:34.268Z"
   },
   {
    "duration": 9,
    "start_time": "2021-10-25T11:11:34.533Z"
   },
   {
    "duration": 27,
    "start_time": "2021-10-25T11:11:34.545Z"
   },
   {
    "duration": 22,
    "start_time": "2021-10-25T11:11:34.574Z"
   },
   {
    "duration": 20,
    "start_time": "2021-10-25T11:11:34.598Z"
   },
   {
    "duration": 19,
    "start_time": "2021-10-25T11:11:34.620Z"
   },
   {
    "duration": 25,
    "start_time": "2021-10-25T11:11:34.641Z"
   },
   {
    "duration": 13,
    "start_time": "2021-10-25T11:11:34.668Z"
   },
   {
    "duration": 16,
    "start_time": "2021-10-25T11:11:34.683Z"
   },
   {
    "duration": 369,
    "start_time": "2021-10-25T11:11:34.700Z"
   },
   {
    "duration": -48,
    "start_time": "2021-10-25T11:11:35.119Z"
   },
   {
    "duration": -51,
    "start_time": "2021-10-25T11:11:35.123Z"
   },
   {
    "duration": -56,
    "start_time": "2021-10-25T11:11:35.129Z"
   },
   {
    "duration": 18,
    "start_time": "2021-10-25T11:11:45.097Z"
   },
   {
    "duration": 84,
    "start_time": "2021-10-25T11:11:48.233Z"
   },
   {
    "duration": 8,
    "start_time": "2021-10-25T11:11:49.182Z"
   },
   {
    "duration": 82,
    "start_time": "2021-10-25T11:11:52.962Z"
   },
   {
    "duration": 82,
    "start_time": "2021-10-25T11:11:59.282Z"
   },
   {
    "duration": 87,
    "start_time": "2021-10-25T11:12:28.153Z"
   },
   {
    "duration": 77,
    "start_time": "2021-10-25T11:12:34.081Z"
   },
   {
    "duration": 257,
    "start_time": "2021-10-25T11:13:21.262Z"
   },
   {
    "duration": 5,
    "start_time": "2021-10-25T11:14:29.249Z"
   },
   {
    "duration": 246,
    "start_time": "2021-10-25T11:15:05.689Z"
   },
   {
    "duration": 31,
    "start_time": "2021-10-25T11:15:20.393Z"
   },
   {
    "duration": 15539,
    "start_time": "2021-10-25T11:22:49.408Z"
   },
   {
    "duration": 12,
    "start_time": "2021-10-25T11:26:28.989Z"
   },
   {
    "duration": 12,
    "start_time": "2021-10-25T11:26:56.111Z"
   },
   {
    "duration": 9,
    "start_time": "2021-10-25T11:27:27.690Z"
   },
   {
    "duration": 9,
    "start_time": "2021-10-25T11:27:51.131Z"
   },
   {
    "duration": 9,
    "start_time": "2021-10-25T11:28:00.464Z"
   },
   {
    "duration": 94,
    "start_time": "2021-10-25T11:28:20.049Z"
   },
   {
    "duration": 11,
    "start_time": "2021-10-25T11:28:23.987Z"
   },
   {
    "duration": 11,
    "start_time": "2021-10-25T11:29:25.222Z"
   },
   {
    "duration": 13,
    "start_time": "2021-10-25T11:31:35.564Z"
   },
   {
    "duration": 13,
    "start_time": "2021-10-25T11:31:45.646Z"
   },
   {
    "duration": 12,
    "start_time": "2021-10-25T11:32:48.364Z"
   },
   {
    "duration": 13,
    "start_time": "2021-10-25T11:33:31.700Z"
   },
   {
    "duration": 13,
    "start_time": "2021-10-25T11:33:50.769Z"
   },
   {
    "duration": 23,
    "start_time": "2021-10-25T11:36:01.371Z"
   },
   {
    "duration": 3427,
    "start_time": "2021-10-25T16:03:49.269Z"
   },
   {
    "duration": 4450,
    "start_time": "2021-10-25T16:04:26.184Z"
   },
   {
    "duration": 108,
    "start_time": "2021-10-25T16:07:46.223Z"
   },
   {
    "duration": 3240,
    "start_time": "2021-10-25T16:07:51.026Z"
   },
   {
    "duration": 14,
    "start_time": "2021-10-25T16:08:10.207Z"
   },
   {
    "duration": 12,
    "start_time": "2021-10-25T16:08:12.267Z"
   },
   {
    "duration": 357,
    "start_time": "2021-10-25T16:08:18.893Z"
   },
   {
    "duration": 15615,
    "start_time": "2021-10-25T16:08:37.376Z"
   },
   {
    "duration": 1370,
    "start_time": "2021-10-25T16:08:52.993Z"
   },
   {
    "duration": 2,
    "start_time": "2021-10-25T16:08:54.366Z"
   },
   {
    "duration": 13,
    "start_time": "2021-10-25T16:08:54.370Z"
   },
   {
    "duration": 915,
    "start_time": "2021-10-25T16:08:54.385Z"
   },
   {
    "duration": 17,
    "start_time": "2021-10-25T16:08:55.302Z"
   },
   {
    "duration": 553,
    "start_time": "2021-10-25T16:08:55.321Z"
   },
   {
    "duration": 16,
    "start_time": "2021-10-25T16:08:55.876Z"
   },
   {
    "duration": 221,
    "start_time": "2021-10-25T16:08:55.895Z"
   },
   {
    "duration": 8,
    "start_time": "2021-10-25T16:08:56.118Z"
   },
   {
    "duration": 27,
    "start_time": "2021-10-25T16:08:56.128Z"
   },
   {
    "duration": 13,
    "start_time": "2021-10-25T16:08:56.158Z"
   },
   {
    "duration": 16,
    "start_time": "2021-10-25T16:08:56.173Z"
   },
   {
    "duration": 19,
    "start_time": "2021-10-25T16:08:56.192Z"
   },
   {
    "duration": 136,
    "start_time": "2021-10-25T16:08:56.213Z"
   },
   {
    "duration": 12,
    "start_time": "2021-10-25T16:08:56.351Z"
   },
   {
    "duration": 18,
    "start_time": "2021-10-25T16:08:56.365Z"
   },
   {
    "duration": 28,
    "start_time": "2021-10-25T16:08:56.386Z"
   },
   {
    "duration": 27,
    "start_time": "2021-10-25T16:08:56.416Z"
   },
   {
    "duration": 25,
    "start_time": "2021-10-25T16:08:56.445Z"
   },
   {
    "duration": 234,
    "start_time": "2021-10-25T16:08:56.472Z"
   },
   {
    "duration": 8,
    "start_time": "2021-10-25T16:08:56.707Z"
   },
   {
    "duration": 30,
    "start_time": "2021-10-25T16:08:56.718Z"
   },
   {
    "duration": 22,
    "start_time": "2021-10-25T16:08:56.750Z"
   },
   {
    "duration": 30,
    "start_time": "2021-10-25T16:08:56.773Z"
   },
   {
    "duration": 23,
    "start_time": "2021-10-25T16:08:56.805Z"
   },
   {
    "duration": 24,
    "start_time": "2021-10-25T16:08:56.830Z"
   },
   {
    "duration": 5,
    "start_time": "2021-10-25T16:08:56.856Z"
   },
   {
    "duration": 15,
    "start_time": "2021-10-25T16:08:56.863Z"
   },
   {
    "duration": 23,
    "start_time": "2021-10-25T16:08:56.880Z"
   },
   {
    "duration": 87,
    "start_time": "2021-10-25T16:08:56.904Z"
   },
   {
    "duration": 7,
    "start_time": "2021-10-25T16:08:56.993Z"
   },
   {
    "duration": 30,
    "start_time": "2021-10-25T16:08:57.001Z"
   },
   {
    "duration": 15931,
    "start_time": "2021-10-25T16:08:57.033Z"
   },
   {
    "duration": 13,
    "start_time": "2021-10-25T16:09:12.966Z"
   },
   {
    "duration": 21,
    "start_time": "2021-10-25T16:09:12.980Z"
   },
   {
    "duration": 3119,
    "start_time": "2021-10-25T16:09:13.002Z"
   },
   {
    "duration": 2907,
    "start_time": "2021-10-25T16:11:45.307Z"
   },
   {
    "duration": 3108,
    "start_time": "2021-10-25T16:11:57.874Z"
   },
   {
    "duration": 6,
    "start_time": "2021-10-25T16:12:34.719Z"
   },
   {
    "duration": 2997,
    "start_time": "2021-10-25T16:12:43.731Z"
   },
   {
    "duration": 414,
    "start_time": "2021-10-25T16:13:01.664Z"
   },
   {
    "duration": 252,
    "start_time": "2021-10-25T16:17:09.885Z"
   },
   {
    "duration": 268,
    "start_time": "2021-10-25T16:17:25.871Z"
   },
   {
    "duration": 4,
    "start_time": "2021-10-25T16:17:47.728Z"
   },
   {
    "duration": 9,
    "start_time": "2021-10-25T16:17:54.288Z"
   },
   {
    "duration": 4,
    "start_time": "2021-10-25T16:23:23.000Z"
   },
   {
    "duration": 6,
    "start_time": "2021-10-25T16:23:54.948Z"
   },
   {
    "duration": 242,
    "start_time": "2021-10-25T16:24:09.098Z"
   },
   {
    "duration": 11,
    "start_time": "2021-10-25T16:25:17.320Z"
   },
   {
    "duration": 14,
    "start_time": "2021-10-25T16:25:56.661Z"
   },
   {
    "duration": 265,
    "start_time": "2021-10-25T16:30:05.831Z"
   },
   {
    "duration": 15,
    "start_time": "2021-10-25T16:30:10.316Z"
   },
   {
    "duration": 15,
    "start_time": "2021-10-25T16:30:54.644Z"
   },
   {
    "duration": 14,
    "start_time": "2021-10-25T16:31:42.257Z"
   },
   {
    "duration": 14,
    "start_time": "2021-10-25T16:31:49.724Z"
   },
   {
    "duration": 15,
    "start_time": "2021-10-25T16:31:57.049Z"
   },
   {
    "duration": 14,
    "start_time": "2021-10-25T16:32:17.626Z"
   },
   {
    "duration": 90,
    "start_time": "2021-10-25T16:32:57.779Z"
   },
   {
    "duration": 243,
    "start_time": "2021-10-25T16:33:04.484Z"
   },
   {
    "duration": 238,
    "start_time": "2021-10-25T16:40:26.270Z"
   },
   {
    "duration": 255,
    "start_time": "2021-10-25T16:40:41.829Z"
   },
   {
    "duration": 276,
    "start_time": "2021-10-25T16:46:50.345Z"
   },
   {
    "duration": 16,
    "start_time": "2021-10-25T16:46:55.688Z"
   },
   {
    "duration": 256,
    "start_time": "2021-10-25T16:47:22.465Z"
   },
   {
    "duration": 298,
    "start_time": "2021-10-25T16:49:32.773Z"
   },
   {
    "duration": 790,
    "start_time": "2021-10-25T16:51:33.263Z"
   },
   {
    "duration": 16,
    "start_time": "2021-10-25T16:51:50.301Z"
   },
   {
    "duration": 282,
    "start_time": "2021-10-25T16:53:04.211Z"
   },
   {
    "duration": 85,
    "start_time": "2021-10-25T16:53:34.549Z"
   },
   {
    "duration": 98,
    "start_time": "2021-10-25T16:53:53.404Z"
   },
   {
    "duration": 21,
    "start_time": "2021-10-25T16:54:13.351Z"
   },
   {
    "duration": 15,
    "start_time": "2021-10-25T16:54:20.530Z"
   },
   {
    "duration": 15,
    "start_time": "2021-10-25T16:58:06.722Z"
   },
   {
    "duration": 18,
    "start_time": "2021-10-25T16:58:45.490Z"
   },
   {
    "duration": 18,
    "start_time": "2021-10-25T16:59:54.346Z"
   },
   {
    "duration": 131,
    "start_time": "2021-10-25T17:00:27.171Z"
   },
   {
    "duration": 301,
    "start_time": "2021-10-25T17:01:54.990Z"
   },
   {
    "duration": 17,
    "start_time": "2021-10-25T17:02:51.388Z"
   },
   {
    "duration": 18,
    "start_time": "2021-10-25T17:02:56.629Z"
   },
   {
    "duration": 249,
    "start_time": "2021-10-25T17:03:14.267Z"
   },
   {
    "duration": 18,
    "start_time": "2021-10-25T17:03:36.849Z"
   },
   {
    "duration": 301,
    "start_time": "2021-10-25T17:03:53.049Z"
   },
   {
    "duration": 17,
    "start_time": "2021-10-25T17:04:36.552Z"
   },
   {
    "duration": 21,
    "start_time": "2021-10-25T17:04:43.095Z"
   },
   {
    "duration": 16,
    "start_time": "2021-10-25T17:04:57.511Z"
   },
   {
    "duration": 16,
    "start_time": "2021-10-25T17:05:03.486Z"
   },
   {
    "duration": 249,
    "start_time": "2021-10-25T17:07:16.203Z"
   },
   {
    "duration": 14,
    "start_time": "2021-10-25T17:07:55.985Z"
   },
   {
    "duration": 20,
    "start_time": "2021-10-25T17:08:18.789Z"
   },
   {
    "duration": 274,
    "start_time": "2021-10-25T17:08:28.251Z"
   },
   {
    "duration": 18,
    "start_time": "2021-10-25T17:08:38.488Z"
   },
   {
    "duration": 264,
    "start_time": "2021-10-25T17:08:45.033Z"
   },
   {
    "duration": 18,
    "start_time": "2021-10-25T17:08:49.219Z"
   },
   {
    "duration": 24,
    "start_time": "2021-10-25T17:08:58.141Z"
   },
   {
    "duration": 294,
    "start_time": "2021-10-25T17:09:02.035Z"
   },
   {
    "duration": 19,
    "start_time": "2021-10-25T17:09:37.449Z"
   },
   {
    "duration": 18,
    "start_time": "2021-10-25T17:09:54.495Z"
   },
   {
    "duration": 18,
    "start_time": "2021-10-25T17:10:37.401Z"
   },
   {
    "duration": 19,
    "start_time": "2021-10-25T17:10:42.082Z"
   },
   {
    "duration": 18,
    "start_time": "2021-10-25T17:10:49.629Z"
   },
   {
    "duration": 15,
    "start_time": "2021-10-25T17:15:25.315Z"
   },
   {
    "duration": 12,
    "start_time": "2021-10-25T17:17:32.925Z"
   },
   {
    "duration": 18,
    "start_time": "2021-10-25T17:17:39.734Z"
   },
   {
    "duration": 10,
    "start_time": "2021-10-25T17:19:06.270Z"
   },
   {
    "duration": 18,
    "start_time": "2021-10-25T17:19:07.800Z"
   },
   {
    "duration": 17,
    "start_time": "2021-10-25T17:20:39.441Z"
   },
   {
    "duration": 64994,
    "start_time": "2021-10-26T15:17:04.894Z"
   },
   {
    "duration": 1875,
    "start_time": "2021-10-26T15:18:09.891Z"
   },
   {
    "duration": 3,
    "start_time": "2021-10-26T15:18:11.769Z"
   },
   {
    "duration": 7,
    "start_time": "2021-10-26T15:18:11.782Z"
   },
   {
    "duration": 1006,
    "start_time": "2021-10-26T15:18:11.791Z"
   },
   {
    "duration": 26,
    "start_time": "2021-10-26T15:18:12.800Z"
   },
   {
    "duration": 834,
    "start_time": "2021-10-26T15:18:12.828Z"
   },
   {
    "duration": 34,
    "start_time": "2021-10-26T15:18:13.666Z"
   },
   {
    "duration": 335,
    "start_time": "2021-10-26T15:18:13.703Z"
   },
   {
    "duration": 10,
    "start_time": "2021-10-26T15:18:14.041Z"
   },
   {
    "duration": 31,
    "start_time": "2021-10-26T15:18:14.055Z"
   },
   {
    "duration": 17,
    "start_time": "2021-10-26T15:18:14.089Z"
   },
   {
    "duration": 21,
    "start_time": "2021-10-26T15:18:14.109Z"
   },
   {
    "duration": 52,
    "start_time": "2021-10-26T15:18:14.132Z"
   },
   {
    "duration": 187,
    "start_time": "2021-10-26T15:18:14.187Z"
   },
   {
    "duration": 7,
    "start_time": "2021-10-26T15:18:14.381Z"
   },
   {
    "duration": 12,
    "start_time": "2021-10-26T15:18:14.390Z"
   },
   {
    "duration": 28,
    "start_time": "2021-10-26T15:18:14.404Z"
   },
   {
    "duration": 66,
    "start_time": "2021-10-26T15:18:14.435Z"
   },
   {
    "duration": 24,
    "start_time": "2021-10-26T15:18:14.504Z"
   },
   {
    "duration": 360,
    "start_time": "2021-10-26T15:18:14.530Z"
   },
   {
    "duration": 11,
    "start_time": "2021-10-26T15:18:14.893Z"
   },
   {
    "duration": 9,
    "start_time": "2021-10-26T15:18:14.909Z"
   },
   {
    "duration": 7,
    "start_time": "2021-10-26T15:18:14.922Z"
   },
   {
    "duration": 13,
    "start_time": "2021-10-26T15:18:14.932Z"
   },
   {
    "duration": 44,
    "start_time": "2021-10-26T15:18:14.947Z"
   },
   {
    "duration": 16,
    "start_time": "2021-10-26T15:18:14.993Z"
   },
   {
    "duration": 8,
    "start_time": "2021-10-26T15:18:15.012Z"
   },
   {
    "duration": 14,
    "start_time": "2021-10-26T15:18:15.022Z"
   },
   {
    "duration": 74,
    "start_time": "2021-10-26T15:18:15.038Z"
   },
   {
    "duration": 167,
    "start_time": "2021-10-26T15:18:15.115Z"
   },
   {
    "duration": 9,
    "start_time": "2021-10-26T15:18:15.284Z"
   },
   {
    "duration": 34,
    "start_time": "2021-10-26T15:18:15.296Z"
   },
   {
    "duration": 18958,
    "start_time": "2021-10-26T15:18:15.332Z"
   },
   {
    "duration": 18,
    "start_time": "2021-10-26T15:18:34.292Z"
   },
   {
    "duration": 27,
    "start_time": "2021-10-26T15:18:34.313Z"
   },
   {
    "duration": 47,
    "start_time": "2021-10-26T15:18:34.343Z"
   },
   {
    "duration": 294,
    "start_time": "2021-10-26T15:18:34.392Z"
   },
   {
    "duration": 695,
    "start_time": "2021-10-26T15:49:30.920Z"
   },
   {
    "duration": 331,
    "start_time": "2021-10-26T15:49:56.051Z"
   },
   {
    "duration": 326,
    "start_time": "2021-10-26T15:50:11.779Z"
   },
   {
    "duration": 26,
    "start_time": "2021-10-26T15:50:17.325Z"
   },
   {
    "duration": 26,
    "start_time": "2021-10-26T15:50:35.449Z"
   },
   {
    "duration": 8,
    "start_time": "2021-10-26T15:55:46.673Z"
   },
   {
    "duration": 304,
    "start_time": "2021-10-26T15:55:51.995Z"
   },
   {
    "duration": 266,
    "start_time": "2021-10-26T15:56:08.418Z"
   },
   {
    "duration": 463,
    "start_time": "2021-10-26T15:56:32.819Z"
   },
   {
    "duration": 705,
    "start_time": "2021-10-26T15:56:48.910Z"
   },
   {
    "duration": 250,
    "start_time": "2021-10-26T15:58:18.405Z"
   },
   {
    "duration": 319,
    "start_time": "2021-10-26T15:59:49.281Z"
   },
   {
    "duration": 110,
    "start_time": "2021-10-26T16:00:15.736Z"
   },
   {
    "duration": 108,
    "start_time": "2021-10-26T16:00:30.953Z"
   },
   {
    "duration": 9,
    "start_time": "2021-10-26T16:00:35.406Z"
   },
   {
    "duration": 949,
    "start_time": "2021-10-26T16:00:47.040Z"
   },
   {
    "duration": 925,
    "start_time": "2021-10-26T16:00:53.934Z"
   },
   {
    "duration": 1556,
    "start_time": "2021-10-26T16:01:19.508Z"
   },
   {
    "duration": 849,
    "start_time": "2021-10-26T16:01:41.931Z"
   },
   {
    "duration": 1584,
    "start_time": "2021-10-26T16:01:53.784Z"
   },
   {
    "duration": 1761,
    "start_time": "2021-10-26T16:02:05.699Z"
   },
   {
    "duration": 1693,
    "start_time": "2021-10-26T16:03:31.369Z"
   },
   {
    "duration": 2091,
    "start_time": "2021-10-26T16:03:42.430Z"
   },
   {
    "duration": 336,
    "start_time": "2021-10-26T16:03:54.839Z"
   },
   {
    "duration": 1912,
    "start_time": "2021-10-26T16:04:12.130Z"
   },
   {
    "duration": 1754,
    "start_time": "2021-10-26T16:04:42.213Z"
   },
   {
    "duration": 1731,
    "start_time": "2021-10-26T16:05:02.351Z"
   },
   {
    "duration": 1579,
    "start_time": "2021-10-26T16:05:10.203Z"
   },
   {
    "duration": 1849,
    "start_time": "2021-10-26T16:06:07.915Z"
   },
   {
    "duration": 1727,
    "start_time": "2021-10-26T16:06:36.369Z"
   },
   {
    "duration": 268,
    "start_time": "2021-10-26T16:07:30.997Z"
   },
   {
    "duration": 1706,
    "start_time": "2021-10-26T16:07:38.987Z"
   },
   {
    "duration": 1744,
    "start_time": "2021-10-26T16:08:05.323Z"
   },
   {
    "duration": 1930,
    "start_time": "2021-10-26T16:09:13.699Z"
   },
   {
    "duration": 4,
    "start_time": "2021-10-26T17:02:53.592Z"
   },
   {
    "duration": 429,
    "start_time": "2021-10-26T17:06:01.557Z"
   },
   {
    "duration": 5,
    "start_time": "2021-10-26T17:07:16.585Z"
   },
   {
    "duration": 820,
    "start_time": "2021-10-26T17:07:18.228Z"
   },
   {
    "duration": 1809,
    "start_time": "2021-10-26T17:08:11.114Z"
   },
   {
    "duration": 1983,
    "start_time": "2021-10-26T17:08:47.385Z"
   },
   {
    "duration": 1854,
    "start_time": "2021-10-26T17:09:06.385Z"
   },
   {
    "duration": 55522,
    "start_time": "2021-10-27T07:17:08.043Z"
   },
   {
    "duration": 1813,
    "start_time": "2021-10-27T07:18:03.568Z"
   },
   {
    "duration": 4,
    "start_time": "2021-10-27T07:18:05.384Z"
   },
   {
    "duration": 18,
    "start_time": "2021-10-27T07:18:05.390Z"
   },
   {
    "duration": 1061,
    "start_time": "2021-10-27T07:18:05.411Z"
   },
   {
    "duration": 27,
    "start_time": "2021-10-27T07:18:06.474Z"
   },
   {
    "duration": 744,
    "start_time": "2021-10-27T07:18:06.504Z"
   },
   {
    "duration": 26,
    "start_time": "2021-10-27T07:18:07.252Z"
   },
   {
    "duration": 331,
    "start_time": "2021-10-27T07:18:07.281Z"
   },
   {
    "duration": 9,
    "start_time": "2021-10-27T07:18:07.623Z"
   },
   {
    "duration": 8,
    "start_time": "2021-10-27T07:18:07.635Z"
   },
   {
    "duration": 21,
    "start_time": "2021-10-27T07:18:07.645Z"
   },
   {
    "duration": 55,
    "start_time": "2021-10-27T07:18:07.669Z"
   },
   {
    "duration": 27,
    "start_time": "2021-10-27T07:18:07.727Z"
   },
   {
    "duration": 197,
    "start_time": "2021-10-27T07:18:07.756Z"
   },
   {
    "duration": 7,
    "start_time": "2021-10-27T07:18:07.956Z"
   },
   {
    "duration": 12,
    "start_time": "2021-10-27T07:18:07.965Z"
   },
   {
    "duration": 52,
    "start_time": "2021-10-27T07:18:07.979Z"
   },
   {
    "duration": 35,
    "start_time": "2021-10-27T07:18:08.033Z"
   },
   {
    "duration": 24,
    "start_time": "2021-10-27T07:18:08.071Z"
   },
   {
    "duration": 351,
    "start_time": "2021-10-27T07:18:08.123Z"
   },
   {
    "duration": 11,
    "start_time": "2021-10-27T07:18:08.477Z"
   },
   {
    "duration": 8,
    "start_time": "2021-10-27T07:18:08.493Z"
   },
   {
    "duration": 8,
    "start_time": "2021-10-27T07:18:08.523Z"
   },
   {
    "duration": 14,
    "start_time": "2021-10-27T07:18:08.533Z"
   },
   {
    "duration": 9,
    "start_time": "2021-10-27T07:18:08.550Z"
   },
   {
    "duration": 16,
    "start_time": "2021-10-27T07:18:08.562Z"
   },
   {
    "duration": 43,
    "start_time": "2021-10-27T07:18:08.581Z"
   },
   {
    "duration": 5,
    "start_time": "2021-10-27T07:18:08.627Z"
   },
   {
    "duration": 691,
    "start_time": "2021-10-27T07:18:08.635Z"
   },
   {
    "duration": 718,
    "start_time": "2021-10-27T07:18:09.328Z"
   },
   {
    "duration": 1247,
    "start_time": "2021-10-27T07:18:10.048Z"
   },
   {
    "duration": 1163,
    "start_time": "2021-10-27T07:18:11.298Z"
   },
   {
    "duration": 19016,
    "start_time": "2021-10-27T07:18:12.463Z"
   },
   {
    "duration": 15,
    "start_time": "2021-10-27T07:18:31.482Z"
   },
   {
    "duration": 40,
    "start_time": "2021-10-27T07:18:31.499Z"
   },
   {
    "duration": 16,
    "start_time": "2021-10-27T07:18:31.541Z"
   },
   {
    "duration": 284,
    "start_time": "2021-10-27T07:18:31.559Z"
   },
   {
    "duration": 2106,
    "start_time": "2021-10-27T07:18:31.845Z"
   },
   {
    "duration": 5,
    "start_time": "2021-10-27T07:18:33.953Z"
   },
   {
    "duration": 1812,
    "start_time": "2021-10-27T07:18:33.960Z"
   },
   {
    "duration": 29,
    "start_time": "2021-10-27T07:20:59.818Z"
   },
   {
    "duration": 27,
    "start_time": "2021-10-27T07:21:32.127Z"
   },
   {
    "duration": 28,
    "start_time": "2021-10-27T07:21:53.659Z"
   },
   {
    "duration": 27,
    "start_time": "2021-10-27T07:21:59.072Z"
   },
   {
    "duration": 27,
    "start_time": "2021-10-27T07:22:20.763Z"
   },
   {
    "duration": 27,
    "start_time": "2021-10-27T07:22:49.146Z"
   },
   {
    "duration": 27,
    "start_time": "2021-10-27T07:22:55.892Z"
   },
   {
    "duration": 29,
    "start_time": "2021-10-27T07:23:52.644Z"
   },
   {
    "duration": 34,
    "start_time": "2021-10-27T07:24:09.065Z"
   },
   {
    "duration": 28,
    "start_time": "2021-10-27T07:24:12.892Z"
   },
   {
    "duration": 26,
    "start_time": "2021-10-27T07:24:29.721Z"
   },
   {
    "duration": 27,
    "start_time": "2021-10-27T07:24:52.550Z"
   },
   {
    "duration": 75,
    "start_time": "2021-10-27T07:25:04.830Z"
   },
   {
    "duration": 27,
    "start_time": "2021-10-27T07:25:35.446Z"
   },
   {
    "duration": 27,
    "start_time": "2021-10-27T07:25:42.970Z"
   },
   {
    "duration": 26,
    "start_time": "2021-10-27T07:26:14.135Z"
   },
   {
    "duration": 28,
    "start_time": "2021-10-27T07:26:22.696Z"
   },
   {
    "duration": 29,
    "start_time": "2021-10-27T07:26:30.474Z"
   },
   {
    "duration": 1721,
    "start_time": "2021-10-27T07:27:31.320Z"
   },
   {
    "duration": 7,
    "start_time": "2021-10-27T07:35:55.305Z"
   },
   {
    "duration": 11,
    "start_time": "2021-10-27T07:36:01.909Z"
   },
   {
    "duration": 13,
    "start_time": "2021-10-27T07:37:21.175Z"
   },
   {
    "duration": 521,
    "start_time": "2021-10-27T07:37:37.218Z"
   },
   {
    "duration": 293,
    "start_time": "2021-10-27T07:37:41.470Z"
   },
   {
    "duration": 14,
    "start_time": "2021-10-27T07:38:20.431Z"
   },
   {
    "duration": 88,
    "start_time": "2021-10-27T07:38:47.485Z"
   },
   {
    "duration": 677,
    "start_time": "2021-10-27T07:38:51.773Z"
   },
   {
    "duration": 330,
    "start_time": "2021-10-27T07:39:04.535Z"
   },
   {
    "duration": 13,
    "start_time": "2021-10-27T07:40:22.383Z"
   },
   {
    "duration": 422,
    "start_time": "2021-10-27T07:40:25.468Z"
   },
   {
    "duration": 19,
    "start_time": "2021-10-27T07:41:10.288Z"
   },
   {
    "duration": 327,
    "start_time": "2021-10-27T07:41:12.573Z"
   },
   {
    "duration": 12,
    "start_time": "2021-10-27T07:41:48.013Z"
   },
   {
    "duration": 12,
    "start_time": "2021-10-27T07:41:51.855Z"
   },
   {
    "duration": 358,
    "start_time": "2021-10-27T07:41:55.989Z"
   },
   {
    "duration": 384,
    "start_time": "2021-10-27T07:48:20.063Z"
   },
   {
    "duration": 298,
    "start_time": "2021-10-27T07:48:50.247Z"
   },
   {
    "duration": 94,
    "start_time": "2021-10-27T07:49:44.472Z"
   },
   {
    "duration": 271,
    "start_time": "2021-10-27T07:50:18.947Z"
   },
   {
    "duration": 13,
    "start_time": "2021-10-27T07:50:25.906Z"
   },
   {
    "duration": 43,
    "start_time": "2021-10-27T07:50:32.825Z"
   },
   {
    "duration": 47,
    "start_time": "2021-10-27T07:51:45.233Z"
   },
   {
    "duration": 41,
    "start_time": "2021-10-27T07:52:15.302Z"
   },
   {
    "duration": 43,
    "start_time": "2021-10-27T07:52:50.427Z"
   },
   {
    "duration": 1815,
    "start_time": "2021-10-27T07:55:42.768Z"
   },
   {
    "duration": 58,
    "start_time": "2021-10-27T07:56:29.285Z"
   },
   {
    "duration": 433,
    "start_time": "2021-10-27T07:58:53.883Z"
   },
   {
    "duration": 42,
    "start_time": "2021-10-27T07:59:25.172Z"
   },
   {
    "duration": 91,
    "start_time": "2021-10-27T07:59:29.636Z"
   },
   {
    "duration": 10,
    "start_time": "2021-10-27T07:59:35.083Z"
   },
   {
    "duration": 13,
    "start_time": "2021-10-27T07:59:46.444Z"
   },
   {
    "duration": 15,
    "start_time": "2021-10-27T07:59:58.689Z"
   },
   {
    "duration": 15,
    "start_time": "2021-10-27T08:00:08.044Z"
   },
   {
    "duration": 15,
    "start_time": "2021-10-27T08:00:17.821Z"
   },
   {
    "duration": 13,
    "start_time": "2021-10-27T08:00:23.885Z"
   },
   {
    "duration": 14,
    "start_time": "2021-10-27T08:02:40.731Z"
   },
   {
    "duration": 16,
    "start_time": "2021-10-27T08:03:08.036Z"
   },
   {
    "duration": 12,
    "start_time": "2021-10-27T08:03:22.920Z"
   },
   {
    "duration": 304,
    "start_time": "2021-10-27T08:03:27.880Z"
   },
   {
    "duration": 274,
    "start_time": "2021-10-27T08:03:48.310Z"
   },
   {
    "duration": 16,
    "start_time": "2021-10-27T08:03:58.007Z"
   },
   {
    "duration": 16,
    "start_time": "2021-10-27T08:04:05.568Z"
   },
   {
    "duration": 10,
    "start_time": "2021-10-27T08:04:37.439Z"
   },
   {
    "duration": 10,
    "start_time": "2021-10-27T08:04:40.185Z"
   },
   {
    "duration": 11,
    "start_time": "2021-10-27T08:04:57.096Z"
   },
   {
    "duration": 12,
    "start_time": "2021-10-27T08:05:17.512Z"
   },
   {
    "duration": 11,
    "start_time": "2021-10-27T08:05:24.205Z"
   },
   {
    "duration": 17,
    "start_time": "2021-10-27T08:06:00.740Z"
   },
   {
    "duration": 15,
    "start_time": "2021-10-27T08:06:10.151Z"
   },
   {
    "duration": 10,
    "start_time": "2021-10-27T08:06:47.234Z"
   },
   {
    "duration": 11,
    "start_time": "2021-10-27T08:06:56.246Z"
   },
   {
    "duration": 11,
    "start_time": "2021-10-27T08:07:24.447Z"
   },
   {
    "duration": 12,
    "start_time": "2021-10-27T08:08:20.104Z"
   },
   {
    "duration": 10,
    "start_time": "2021-10-27T08:08:37.707Z"
   },
   {
    "duration": 10,
    "start_time": "2021-10-27T08:08:44.809Z"
   },
   {
    "duration": 1781,
    "start_time": "2021-10-27T08:10:51.552Z"
   },
   {
    "duration": 1666,
    "start_time": "2021-10-27T08:12:53.088Z"
   },
   {
    "duration": 22684,
    "start_time": "2021-10-27T09:51:56.487Z"
   },
   {
    "duration": 2181,
    "start_time": "2021-10-27T09:52:19.174Z"
   },
   {
    "duration": 3,
    "start_time": "2021-10-27T09:52:21.359Z"
   },
   {
    "duration": 13,
    "start_time": "2021-10-27T09:52:21.366Z"
   },
   {
    "duration": 1140,
    "start_time": "2021-10-27T09:52:21.382Z"
   },
   {
    "duration": 29,
    "start_time": "2021-10-27T09:52:22.525Z"
   },
   {
    "duration": 872,
    "start_time": "2021-10-27T09:52:22.557Z"
   },
   {
    "duration": 27,
    "start_time": "2021-10-27T09:52:23.435Z"
   },
   {
    "duration": 343,
    "start_time": "2021-10-27T09:52:23.465Z"
   },
   {
    "duration": 18,
    "start_time": "2021-10-27T09:52:23.810Z"
   },
   {
    "duration": 11,
    "start_time": "2021-10-27T09:52:23.830Z"
   },
   {
    "duration": 17,
    "start_time": "2021-10-27T09:52:23.843Z"
   },
   {
    "duration": 21,
    "start_time": "2021-10-27T09:52:23.863Z"
   },
   {
    "duration": 57,
    "start_time": "2021-10-27T09:52:23.886Z"
   },
   {
    "duration": 193,
    "start_time": "2021-10-27T09:52:23.946Z"
   },
   {
    "duration": 6,
    "start_time": "2021-10-27T09:52:24.142Z"
   },
   {
    "duration": 14,
    "start_time": "2021-10-27T09:52:24.150Z"
   },
   {
    "duration": 32,
    "start_time": "2021-10-27T09:52:24.166Z"
   },
   {
    "duration": 58,
    "start_time": "2021-10-27T09:52:24.200Z"
   },
   {
    "duration": 25,
    "start_time": "2021-10-27T09:52:24.261Z"
   },
   {
    "duration": 482,
    "start_time": "2021-10-27T09:52:24.288Z"
   },
   {
    "duration": 11,
    "start_time": "2021-10-27T09:52:24.772Z"
   },
   {
    "duration": 12,
    "start_time": "2021-10-27T09:52:24.788Z"
   },
   {
    "duration": 23,
    "start_time": "2021-10-27T09:52:24.803Z"
   },
   {
    "duration": 25,
    "start_time": "2021-10-27T09:52:24.828Z"
   },
   {
    "duration": 14,
    "start_time": "2021-10-27T09:52:24.856Z"
   },
   {
    "duration": 17,
    "start_time": "2021-10-27T09:52:24.873Z"
   },
   {
    "duration": 7,
    "start_time": "2021-10-27T09:52:24.892Z"
   },
   {
    "duration": 25,
    "start_time": "2021-10-27T09:52:24.901Z"
   },
   {
    "duration": 35,
    "start_time": "2021-10-27T09:52:24.928Z"
   },
   {
    "duration": 160,
    "start_time": "2021-10-27T09:52:24.965Z"
   },
   {
    "duration": 8,
    "start_time": "2021-10-27T09:52:25.128Z"
   },
   {
    "duration": 31,
    "start_time": "2021-10-27T09:52:25.138Z"
   },
   {
    "duration": 19765,
    "start_time": "2021-10-27T09:52:25.171Z"
   },
   {
    "duration": 14,
    "start_time": "2021-10-27T09:52:44.938Z"
   },
   {
    "duration": 21,
    "start_time": "2021-10-27T09:52:44.955Z"
   },
   {
    "duration": 15,
    "start_time": "2021-10-27T09:52:44.979Z"
   },
   {
    "duration": 266,
    "start_time": "2021-10-27T09:52:45.023Z"
   },
   {
    "duration": 1865,
    "start_time": "2021-10-27T09:52:45.291Z"
   },
   {
    "duration": 4,
    "start_time": "2021-10-27T09:52:47.158Z"
   },
   {
    "duration": 1865,
    "start_time": "2021-10-27T09:52:47.165Z"
   },
   {
    "duration": 13,
    "start_time": "2021-10-27T09:52:49.033Z"
   },
   {
    "duration": 586,
    "start_time": "2021-10-27T09:52:49.049Z"
   },
   {
    "duration": 98,
    "start_time": "2021-10-27T09:52:49.638Z"
   },
   {
    "duration": 1918,
    "start_time": "2021-10-27T09:52:49.738Z"
   },
   {
    "duration": 1829,
    "start_time": "2021-10-27T10:01:55.227Z"
   },
   {
    "duration": 6,
    "start_time": "2021-10-27T10:15:12.647Z"
   },
   {
    "duration": 5,
    "start_time": "2021-10-27T10:24:47.019Z"
   },
   {
    "duration": 4,
    "start_time": "2021-10-27T10:26:05.458Z"
   },
   {
    "duration": 25,
    "start_time": "2021-10-27T11:03:06.731Z"
   },
   {
    "duration": 533,
    "start_time": "2021-10-27T11:03:13.324Z"
   },
   {
    "duration": 13,
    "start_time": "2021-10-27T11:03:58.019Z"
   },
   {
    "duration": 31,
    "start_time": "2021-10-27T11:04:07.674Z"
   },
   {
    "duration": 31,
    "start_time": "2021-10-27T11:04:18.247Z"
   },
   {
    "duration": 479,
    "start_time": "2021-10-27T11:04:55.317Z"
   },
   {
    "duration": 14,
    "start_time": "2021-10-27T11:04:56.261Z"
   },
   {
    "duration": 21432,
    "start_time": "2021-10-27T11:05:04.154Z"
   },
   {
    "duration": 1989,
    "start_time": "2021-10-27T11:05:25.590Z"
   },
   {
    "duration": 4,
    "start_time": "2021-10-27T11:05:27.582Z"
   },
   {
    "duration": 12,
    "start_time": "2021-10-27T11:05:27.589Z"
   },
   {
    "duration": 1072,
    "start_time": "2021-10-27T11:05:27.604Z"
   },
   {
    "duration": 27,
    "start_time": "2021-10-27T11:05:28.678Z"
   },
   {
    "duration": 721,
    "start_time": "2021-10-27T11:05:28.723Z"
   },
   {
    "duration": 26,
    "start_time": "2021-10-27T11:05:29.448Z"
   },
   {
    "duration": 348,
    "start_time": "2021-10-27T11:05:29.477Z"
   },
   {
    "duration": 9,
    "start_time": "2021-10-27T11:05:29.828Z"
   },
   {
    "duration": 11,
    "start_time": "2021-10-27T11:05:29.840Z"
   },
   {
    "duration": 30,
    "start_time": "2021-10-27T11:05:29.854Z"
   },
   {
    "duration": 41,
    "start_time": "2021-10-27T11:05:29.887Z"
   },
   {
    "duration": 24,
    "start_time": "2021-10-27T11:05:29.931Z"
   },
   {
    "duration": 204,
    "start_time": "2021-10-27T11:05:29.958Z"
   },
   {
    "duration": 7,
    "start_time": "2021-10-27T11:05:30.164Z"
   },
   {
    "duration": 16,
    "start_time": "2021-10-27T11:05:30.174Z"
   },
   {
    "duration": 51,
    "start_time": "2021-10-27T11:05:30.193Z"
   },
   {
    "duration": 38,
    "start_time": "2021-10-27T11:05:30.247Z"
   },
   {
    "duration": 53,
    "start_time": "2021-10-27T11:05:30.288Z"
   },
   {
    "duration": 362,
    "start_time": "2021-10-27T11:05:30.345Z"
   },
   {
    "duration": 22,
    "start_time": "2021-10-27T11:05:30.710Z"
   },
   {
    "duration": 29,
    "start_time": "2021-10-27T11:05:30.737Z"
   },
   {
    "duration": 27,
    "start_time": "2021-10-27T11:05:30.769Z"
   },
   {
    "duration": 34,
    "start_time": "2021-10-27T11:05:30.799Z"
   },
   {
    "duration": 16,
    "start_time": "2021-10-27T11:05:30.835Z"
   },
   {
    "duration": 26,
    "start_time": "2021-10-27T11:05:30.853Z"
   },
   {
    "duration": 7,
    "start_time": "2021-10-27T11:05:30.881Z"
   },
   {
    "duration": 17,
    "start_time": "2021-10-27T11:05:30.891Z"
   },
   {
    "duration": 26,
    "start_time": "2021-10-27T11:05:30.922Z"
   },
   {
    "duration": 159,
    "start_time": "2021-10-27T11:05:30.950Z"
   },
   {
    "duration": 14,
    "start_time": "2021-10-27T11:05:31.112Z"
   },
   {
    "duration": 45,
    "start_time": "2021-10-27T11:05:31.129Z"
   },
   {
    "duration": 18995,
    "start_time": "2021-10-27T11:05:31.177Z"
   },
   {
    "duration": 14,
    "start_time": "2021-10-27T11:05:50.175Z"
   },
   {
    "duration": 39,
    "start_time": "2021-10-27T11:05:50.192Z"
   },
   {
    "duration": 15,
    "start_time": "2021-10-27T11:05:50.234Z"
   },
   {
    "duration": 282,
    "start_time": "2021-10-27T11:05:50.251Z"
   },
   {
    "duration": 2090,
    "start_time": "2021-10-27T11:05:50.536Z"
   },
   {
    "duration": 5,
    "start_time": "2021-10-27T11:05:52.628Z"
   },
   {
    "duration": 2046,
    "start_time": "2021-10-27T11:05:52.635Z"
   },
   {
    "duration": 12,
    "start_time": "2021-10-27T11:05:54.683Z"
   },
   {
    "duration": 602,
    "start_time": "2021-10-27T11:05:54.698Z"
   },
   {
    "duration": 53,
    "start_time": "2021-10-27T11:05:55.302Z"
   },
   {
    "duration": 4,
    "start_time": "2021-10-27T11:05:55.357Z"
   },
   {
    "duration": 2035,
    "start_time": "2021-10-27T11:05:55.364Z"
   },
   {
    "duration": 34,
    "start_time": "2021-10-27T11:05:57.401Z"
   },
   {
    "duration": 11,
    "start_time": "2021-10-27T11:05:57.438Z"
   },
   {
    "duration": 25,
    "start_time": "2021-10-27T11:05:57.451Z"
   },
   {
    "duration": 14,
    "start_time": "2021-10-27T11:08:16.555Z"
   },
   {
    "duration": 25,
    "start_time": "2021-10-27T11:08:24.583Z"
   },
   {
    "duration": 550,
    "start_time": "2021-10-27T11:37:00.207Z"
   },
   {
    "duration": 297,
    "start_time": "2021-10-27T11:37:21.143Z"
   },
   {
    "duration": 24,
    "start_time": "2021-10-27T11:37:31.169Z"
   },
   {
    "duration": 3,
    "start_time": "2021-10-27T11:38:06.483Z"
   },
   {
    "duration": 1905,
    "start_time": "2021-10-27T11:38:06.491Z"
   },
   {
    "duration": 4,
    "start_time": "2021-10-27T11:38:08.398Z"
   },
   {
    "duration": 6,
    "start_time": "2021-10-27T11:38:08.405Z"
   },
   {
    "duration": 1300,
    "start_time": "2021-10-27T11:38:08.423Z"
   },
   {
    "duration": 26,
    "start_time": "2021-10-27T11:38:09.725Z"
   },
   {
    "duration": 757,
    "start_time": "2021-10-27T11:38:09.754Z"
   },
   {
    "duration": 30,
    "start_time": "2021-10-27T11:38:10.513Z"
   },
   {
    "duration": 347,
    "start_time": "2021-10-27T11:38:10.547Z"
   },
   {
    "duration": 10,
    "start_time": "2021-10-27T11:38:10.897Z"
   },
   {
    "duration": 20,
    "start_time": "2021-10-27T11:38:10.909Z"
   },
   {
    "duration": 26,
    "start_time": "2021-10-27T11:38:10.931Z"
   },
   {
    "duration": 23,
    "start_time": "2021-10-27T11:38:10.960Z"
   },
   {
    "duration": 26,
    "start_time": "2021-10-27T11:38:11.025Z"
   },
   {
    "duration": 204,
    "start_time": "2021-10-27T11:38:11.054Z"
   },
   {
    "duration": 7,
    "start_time": "2021-10-27T11:38:11.260Z"
   },
   {
    "duration": 16,
    "start_time": "2021-10-27T11:38:11.270Z"
   },
   {
    "duration": 56,
    "start_time": "2021-10-27T11:38:11.289Z"
   },
   {
    "duration": 38,
    "start_time": "2021-10-27T11:38:11.348Z"
   },
   {
    "duration": 56,
    "start_time": "2021-10-27T11:38:11.389Z"
   },
   {
    "duration": 375,
    "start_time": "2021-10-27T11:38:11.449Z"
   },
   {
    "duration": 13,
    "start_time": "2021-10-27T11:38:11.827Z"
   },
   {
    "duration": 28,
    "start_time": "2021-10-27T11:38:11.842Z"
   },
   {
    "duration": 10,
    "start_time": "2021-10-27T11:38:11.875Z"
   },
   {
    "duration": 20,
    "start_time": "2021-10-27T11:38:11.888Z"
   },
   {
    "duration": 24,
    "start_time": "2021-10-27T11:38:11.911Z"
   },
   {
    "duration": 22,
    "start_time": "2021-10-27T11:38:11.938Z"
   },
   {
    "duration": 8,
    "start_time": "2021-10-27T11:38:11.963Z"
   },
   {
    "duration": 27,
    "start_time": "2021-10-27T11:38:11.974Z"
   },
   {
    "duration": 42,
    "start_time": "2021-10-27T11:38:12.004Z"
   },
   {
    "duration": 158,
    "start_time": "2021-10-27T11:38:12.048Z"
   },
   {
    "duration": 16,
    "start_time": "2021-10-27T11:38:12.208Z"
   },
   {
    "duration": 36,
    "start_time": "2021-10-27T11:38:12.227Z"
   },
   {
    "duration": 20020,
    "start_time": "2021-10-27T11:38:12.265Z"
   },
   {
    "duration": 17,
    "start_time": "2021-10-27T11:38:32.288Z"
   },
   {
    "duration": 25,
    "start_time": "2021-10-27T11:38:32.323Z"
   },
   {
    "duration": 21,
    "start_time": "2021-10-27T11:38:32.351Z"
   },
   {
    "duration": 404,
    "start_time": "2021-10-27T11:38:32.374Z"
   },
   {
    "duration": 2408,
    "start_time": "2021-10-27T11:38:32.781Z"
   },
   {
    "duration": 6,
    "start_time": "2021-10-27T11:38:35.193Z"
   },
   {
    "duration": 2023,
    "start_time": "2021-10-27T11:38:35.202Z"
   },
   {
    "duration": 10,
    "start_time": "2021-10-27T11:38:37.228Z"
   },
   {
    "duration": 647,
    "start_time": "2021-10-27T11:38:37.241Z"
   },
   {
    "duration": 57,
    "start_time": "2021-10-27T11:38:37.891Z"
   },
   {
    "duration": 5,
    "start_time": "2021-10-27T11:38:37.951Z"
   },
   {
    "duration": 1992,
    "start_time": "2021-10-27T11:38:37.958Z"
   },
   {
    "duration": 21,
    "start_time": "2021-10-27T11:38:39.952Z"
   },
   {
    "duration": 23,
    "start_time": "2021-10-27T11:39:24.547Z"
   },
   {
    "duration": 24,
    "start_time": "2021-10-27T11:43:26.168Z"
   },
   {
    "duration": 4,
    "start_time": "2021-10-27T11:45:51.061Z"
   },
   {
    "duration": 1831,
    "start_time": "2021-10-27T11:45:51.071Z"
   },
   {
    "duration": 5,
    "start_time": "2021-10-27T11:45:52.905Z"
   },
   {
    "duration": 13,
    "start_time": "2021-10-27T11:45:52.913Z"
   },
   {
    "duration": 1138,
    "start_time": "2021-10-27T11:45:52.928Z"
   },
   {
    "duration": 29,
    "start_time": "2021-10-27T11:45:54.068Z"
   },
   {
    "duration": 768,
    "start_time": "2021-10-27T11:45:54.099Z"
   },
   {
    "duration": 29,
    "start_time": "2021-10-27T11:45:54.869Z"
   },
   {
    "duration": 328,
    "start_time": "2021-10-27T11:45:54.922Z"
   },
   {
    "duration": 10,
    "start_time": "2021-10-27T11:45:55.253Z"
   },
   {
    "duration": 18,
    "start_time": "2021-10-27T11:45:55.265Z"
   },
   {
    "duration": 38,
    "start_time": "2021-10-27T11:45:55.285Z"
   },
   {
    "duration": 22,
    "start_time": "2021-10-27T11:45:55.325Z"
   },
   {
    "duration": 23,
    "start_time": "2021-10-27T11:45:55.350Z"
   },
   {
    "duration": 208,
    "start_time": "2021-10-27T11:45:55.376Z"
   },
   {
    "duration": 7,
    "start_time": "2021-10-27T11:45:55.586Z"
   },
   {
    "duration": 31,
    "start_time": "2021-10-27T11:45:55.595Z"
   },
   {
    "duration": 28,
    "start_time": "2021-10-27T11:45:55.628Z"
   },
   {
    "duration": 36,
    "start_time": "2021-10-27T11:45:55.659Z"
   },
   {
    "duration": 46,
    "start_time": "2021-10-27T11:45:55.698Z"
   },
   {
    "duration": 377,
    "start_time": "2021-10-27T11:45:55.747Z"
   },
   {
    "duration": 11,
    "start_time": "2021-10-27T11:45:56.127Z"
   },
   {
    "duration": 19,
    "start_time": "2021-10-27T11:45:56.141Z"
   },
   {
    "duration": 8,
    "start_time": "2021-10-27T11:45:56.165Z"
   },
   {
    "duration": 30,
    "start_time": "2021-10-27T11:45:56.175Z"
   },
   {
    "duration": 26,
    "start_time": "2021-10-27T11:45:56.208Z"
   },
   {
    "duration": 14,
    "start_time": "2021-10-27T11:45:56.237Z"
   },
   {
    "duration": 8,
    "start_time": "2021-10-27T11:45:56.254Z"
   },
   {
    "duration": 17,
    "start_time": "2021-10-27T11:45:56.264Z"
   },
   {
    "duration": 62,
    "start_time": "2021-10-27T11:45:56.284Z"
   },
   {
    "duration": 161,
    "start_time": "2021-10-27T11:45:56.348Z"
   },
   {
    "duration": 15,
    "start_time": "2021-10-27T11:45:56.512Z"
   },
   {
    "duration": 40,
    "start_time": "2021-10-27T11:45:56.530Z"
   },
   {
    "duration": 19760,
    "start_time": "2021-10-27T11:45:56.573Z"
   },
   {
    "duration": 15,
    "start_time": "2021-10-27T11:46:16.335Z"
   },
   {
    "duration": 27,
    "start_time": "2021-10-27T11:46:16.353Z"
   },
   {
    "duration": 40,
    "start_time": "2021-10-27T11:46:16.382Z"
   },
   {
    "duration": 289,
    "start_time": "2021-10-27T11:46:16.425Z"
   },
   {
    "duration": 1829,
    "start_time": "2021-10-27T11:46:16.716Z"
   },
   {
    "duration": 5,
    "start_time": "2021-10-27T11:46:18.547Z"
   },
   {
    "duration": 1792,
    "start_time": "2021-10-27T11:46:18.555Z"
   },
   {
    "duration": 11,
    "start_time": "2021-10-27T11:46:20.349Z"
   },
   {
    "duration": 604,
    "start_time": "2021-10-27T11:46:20.362Z"
   },
   {
    "duration": 72,
    "start_time": "2021-10-27T11:46:20.968Z"
   },
   {
    "duration": 5,
    "start_time": "2021-10-27T11:46:21.042Z"
   },
   {
    "duration": 1990,
    "start_time": "2021-10-27T11:46:21.049Z"
   },
   {
    "duration": 23,
    "start_time": "2021-10-27T11:46:23.042Z"
   },
   {
    "duration": 23611,
    "start_time": "2021-10-27T11:48:15.700Z"
   },
   {
    "duration": 1854,
    "start_time": "2021-10-27T11:48:39.315Z"
   },
   {
    "duration": 3,
    "start_time": "2021-10-27T11:48:41.173Z"
   },
   {
    "duration": 10,
    "start_time": "2021-10-27T11:48:41.179Z"
   },
   {
    "duration": 1083,
    "start_time": "2021-10-27T11:48:41.191Z"
   },
   {
    "duration": 27,
    "start_time": "2021-10-27T11:48:42.276Z"
   },
   {
    "duration": 782,
    "start_time": "2021-10-27T11:48:42.306Z"
   },
   {
    "duration": 38,
    "start_time": "2021-10-27T11:48:43.092Z"
   },
   {
    "duration": 339,
    "start_time": "2021-10-27T11:48:43.133Z"
   },
   {
    "duration": 9,
    "start_time": "2021-10-27T11:48:43.474Z"
   },
   {
    "duration": 9,
    "start_time": "2021-10-27T11:48:43.486Z"
   },
   {
    "duration": 40,
    "start_time": "2021-10-27T11:48:43.498Z"
   },
   {
    "duration": 23,
    "start_time": "2021-10-27T11:48:43.541Z"
   },
   {
    "duration": 25,
    "start_time": "2021-10-27T11:48:43.567Z"
   },
   {
    "duration": 214,
    "start_time": "2021-10-27T11:48:43.594Z"
   },
   {
    "duration": 12,
    "start_time": "2021-10-27T11:48:43.810Z"
   },
   {
    "duration": 9,
    "start_time": "2021-10-27T11:48:43.825Z"
   },
   {
    "duration": 32,
    "start_time": "2021-10-27T11:48:43.837Z"
   },
   {
    "duration": 64,
    "start_time": "2021-10-27T11:48:43.871Z"
   },
   {
    "duration": 26,
    "start_time": "2021-10-27T11:48:43.938Z"
   },
   {
    "duration": 362,
    "start_time": "2021-10-27T11:48:43.966Z"
   },
   {
    "duration": 12,
    "start_time": "2021-10-27T11:48:44.330Z"
   },
   {
    "duration": 8,
    "start_time": "2021-10-27T11:48:44.347Z"
   },
   {
    "duration": 8,
    "start_time": "2021-10-27T11:48:44.358Z"
   },
   {
    "duration": 15,
    "start_time": "2021-10-27T11:48:44.368Z"
   },
   {
    "duration": 47,
    "start_time": "2021-10-27T11:48:44.385Z"
   },
   {
    "duration": 15,
    "start_time": "2021-10-27T11:48:44.434Z"
   },
   {
    "duration": 8,
    "start_time": "2021-10-27T11:48:44.452Z"
   },
   {
    "duration": 11,
    "start_time": "2021-10-27T11:48:44.462Z"
   },
   {
    "duration": 64,
    "start_time": "2021-10-27T11:48:44.476Z"
   },
   {
    "duration": 150,
    "start_time": "2021-10-27T11:48:44.542Z"
   },
   {
    "duration": 10,
    "start_time": "2021-10-27T11:48:44.694Z"
   },
   {
    "duration": 45,
    "start_time": "2021-10-27T11:48:44.707Z"
   },
   {
    "duration": 18749,
    "start_time": "2021-10-27T11:48:44.754Z"
   },
   {
    "duration": 25,
    "start_time": "2021-10-27T11:49:03.505Z"
   },
   {
    "duration": 26,
    "start_time": "2021-10-27T11:49:03.532Z"
   },
   {
    "duration": 16,
    "start_time": "2021-10-27T11:49:03.561Z"
   },
   {
    "duration": 297,
    "start_time": "2021-10-27T11:49:03.579Z"
   },
   {
    "duration": 1877,
    "start_time": "2021-10-27T11:49:03.878Z"
   },
   {
    "duration": 5,
    "start_time": "2021-10-27T11:49:05.757Z"
   },
   {
    "duration": 1895,
    "start_time": "2021-10-27T11:49:05.765Z"
   },
   {
    "duration": 12,
    "start_time": "2021-10-27T11:49:07.663Z"
   },
   {
    "duration": 613,
    "start_time": "2021-10-27T11:49:07.677Z"
   },
   {
    "duration": 62,
    "start_time": "2021-10-27T11:49:08.292Z"
   },
   {
    "duration": 6,
    "start_time": "2021-10-27T11:49:08.357Z"
   },
   {
    "duration": 1998,
    "start_time": "2021-10-27T11:49:08.366Z"
   },
   {
    "duration": 22,
    "start_time": "2021-10-27T11:49:10.367Z"
   },
   {
    "duration": 25,
    "start_time": "2021-10-27T11:52:54.147Z"
   },
   {
    "duration": 528,
    "start_time": "2021-10-27T11:53:18.639Z"
   },
   {
    "duration": 4,
    "start_time": "2021-10-27T11:53:39.456Z"
   },
   {
    "duration": 1811,
    "start_time": "2021-10-27T11:53:39.465Z"
   },
   {
    "duration": 4,
    "start_time": "2021-10-27T11:53:41.279Z"
   },
   {
    "duration": 14,
    "start_time": "2021-10-27T11:53:41.286Z"
   },
   {
    "duration": 1099,
    "start_time": "2021-10-27T11:53:41.303Z"
   },
   {
    "duration": 36,
    "start_time": "2021-10-27T11:53:42.404Z"
   },
   {
    "duration": 789,
    "start_time": "2021-10-27T11:53:42.443Z"
   },
   {
    "duration": 26,
    "start_time": "2021-10-27T11:53:43.235Z"
   },
   {
    "duration": 345,
    "start_time": "2021-10-27T11:53:43.265Z"
   },
   {
    "duration": 11,
    "start_time": "2021-10-27T11:53:43.613Z"
   },
   {
    "duration": 11,
    "start_time": "2021-10-27T11:53:43.627Z"
   },
   {
    "duration": 26,
    "start_time": "2021-10-27T11:53:43.641Z"
   },
   {
    "duration": 62,
    "start_time": "2021-10-27T11:53:43.670Z"
   },
   {
    "duration": 25,
    "start_time": "2021-10-27T11:53:43.735Z"
   },
   {
    "duration": 208,
    "start_time": "2021-10-27T11:53:43.763Z"
   },
   {
    "duration": 7,
    "start_time": "2021-10-27T11:53:43.974Z"
   },
   {
    "duration": 12,
    "start_time": "2021-10-27T11:53:43.984Z"
   },
   {
    "duration": 46,
    "start_time": "2021-10-27T11:53:43.999Z"
   },
   {
    "duration": 35,
    "start_time": "2021-10-27T11:53:44.048Z"
   },
   {
    "duration": 50,
    "start_time": "2021-10-27T11:53:44.085Z"
   },
   {
    "duration": 358,
    "start_time": "2021-10-27T11:53:44.138Z"
   },
   {
    "duration": 23,
    "start_time": "2021-10-27T11:53:44.499Z"
   },
   {
    "duration": 10,
    "start_time": "2021-10-27T11:53:44.525Z"
   },
   {
    "duration": 8,
    "start_time": "2021-10-27T11:53:44.540Z"
   },
   {
    "duration": 22,
    "start_time": "2021-10-27T11:53:44.551Z"
   },
   {
    "duration": 13,
    "start_time": "2021-10-27T11:53:44.575Z"
   },
   {
    "duration": 42,
    "start_time": "2021-10-27T11:53:44.590Z"
   },
   {
    "duration": 8,
    "start_time": "2021-10-27T11:53:44.634Z"
   },
   {
    "duration": 11,
    "start_time": "2021-10-27T11:53:44.644Z"
   },
   {
    "duration": 30,
    "start_time": "2021-10-27T11:53:44.657Z"
   },
   {
    "duration": 164,
    "start_time": "2021-10-27T11:53:44.689Z"
   },
   {
    "duration": 9,
    "start_time": "2021-10-27T11:53:44.855Z"
   },
   {
    "duration": 56,
    "start_time": "2021-10-27T11:53:44.866Z"
   },
   {
    "duration": 18728,
    "start_time": "2021-10-27T11:53:44.924Z"
   },
   {
    "duration": 15,
    "start_time": "2021-10-27T11:54:03.655Z"
   },
   {
    "duration": 23,
    "start_time": "2021-10-27T11:54:03.673Z"
   },
   {
    "duration": 36,
    "start_time": "2021-10-27T11:54:03.699Z"
   },
   {
    "duration": 281,
    "start_time": "2021-10-27T11:54:03.737Z"
   },
   {
    "duration": 1921,
    "start_time": "2021-10-27T11:54:04.020Z"
   },
   {
    "duration": 4,
    "start_time": "2021-10-27T11:54:05.943Z"
   },
   {
    "duration": 1896,
    "start_time": "2021-10-27T11:54:05.949Z"
   },
   {
    "duration": 12,
    "start_time": "2021-10-27T11:54:07.847Z"
   },
   {
    "duration": 600,
    "start_time": "2021-10-27T11:54:07.862Z"
   },
   {
    "duration": 67,
    "start_time": "2021-10-27T11:54:08.465Z"
   },
   {
    "duration": 4,
    "start_time": "2021-10-27T11:54:08.535Z"
   },
   {
    "duration": 1902,
    "start_time": "2021-10-27T11:54:08.542Z"
   },
   {
    "duration": 22,
    "start_time": "2021-10-27T11:54:10.447Z"
   },
   {
    "duration": 6,
    "start_time": "2021-10-27T12:19:39.903Z"
   },
   {
    "duration": 14,
    "start_time": "2021-10-27T12:35:04.395Z"
   },
   {
    "duration": 7,
    "start_time": "2021-10-27T12:40:34.373Z"
   },
   {
    "duration": 99,
    "start_time": "2021-10-27T12:45:24.603Z"
   },
   {
    "duration": 5,
    "start_time": "2021-10-27T12:45:43.266Z"
   },
   {
    "duration": 6,
    "start_time": "2021-10-27T12:47:01.802Z"
   },
   {
    "duration": 97,
    "start_time": "2021-10-27T12:51:17.440Z"
   },
   {
    "duration": 768,
    "start_time": "2021-10-27T12:51:26.262Z"
   },
   {
    "duration": 7,
    "start_time": "2021-10-27T12:51:59.674Z"
   },
   {
    "duration": 493,
    "start_time": "2021-10-27T12:52:14.570Z"
   },
   {
    "duration": 16,
    "start_time": "2021-10-27T12:52:41.613Z"
   },
   {
    "duration": 5,
    "start_time": "2021-10-27T12:52:42.279Z"
   },
   {
    "duration": 18877,
    "start_time": "2021-10-27T12:52:43.066Z"
   },
   {
    "duration": 6,
    "start_time": "2021-10-27T12:55:27.150Z"
   },
   {
    "duration": 17,
    "start_time": "2021-10-27T12:55:27.926Z"
   },
   {
    "duration": 5,
    "start_time": "2021-10-27T12:55:28.228Z"
   },
   {
    "duration": 4251,
    "start_time": "2021-10-27T12:55:28.960Z"
   },
   {
    "duration": 6,
    "start_time": "2021-10-27T12:58:07.464Z"
   },
   {
    "duration": 13,
    "start_time": "2021-10-27T12:58:08.431Z"
   },
   {
    "duration": 5,
    "start_time": "2021-10-27T12:58:08.803Z"
   },
   {
    "duration": 8153,
    "start_time": "2021-10-27T12:58:10.514Z"
   },
   {
    "duration": 5,
    "start_time": "2021-10-27T12:58:47.494Z"
   },
   {
    "duration": 6,
    "start_time": "2021-10-27T13:00:43.158Z"
   },
   {
    "duration": 14,
    "start_time": "2021-10-27T13:00:46.213Z"
   },
   {
    "duration": 6,
    "start_time": "2021-10-27T13:00:46.810Z"
   },
   {
    "duration": 6417,
    "start_time": "2021-10-27T13:00:47.611Z"
   },
   {
    "duration": 6,
    "start_time": "2021-10-27T13:03:51.606Z"
   },
   {
    "duration": 13,
    "start_time": "2021-10-27T13:03:52.517Z"
   },
   {
    "duration": 5,
    "start_time": "2021-10-27T13:03:53.032Z"
   },
   {
    "duration": 3559,
    "start_time": "2021-10-27T13:03:53.720Z"
   },
   {
    "duration": 6,
    "start_time": "2021-10-27T13:05:27.996Z"
   },
   {
    "duration": 6,
    "start_time": "2021-10-27T13:05:49.089Z"
   },
   {
    "duration": 14,
    "start_time": "2021-10-27T13:05:52.487Z"
   },
   {
    "duration": 7,
    "start_time": "2021-10-27T13:05:52.781Z"
   },
   {
    "duration": 76835,
    "start_time": "2021-10-27T13:05:53.186Z"
   },
   {
    "duration": 2325,
    "start_time": "2021-10-27T13:09:32.969Z"
   },
   {
    "duration": 6,
    "start_time": "2021-10-27T13:09:52.263Z"
   },
   {
    "duration": 1844,
    "start_time": "2021-10-27T13:09:53.184Z"
   },
   {
    "duration": 1752,
    "start_time": "2021-10-27T13:10:07.575Z"
   },
   {
    "duration": 77798,
    "start_time": "2021-10-27T13:10:26.931Z"
   },
   {
    "duration": 77406,
    "start_time": "2021-10-27T13:12:11.939Z"
   },
   {
    "duration": 10,
    "start_time": "2021-10-27T13:13:35.916Z"
   },
   {
    "duration": 267,
    "start_time": "2021-10-27T13:23:49.253Z"
   },
   {
    "duration": 6340,
    "start_time": "2021-10-27T13:23:49.896Z"
   },
   {
    "duration": 234,
    "start_time": "2021-10-27T13:23:56.239Z"
   },
   {
    "duration": 189,
    "start_time": "2021-10-27T13:23:56.475Z"
   },
   {
    "duration": 199,
    "start_time": "2021-10-27T13:24:01.096Z"
   },
   {
    "duration": 8,
    "start_time": "2021-10-27T13:27:22.633Z"
   },
   {
    "duration": 3891,
    "start_time": "2021-10-27T13:27:29.338Z"
   },
   {
    "duration": 93527,
    "start_time": "2021-10-27T13:27:37.573Z"
   },
   {
    "duration": 75448,
    "start_time": "2021-10-27T13:29:11.103Z"
   },
   {
    "duration": 210,
    "start_time": "2021-10-27T13:30:26.556Z"
   },
   {
    "duration": 185,
    "start_time": "2021-10-27T13:30:26.770Z"
   },
   {
    "duration": 104,
    "start_time": "2021-10-27T14:31:30.823Z"
   },
   {
    "duration": 195,
    "start_time": "2021-10-27T14:31:50.081Z"
   },
   {
    "duration": 56461,
    "start_time": "2021-10-27T14:31:59.162Z"
   },
   {
    "duration": 215244,
    "start_time": "2021-10-27T14:34:48.080Z"
   },
   {
    "duration": 7,
    "start_time": "2021-10-27T14:42:22.058Z"
   },
   {
    "duration": 16,
    "start_time": "2021-10-27T14:42:25.645Z"
   },
   {
    "duration": 14,
    "start_time": "2021-10-27T14:42:41.566Z"
   },
   {
    "duration": 21,
    "start_time": "2021-10-27T14:43:12.906Z"
   },
   {
    "duration": 17,
    "start_time": "2021-10-27T14:43:21.583Z"
   },
   {
    "duration": 1537477,
    "start_time": "2021-10-27T14:44:25.878Z"
   },
   {
    "duration": 15,
    "start_time": "2021-10-27T15:10:03.359Z"
   },
   {
    "duration": 17,
    "start_time": "2021-10-27T15:14:30.636Z"
   },
   {
    "duration": 8,
    "start_time": "2021-10-27T15:38:54.999Z"
   },
   {
    "duration": 57894,
    "start_time": "2021-10-27T15:39:47.929Z"
   },
   {
    "duration": 42,
    "start_time": "2021-10-27T15:42:18.301Z"
   },
   {
    "duration": 4,
    "start_time": "2021-10-27T15:42:21.347Z"
   },
   {
    "duration": 2159,
    "start_time": "2021-10-27T15:42:23.710Z"
   },
   {
    "duration": 29,
    "start_time": "2021-10-27T15:42:29.967Z"
   },
   {
    "duration": 8,
    "start_time": "2021-10-27T15:42:39.444Z"
   },
   {
    "duration": 16,
    "start_time": "2021-10-27T15:42:40.463Z"
   },
   {
    "duration": 6,
    "start_time": "2021-10-27T15:42:42.308Z"
   },
   {
    "duration": 1977,
    "start_time": "2021-10-27T15:42:47.146Z"
   },
   {
    "duration": 67410,
    "start_time": "2021-10-27T15:42:58.373Z"
   },
   {
    "duration": 47,
    "start_time": "2021-10-27T15:44:08.305Z"
   },
   {
    "duration": 1709,
    "start_time": "2021-10-27T15:44:11.545Z"
   },
   {
    "duration": 305,
    "start_time": "2021-10-27T15:44:17.405Z"
   },
   {
    "duration": 5,
    "start_time": "2021-10-27T15:44:42.137Z"
   },
   {
    "duration": 1941,
    "start_time": "2021-10-27T15:44:42.146Z"
   },
   {
    "duration": 4,
    "start_time": "2021-10-27T15:44:44.089Z"
   },
   {
    "duration": 20,
    "start_time": "2021-10-27T15:44:44.095Z"
   },
   {
    "duration": 1122,
    "start_time": "2021-10-27T15:44:44.117Z"
   },
   {
    "duration": 28,
    "start_time": "2021-10-27T15:44:45.241Z"
   },
   {
    "duration": 1110,
    "start_time": "2021-10-27T15:44:45.273Z"
   },
   {
    "duration": 38,
    "start_time": "2021-10-27T15:44:46.386Z"
   },
   {
    "duration": 334,
    "start_time": "2021-10-27T15:44:46.426Z"
   },
   {
    "duration": 10,
    "start_time": "2021-10-27T15:44:46.762Z"
   },
   {
    "duration": 23,
    "start_time": "2021-10-27T15:44:46.775Z"
   },
   {
    "duration": 29,
    "start_time": "2021-10-27T15:44:46.801Z"
   },
   {
    "duration": 26,
    "start_time": "2021-10-27T15:44:46.834Z"
   },
   {
    "duration": 26,
    "start_time": "2021-10-27T15:44:46.863Z"
   },
   {
    "duration": 200,
    "start_time": "2021-10-27T15:44:46.892Z"
   },
   {
    "duration": 7,
    "start_time": "2021-10-27T15:44:47.095Z"
   },
   {
    "duration": 20,
    "start_time": "2021-10-27T15:44:47.104Z"
   },
   {
    "duration": 48,
    "start_time": "2021-10-27T15:44:47.126Z"
   },
   {
    "duration": 51,
    "start_time": "2021-10-27T15:44:47.180Z"
   },
   {
    "duration": 25,
    "start_time": "2021-10-27T15:44:47.234Z"
   },
   {
    "duration": 370,
    "start_time": "2021-10-27T15:44:47.261Z"
   },
   {
    "duration": 12,
    "start_time": "2021-10-27T15:44:47.634Z"
   },
   {
    "duration": 23,
    "start_time": "2021-10-27T15:44:47.648Z"
   },
   {
    "duration": 9,
    "start_time": "2021-10-27T15:44:47.675Z"
   },
   {
    "duration": 35,
    "start_time": "2021-10-27T15:44:47.687Z"
   },
   {
    "duration": 9,
    "start_time": "2021-10-27T15:44:47.725Z"
   },
   {
    "duration": 15,
    "start_time": "2021-10-27T15:44:47.737Z"
   },
   {
    "duration": 6,
    "start_time": "2021-10-27T15:44:47.755Z"
   },
   {
    "duration": 6,
    "start_time": "2021-10-27T15:44:47.764Z"
   },
   {
    "duration": 71,
    "start_time": "2021-10-27T15:44:47.773Z"
   },
   {
    "duration": 147,
    "start_time": "2021-10-27T15:44:47.846Z"
   },
   {
    "duration": 26,
    "start_time": "2021-10-27T15:44:47.996Z"
   },
   {
    "duration": 33,
    "start_time": "2021-10-27T15:44:48.025Z"
   },
   {
    "duration": 19061,
    "start_time": "2021-10-27T15:44:48.061Z"
   },
   {
    "duration": 15,
    "start_time": "2021-10-27T15:45:07.124Z"
   },
   {
    "duration": 24,
    "start_time": "2021-10-27T15:45:07.141Z"
   },
   {
    "duration": 14,
    "start_time": "2021-10-27T15:45:07.168Z"
   },
   {
    "duration": 290,
    "start_time": "2021-10-27T15:45:07.184Z"
   },
   {
    "duration": 1854,
    "start_time": "2021-10-27T15:45:07.476Z"
   },
   {
    "duration": 4,
    "start_time": "2021-10-27T15:45:09.333Z"
   },
   {
    "duration": 1994,
    "start_time": "2021-10-27T15:45:09.339Z"
   },
   {
    "duration": 12,
    "start_time": "2021-10-27T15:45:11.336Z"
   },
   {
    "duration": 683,
    "start_time": "2021-10-27T15:45:11.350Z"
   },
   {
    "duration": 125,
    "start_time": "2021-10-27T15:45:12.036Z"
   },
   {
    "duration": 6,
    "start_time": "2021-10-27T15:45:12.165Z"
   },
   {
    "duration": 2075,
    "start_time": "2021-10-27T15:45:12.175Z"
   },
   {
    "duration": 24,
    "start_time": "2021-10-27T15:45:14.252Z"
   },
   {
    "duration": 6,
    "start_time": "2021-10-27T15:45:14.278Z"
   },
   {
    "duration": 40,
    "start_time": "2021-10-27T15:45:14.286Z"
   },
   {
    "duration": 11,
    "start_time": "2021-10-27T15:45:14.328Z"
   },
   {
    "duration": 1641,
    "start_time": "2021-10-27T15:45:22.389Z"
   },
   {
    "duration": 50324,
    "start_time": "2021-10-27T15:45:29.600Z"
   },
   {
    "duration": 29371,
    "start_time": "2021-10-28T07:38:51.462Z"
   },
   {
    "duration": 877,
    "start_time": "2021-10-28T08:37:29.405Z"
   },
   {
    "duration": 284,
    "start_time": "2021-10-28T08:38:29.133Z"
   },
   {
    "duration": 21774,
    "start_time": "2021-10-28T08:39:39.133Z"
   },
   {
    "duration": 2003,
    "start_time": "2021-10-28T08:40:00.910Z"
   },
   {
    "duration": 8,
    "start_time": "2021-10-28T08:40:02.916Z"
   },
   {
    "duration": 31,
    "start_time": "2021-10-28T08:40:02.928Z"
   },
   {
    "duration": 1120,
    "start_time": "2021-10-28T08:40:02.962Z"
   },
   {
    "duration": 40,
    "start_time": "2021-10-28T08:40:04.084Z"
   },
   {
    "duration": 785,
    "start_time": "2021-10-28T08:40:04.127Z"
   },
   {
    "duration": 34,
    "start_time": "2021-10-28T08:40:04.917Z"
   },
   {
    "duration": 331,
    "start_time": "2021-10-28T08:40:04.954Z"
   },
   {
    "duration": 9,
    "start_time": "2021-10-28T08:40:05.288Z"
   },
   {
    "duration": 24,
    "start_time": "2021-10-28T08:40:05.299Z"
   },
   {
    "duration": 41,
    "start_time": "2021-10-28T08:40:05.325Z"
   },
   {
    "duration": 26,
    "start_time": "2021-10-28T08:40:05.369Z"
   },
   {
    "duration": 24,
    "start_time": "2021-10-28T08:40:05.398Z"
   },
   {
    "duration": 194,
    "start_time": "2021-10-28T08:40:05.424Z"
   },
   {
    "duration": 7,
    "start_time": "2021-10-28T08:40:05.620Z"
   },
   {
    "duration": 30,
    "start_time": "2021-10-28T08:40:05.629Z"
   },
   {
    "duration": 58,
    "start_time": "2021-10-28T08:40:05.661Z"
   },
   {
    "duration": 36,
    "start_time": "2021-10-28T08:40:05.721Z"
   },
   {
    "duration": 24,
    "start_time": "2021-10-28T08:40:05.759Z"
   },
   {
    "duration": 372,
    "start_time": "2021-10-28T08:40:05.786Z"
   },
   {
    "duration": 12,
    "start_time": "2021-10-28T08:40:06.161Z"
   },
   {
    "duration": 47,
    "start_time": "2021-10-28T08:40:06.179Z"
   },
   {
    "duration": 21,
    "start_time": "2021-10-28T08:40:06.229Z"
   },
   {
    "duration": 33,
    "start_time": "2021-10-28T08:40:06.252Z"
   },
   {
    "duration": 18,
    "start_time": "2021-10-28T08:40:06.287Z"
   },
   {
    "duration": 25,
    "start_time": "2021-10-28T08:40:06.307Z"
   },
   {
    "duration": 14,
    "start_time": "2021-10-28T08:40:06.334Z"
   },
   {
    "duration": 15,
    "start_time": "2021-10-28T08:40:06.350Z"
   },
   {
    "duration": 52,
    "start_time": "2021-10-28T08:40:06.367Z"
   },
   {
    "duration": 142,
    "start_time": "2021-10-28T08:40:06.422Z"
   },
   {
    "duration": 8,
    "start_time": "2021-10-28T08:40:06.567Z"
   },
   {
    "duration": 57,
    "start_time": "2021-10-28T08:40:06.578Z"
   },
   {
    "duration": 18787,
    "start_time": "2021-10-28T08:40:06.638Z"
   },
   {
    "duration": 14,
    "start_time": "2021-10-28T08:40:25.428Z"
   },
   {
    "duration": 25,
    "start_time": "2021-10-28T08:40:25.445Z"
   },
   {
    "duration": 19,
    "start_time": "2021-10-28T08:40:25.472Z"
   },
   {
    "duration": 269,
    "start_time": "2021-10-28T08:40:25.522Z"
   },
   {
    "duration": 1962,
    "start_time": "2021-10-28T08:40:25.793Z"
   },
   {
    "duration": 5,
    "start_time": "2021-10-28T08:40:27.757Z"
   },
   {
    "duration": 2002,
    "start_time": "2021-10-28T08:40:27.764Z"
   },
   {
    "duration": 13,
    "start_time": "2021-10-28T08:40:29.768Z"
   },
   {
    "duration": 602,
    "start_time": "2021-10-28T08:40:29.783Z"
   },
   {
    "duration": 63,
    "start_time": "2021-10-28T08:40:30.388Z"
   },
   {
    "duration": 5,
    "start_time": "2021-10-28T08:40:30.453Z"
   },
   {
    "duration": 1905,
    "start_time": "2021-10-28T08:40:30.460Z"
   },
   {
    "duration": 24,
    "start_time": "2021-10-28T08:40:32.368Z"
   },
   {
    "duration": 6,
    "start_time": "2021-10-28T08:40:32.394Z"
   },
   {
    "duration": 30,
    "start_time": "2021-10-28T08:40:32.402Z"
   },
   {
    "duration": 10,
    "start_time": "2021-10-28T08:40:32.435Z"
   },
   {
    "duration": 1880,
    "start_time": "2021-10-28T08:40:32.447Z"
   },
   {
    "duration": 27542,
    "start_time": "2021-10-28T08:40:34.330Z"
   },
   {
    "duration": 8253,
    "start_time": "2021-10-28T08:41:01.874Z"
   },
   {
    "duration": 40,
    "start_time": "2021-10-28T08:44:29.899Z"
   },
   {
    "duration": 31,
    "start_time": "2021-10-28T08:44:29.909Z"
   },
   {
    "duration": 25,
    "start_time": "2021-10-28T08:44:29.917Z"
   },
   {
    "duration": 18,
    "start_time": "2021-10-28T08:44:29.925Z"
   },
   {
    "duration": 11,
    "start_time": "2021-10-28T08:44:29.933Z"
   },
   {
    "duration": -90,
    "start_time": "2021-10-28T08:44:30.036Z"
   },
   {
    "duration": 50839,
    "start_time": "2021-10-28T08:48:51.085Z"
   },
   {
    "duration": 29296,
    "start_time": "2021-10-28T08:49:41.927Z"
   },
   {
    "duration": 93342,
    "start_time": "2021-10-28T08:50:11.226Z"
   },
   {
    "duration": 76309,
    "start_time": "2021-10-28T08:51:44.571Z"
   },
   {
    "duration": 5,
    "start_time": "2021-10-28T08:53:00.882Z"
   },
   {
    "duration": 326,
    "start_time": "2021-10-28T08:53:00.889Z"
   },
   {
    "duration": 397,
    "start_time": "2021-10-28T09:02:49.819Z"
   },
   {
    "duration": 17,
    "start_time": "2021-10-28T09:02:57.537Z"
   },
   {
    "duration": 18,
    "start_time": "2021-10-28T09:03:02.278Z"
   },
   {
    "duration": 1518180,
    "start_time": "2021-10-28T09:04:52.962Z"
   },
   {
    "duration": 18,
    "start_time": "2021-10-28T09:30:23.104Z"
   },
   {
    "duration": 3374,
    "start_time": "2021-10-28T10:21:17.260Z"
   },
   {
    "duration": 583864,
    "start_time": "2021-10-28T10:22:22.069Z"
   },
   {
    "duration": 18,
    "start_time": "2021-10-28T10:34:06.488Z"
   },
   {
    "duration": 4191,
    "start_time": "2021-10-28T10:34:10.545Z"
   },
   {
    "duration": 145416,
    "start_time": "2021-10-28T10:34:33.012Z"
   },
   {
    "duration": 287,
    "start_time": "2021-10-28T10:36:58.431Z"
   },
   {
    "duration": 299,
    "start_time": "2021-10-28T10:37:03.046Z"
   },
   {
    "duration": 301,
    "start_time": "2021-10-28T10:37:16.152Z"
   },
   {
    "duration": 17,
    "start_time": "2021-10-28T10:37:52.886Z"
   },
   {
    "duration": 2077,
    "start_time": "2021-10-28T10:38:07.657Z"
   },
   {
    "duration": 316,
    "start_time": "2021-10-28T10:38:12.640Z"
   },
   {
    "duration": 324,
    "start_time": "2021-10-28T10:39:01.738Z"
   },
   {
    "duration": 4,
    "start_time": "2021-10-28T10:40:15.357Z"
   },
   {
    "duration": 298,
    "start_time": "2021-10-28T10:40:18.900Z"
   },
   {
    "duration": 286,
    "start_time": "2021-10-28T10:45:42.318Z"
   },
   {
    "duration": 6,
    "start_time": "2021-10-28T10:45:54.088Z"
   },
   {
    "duration": 4,
    "start_time": "2021-10-28T10:57:05.755Z"
   },
   {
    "duration": 8,
    "start_time": "2021-10-28T10:58:30.795Z"
   },
   {
    "duration": 313,
    "start_time": "2021-10-28T10:59:22.894Z"
   },
   {
    "duration": 19675,
    "start_time": "2021-10-28T10:59:31.479Z"
   },
   {
    "duration": 25351,
    "start_time": "2021-10-28T13:32:52.783Z"
   },
   {
    "duration": 1854,
    "start_time": "2021-10-28T13:33:18.138Z"
   },
   {
    "duration": 5,
    "start_time": "2021-10-28T13:33:19.996Z"
   },
   {
    "duration": 22,
    "start_time": "2021-10-28T13:33:20.004Z"
   },
   {
    "duration": 1066,
    "start_time": "2021-10-28T13:33:20.029Z"
   },
   {
    "duration": 43,
    "start_time": "2021-10-28T13:33:21.097Z"
   },
   {
    "duration": 884,
    "start_time": "2021-10-28T13:33:21.143Z"
   },
   {
    "duration": 26,
    "start_time": "2021-10-28T13:33:22.031Z"
   },
   {
    "duration": 506,
    "start_time": "2021-10-28T13:33:22.060Z"
   },
   {
    "duration": 15,
    "start_time": "2021-10-28T13:33:22.570Z"
   },
   {
    "duration": 36,
    "start_time": "2021-10-28T13:33:22.588Z"
   },
   {
    "duration": 49,
    "start_time": "2021-10-28T13:33:22.627Z"
   },
   {
    "duration": 34,
    "start_time": "2021-10-28T13:33:22.680Z"
   },
   {
    "duration": 38,
    "start_time": "2021-10-28T13:33:22.722Z"
   },
   {
    "duration": 207,
    "start_time": "2021-10-28T13:33:22.762Z"
   },
   {
    "duration": 8,
    "start_time": "2021-10-28T13:33:22.973Z"
   },
   {
    "duration": 14,
    "start_time": "2021-10-28T13:33:22.984Z"
   },
   {
    "duration": 33,
    "start_time": "2021-10-28T13:33:23.022Z"
   },
   {
    "duration": 39,
    "start_time": "2021-10-28T13:33:23.058Z"
   },
   {
    "duration": 48,
    "start_time": "2021-10-28T13:33:23.099Z"
   },
   {
    "duration": 374,
    "start_time": "2021-10-28T13:33:23.150Z"
   },
   {
    "duration": 12,
    "start_time": "2021-10-28T13:33:23.527Z"
   },
   {
    "duration": 34,
    "start_time": "2021-10-28T13:33:23.546Z"
   },
   {
    "duration": 30,
    "start_time": "2021-10-28T13:33:23.584Z"
   },
   {
    "duration": 37,
    "start_time": "2021-10-28T13:33:23.616Z"
   },
   {
    "duration": 44,
    "start_time": "2021-10-28T13:33:23.656Z"
   },
   {
    "duration": 40,
    "start_time": "2021-10-28T13:33:23.703Z"
   },
   {
    "duration": 42,
    "start_time": "2021-10-28T13:33:23.745Z"
   },
   {
    "duration": 33,
    "start_time": "2021-10-28T13:33:23.790Z"
   },
   {
    "duration": 45,
    "start_time": "2021-10-28T13:33:23.825Z"
   },
   {
    "duration": 157,
    "start_time": "2021-10-28T13:33:23.872Z"
   },
   {
    "duration": 9,
    "start_time": "2021-10-28T13:33:24.032Z"
   },
   {
    "duration": 52,
    "start_time": "2021-10-28T13:33:24.043Z"
   },
   {
    "duration": 23721,
    "start_time": "2021-10-28T13:33:24.098Z"
   },
   {
    "duration": 20,
    "start_time": "2021-10-28T13:33:47.823Z"
   },
   {
    "duration": 29,
    "start_time": "2021-10-28T13:33:47.846Z"
   },
   {
    "duration": 51,
    "start_time": "2021-10-28T13:33:47.879Z"
   },
   {
    "duration": 359,
    "start_time": "2021-10-28T13:33:47.933Z"
   },
   {
    "duration": 2985,
    "start_time": "2021-10-28T13:33:48.294Z"
   },
   {
    "duration": 6,
    "start_time": "2021-10-28T13:33:51.282Z"
   },
   {
    "duration": 2176,
    "start_time": "2021-10-28T13:33:51.290Z"
   },
   {
    "duration": 11,
    "start_time": "2021-10-28T13:33:53.468Z"
   },
   {
    "duration": 595,
    "start_time": "2021-10-28T13:33:53.481Z"
   },
   {
    "duration": 53,
    "start_time": "2021-10-28T13:33:54.078Z"
   },
   {
    "duration": 5,
    "start_time": "2021-10-28T13:33:54.134Z"
   },
   {
    "duration": 2704,
    "start_time": "2021-10-28T13:33:54.142Z"
   },
   {
    "duration": 24,
    "start_time": "2021-10-28T13:33:56.848Z"
   },
   {
    "duration": 7,
    "start_time": "2021-10-28T13:33:56.875Z"
   },
   {
    "duration": 45,
    "start_time": "2021-10-28T13:33:56.885Z"
   },
   {
    "duration": 5,
    "start_time": "2021-10-28T13:33:56.933Z"
   },
   {
    "duration": 2086,
    "start_time": "2021-10-28T13:33:56.940Z"
   },
   {
    "duration": 51894,
    "start_time": "2021-10-28T13:33:59.030Z"
   },
   {
    "duration": 28300,
    "start_time": "2021-10-28T13:34:50.926Z"
   },
   {
    "duration": 92164,
    "start_time": "2021-10-28T13:35:19.230Z"
   },
   {
    "duration": 75902,
    "start_time": "2021-10-28T13:36:51.396Z"
   },
   {
    "duration": 1539145,
    "start_time": "2021-10-28T13:38:07.301Z"
   },
   {
    "duration": 18,
    "start_time": "2021-10-28T14:03:46.448Z"
   },
   {
    "duration": 859,
    "start_time": "2021-10-28T14:03:46.468Z"
   },
   {
    "duration": 5,
    "start_time": "2021-10-28T14:03:47.330Z"
   },
   {
    "duration": 220,
    "start_time": "2021-10-28T16:11:03.526Z"
   },
   {
    "duration": 6,
    "start_time": "2021-10-28T16:14:15.337Z"
   },
   {
    "duration": 6,
    "start_time": "2021-10-28T16:14:20.604Z"
   },
   {
    "duration": 5,
    "start_time": "2021-10-28T16:14:24.531Z"
   },
   {
    "duration": 8,
    "start_time": "2021-10-28T16:14:28.368Z"
   },
   {
    "duration": 214,
    "start_time": "2021-10-28T16:14:46.468Z"
   },
   {
    "duration": 8,
    "start_time": "2021-10-28T18:00:41.438Z"
   },
   {
    "duration": 8,
    "start_time": "2021-10-28T18:00:43.214Z"
   },
   {
    "duration": 100,
    "start_time": "2021-10-28T18:00:44.067Z"
   },
   {
    "duration": 525,
    "start_time": "2021-10-28T18:01:37.093Z"
   },
   {
    "duration": 6,
    "start_time": "2021-10-28T18:02:09.739Z"
   },
   {
    "duration": 14,
    "start_time": "2021-10-28T18:02:15.319Z"
   },
   {
    "duration": 13,
    "start_time": "2021-10-28T18:03:34.609Z"
   },
   {
    "duration": 16,
    "start_time": "2021-10-28T18:03:49.043Z"
   },
   {
    "duration": 15,
    "start_time": "2021-10-28T18:04:40.503Z"
   },
   {
    "duration": 16,
    "start_time": "2021-10-28T18:05:47.026Z"
   },
   {
    "duration": 18,
    "start_time": "2021-10-28T18:06:05.810Z"
   },
   {
    "duration": 3,
    "start_time": "2021-10-28T18:06:58.828Z"
   },
   {
    "duration": 8,
    "start_time": "2021-10-28T18:06:58.838Z"
   },
   {
    "duration": 6,
    "start_time": "2021-10-28T18:06:58.850Z"
   },
   {
    "duration": 5,
    "start_time": "2021-10-28T18:06:58.860Z"
   },
   {
    "duration": 1048,
    "start_time": "2021-10-28T18:06:58.869Z"
   },
   {
    "duration": 28,
    "start_time": "2021-10-28T18:06:59.919Z"
   },
   {
    "duration": 36,
    "start_time": "2021-10-28T18:06:59.950Z"
   },
   {
    "duration": 54,
    "start_time": "2021-10-28T18:06:59.989Z"
   },
   {
    "duration": 357,
    "start_time": "2021-10-28T18:07:00.046Z"
   },
   {
    "duration": 21,
    "start_time": "2021-10-28T18:07:00.405Z"
   },
   {
    "duration": 21,
    "start_time": "2021-10-28T18:07:00.428Z"
   },
   {
    "duration": 48,
    "start_time": "2021-10-28T18:07:00.451Z"
   },
   {
    "duration": 34,
    "start_time": "2021-10-28T18:07:00.502Z"
   },
   {
    "duration": 24,
    "start_time": "2021-10-28T18:07:00.539Z"
   },
   {
    "duration": 342,
    "start_time": "2021-10-28T18:07:00.566Z"
   },
   {
    "duration": 13,
    "start_time": "2021-10-28T18:07:00.911Z"
   },
   {
    "duration": 8,
    "start_time": "2021-10-28T18:07:00.927Z"
   },
   {
    "duration": 34,
    "start_time": "2021-10-28T18:07:00.940Z"
   },
   {
    "duration": 47,
    "start_time": "2021-10-28T18:07:00.977Z"
   },
   {
    "duration": 26,
    "start_time": "2021-10-28T18:07:01.026Z"
   },
   {
    "duration": 221,
    "start_time": "2021-10-28T18:07:01.054Z"
   },
   {
    "duration": 6,
    "start_time": "2021-10-28T18:07:01.278Z"
   },
   {
    "duration": 33,
    "start_time": "2021-10-28T18:07:01.287Z"
   },
   {
    "duration": 29,
    "start_time": "2021-10-28T18:07:01.322Z"
   },
   {
    "duration": 29,
    "start_time": "2021-10-28T18:07:01.354Z"
   },
   {
    "duration": 14,
    "start_time": "2021-10-28T18:07:01.386Z"
   },
   {
    "duration": 25,
    "start_time": "2021-10-28T18:07:01.403Z"
   },
   {
    "duration": 15,
    "start_time": "2021-10-28T18:07:01.431Z"
   },
   {
    "duration": 9,
    "start_time": "2021-10-28T18:07:01.448Z"
   },
   {
    "duration": 22,
    "start_time": "2021-10-28T18:07:01.459Z"
   },
   {
    "duration": 38,
    "start_time": "2021-10-28T18:07:01.484Z"
   },
   {
    "duration": 8,
    "start_time": "2021-10-28T18:07:01.525Z"
   },
   {
    "duration": 23,
    "start_time": "2021-10-28T18:07:01.535Z"
   },
   {
    "duration": 16,
    "start_time": "2021-10-28T18:08:08.048Z"
   },
   {
    "duration": 12,
    "start_time": "2021-10-28T18:17:49.295Z"
   },
   {
    "duration": 9,
    "start_time": "2021-10-28T18:19:06.795Z"
   },
   {
    "duration": 7,
    "start_time": "2021-10-28T18:19:24.571Z"
   },
   {
    "duration": 6,
    "start_time": "2021-10-28T18:19:31.345Z"
   },
   {
    "duration": 14,
    "start_time": "2021-10-28T18:43:06.222Z"
   },
   {
    "duration": 14,
    "start_time": "2021-10-28T18:43:23.171Z"
   },
   {
    "duration": 135,
    "start_time": "2021-10-28T18:45:06.358Z"
   },
   {
    "duration": 465,
    "start_time": "2021-10-28T18:45:16.538Z"
   },
   {
    "duration": 18,
    "start_time": "2021-10-28T18:45:54.057Z"
   },
   {
    "duration": 3,
    "start_time": "2021-10-28T18:46:01.896Z"
   },
   {
    "duration": 28,
    "start_time": "2021-10-28T18:46:01.905Z"
   },
   {
    "duration": 14,
    "start_time": "2021-10-28T18:46:01.936Z"
   },
   {
    "duration": 13,
    "start_time": "2021-10-28T18:46:01.954Z"
   },
   {
    "duration": 1619,
    "start_time": "2021-10-28T18:46:01.970Z"
   },
   {
    "duration": 40,
    "start_time": "2021-10-28T18:46:03.592Z"
   },
   {
    "duration": 36,
    "start_time": "2021-10-28T18:46:03.635Z"
   },
   {
    "duration": 55,
    "start_time": "2021-10-28T18:46:03.675Z"
   },
   {
    "duration": 496,
    "start_time": "2021-10-28T18:46:03.735Z"
   },
   {
    "duration": 18,
    "start_time": "2021-10-28T18:46:04.235Z"
   },
   {
    "duration": 32,
    "start_time": "2021-10-28T18:46:04.256Z"
   },
   {
    "duration": 52,
    "start_time": "2021-10-28T18:46:04.291Z"
   },
   {
    "duration": 32,
    "start_time": "2021-10-28T18:46:04.346Z"
   },
   {
    "duration": 43,
    "start_time": "2021-10-28T18:46:04.380Z"
   },
   {
    "duration": 338,
    "start_time": "2021-10-28T18:46:04.425Z"
   },
   {
    "duration": 10,
    "start_time": "2021-10-28T18:46:04.765Z"
   },
   {
    "duration": 34,
    "start_time": "2021-10-28T18:46:04.777Z"
   },
   {
    "duration": 49,
    "start_time": "2021-10-28T18:46:04.814Z"
   },
   {
    "duration": 23,
    "start_time": "2021-10-28T18:46:04.867Z"
   },
   {
    "duration": 25,
    "start_time": "2021-10-28T18:46:04.893Z"
   },
   {
    "duration": 193,
    "start_time": "2021-10-28T18:46:04.923Z"
   },
   {
    "duration": 7,
    "start_time": "2021-10-28T18:46:05.122Z"
   },
   {
    "duration": 40,
    "start_time": "2021-10-28T18:46:05.132Z"
   },
   {
    "duration": 15,
    "start_time": "2021-10-28T18:46:05.179Z"
   },
   {
    "duration": 33,
    "start_time": "2021-10-28T18:46:05.197Z"
   },
   {
    "duration": 20,
    "start_time": "2021-10-28T18:46:05.234Z"
   },
   {
    "duration": 20,
    "start_time": "2021-10-28T18:46:05.257Z"
   },
   {
    "duration": 12,
    "start_time": "2021-10-28T18:46:05.280Z"
   },
   {
    "duration": 29,
    "start_time": "2021-10-28T18:46:05.295Z"
   },
   {
    "duration": 24,
    "start_time": "2021-10-28T18:46:05.327Z"
   },
   {
    "duration": 24,
    "start_time": "2021-10-28T18:46:05.354Z"
   },
   {
    "duration": 13,
    "start_time": "2021-10-28T18:46:05.381Z"
   },
   {
    "duration": 43,
    "start_time": "2021-10-28T18:46:05.397Z"
   },
   {
    "duration": 14,
    "start_time": "2021-10-28T18:48:06.859Z"
   },
   {
    "duration": 18,
    "start_time": "2021-10-28T21:31:51.684Z"
   },
   {
    "duration": 20,
    "start_time": "2021-10-28T21:32:00.412Z"
   },
   {
    "duration": 14,
    "start_time": "2021-10-28T21:32:31.352Z"
   },
   {
    "duration": 20,
    "start_time": "2021-10-28T21:32:34.455Z"
   },
   {
    "duration": 13,
    "start_time": "2021-10-28T21:33:01.817Z"
   },
   {
    "duration": 18,
    "start_time": "2021-10-28T21:33:03.448Z"
   },
   {
    "duration": 13,
    "start_time": "2021-10-28T21:33:31.261Z"
   },
   {
    "duration": 20,
    "start_time": "2021-10-28T21:33:32.067Z"
   },
   {
    "duration": 14,
    "start_time": "2021-10-28T21:33:49.012Z"
   },
   {
    "duration": 21,
    "start_time": "2021-10-28T21:33:49.831Z"
   },
   {
    "duration": 13,
    "start_time": "2021-10-28T21:33:57.561Z"
   },
   {
    "duration": 18,
    "start_time": "2021-10-28T21:33:58.000Z"
   },
   {
    "duration": 4,
    "start_time": "2021-10-29T06:39:39.059Z"
   },
   {
    "duration": 1799,
    "start_time": "2021-10-29T06:39:39.069Z"
   },
   {
    "duration": 5,
    "start_time": "2021-10-29T06:39:40.871Z"
   },
   {
    "duration": 7,
    "start_time": "2021-10-29T06:39:40.880Z"
   },
   {
    "duration": 1100,
    "start_time": "2021-10-29T06:39:40.890Z"
   },
   {
    "duration": 45,
    "start_time": "2021-10-29T06:39:41.993Z"
   },
   {
    "duration": 845,
    "start_time": "2021-10-29T06:39:42.041Z"
   },
   {
    "duration": 54,
    "start_time": "2021-10-29T06:39:42.890Z"
   },
   {
    "duration": 360,
    "start_time": "2021-10-29T06:39:42.949Z"
   },
   {
    "duration": 12,
    "start_time": "2021-10-29T06:39:43.321Z"
   },
   {
    "duration": 13,
    "start_time": "2021-10-29T06:39:43.336Z"
   },
   {
    "duration": 32,
    "start_time": "2021-10-29T06:39:43.352Z"
   },
   {
    "duration": 61,
    "start_time": "2021-10-29T06:39:43.387Z"
   },
   {
    "duration": 26,
    "start_time": "2021-10-29T06:39:43.450Z"
   },
   {
    "duration": 358,
    "start_time": "2021-10-29T06:39:43.478Z"
   },
   {
    "duration": 10,
    "start_time": "2021-10-29T06:39:43.839Z"
   },
   {
    "duration": 10,
    "start_time": "2021-10-29T06:39:43.852Z"
   },
   {
    "duration": 18,
    "start_time": "2021-10-29T06:39:43.864Z"
   },
   {
    "duration": 53,
    "start_time": "2021-10-29T06:39:43.885Z"
   },
   {
    "duration": 24,
    "start_time": "2021-10-29T06:39:43.941Z"
   },
   {
    "duration": 202,
    "start_time": "2021-10-29T06:39:43.967Z"
   },
   {
    "duration": 7,
    "start_time": "2021-10-29T06:39:44.171Z"
   },
   {
    "duration": 13,
    "start_time": "2021-10-29T06:39:44.180Z"
   },
   {
    "duration": 28,
    "start_time": "2021-10-29T06:39:44.199Z"
   },
   {
    "duration": 17,
    "start_time": "2021-10-29T06:39:44.230Z"
   },
   {
    "duration": 9,
    "start_time": "2021-10-29T06:39:44.250Z"
   },
   {
    "duration": 14,
    "start_time": "2021-10-29T06:39:44.261Z"
   },
   {
    "duration": 7,
    "start_time": "2021-10-29T06:39:44.278Z"
   },
   {
    "duration": 7,
    "start_time": "2021-10-29T06:39:44.323Z"
   },
   {
    "duration": 18,
    "start_time": "2021-10-29T06:39:44.333Z"
   },
   {
    "duration": 25,
    "start_time": "2021-10-29T06:39:44.354Z"
   },
   {
    "duration": 54,
    "start_time": "2021-10-29T06:39:44.381Z"
   },
   {
    "duration": 18,
    "start_time": "2021-10-29T06:39:44.438Z"
   },
   {
    "duration": 168,
    "start_time": "2021-10-29T06:39:44.459Z"
   },
   {
    "duration": 14,
    "start_time": "2021-10-29T06:39:44.630Z"
   },
   {
    "duration": 7,
    "start_time": "2021-10-29T06:39:44.647Z"
   },
   {
    "duration": 10,
    "start_time": "2021-10-29T06:39:44.656Z"
   },
   {
    "duration": 76,
    "start_time": "2021-10-29T06:39:44.668Z"
   },
   {
    "duration": 18666,
    "start_time": "2021-10-29T06:39:44.747Z"
   },
   {
    "duration": 19,
    "start_time": "2021-10-29T06:40:03.416Z"
   },
   {
    "duration": 24,
    "start_time": "2021-10-29T06:40:03.438Z"
   },
   {
    "duration": 15,
    "start_time": "2021-10-29T06:40:03.465Z"
   },
   {
    "duration": 313,
    "start_time": "2021-10-29T06:40:03.483Z"
   },
   {
    "duration": 1857,
    "start_time": "2021-10-29T06:40:03.799Z"
   },
   {
    "duration": 4,
    "start_time": "2021-10-29T06:40:05.659Z"
   },
   {
    "duration": 1801,
    "start_time": "2021-10-29T06:40:05.665Z"
   },
   {
    "duration": 12,
    "start_time": "2021-10-29T06:40:07.468Z"
   },
   {
    "duration": 652,
    "start_time": "2021-10-29T06:40:07.482Z"
   },
   {
    "duration": 87,
    "start_time": "2021-10-29T06:40:08.137Z"
   },
   {
    "duration": 4,
    "start_time": "2021-10-29T06:40:08.227Z"
   },
   {
    "duration": 1803,
    "start_time": "2021-10-29T06:40:08.234Z"
   },
   {
    "duration": 25,
    "start_time": "2021-10-29T06:40:10.039Z"
   },
   {
    "duration": 6,
    "start_time": "2021-10-29T06:40:10.067Z"
   },
   {
    "duration": 20,
    "start_time": "2021-10-29T06:40:10.075Z"
   },
   {
    "duration": 6,
    "start_time": "2021-10-29T06:40:10.121Z"
   },
   {
    "duration": 2001,
    "start_time": "2021-10-29T06:40:10.130Z"
   },
   {
    "duration": 49602,
    "start_time": "2021-10-29T06:40:12.223Z"
   },
   {
    "duration": 29804,
    "start_time": "2021-10-29T06:41:01.828Z"
   },
   {
    "duration": 92641,
    "start_time": "2021-10-29T06:41:31.635Z"
   },
   {
    "duration": 77079,
    "start_time": "2021-10-29T06:43:04.278Z"
   },
   {
    "duration": 1543247,
    "start_time": "2021-10-29T06:44:21.360Z"
   },
   {
    "duration": 33,
    "start_time": "2021-10-29T07:10:04.609Z"
   },
   {
    "duration": 2197,
    "start_time": "2021-10-29T07:10:04.644Z"
   },
   {
    "duration": 104,
    "start_time": "2021-10-29T07:10:06.929Z"
   },
   {
    "duration": 11,
    "start_time": "2021-10-29T07:56:23.496Z"
   },
   {
    "duration": 5,
    "start_time": "2021-10-29T16:20:43.532Z"
   },
   {
    "duration": 2232,
    "start_time": "2021-10-29T16:20:43.542Z"
   },
   {
    "duration": 4,
    "start_time": "2021-10-29T16:20:45.777Z"
   },
   {
    "duration": 14,
    "start_time": "2021-10-29T16:20:45.784Z"
   },
   {
    "duration": 1142,
    "start_time": "2021-10-29T16:20:45.801Z"
   },
   {
    "duration": 39,
    "start_time": "2021-10-29T16:20:46.946Z"
   },
   {
    "duration": 1072,
    "start_time": "2021-10-29T16:20:46.987Z"
   },
   {
    "duration": 27,
    "start_time": "2021-10-29T16:20:48.061Z"
   },
   {
    "duration": 369,
    "start_time": "2021-10-29T16:20:48.092Z"
   },
   {
    "duration": 11,
    "start_time": "2021-10-29T16:20:48.464Z"
   },
   {
    "duration": 10,
    "start_time": "2021-10-29T16:20:48.477Z"
   },
   {
    "duration": 50,
    "start_time": "2021-10-29T16:20:48.489Z"
   },
   {
    "duration": 32,
    "start_time": "2021-10-29T16:20:48.541Z"
   },
   {
    "duration": 48,
    "start_time": "2021-10-29T16:20:48.575Z"
   },
   {
    "duration": 334,
    "start_time": "2021-10-29T16:20:48.626Z"
   },
   {
    "duration": 10,
    "start_time": "2021-10-29T16:20:48.963Z"
   },
   {
    "duration": 15,
    "start_time": "2021-10-29T16:20:48.975Z"
   },
   {
    "duration": 39,
    "start_time": "2021-10-29T16:20:48.992Z"
   },
   {
    "duration": 31,
    "start_time": "2021-10-29T16:20:49.034Z"
   },
   {
    "duration": 58,
    "start_time": "2021-10-29T16:20:49.068Z"
   },
   {
    "duration": 194,
    "start_time": "2021-10-29T16:20:49.129Z"
   },
   {
    "duration": 7,
    "start_time": "2021-10-29T16:20:49.326Z"
   },
   {
    "duration": 13,
    "start_time": "2021-10-29T16:20:49.335Z"
   },
   {
    "duration": 8,
    "start_time": "2021-10-29T16:20:49.354Z"
   },
   {
    "duration": 16,
    "start_time": "2021-10-29T16:20:49.365Z"
   },
   {
    "duration": 45,
    "start_time": "2021-10-29T16:20:49.383Z"
   },
   {
    "duration": 13,
    "start_time": "2021-10-29T16:20:49.431Z"
   },
   {
    "duration": 7,
    "start_time": "2021-10-29T16:20:49.447Z"
   },
   {
    "duration": 12,
    "start_time": "2021-10-29T16:20:49.457Z"
   },
   {
    "duration": 61,
    "start_time": "2021-10-29T16:20:49.471Z"
   },
   {
    "duration": 28,
    "start_time": "2021-10-29T16:20:49.535Z"
   },
   {
    "duration": 17,
    "start_time": "2021-10-29T16:20:49.566Z"
   },
   {
    "duration": 47,
    "start_time": "2021-10-29T16:20:49.586Z"
   },
   {
    "duration": 155,
    "start_time": "2021-10-29T16:20:49.636Z"
   },
   {
    "duration": 13,
    "start_time": "2021-10-29T16:20:49.794Z"
   },
   {
    "duration": 16,
    "start_time": "2021-10-29T16:20:49.823Z"
   },
   {
    "duration": 14,
    "start_time": "2021-10-29T16:20:49.841Z"
   },
   {
    "duration": 33,
    "start_time": "2021-10-29T16:20:49.857Z"
   },
   {
    "duration": 4001,
    "start_time": "2021-10-29T16:20:49.893Z"
   },
   {
    "duration": -114,
    "start_time": "2021-10-29T16:20:54.011Z"
   },
   {
    "duration": -120,
    "start_time": "2021-10-29T16:20:54.019Z"
   },
   {
    "duration": -123,
    "start_time": "2021-10-29T16:20:54.025Z"
   },
   {
    "duration": -127,
    "start_time": "2021-10-29T16:20:54.031Z"
   },
   {
    "duration": -132,
    "start_time": "2021-10-29T16:20:54.038Z"
   },
   {
    "duration": -136,
    "start_time": "2021-10-29T16:20:54.045Z"
   },
   {
    "duration": -140,
    "start_time": "2021-10-29T16:20:54.051Z"
   },
   {
    "duration": -146,
    "start_time": "2021-10-29T16:20:54.059Z"
   },
   {
    "duration": -150,
    "start_time": "2021-10-29T16:20:54.065Z"
   },
   {
    "duration": -156,
    "start_time": "2021-10-29T16:20:54.073Z"
   },
   {
    "duration": -172,
    "start_time": "2021-10-29T16:20:54.091Z"
   },
   {
    "duration": -177,
    "start_time": "2021-10-29T16:20:54.099Z"
   },
   {
    "duration": -212,
    "start_time": "2021-10-29T16:20:54.136Z"
   },
   {
    "duration": -217,
    "start_time": "2021-10-29T16:20:54.143Z"
   },
   {
    "duration": -221,
    "start_time": "2021-10-29T16:20:54.149Z"
   },
   {
    "duration": -226,
    "start_time": "2021-10-29T16:20:54.156Z"
   },
   {
    "duration": -230,
    "start_time": "2021-10-29T16:20:54.162Z"
   },
   {
    "duration": -234,
    "start_time": "2021-10-29T16:20:54.169Z"
   },
   {
    "duration": -237,
    "start_time": "2021-10-29T16:20:54.174Z"
   },
   {
    "duration": -242,
    "start_time": "2021-10-29T16:20:54.181Z"
   },
   {
    "duration": -245,
    "start_time": "2021-10-29T16:20:54.186Z"
   },
   {
    "duration": -250,
    "start_time": "2021-10-29T16:20:54.193Z"
   },
   {
    "duration": -254,
    "start_time": "2021-10-29T16:20:54.199Z"
   },
   {
    "duration": -258,
    "start_time": "2021-10-29T16:20:54.206Z"
   },
   {
    "duration": -261,
    "start_time": "2021-10-29T16:20:54.211Z"
   },
   {
    "duration": -265,
    "start_time": "2021-10-29T16:20:54.217Z"
   },
   {
    "duration": 23076,
    "start_time": "2021-10-29T16:21:03.600Z"
   },
   {
    "duration": 1807,
    "start_time": "2021-10-29T16:21:26.679Z"
   },
   {
    "duration": 4,
    "start_time": "2021-10-29T16:21:28.489Z"
   },
   {
    "duration": 7,
    "start_time": "2021-10-29T16:21:28.495Z"
   },
   {
    "duration": 1093,
    "start_time": "2021-10-29T16:21:28.504Z"
   },
   {
    "duration": 38,
    "start_time": "2021-10-29T16:21:29.599Z"
   },
   {
    "duration": 810,
    "start_time": "2021-10-29T16:21:29.640Z"
   },
   {
    "duration": 27,
    "start_time": "2021-10-29T16:21:30.454Z"
   },
   {
    "duration": 377,
    "start_time": "2021-10-29T16:21:30.485Z"
   },
   {
    "duration": 12,
    "start_time": "2021-10-29T16:21:30.864Z"
   },
   {
    "duration": 20,
    "start_time": "2021-10-29T16:21:30.879Z"
   },
   {
    "duration": 42,
    "start_time": "2021-10-29T16:21:30.902Z"
   },
   {
    "duration": 35,
    "start_time": "2021-10-29T16:21:30.947Z"
   },
   {
    "duration": 58,
    "start_time": "2021-10-29T16:21:30.985Z"
   },
   {
    "duration": 439,
    "start_time": "2021-10-29T16:21:31.046Z"
   },
   {
    "duration": 12,
    "start_time": "2021-10-29T16:21:31.488Z"
   },
   {
    "duration": 26,
    "start_time": "2021-10-29T16:21:31.503Z"
   },
   {
    "duration": 20,
    "start_time": "2021-10-29T16:21:31.532Z"
   },
   {
    "duration": 24,
    "start_time": "2021-10-29T16:21:31.555Z"
   },
   {
    "duration": 63,
    "start_time": "2021-10-29T16:21:31.582Z"
   },
   {
    "duration": 200,
    "start_time": "2021-10-29T16:21:31.648Z"
   },
   {
    "duration": 6,
    "start_time": "2021-10-29T16:21:31.851Z"
   },
   {
    "duration": 10,
    "start_time": "2021-10-29T16:21:31.863Z"
   },
   {
    "duration": 7,
    "start_time": "2021-10-29T16:21:31.877Z"
   },
   {
    "duration": 40,
    "start_time": "2021-10-29T16:21:31.887Z"
   },
   {
    "duration": 14,
    "start_time": "2021-10-29T16:21:31.929Z"
   },
   {
    "duration": 17,
    "start_time": "2021-10-29T16:21:31.945Z"
   },
   {
    "duration": 7,
    "start_time": "2021-10-29T16:21:31.964Z"
   },
   {
    "duration": 12,
    "start_time": "2021-10-29T16:21:31.973Z"
   },
   {
    "duration": 47,
    "start_time": "2021-10-29T16:21:31.987Z"
   },
   {
    "duration": 23,
    "start_time": "2021-10-29T16:21:32.036Z"
   },
   {
    "duration": 12,
    "start_time": "2021-10-29T16:21:32.061Z"
   },
   {
    "duration": 50,
    "start_time": "2021-10-29T16:21:32.076Z"
   },
   {
    "duration": 148,
    "start_time": "2021-10-29T16:21:32.128Z"
   },
   {
    "duration": 14,
    "start_time": "2021-10-29T16:21:32.279Z"
   },
   {
    "duration": 27,
    "start_time": "2021-10-29T16:21:32.295Z"
   },
   {
    "duration": 7,
    "start_time": "2021-10-29T16:21:32.324Z"
   },
   {
    "duration": 30,
    "start_time": "2021-10-29T16:21:32.333Z"
   },
   {
    "duration": 19268,
    "start_time": "2021-10-29T16:21:32.365Z"
   },
   {
    "duration": 14,
    "start_time": "2021-10-29T16:21:51.636Z"
   },
   {
    "duration": 23,
    "start_time": "2021-10-29T16:21:51.653Z"
   },
   {
    "duration": 43,
    "start_time": "2021-10-29T16:21:51.679Z"
   },
   {
    "duration": 279,
    "start_time": "2021-10-29T16:21:51.726Z"
   },
   {
    "duration": 1859,
    "start_time": "2021-10-29T16:21:52.008Z"
   },
   {
    "duration": 4,
    "start_time": "2021-10-29T16:21:53.870Z"
   },
   {
    "duration": 1897,
    "start_time": "2021-10-29T16:21:53.877Z"
   },
   {
    "duration": 11,
    "start_time": "2021-10-29T16:21:55.776Z"
   },
   {
    "duration": 674,
    "start_time": "2021-10-29T16:21:55.790Z"
   },
   {
    "duration": 71,
    "start_time": "2021-10-29T16:21:56.466Z"
   },
   {
    "duration": 5,
    "start_time": "2021-10-29T16:21:56.539Z"
   },
   {
    "duration": 1931,
    "start_time": "2021-10-29T16:21:56.546Z"
   },
   {
    "duration": 23,
    "start_time": "2021-10-29T16:21:58.479Z"
   },
   {
    "duration": 19,
    "start_time": "2021-10-29T16:21:58.505Z"
   },
   {
    "duration": 28,
    "start_time": "2021-10-29T16:21:58.526Z"
   },
   {
    "duration": 24,
    "start_time": "2021-10-29T16:21:58.556Z"
   },
   {
    "duration": 14,
    "start_time": "2021-10-29T16:21:58.582Z"
   },
   {
    "duration": 1732,
    "start_time": "2021-10-29T16:21:58.598Z"
   },
   {
    "duration": 51888,
    "start_time": "2021-10-29T16:22:00.334Z"
   },
   {
    "duration": 29205,
    "start_time": "2021-10-29T16:22:52.225Z"
   },
   {
    "duration": 94873,
    "start_time": "2021-10-29T16:23:21.433Z"
   },
   {
    "duration": 75779,
    "start_time": "2021-10-29T16:24:56.308Z"
   },
   {
    "duration": 1536245,
    "start_time": "2021-10-29T16:26:12.090Z"
   },
   {
    "duration": 25,
    "start_time": "2021-10-29T16:51:48.337Z"
   },
   {
    "duration": 765,
    "start_time": "2021-10-29T16:51:48.364Z"
   },
   {
    "duration": 91,
    "start_time": "2021-10-29T16:51:49.133Z"
   }
  ],
  "kernelspec": {
   "display_name": "Python 3 (ipykernel)",
   "language": "python",
   "name": "python3"
  },
  "language_info": {
   "codemirror_mode": {
    "name": "ipython",
    "version": 3
   },
   "file_extension": ".py",
   "mimetype": "text/x-python",
   "name": "python",
   "nbconvert_exporter": "python",
   "pygments_lexer": "ipython3",
   "version": "3.9.7"
  },
  "toc": {
   "base_numbering": 1,
   "nav_menu": {},
   "number_sections": true,
   "sideBar": true,
   "skip_h1_title": true,
   "title_cell": "Table of Contents",
   "title_sidebar": "Contents",
   "toc_cell": true,
   "toc_position": {
    "height": "calc(100% - 180px)",
    "left": "10px",
    "top": "150px",
    "width": "366.391px"
   },
   "toc_section_display": true,
   "toc_window_display": true
  }
 },
 "nbformat": 4,
 "nbformat_minor": 4
}
